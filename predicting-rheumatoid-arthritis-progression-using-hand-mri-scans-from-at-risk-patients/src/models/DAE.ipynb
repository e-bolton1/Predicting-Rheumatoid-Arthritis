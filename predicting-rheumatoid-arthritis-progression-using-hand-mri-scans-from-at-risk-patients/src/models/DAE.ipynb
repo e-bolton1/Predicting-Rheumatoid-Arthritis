{
 "cells": [
  {
   "cell_type": "code",
   "execution_count": 11,
   "metadata": {},
   "outputs": [
    {
     "ename": "ModuleNotFoundError",
     "evalue": "No module named 'main_runner'",
     "output_type": "error",
     "traceback": [
      "\u001b[0;31m---------------------------------------------------------------------------\u001b[0m",
      "\u001b[0;31mModuleNotFoundError\u001b[0m                       Traceback (most recent call last)",
      "\u001b[1;32m/Users/eleanorbolton/Documents/project_repo/predicting-rheumatoid-arthritis-progression-using-hand-mri-scans-from-at-risk-patients/Predicting-Rheumatoid-Arthritis-Progression-Using-Hand-MRI-Scans-from-At-Risk-Patients/predicting-rheumatoid-arthritis-progression-using-hand-mri-scans-from-at-risk-patients/src/models/DAE.ipynb Cell 1\u001b[0m line \u001b[0;36m4\n\u001b[1;32m      <a href='vscode-notebook-cell:/Users/eleanorbolton/Documents/project_repo/predicting-rheumatoid-arthritis-progression-using-hand-mri-scans-from-at-risk-patients/Predicting-Rheumatoid-Arthritis-Progression-Using-Hand-MRI-Scans-from-At-Risk-Patients/predicting-rheumatoid-arthritis-progression-using-hand-mri-scans-from-at-risk-patients/src/models/DAE.ipynb#W6sZmlsZQ%3D%3D?line=1'>2</a>\u001b[0m \u001b[39mfrom\u001b[39;00m \u001b[39mtorch\u001b[39;00m\u001b[39m.\u001b[39;00m\u001b[39mutils\u001b[39;00m\u001b[39m.\u001b[39;00m\u001b[39mdata\u001b[39;00m \u001b[39mimport\u001b[39;00m DataLoader\n\u001b[1;32m      <a href='vscode-notebook-cell:/Users/eleanorbolton/Documents/project_repo/predicting-rheumatoid-arthritis-progression-using-hand-mri-scans-from-at-risk-patients/Predicting-Rheumatoid-Arthritis-Progression-Using-Hand-MRI-Scans-from-At-Risk-Patients/predicting-rheumatoid-arthritis-progression-using-hand-mri-scans-from-at-risk-patients/src/models/DAE.ipynb#W6sZmlsZQ%3D%3D?line=2'>3</a>\u001b[0m \u001b[39mfrom\u001b[39;00m \u001b[39mpre_processing\u001b[39;00m \u001b[39mimport\u001b[39;00m HandScanDataset2, transform, validation_transform, train_df, valid_df\n\u001b[0;32m----> <a href='vscode-notebook-cell:/Users/eleanorbolton/Documents/project_repo/predicting-rheumatoid-arthritis-progression-using-hand-mri-scans-from-at-risk-patients/Predicting-Rheumatoid-Arthritis-Progression-Using-Hand-MRI-Scans-from-At-Risk-Patients/predicting-rheumatoid-arthritis-progression-using-hand-mri-scans-from-at-risk-patients/src/models/DAE.ipynb#W6sZmlsZQ%3D%3D?line=3'>4</a>\u001b[0m \u001b[39mfrom\u001b[39;00m \u001b[39mmain_runner\u001b[39;00m \u001b[39mimport\u001b[39;00m train\n",
      "\u001b[0;31mModuleNotFoundError\u001b[0m: No module named 'main_runner'"
     ]
    }
   ],
   "source": [
    "import argparse\n",
    "from torch.utils.data import DataLoader\n",
    "from pre_processing import HandScanDataset2, transform, validation_transform, train_df, valid_df\n",
    "from main_runner import train\n"
   ]
  },
  {
   "cell_type": "code",
   "execution_count": 10,
   "metadata": {},
   "outputs": [
    {
     "name": "stderr",
     "output_type": "stream",
     "text": [
      "usage: ipykernel_launcher.py [-h] --data_dir DATA_DIR\n",
      "                             [--batch_size BATCH_SIZE]\n",
      "ipykernel_launcher.py: error: the following arguments are required: --data_dir\n"
     ]
    },
    {
     "ename": "SystemExit",
     "evalue": "2",
     "output_type": "error",
     "traceback": [
      "An exception has occurred, use %tb to see the full traceback.\n",
      "\u001b[0;31mSystemExit\u001b[0m\u001b[0;31m:\u001b[0m 2\n"
     ]
    },
    {
     "name": "stderr",
     "output_type": "stream",
     "text": [
      "/Users/eleanorbolton/anaconda3/lib/python3.11/site-packages/IPython/core/interactiveshell.py:3534: UserWarning: To exit: use 'exit', 'quit', or Ctrl-D.\n",
      "  warn(\"To exit: use 'exit', 'quit', or Ctrl-D.\", stacklevel=1)\n"
     ]
    }
   ],
   "source": [
    "\n",
    "\n",
    "def main():\n",
    "    parser = argparse.ArgumentParser(description=\"Disruptive Auto Encoder Training\")\n",
    "    parser.add_argument('--batch_size', type=int, default=4, help='Batch size for training')\n",
    "    parser.add_argument('--sw_batch_size', type=int, default=1, help='Sliding window batch size')\n",
    "    parser.add_argument('--mask_ratio', type=float, default=0.6, help='Mask ratio')\n",
    "    parser.add_argument('--epoch', type=int, default=300, help='Number of epochs')\n",
    "    parser.add_argument('--img_size', type=int, default=96, help='Image size')\n",
    "    parser.add_argument('--min_lr', type=float, default=1e-5, help='Minimum learning rate')\n",
    "    parser.add_argument('--warmup_epoch', type=int, default=4, help='Warmup epochs')\n",
    "    parser.add_argument('--base_lr', type=float, default=1e-4, help='Base learning rate')\n",
    "    parser.add_argument('--warmup_lr', type=float, default=1e-6, help='Warmup learning rate')\n",
    "    parser.add_argument('--weight_decay', type=float, default=0.05, help='Weight decay')\n",
    "    parser.add_argument('--cache_dataset', action='store_true', help='Cache dataset')\n",
    "    parser.add_argument('--cache_rate', type=int, default=1, help='Cache rate')\n",
    "    parser.add_argument('--model_type', type=str, default='swin_skip', help='Model type')\n",
    "    parser.add_argument('--save_freq', type=int, default=5, help='Save frequency')\n",
    "    parser.add_argument('--print_freq', type=int, default=1, help='Print frequency')\n",
    "    parser.add_argument('--log_dir', type=str, default='./logdir/swin_denoise_mm', help='Log directory')\n",
    "    parser.add_argument('--output', type=str, default='./output/swin_denoise_mm', help='Output directory')\n",
    "    parser.add_argument('--thread_loader', action='store_true', help='Use threaded loader')\n",
    "    parser.add_argument('--out_channels', type=int, default=1, help='Output channels')\n",
    "    parser.add_argument('--choice', type=str, default='denoise', help='Training choice')\n",
    "    parser.add_argument('--variance', type=float, default=0.1, help='Variance')\n",
    "    parser.add_argument('--mm_con', type=float, default=0.03, help='MM contrast ratio')\n",
    "    parser.add_argument('--temperature', type=float, default=0.5, help='Temperature')\n",
    "    parser.add_argument('--amp_opt_level', type=str, default='O0', help='AMP optimization level')\n",
    "\n",
    "    args = parser.parse_args()\n",
    "\n",
    "    # Set up data loaders\n",
    "    training_data_dir = 'path/to/your/data'\n",
    "    train_dataset = HandScanDataset2(labels_df=train_df, data_dir=training_data_dir, transform=transform)\n",
    "    valid_dataset = HandScanDataset2(labels_df=valid_df, data_dir=training_data_dir, transform=validation_transform)\n",
    "\n",
    "    train_loader = DataLoader(train_dataset, batch_size=args.batch_size, shuffle=True)\n",
    "    valid_loader = DataLoader(valid_dataset, batch_size=args.batch_size, shuffle=False)\n",
    "\n",
    "    # Call the training function from the main_runner.py\n",
    "    train(args, train_loader, valid_loader)\n",
    "\n",
    "if __name__ == \"__main__\":\n",
    "    main()\n",
    "\n"
   ]
  },
  {
   "cell_type": "code",
   "execution_count": null,
   "metadata": {},
   "outputs": [],
   "source": []
  }
 ],
 "metadata": {
  "kernelspec": {
   "display_name": "Python 3",
   "language": "python",
   "name": "python3"
  },
  "language_info": {
   "codemirror_mode": {
    "name": "ipython",
    "version": 3
   },
   "file_extension": ".py",
   "mimetype": "text/x-python",
   "name": "python",
   "nbconvert_exporter": "python",
   "pygments_lexer": "ipython3",
   "version": "3.11.8"
  }
 },
 "nbformat": 4,
 "nbformat_minor": 2
}
