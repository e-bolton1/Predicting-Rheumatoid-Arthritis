{
 "cells": [
  {
   "cell_type": "markdown",
   "metadata": {},
   "source": [
    "#### Import my dataset"
   ]
  },
  {
   "cell_type": "code",
   "execution_count": 47,
   "metadata": {},
   "outputs": [],
   "source": [
    "from pre_processing_py import HandScanDataset2"
   ]
  },
  {
   "cell_type": "code",
   "execution_count": 48,
   "metadata": {},
   "outputs": [],
   "source": [
    "from pre_processing_py import HandScanDataset2, transform, validation_transform, train_df, valid_df, training_data_dir\n",
    "from timm.models.layers import DropPath, trunc_normal_\n",
    "import numpy as np\n"
   ]
  },
  {
   "cell_type": "code",
   "execution_count": 49,
   "metadata": {},
   "outputs": [
    {
     "name": "stdout",
     "output_type": "stream",
     "text": [
      "Requirement already satisfied: einops in /Users/eleanorbolton/anaconda3/lib/python3.11/site-packages (0.8.0)\n"
     ]
    }
   ],
   "source": [
    "!pip install einops\n"
   ]
  },
  {
   "cell_type": "code",
   "execution_count": 50,
   "metadata": {},
   "outputs": [
    {
     "name": "stdout",
     "output_type": "stream",
     "text": [
      "Requirement already satisfied: tensorboard in /Users/eleanorbolton/anaconda3/lib/python3.11/site-packages (2.17.0)\n",
      "Requirement already satisfied: absl-py>=0.4 in /Users/eleanorbolton/anaconda3/lib/python3.11/site-packages (from tensorboard) (2.1.0)\n",
      "Requirement already satisfied: grpcio>=1.48.2 in /Users/eleanorbolton/anaconda3/lib/python3.11/site-packages (from tensorboard) (1.65.4)\n",
      "Requirement already satisfied: markdown>=2.6.8 in /Users/eleanorbolton/anaconda3/lib/python3.11/site-packages (from tensorboard) (3.4.1)\n",
      "Requirement already satisfied: numpy>=1.12.0 in /Users/eleanorbolton/anaconda3/lib/python3.11/site-packages (from tensorboard) (1.24.3)\n",
      "Requirement already satisfied: protobuf!=4.24.0,<5.0.0,>=3.19.6 in /Users/eleanorbolton/anaconda3/lib/python3.11/site-packages (from tensorboard) (4.25.4)\n",
      "Requirement already satisfied: setuptools>=41.0.0 in /Users/eleanorbolton/anaconda3/lib/python3.11/site-packages (from tensorboard) (68.0.0)\n",
      "Requirement already satisfied: six>1.9 in /Users/eleanorbolton/.local/lib/python3.11/site-packages (from tensorboard) (1.16.0)\n",
      "Requirement already satisfied: tensorboard-data-server<0.8.0,>=0.7.0 in /Users/eleanorbolton/anaconda3/lib/python3.11/site-packages (from tensorboard) (0.7.2)\n",
      "Requirement already satisfied: werkzeug>=1.0.1 in /Users/eleanorbolton/anaconda3/lib/python3.11/site-packages (from tensorboard) (2.2.3)\n",
      "Requirement already satisfied: MarkupSafe>=2.1.1 in /Users/eleanorbolton/anaconda3/lib/python3.11/site-packages (from werkzeug>=1.0.1->tensorboard) (2.1.1)\n",
      "Note: you may need to restart the kernel to use updated packages.\n"
     ]
    }
   ],
   "source": [
    "pip install tensorboard\n"
   ]
  },
  {
   "cell_type": "markdown",
   "metadata": {},
   "source": [
    "Define the swinTransformer blocks"
   ]
  },
  {
   "cell_type": "code",
   "execution_count": 51,
   "metadata": {},
   "outputs": [],
   "source": [
    "import torch\n",
    "import torch.nn as nn\n",
    "import torch.nn.functional as F\n",
    "from torch.utils.checkpoint import checkpoint\n",
    "from einops import rearrange\n",
    "from functools import reduce\n",
    "from operator import mul\n",
    "\n",
    "class Mlp(nn.Module):\n",
    "    def __init__(self, in_features, hidden_features=None, out_features=None, act_layer=nn.GELU, drop=0.0):\n",
    "        super().__init__()\n",
    "        out_features = out_features or in_features\n",
    "        hidden_features = hidden_features or in_features\n",
    "        self.fc1 = nn.Linear(in_features, hidden_features)\n",
    "        self.act = act_layer()\n",
    "        self.fc2 = nn.Linear(hidden_features, out_features)\n",
    "        self.drop = nn.Dropout(drop)\n",
    "\n",
    "    def forward(self, x):\n",
    "        x = self.fc1(x)\n",
    "        x = self.act(x)\n",
    "        x = self.drop(x)\n",
    "        x = self.fc2(x)\n",
    "        x = self.drop(x)\n",
    "        return x\n",
    "\n",
    "\n",
    "class WindowAttention3D(nn.Module):\n",
    "    \"\"\"Window-based multi-head self-attention (W-MSA) with relative position bias.\"\"\"\n",
    "    \n",
    "    def __init__(self, dim, window_size, num_heads, qkv_bias=True, qk_scale=None, attn_drop=0.0, proj_drop=0.0):\n",
    "        super().__init__()\n",
    "        self.dim = dim\n",
    "        self.window_size = window_size\n",
    "        self.num_heads = num_heads\n",
    "        head_dim = dim // num_heads\n",
    "        self.scale = qk_scale or head_dim**-0.5\n",
    "\n",
    "        self.relative_position_bias_table = nn.Parameter(\n",
    "            torch.zeros((2 * window_size[0] - 1) * (2 * window_size[1] - 1) * (2 * window_size[2] - 1), num_heads)\n",
    "        )\n",
    "        \n",
    "        coords_d = torch.arange(self.window_size[0])\n",
    "        coords_h = torch.arange(self.window_size[1])\n",
    "        coords_w = torch.arange(self.window_size[2])\n",
    "        coords = torch.stack(torch.meshgrid(coords_d, coords_h, coords_w))  # 3, Wd, Wh, Ww\n",
    "        coords_flatten = torch.flatten(coords, 1)  # 3, Wd*Wh*Ww\n",
    "        relative_coords = coords_flatten[:, :, None] - coords_flatten[:, None, :]  # 3, Wd*Wh*Ww, Wd*Wh*Ww\n",
    "        relative_coords = relative_coords.permute(1, 2, 0).contiguous()  # Wd*Wh*Ww, Wd*Wh*Ww, 3\n",
    "        relative_coords[:, :, 0] += self.window_size[0] - 1  # shift to start from 0\n",
    "        relative_coords[:, :, 1] += self.window_size[1] - 1\n",
    "        relative_coords[:, :, 2] += self.window_size[2] - 1\n",
    "        relative_coords[:, :, 0] *= (2 * self.window_size[1] - 1) * (2 * self.window_size[2] - 1)\n",
    "        relative_coords[:, :, 1] *= 2 * self.window_size[2] - 1\n",
    "        relative_position_index = relative_coords.sum(-1)  # Wd*Wh*Ww, Wd*Wh*Ww\n",
    "        self.register_buffer(\"relative_position_index\", relative_position_index)\n",
    "\n",
    "        self.qkv = nn.Linear(dim, dim * 3, bias=qkv_bias)\n",
    "        self.attn_drop = nn.Dropout(attn_drop)\n",
    "        self.proj = nn.Linear(dim, dim)\n",
    "        self.proj_drop = nn.Dropout(proj_drop)\n",
    "        self.softmax = nn.Softmax(dim=-1)\n",
    "\n",
    "    def forward(self, x, mask=None):\n",
    "        # print(f\"Input shape: {x.shape}\")\n",
    "\n",
    "        B_, N, C = x.shape\n",
    "        \n",
    "        # Assert that C is divisible by self.num_heads\n",
    "        assert C % self.num_heads == 0, f\"C ({C}) should be divisible by num_heads ({self.num_heads})\"\n",
    "\n",
    "        qkv = self.qkv(x)\n",
    "        # print(f\"Shape after qkv linear layer: {qkv.shape}\")\n",
    "        \n",
    "        # Ensure that the shape for reshaping is correct\n",
    "        qkv = qkv.reshape(B_, N, 3, self.num_heads, C // self.num_heads).permute(2, 0, 3, 1, 4)\n",
    "        ## print(f\"Shape after reshaping and permuting for q, k, v: {qkv.shape}\")\n",
    "\n",
    "        q, k, v = qkv[0], qkv[1], qkv[2]\n",
    "        q = q * self.scale\n",
    "        attn = q @ k.transpose(-2, -1)\n",
    "        ## print(f\"Attention scores shape: {attn.shape}\")\n",
    "\n",
    "        relative_position_bias = self.relative_position_bias_table[\n",
    "            self.relative_position_index.view(-1)].view(\n",
    "            self.window_size[0] * self.window_size[1] * self.window_size[2],\n",
    "            self.window_size[0] * self.window_size[1] * self.window_size[2], -1)\n",
    "        relative_position_bias = relative_position_bias.permute(2, 0, 1).contiguous()\n",
    "        ## print(f\"Relative position bias shape: {relative_position_bias.shape}\")\n",
    "        \n",
    "        attn = attn + relative_position_bias.unsqueeze(0)\n",
    "        ## print(f\"Attention scores with bias shape: {attn.shape}\")\n",
    "\n",
    "        if mask is not None:\n",
    "            nW = mask.shape[0]\n",
    "            attn = attn.view(B_ // nW, nW, self.num_heads, N, N) + mask.unsqueeze(1).unsqueeze(0)\n",
    "            ## print(f\"Attention scores with mask shape: {attn.shape}\")\n",
    "            attn = attn.view(-1, self.num_heads, N, N)\n",
    "        attn = self.softmax(attn)\n",
    "        ## print(f\"Softmax applied to attention scores shape: {attn.shape}\")\n",
    "\n",
    "        attn = self.attn_drop(attn)\n",
    "        x = (attn @ v).transpose(1, 2).reshape(B_, N, C)\n",
    "        ## print(f\"Shape after applying attention and reshaping: {x.shape}\")\n",
    "        \n",
    "        x = self.proj(x)\n",
    "        ## print(f\"Shape after projection: {x.shape}\")\n",
    "        \n",
    "        x = self.proj_drop(x)\n",
    "        ## print(f\"Shape after dropout: {x.shape}\")\n",
    "        \n",
    "        return x\n",
    "\n"
   ]
  },
  {
   "cell_type": "code",
   "execution_count": 52,
   "metadata": {},
   "outputs": [
    {
     "data": {
      "text/plain": [
       "'\\nimport torch\\nimport torch.nn as nn\\nimport torch.nn.functional as F\\nfrom torch.utils.checkpoint import checkpoint\\nfrom einops import rearrange\\nfrom functools import reduce\\nfrom operator import mul\\n\\nclass Mlp(nn.Module):\\n    def __init__(self, in_features, hidden_features=None, out_features=None, act_layer=nn.GELU, drop=0.0):\\n        super().__init__()\\n        out_features = out_features or in_features\\n        hidden_features = hidden_features or in_features\\n        self.fc1 = nn.Linear(in_features, hidden_features)\\n        self.act = act_layer()\\n        self.fc2 = nn.Linear(hidden_features, out_features)\\n        self.drop = nn.Dropout(drop)\\n\\n    def forward(self, x):\\n        x = self.fc1(x)\\n        x = self.act(x)\\n        x = self.drop(x)\\n        x = self.fc2(x)\\n        x = self.drop(x)\\n        return x\\n\\n\\nclass WindowAttention3D(nn.Module):\\n    \"\"\"Window-based multi-head self-attention (W-MSA) with relative position bias.\"\"\"\\n    \\n    def __init__(self, dim, window_size, num_heads, qkv_bias=True, qk_scale=None, attn_drop=0.0, proj_drop=0.0):\\n        super().__init__()\\n        self.dim = dim\\n        self.window_size = window_size\\n        self.num_heads = num_heads\\n        head_dim = dim // num_heads\\n        self.scale = qk_scale or head_dim**-0.5\\n\\n        self.relative_position_bias_table = nn.Parameter(\\n            torch.zeros((2 * window_size[0] - 1) * (2 * window_size[1] - 1) * (2 * window_size[2] - 1), num_heads)\\n        )\\n        \\n        coords_d = torch.arange(self.window_size[0])\\n        coords_h = torch.arange(self.window_size[1])\\n        coords_w = torch.arange(self.window_size[2])\\n        coords = torch.stack(torch.meshgrid(coords_d, coords_h, coords_w))  # 3, Wd, Wh, Ww\\n        coords_flatten = torch.flatten(coords, 1)  # 3, Wd*Wh*Ww\\n        relative_coords = coords_flatten[:, :, None] - coords_flatten[:, None, :]  # 3, Wd*Wh*Ww, Wd*Wh*Ww\\n        relative_coords = relative_coords.permute(1, 2, 0).contiguous()  # Wd*Wh*Ww, Wd*Wh*Ww, 3\\n        relative_coords[:, :, 0] += self.window_size[0] - 1  # shift to start from 0\\n        relative_coords[:, :, 1] += self.window_size[1] - 1\\n        relative_coords[:, :, 2] += self.window_size[2] - 1\\n        relative_coords[:, :, 0] *= (2 * self.window_size[1] - 1) * (2 * self.window_size[2] - 1)\\n        relative_coords[:, :, 1] *= 2 * self.window_size[2] - 1\\n        relative_position_index = relative_coords.sum(-1)  # Wd*Wh*Ww, Wd*Wh*Ww\\n        self.register_buffer(\"relative_position_index\", relative_position_index)\\n\\n        self.qkv = nn.Linear(dim, dim * 3, bias=qkv_bias)\\n        self.attn_drop = nn.Dropout(attn_drop)\\n        self.proj = nn.Linear(dim, dim)\\n        self.proj_drop = nn.Dropout(proj_drop)\\n        self.softmax = nn.Softmax(dim=-1)\\n\\n    def forward(self, x, mask=None):\\n        print(f\"Input shape: {x.shape}\")\\n\\n        # Debugging print statements\\n        print(f\"Original x shape: {x.shape}\")\\n        # print(f\"Number of heads: {self.num_heads}, C per head: {C // self.num_heads}\")\\n        \\n        B_, N, C = x.shape\\n        qkv = self.qkv(x)\\n        print(f\"Shape after qkv linear layer: {qkv.shape}\")\\n        \\n        qkv = qkv.reshape(B_, N, 3, self.num_heads, C // self.num_heads).permute(2, 0, 3, 1, 4)\\n        print(f\"Shape after reshaping and permuting for q, k, v: {qkv.shape}\")\\n\\n        q, k, v = qkv[0], qkv[1], qkv[2]\\n        q = q * self.scale\\n        attn = q @ k.transpose(-2, -1)\\n        print(f\"Attention scores shape: {attn.shape}\")\\n\\n        relative_position_bias = self.relative_position_bias_table[\\n            self.relative_position_index.view(-1)].view(\\n            self.window_size[0] * self.window_size[1] * self.window_size[2],\\n            self.window_size[0] * self.window_size[1] * self.window_size[2], -1)\\n        relative_position_bias = relative_position_bias.permute(2, 0, 1).contiguous()\\n        print(f\"Relative position bias shape: {relative_position_bias.shape}\")\\n        \\n        attn = attn + relative_position_bias.unsqueeze(0)\\n        print(f\"Attention scores with bias shape: {attn.shape}\")\\n\\n        if mask is not None:\\n            nW = mask.shape[0]\\n            attn = attn.view(B_ // nW, nW, self.num_heads, N, N) + mask.unsqueeze(1).unsqueeze(0)\\n            print(f\"Attention scores with mask shape: {attn.shape}\")\\n            attn = attn.view(-1, self.num_heads, N, N)\\n        attn = self.softmax(attn)\\n        print(f\"Softmax applied to attention scores shape: {attn.shape}\")\\n\\n        attn = self.attn_drop(attn)\\n        x = (attn @ v).transpose(1, 2).reshape(B_, N, C)\\n        print(f\"Shape after applying attention and reshaping: {x.shape}\")\\n        \\n        x = self.proj(x)\\n        print(f\"Shape after projection: {x.shape}\")\\n        \\n        x = self.proj_drop(x)\\n        print(f\"Shape after dropout: {x.shape}\")\\n        \\n        return x\\n'"
      ]
     },
     "execution_count": 52,
     "metadata": {},
     "output_type": "execute_result"
    }
   ],
   "source": [
    "'''\n",
    "import torch\n",
    "import torch.nn as nn\n",
    "import torch.nn.functional as F\n",
    "from torch.utils.checkpoint import checkpoint\n",
    "from einops import rearrange\n",
    "from functools import reduce\n",
    "from operator import mul\n",
    "\n",
    "class Mlp(nn.Module):\n",
    "    def __init__(self, in_features, hidden_features=None, out_features=None, act_layer=nn.GELU, drop=0.0):\n",
    "        super().__init__()\n",
    "        out_features = out_features or in_features\n",
    "        hidden_features = hidden_features or in_features\n",
    "        self.fc1 = nn.Linear(in_features, hidden_features)\n",
    "        self.act = act_layer()\n",
    "        self.fc2 = nn.Linear(hidden_features, out_features)\n",
    "        self.drop = nn.Dropout(drop)\n",
    "\n",
    "    def forward(self, x):\n",
    "        x = self.fc1(x)\n",
    "        x = self.act(x)\n",
    "        x = self.drop(x)\n",
    "        x = self.fc2(x)\n",
    "        x = self.drop(x)\n",
    "        return x\n",
    "\n",
    "\n",
    "class WindowAttention3D(nn.Module):\n",
    "    \"\"\"Window-based multi-head self-attention (W-MSA) with relative position bias.\"\"\"\n",
    "    \n",
    "    def __init__(self, dim, window_size, num_heads, qkv_bias=True, qk_scale=None, attn_drop=0.0, proj_drop=0.0):\n",
    "        super().__init__()\n",
    "        self.dim = dim\n",
    "        self.window_size = window_size\n",
    "        self.num_heads = num_heads\n",
    "        head_dim = dim // num_heads\n",
    "        self.scale = qk_scale or head_dim**-0.5\n",
    "\n",
    "        self.relative_position_bias_table = nn.Parameter(\n",
    "            torch.zeros((2 * window_size[0] - 1) * (2 * window_size[1] - 1) * (2 * window_size[2] - 1), num_heads)\n",
    "        )\n",
    "        \n",
    "        coords_d = torch.arange(self.window_size[0])\n",
    "        coords_h = torch.arange(self.window_size[1])\n",
    "        coords_w = torch.arange(self.window_size[2])\n",
    "        coords = torch.stack(torch.meshgrid(coords_d, coords_h, coords_w))  # 3, Wd, Wh, Ww\n",
    "        coords_flatten = torch.flatten(coords, 1)  # 3, Wd*Wh*Ww\n",
    "        relative_coords = coords_flatten[:, :, None] - coords_flatten[:, None, :]  # 3, Wd*Wh*Ww, Wd*Wh*Ww\n",
    "        relative_coords = relative_coords.permute(1, 2, 0).contiguous()  # Wd*Wh*Ww, Wd*Wh*Ww, 3\n",
    "        relative_coords[:, :, 0] += self.window_size[0] - 1  # shift to start from 0\n",
    "        relative_coords[:, :, 1] += self.window_size[1] - 1\n",
    "        relative_coords[:, :, 2] += self.window_size[2] - 1\n",
    "        relative_coords[:, :, 0] *= (2 * self.window_size[1] - 1) * (2 * self.window_size[2] - 1)\n",
    "        relative_coords[:, :, 1] *= 2 * self.window_size[2] - 1\n",
    "        relative_position_index = relative_coords.sum(-1)  # Wd*Wh*Ww, Wd*Wh*Ww\n",
    "        self.register_buffer(\"relative_position_index\", relative_position_index)\n",
    "\n",
    "        self.qkv = nn.Linear(dim, dim * 3, bias=qkv_bias)\n",
    "        self.attn_drop = nn.Dropout(attn_drop)\n",
    "        self.proj = nn.Linear(dim, dim)\n",
    "        self.proj_drop = nn.Dropout(proj_drop)\n",
    "        self.softmax = nn.Softmax(dim=-1)\n",
    "\n",
    "    def forward(self, x, mask=None):\n",
    "        # print(f\"Input shape: {x.shape}\")\n",
    "\n",
    "        # Debugging # print statements\n",
    "        # print(f\"Original x shape: {x.shape}\")\n",
    "        # # print(f\"Number of heads: {self.num_heads}, C per head: {C // self.num_heads}\")\n",
    "        \n",
    "        B_, N, C = x.shape\n",
    "        qkv = self.qkv(x)\n",
    "        # print(f\"Shape after qkv linear layer: {qkv.shape}\")\n",
    "        \n",
    "        qkv = qkv.reshape(B_, N, 3, self.num_heads, C // self.num_heads).permute(2, 0, 3, 1, 4)\n",
    "        # print(f\"Shape after reshaping and permuting for q, k, v: {qkv.shape}\")\n",
    "\n",
    "        q, k, v = qkv[0], qkv[1], qkv[2]\n",
    "        q = q * self.scale\n",
    "        attn = q @ k.transpose(-2, -1)\n",
    "        # print(f\"Attention scores shape: {attn.shape}\")\n",
    "\n",
    "        relative_position_bias = self.relative_position_bias_table[\n",
    "            self.relative_position_index.view(-1)].view(\n",
    "            self.window_size[0] * self.window_size[1] * self.window_size[2],\n",
    "            self.window_size[0] * self.window_size[1] * self.window_size[2], -1)\n",
    "        relative_position_bias = relative_position_bias.permute(2, 0, 1).contiguous()\n",
    "        # print(f\"Relative position bias shape: {relative_position_bias.shape}\")\n",
    "        \n",
    "        attn = attn + relative_position_bias.unsqueeze(0)\n",
    "        # print(f\"Attention scores with bias shape: {attn.shape}\")\n",
    "\n",
    "        if mask is not None:\n",
    "            nW = mask.shape[0]\n",
    "            attn = attn.view(B_ // nW, nW, self.num_heads, N, N) + mask.unsqueeze(1).unsqueeze(0)\n",
    "            # print(f\"Attention scores with mask shape: {attn.shape}\")\n",
    "            attn = attn.view(-1, self.num_heads, N, N)\n",
    "        attn = self.softmax(attn)\n",
    "        # print(f\"Softmax applied to attention scores shape: {attn.shape}\")\n",
    "\n",
    "        attn = self.attn_drop(attn)\n",
    "        x = (attn @ v).transpose(1, 2).reshape(B_, N, C)\n",
    "        # print(f\"Shape after applying attention and reshaping: {x.shape}\")\n",
    "        \n",
    "        x = self.proj(x)\n",
    "        # print(f\"Shape after projection: {x.shape}\")\n",
    "        \n",
    "        x = self.proj_drop(x)\n",
    "        # print(f\"Shape after dropout: {x.shape}\")\n",
    "        \n",
    "        return x\n",
    "'''"
   ]
  },
  {
   "cell_type": "code",
   "execution_count": 53,
   "metadata": {},
   "outputs": [],
   "source": [
    "import torch.nn as nn\n",
    "from monai.networks.blocks import UnetBasicBlock\n",
    "\n",
    "class PatchEmbed3D(nn.Module):\n",
    "    \"\"\"Video to Patch Embedding.\n",
    "\n",
    "    Args:\n",
    "        patch_size (int): Patch token size. Default: (4, 4, 4).\n",
    "        in_chans (int): Number of input video channels. Default: 3.\n",
    "        embed_dim (int): Number of linear projection output channels. Default: 96.\n",
    "        norm_layer (nn.Module, optional): Normalization layer. Default: None\n",
    "    \"\"\"\n",
    "\n",
    "    def __init__(self, patch_size=(4, 4, 4), in_chans=3, embed_dim=96, norm_layer=None):\n",
    "        super().__init__()\n",
    "        self.patch_size = patch_size\n",
    "        self.in_chans = in_chans\n",
    "        self.embed_dim = embed_dim\n",
    "\n",
    "        # Using MONAI's UnetBasicBlock for projection\n",
    "        self.proj = UnetBasicBlock(\n",
    "            spatial_dims=3,\n",
    "            in_channels=in_chans,\n",
    "            out_channels=embed_dim,\n",
    "            kernel_size=3,\n",
    "            stride=2,\n",
    "            norm_name=(\"INSTANCE\", {\"affine\": True}),\n",
    "        )\n",
    "\n",
    "    def forward(self, x):\n",
    "        \"\"\"Forward function.\"\"\"\n",
    "        ## print(f\"Input shape: {x.shape}\")\n",
    "        \n",
    "        x = self.proj(x)  # B C D Wh Ww\n",
    "        \n",
    "        ## print(f\"Shape after UnetBasicBlock projection: {x.shape}\")\n",
    "        \n",
    "        return x\n"
   ]
  },
  {
   "cell_type": "markdown",
   "metadata": {},
   "source": [
    "### WindowPartition and WindowReverse Functions"
   ]
  },
  {
   "cell_type": "code",
   "execution_count": 54,
   "metadata": {},
   "outputs": [],
   "source": [
    "from functools import reduce\n",
    "from operator import mul\n",
    "\n",
    "def window_partition(x, window_size):\n",
    "    \"\"\"\n",
    "    Args:\n",
    "        x: (B, D, H, W, C)\n",
    "        window_size (tuple[int]): window size\n",
    "\n",
    "    Returns:\n",
    "        windows: (B*num_windows, window_size*window_size, C)\n",
    "    \"\"\"\n",
    "#     ## print(f\"Input shape: {x.shape}\")\n",
    "    \n",
    "    B, D, H, W, C = x.shape\n",
    "    x = x.view(\n",
    "        B,\n",
    "        D // window_size[0],\n",
    "        window_size[0],\n",
    "        H // window_size[1],\n",
    "        window_size[1],\n",
    "        W // window_size[2],\n",
    "        window_size[2],\n",
    "        C,\n",
    "    )\n",
    "    ## print(f\"Shape after view operation: {x.shape}\")\n",
    "    \n",
    "    windows = x.permute(0, 1, 3, 5, 2, 4, 6, 7).contiguous().view(-1, reduce(mul, window_size), C)\n",
    "    ## print(f\"Shape after permute and final view: {windows.shape}\")\n",
    "    \n",
    "    return windows\n",
    "\n",
    "def window_reverse(windows, window_size, B, D, H, W):\n",
    "    \"\"\"\n",
    "    Args:\n",
    "        windows: (B*num_windows, window_size, window_size, window_size, C)\n",
    "        window_size (tuple[int]): Window size\n",
    "        H (int): Height of image\n",
    "        W (int): Width of image\n",
    "\n",
    "    Returns:\n",
    "        x: (B, D, H, W, C)\n",
    "    \"\"\"\n",
    "    x = windows.view(B, D // window_size[0], H // window_size[1], W // window_size[2],\n",
    "                     window_size[0], window_size[1], window_size[2], -1)\n",
    "    x = x.permute(0, 1, 4, 2, 5, 3, 6, 7).contiguous().view(B, D, H, W, -1)\n",
    "    return x\n",
    "\n"
   ]
  },
  {
   "cell_type": "markdown",
   "metadata": {},
   "source": [
    "### get_window_size Function\n",
    "This function adjusts the window size according to the input size."
   ]
  },
  {
   "cell_type": "code",
   "execution_count": 55,
   "metadata": {},
   "outputs": [],
   "source": [
    "def get_window_size(x_size, window_size, shift_size=None):\n",
    "    # print(f\"Input x_size: {x_size}\")\n",
    "    # print(f\"Initial window_size: {window_size}\")\n",
    "    # print(f\"Initial shift_size: {shift_size}\")\n",
    "\n",
    "    use_window_size = list(window_size)\n",
    "    if shift_size is not None:\n",
    "        use_shift_size = list(shift_size)\n",
    "    \n",
    "    for i in range(len(x_size)):\n",
    "        if x_size[i] <= window_size[i]:\n",
    "           # # print(f\"Adjusting window_size[{i}] from {window_size[i]} to {x_size[i]} because x_size[{i}] <= window_size[{i}]\")\n",
    "            use_window_size[i] = x_size[i]\n",
    "            if shift_size is not None:\n",
    "                ## print(f\"Setting shift_size[{i}] to 0 because x_size[{i}] <= window_size[{i}]\")\n",
    "                use_shift_size[i] = 0\n",
    "\n",
    "    if shift_size is None:\n",
    "        ## print(f\"Final use_window_size: {tuple(use_window_size)}\")\n",
    "        return tuple(use_window_size)\n",
    "    else:\n",
    "        ## print(f\"Final use_window_size: {tuple(use_window_size)}, use_shift_size: {tuple(use_shift_size)}\")\n",
    "        return tuple(use_window_size), tuple(use_shift_size)\n"
   ]
  },
  {
   "cell_type": "markdown",
   "metadata": {},
   "source": [
    "### compute_mask Function\n",
    "This function computes the attention mask for the shifted windows."
   ]
  },
  {
   "cell_type": "code",
   "execution_count": 56,
   "metadata": {},
   "outputs": [],
   "source": [
    "import torch\n",
    "\n",
    "def compute_mask(D, H, W, window_size, shift_size, device):\n",
    "    ## print(f\"Dimensions (D, H, W): ({D}, {H}, {W})\")\n",
    "    ## print(f\"Window size: {window_size}\")\n",
    "    ## print(f\"Shift size: {shift_size}\")\n",
    "\n",
    "    img_mask = torch.zeros((1, D, H, W, 1), device=device)  # 1 Dp Hp Wp 1\n",
    "    ## print(f\"Initial img_mask shape: {img_mask.shape}\")\n",
    "\n",
    "    cnt = 0\n",
    "    for d in slice(-window_size[0]), slice(-window_size[0], -shift_size[0]), slice(-shift_size[0], None):\n",
    "        for h in slice(-window_size[1]), slice(-window_size[1], -shift_size[1]), slice(-shift_size[1], None):\n",
    "            for w in slice(-window_size[2]), slice(-window_size[2], -shift_size[2]), slice(-shift_size[2], None):\n",
    "                ## print(f\"Filling img_mask with cnt={cnt} for slices d={d}, h={h}, w={w}\")\n",
    "                img_mask[:, d, h, w, :] = cnt\n",
    "                cnt += 1\n",
    "\n",
    "    ## print(f\"img_mask after filling: {img_mask.unique()}\")  # Shows the unique values in the mask\n",
    "\n",
    "    mask_windows = window_partition(img_mask, window_size)  # nW, ws[0]*ws[1]*ws[2], 1\n",
    "    ## print(f\"mask_windows shape after partitioning: {mask_windows.shape}\")\n",
    "\n",
    "    mask_windows = mask_windows.squeeze(-1)  # nW, ws[0]*ws[1]*ws[2]\n",
    "    ## print(f\"mask_windows shape after squeezing: {mask_windows.shape}\")\n",
    "\n",
    "    attn_mask = mask_windows.unsqueeze(1) - mask_windows.unsqueeze(2)\n",
    "    ## print(f\"attn_mask shape after subtraction: {attn_mask.shape}\")\n",
    "\n",
    "    attn_mask = attn_mask.masked_fill(attn_mask != 0, float(-100.0)).masked_fill(attn_mask == 0, float(0.0))\n",
    "    ## print(f\"Final attn_mask shape: {attn_mask.shape}\")\n",
    "\n",
    "    return attn_mask\n"
   ]
  },
  {
   "cell_type": "markdown",
   "metadata": {},
   "source": [
    "### PatchMerging Class\n",
    "The PatchMerging class is used to downsample the spatial dimensions of the feature maps while increasing the channel dimension. "
   ]
  },
  {
   "cell_type": "code",
   "execution_count": 57,
   "metadata": {},
   "outputs": [],
   "source": [
    "import torch\n",
    "import torch.nn as nn\n",
    "import torch.nn.functional as F\n",
    "\n",
    "class PatchMerging(nn.Module):\n",
    "    \"\"\" Patch Merging Layer.\n",
    "\n",
    "    Args:\n",
    "        dim (int): Number of input channels.\n",
    "        norm_layer (nn.Module, optional): Normalization layer.  Default: nn.LayerNorm\n",
    "    \"\"\"\n",
    "\n",
    "    def __init__(self, dim, norm_layer=nn.LayerNorm):\n",
    "        super().__init__()\n",
    "        self.dim = dim\n",
    "        self.reduction = nn.Linear(8 * dim, 2 * dim, bias=False)\n",
    "        self.norm = norm_layer(8 * dim)\n",
    "\n",
    "    def forward(self, x):\n",
    "        \"\"\"\n",
    "        Args:\n",
    "            x: Input feature, tensor size (B, D, H, W, C).\n",
    "        \"\"\"\n",
    "        # # print(f\"Original input shape: {x.shape}\")\n",
    "        \n",
    "        B, D, H, W, C = x.shape\n",
    "\n",
    "        # Padding to handle odd dimensions\n",
    "        pad_input = (H % 2 == 1) or (W % 2 == 1) or (D % 2 == 1)\n",
    "        if pad_input:\n",
    "            x = F.pad(x, (0, 0, 0, W % 2, 0, H % 2, 0, D % 2))\n",
    "            ## print(f\"Shape after padding: {x.shape}\")\n",
    "\n",
    "        # Splitting the input into 8 parts and concatenating them along the channel dimension\n",
    "        x0 = x[:, 0::2, 0::2, 0::2, :]\n",
    "        x1 = x[:, 1::2, 0::2, 0::2, :]\n",
    "        x2 = x[:, 0::2, 1::2, 0::2, :]\n",
    "        x3 = x[:, 0::2, 0::2, 1::2, :]\n",
    "        x4 = x[:, 1::2, 1::2, 0::2, :]\n",
    "        x5 = x[:, 1::2, 0::2, 1::2, :]\n",
    "        x6 = x[:, 0::2, 1::2, 1::2, :]\n",
    "        x7 = x[:, 1::2, 1::2, 1::2, :]\n",
    "        \n",
    "        ## print(f\"Shapes of split parts: {[x0.shape, x1.shape, x2.shape, x3.shape, x4.shape, x5.shape, x6.shape, x7.shape]}\")\n",
    "\n",
    "        x = torch.cat([x0, x1, x2, x3, x4, x5, x6, x7], -1)  # B D/2 H/2 W/2 8*C\n",
    "        ## print(f\"Shape after concatenation: {x.shape}\")\n",
    "\n",
    "        x = self.norm(x)\n",
    "        ## print(f\"Shape after normalization: {x.shape}\")\n",
    "\n",
    "        x = self.reduction(x)\n",
    "        ## print(f\"Shape after linear reduction: {x.shape}\")\n",
    "\n",
    "        return x\n"
   ]
  },
  {
   "cell_type": "markdown",
   "metadata": {},
   "source": [
    "#### Build the Transformer Layers and Network"
   ]
  },
  {
   "cell_type": "code",
   "execution_count": 58,
   "metadata": {},
   "outputs": [],
   "source": [
    "import torch\n",
    "import torch.nn as nn\n",
    "import torch.nn.functional as F\n",
    "\n",
    "class SwinTransformerBlock3D(nn.Module):\n",
    "    def __init__(self, dim, num_heads, window_size=(2, 7, 7), shift_size=(0, 0, 0), mlp_ratio=4.0, drop=0.0, attn_drop=0.0, drop_path=0.0, act_layer=nn.GELU, norm_layer=nn.LayerNorm):\n",
    "        super().__init__()\n",
    "        self.dim = dim\n",
    "        self.num_heads = num_heads\n",
    "        self.window_size = window_size\n",
    "        self.shift_size = shift_size\n",
    "        self.mlp_ratio = mlp_ratio\n",
    "\n",
    "        self.norm1 = norm_layer(dim)\n",
    "        self.attn = WindowAttention3D(\n",
    "            dim=dim,\n",
    "            window_size=window_size,\n",
    "            num_heads=num_heads,\n",
    "            qkv_bias=True,\n",
    "            attn_drop=attn_drop,\n",
    "            proj_drop=drop\n",
    "        )\n",
    "\n",
    "        self.drop_path = DropPath(drop_path) if drop_path > 0. else nn.Identity()\n",
    "        self.norm2 = norm_layer(dim)\n",
    "        mlp_hidden_dim = int(dim * mlp_ratio)\n",
    "        self.mlp = Mlp(in_features=dim, hidden_features=mlp_hidden_dim, out_features=dim, drop=drop)\n",
    "\n",
    "    def forward(self, x, mask_matrix=None):\n",
    "        # Extract the shape of x to get C\n",
    "        \n",
    "        B, D, H, W, C = x.shape\n",
    "        ## print(f\"SwinTransformerBlock3D shape: {x.shape}\")\n",
    "        # Debugging # print statements\n",
    "        ## print(f\"Original x shape: {x.shape}\")\n",
    "        ## print(f\"Number of heads: {self.num_heads}, C per head: {C // self.num_heads}\")\n",
    "        \n",
    "        window_size, shift_size = get_window_size((D, H, W), self.window_size, self.shift_size)\n",
    "        x = self.norm1(x)\n",
    "        pad_l = pad_t = pad_d0 = 0\n",
    "        pad_d1 = (window_size[0] - D % window_size[0]) % window_size[0]\n",
    "        pad_b = (window_size[1] - H % window_size[1]) % window_size[1]\n",
    "        pad_r = (window_size[2] - W % window_size[2]) % window_size[2]\n",
    "        x = F.pad(x, (0, 0, pad_l, pad_r, pad_t, pad_b, pad_d0, pad_d1))\n",
    "        _, Dp, Hp, Wp, _ = x.shape\n",
    "        \n",
    "        # Continue with the rest of your operations...\n",
    "        if any(i > 0 for i in shift_size):\n",
    "            shifted_x = torch.roll(x, shifts=(-shift_size[0], -shift_size[1], -shift_size[2]), dims=(1, 2, 3))\n",
    "        else:\n",
    "            shifted_x = x\n",
    "\n",
    "        x_windows = window_partition(shifted_x, window_size)  # Partition\n",
    "        attn_windows = self.attn(x_windows, mask=mask_matrix)  # W-MSA/SW-MSA\n",
    "        x_windows = attn_windows.view(-1, window_size[0], window_size[1], window_size[2], C)\n",
    "        x = window_reverse(x_windows, window_size, B, Dp, Hp, Wp)\n",
    "\n",
    "        if any(i > 0 for i in shift_size):\n",
    "            x = torch.roll(x, shifts=(shift_size[0], shift_size[1], shift_size[2]), dims=(1, 2, 3))\n",
    "\n",
    "        if pad_d1 > 0 or pad_r > 0 or pad_b > 0:\n",
    "            x = x[:, :D, :H, :W, :].contiguous()\n",
    "\n",
    "        x = x + self.drop_path(self.norm2(self.mlp(x)))\n",
    "        return x\n",
    "\n",
    "\n"
   ]
  },
  {
   "cell_type": "markdown",
   "metadata": {},
   "source": [
    "### BasicLayer Class\n",
    "The BasicLayer class handles the core operations in the Swin Transformer for each stage."
   ]
  },
  {
   "cell_type": "code",
   "execution_count": 59,
   "metadata": {},
   "outputs": [],
   "source": [
    "import torch\n",
    "import torch.nn as nn\n",
    "from einops import rearrange\n",
    "import numpy as np\n",
    "\n",
    "class BasicLayer(nn.Module):\n",
    "    def __init__(\n",
    "        self,\n",
    "        dim,\n",
    "        depth,\n",
    "        num_heads,\n",
    "        window_size=(2, 14, 14),\n",
    "        mlp_ratio=4.0,\n",
    "        qkv_bias=False,\n",
    "        qk_scale=None,\n",
    "        drop=0.0,\n",
    "        attn_drop=0.0,\n",
    "        drop_path=0.0,\n",
    "        norm_layer=nn.LayerNorm,\n",
    "        downsample=None,\n",
    "        use_checkpoint=False,\n",
    "    ):\n",
    "        super().__init__()\n",
    "        self.window_size = window_size\n",
    "        self.shift_size = tuple(i // 2 for i in window_size)\n",
    "        self.depth = depth\n",
    "        self.use_checkpoint = use_checkpoint\n",
    "\n",
    "        self.blocks = nn.ModuleList(\n",
    "            [\n",
    "                SwinTransformerBlock3D(\n",
    "                    dim=dim,\n",
    "                    num_heads=num_heads,\n",
    "                    window_size=window_size,\n",
    "                    shift_size=(0, 0, 0) if (i % 2 == 0) else self.shift_size,\n",
    "                    mlp_ratio=mlp_ratio,\n",
    "                    qkv_bias=qkv_bias,\n",
    "                    qk_scale=qk_scale,\n",
    "                    drop=drop,\n",
    "                    attn_drop=attn_drop,\n",
    "                    drop_path=drop_path[i] if isinstance(drop_path, list) else drop_path,\n",
    "                    norm_layer=norm_layer,\n",
    "                    use_checkpoint=use_checkpoint,\n",
    "                )\n",
    "                for i in range(depth)\n",
    "            ]\n",
    "        )\n",
    "\n",
    "        self.downsample = downsample\n",
    "        if self.downsample is not None:\n",
    "            self.downsample = downsample(dim=dim, norm_layer=norm_layer)\n",
    "\n",
    "    def forward(self, x):\n",
    "        ## print(f\"Original input shape: {x.shape}\")\n",
    "        \n",
    "        B, C, D, H, W = x.shape\n",
    "        window_size, shift_size = get_window_size((D, H, W), self.window_size, self.shift_size)\n",
    "        ## print(f\"Calculated window size: {window_size}, shift size: {shift_size}\")\n",
    "        \n",
    "        x = rearrange(x, \"b c d h w -> b d h w c\")\n",
    "        ## print(f\"Shape after rearrange: {x.shape}\")\n",
    "        \n",
    "        Dp = int(np.ceil(D / window_size[0])) * window_size[0]\n",
    "        Hp = int(np.ceil(H / window_size[1])) * window_size[1]\n",
    "        Wp = int(np.ceil(W / window_size[2])) * window_size[2]\n",
    "        ## print(f\"Padded dimensions (Dp, Hp, Wp): ({Dp}, {Hp}, {Wp})\")\n",
    "        \n",
    "        attn_mask = compute_mask(Dp, Hp, Wp, window_size, shift_size, x.device)\n",
    "        ## print(f\"Attention mask shape: {attn_mask.shape}\")\n",
    "        \n",
    "        for i, blk in enumerate(self.blocks):\n",
    "            ## print(f\"Passing through SwinTransformerBlock3D {i}\")\n",
    "            x = blk(x, attn_mask)\n",
    "            ## print(f\"Shape after block {i}: {x.shape}\")\n",
    "        \n",
    "        x = x.view(B, D, H, W, -1)\n",
    "        ## print(f\"Shape after view: {x.shape}\")\n",
    "\n",
    "        if self.downsample is not None:\n",
    "            x = self.downsample(x)\n",
    "            ## print(f\"Shape after downsample: {x.shape}\")\n",
    "        \n",
    "        x = rearrange(x, \"b d h w c -> b c d h w\")\n",
    "        ## print(f\"Final output shape after rearrange: {x.shape}\")\n",
    "        \n",
    "        return x\n"
   ]
  },
  {
   "cell_type": "markdown",
   "metadata": {},
   "source": [
    "### Combine Layers into the FullSwin Transformer 3D model. Integrate these Swin Transformer blocks into a model that can process 3D medical images from your dataset."
   ]
  },
  {
   "cell_type": "code",
   "execution_count": 60,
   "metadata": {},
   "outputs": [],
   "source": [
    "class SwinTransformer3D(nn.Module):\n",
    "    \"\"\"Swin Transformer Block.\n",
    "\n",
    "    Args:\n",
    "        dim (int): Number of input channels.\n",
    "        num_heads (int): Number of attention heads.\n",
    "        window_size (tuple[int]): Window size.\n",
    "        shift_size (tuple[int]): Shift size for SW-MSA.\n",
    "        mlp_ratio (float): Ratio of mlp hidden dim to embedding dim.\n",
    "        qkv_bias (bool, optional): If True, add a learnable bias to query, key, value. Default: True\n",
    "        qk_scale (float | None, optional): Override default qk scale of head_dim ** -0.5 if set.\n",
    "        drop (float, optional): Dropout rate. Default: 0.0\n",
    "        attn_drop (float, optional): Attention dropout rate. Default: 0.0\n",
    "        drop_path (float, optional): Stochastic depth rate. Default: 0.0\n",
    "        act_layer (nn.Module, optional): Activation layer. Default: nn.GELU\n",
    "        norm_layer (nn.Module, optional): Normalization layer.  Default: nn.LayerNorm\n",
    "    \"\"\"\n",
    "\n",
    "    def __init__(\n",
    "        self,\n",
    "        dim,\n",
    "        img_size,\n",
    "        num_classes,\n",
    "        in_chans,\n",
    "        num_heads,\n",
    "        window_size=(2, 14, 14),\n",
    "        shift_size=(0, 0, 0),\n",
    "        mlp_ratio=4.0,\n",
    "        qkv_bias=True,\n",
    "        qk_scale=None,\n",
    "        drop=0.0,\n",
    "        attn_drop=0.0,\n",
    "        drop_path=0.0,\n",
    "        act_layer=nn.GELU,\n",
    "        norm_layer=nn.LayerNorm,\n",
    "        use_checkpoint=False,\n",
    "    ):\n",
    "        super().__init__()\n",
    "        self.dim = dim\n",
    "        self.num_heads = num_heads\n",
    "        self.window_size = window_size\n",
    "        self.shift_size = shift_size\n",
    "        self.mlp_ratio = mlp_ratio\n",
    "        self.use_checkpoint = use_checkpoint\n",
    "\n",
    "        assert 0 <= self.shift_size[0] < self.window_size[0], \"shift_size must in 0-window_size\"\n",
    "        assert 0 <= self.shift_size[1] < self.window_size[1], \"shift_size must in 0-window_size\"\n",
    "        assert 0 <= self.shift_size[2] < self.window_size[2], \"shift_size must in 0-window_size\"\n",
    "\n",
    "        self.norm1 = norm_layer(dim)\n",
    "        self.attn = WindowAttention3D(\n",
    "            dim,\n",
    "            window_size=self.window_size,\n",
    "            num_heads=num_heads,\n",
    "            qkv_bias=qkv_bias,\n",
    "            qk_scale=qk_scale,\n",
    "            attn_drop=attn_drop,\n",
    "            proj_drop=drop,\n",
    "        )\n",
    "\n",
    "        self.drop_path = DropPath(drop_path) if drop_path > 0.0 else nn.Identity()\n",
    "        self.norm2 = norm_layer(dim)\n",
    "        mlp_hidden_dim = int(dim * mlp_ratio)\n",
    "        self.mlp = Mlp(in_features=dim, hidden_features=mlp_hidden_dim, act_layer=act_layer, drop=drop)\n",
    "\n",
    "    def forward_part1(self, x, mask_matrix):\n",
    "        B, D, H, W, C = x.shape\n",
    "        window_size, shift_size = get_window_size((D, H, W), self.window_size, self.shift_size)\n",
    "        x = self.norm1(x)\n",
    "        pad_l = pad_t = pad_d0 = 0\n",
    "        pad_d1 = (window_size[0] - D % window_size[0]) % window_size[0]\n",
    "        pad_b = (window_size[1] - H % window_size[1]) % window_size[1]\n",
    "        pad_r = (window_size[2] - W % window_size[2]) % window_size[2]\n",
    "        x = F.pad(x, (0, 0, pad_l, pad_r, pad_t, pad_b, pad_d0, pad_d1))\n",
    "        _, Dp, Hp, Wp, _ = x.shape\n",
    "        # cyclic shift\n",
    "        if any(i > 0 for i in shift_size):\n",
    "            shifted_x = torch.roll(x, shifts=(-shift_size[0], -shift_size[1], -shift_size[2]), dims=(1, 2, 3))\n",
    "            attn_mask = mask_matrix\n",
    "        else:\n",
    "            shifted_x = x\n",
    "            attn_mask = None\n",
    "        # partition windows\n",
    "        x_windows = window_partition(shifted_x, window_size)  # B*nW, Wd*Wh*Ww, C\n",
    "        # W-MSA/SW-MSA\n",
    "        attn_windows = self.attn(x_windows, mask=attn_mask)  # B*nW, Wd*Wh*Ww, C\n",
    "        # merge windows\n",
    "        attn_windows = attn_windows.view(-1, *(window_size + (C,)))\n",
    "        shifted_x = window_reverse(attn_windows, window_size, B, Dp, Hp, Wp)  # B D' H' W' C\n",
    "        # reverse cyclic shift\n",
    "        if any(i > 0 for i in shift_size):\n",
    "            x = torch.roll(shifted_x, shifts=(shift_size[0], shift_size[1], shift_size[2]), dims=(1, 2, 3))\n",
    "        else:\n",
    "            x = shifted_x\n",
    "\n",
    "        if pad_d1 > 0 or pad_r > 0 or pad_b > 0:\n",
    "            x = x[:, :D, :H, :W, :].contiguous() \n",
    "        return x\n",
    "\n",
    "    def forward_part2(self, x):\n",
    "        return self.drop_path(self.mlp(self.norm2(x)))\n",
    "\n",
    "    def forward(self, x, mask_matrix):\n",
    "        ## print(\"Original x shape:\", x.shape)  # Ensure x is defined before this point\n",
    "\n",
    "        shortcut = x\n",
    "        if self.use_checkpoint:\n",
    "            x = checkpoint.checkpoint(self.forward_part1, x, mask_matrix)\n",
    "        else:\n",
    "            x = self.forward_part1(x, mask_matrix)\n",
    "        \n",
    "        ## print(\"Shape after forward_part1:\", x.shape)  # Check the shape after first part of the forward pass\n",
    "        \n",
    "        x = shortcut + self.drop_path(x)\n",
    "\n",
    "        if self.use_checkpoint:\n",
    "            x = x + checkpoint.checkpoint(self.forward_part2, x)\n",
    "        else:\n",
    "            x = x + self.forward_part2(x)\n",
    "        \n",
    "        ## print(\"Final shape after all layers:\", x.shape)  # Check the final output shape\n",
    "\n",
    "        return x\n"
   ]
  },
  {
   "cell_type": "markdown",
   "metadata": {},
   "source": [
    "#### Train my model"
   ]
  },
  {
   "cell_type": "code",
   "execution_count": 61,
   "metadata": {},
   "outputs": [
    {
     "name": "stderr",
     "output_type": "stream",
     "text": [
      "Epoch 1/5:   0%|          | 0/43 [00:00<?, ?batch/s]/Users/eleanorbolton/anaconda3/lib/python3.11/site-packages/torchio/transforms/augmentation/spatial/random_elastic_deformation.py:303: RuntimeWarning: The maximum displacement is larger than the coarse grid spacing for dimensions: [0], so folding may occur. Choose fewer control points or a smaller maximum displacement\n",
      "  self.parse_free_form_transform(\n",
      "Epoch 1/5:   2%|▏         | 1/43 [01:55<1:20:40, 115.26s/batch, Loss=0.131]INFO:swin_transformer_3d:Epoch [1/5], Step [1/43], Loss: 0.1314\n"
     ]
    },
    {
     "name": "stdout",
     "output_type": "stream",
     "text": [
      "Input x_size: (1, 2, 98)\n",
      "Initial window_size: (1, 2, 14)\n",
      "Initial shift_size: (0, 0, 0)\n",
      "Input shape: torch.Size([28, 28, 98])\n",
      "Shape after qkv linear layer: torch.Size([28, 28, 294])\n"
     ]
    },
    {
     "name": "stderr",
     "output_type": "stream",
     "text": [
      "Epoch 1/5:   5%|▍         | 2/43 [02:45<52:36, 77.00s/batch, Loss=0.125]   "
     ]
    },
    {
     "name": "stdout",
     "output_type": "stream",
     "text": [
      "Input x_size: (1, 2, 98)\n",
      "Initial window_size: (1, 2, 14)\n",
      "Initial shift_size: (0, 0, 0)\n",
      "Input shape: torch.Size([28, 28, 98])\n",
      "Shape after qkv linear layer: torch.Size([28, 28, 294])\n"
     ]
    },
    {
     "name": "stderr",
     "output_type": "stream",
     "text": [
      "Epoch 1/5:   7%|▋         | 3/43 [02:49<28:59, 43.48s/batch, Loss=0.12] "
     ]
    },
    {
     "name": "stdout",
     "output_type": "stream",
     "text": [
      "Input x_size: (1, 2, 98)\n",
      "Initial window_size: (1, 2, 14)\n",
      "Initial shift_size: (0, 0, 0)\n",
      "Input shape: torch.Size([28, 28, 98])\n",
      "Shape after qkv linear layer: torch.Size([28, 28, 294])\n"
     ]
    },
    {
     "name": "stderr",
     "output_type": "stream",
     "text": [
      "Epoch 1/5:   9%|▉         | 4/43 [02:53<18:11, 27.99s/batch, Loss=0.109]"
     ]
    },
    {
     "name": "stdout",
     "output_type": "stream",
     "text": [
      "Input x_size: (1, 2, 98)\n",
      "Initial window_size: (1, 2, 14)\n",
      "Initial shift_size: (0, 0, 0)\n",
      "Input shape: torch.Size([28, 28, 98])\n",
      "Shape after qkv linear layer: torch.Size([28, 28, 294])\n",
      "Input x_size: (1, 2, 98)\n",
      "Initial window_size: (1, 2, 14)\n",
      "Initial shift_size: (0, 0, 0)\n",
      "Input shape: torch.Size([28, 28, 98])\n",
      "Shape after qkv linear layer: torch.Size([28, 28, 294])\n"
     ]
    },
    {
     "name": "stderr",
     "output_type": "stream",
     "text": [
      "Epoch 1/5:  14%|█▍        | 6/43 [04:28<25:27, 41.27s/batch, Loss=0.111]"
     ]
    },
    {
     "name": "stdout",
     "output_type": "stream",
     "text": [
      "Input x_size: (1, 2, 98)\n",
      "Initial window_size: (1, 2, 14)\n",
      "Initial shift_size: (0, 0, 0)\n",
      "Input shape: torch.Size([28, 28, 98])\n",
      "Shape after qkv linear layer: torch.Size([28, 28, 294])\n"
     ]
    },
    {
     "name": "stderr",
     "output_type": "stream",
     "text": [
      "Epoch 1/5:  16%|█▋        | 7/43 [04:52<21:17, 35.49s/batch, Loss=0.105]"
     ]
    },
    {
     "name": "stdout",
     "output_type": "stream",
     "text": [
      "Input x_size: (1, 2, 98)\n",
      "Initial window_size: (1, 2, 14)\n",
      "Initial shift_size: (0, 0, 0)\n",
      "Input shape: torch.Size([28, 28, 98])\n",
      "Shape after qkv linear layer: torch.Size([28, 28, 294])\n"
     ]
    },
    {
     "name": "stderr",
     "output_type": "stream",
     "text": [
      "Epoch 1/5:  19%|█▊        | 8/43 [06:15<29:32, 50.65s/batch, Loss=0.0852]"
     ]
    },
    {
     "name": "stdout",
     "output_type": "stream",
     "text": [
      "Input x_size: (1, 2, 98)\n",
      "Initial window_size: (1, 2, 14)\n",
      "Initial shift_size: (0, 0, 0)\n",
      "Input shape: torch.Size([28, 28, 98])\n",
      "Shape after qkv linear layer: torch.Size([28, 28, 294])\n"
     ]
    },
    {
     "name": "stderr",
     "output_type": "stream",
     "text": [
      "Epoch 1/5:  21%|██        | 9/43 [07:47<35:56, 63.43s/batch, Loss=0.099] "
     ]
    },
    {
     "name": "stdout",
     "output_type": "stream",
     "text": [
      "Input x_size: (1, 2, 98)\n",
      "Initial window_size: (1, 2, 14)\n",
      "Initial shift_size: (0, 0, 0)\n",
      "Input shape: torch.Size([28, 28, 98])\n",
      "Shape after qkv linear layer: torch.Size([28, 28, 294])\n"
     ]
    },
    {
     "name": "stderr",
     "output_type": "stream",
     "text": [
      "Epoch 1/5:  23%|██▎       | 10/43 [08:18<29:29, 53.63s/batch, Loss=0.107]"
     ]
    },
    {
     "name": "stdout",
     "output_type": "stream",
     "text": [
      "Input x_size: (1, 2, 98)\n",
      "Initial window_size: (1, 2, 14)\n",
      "Initial shift_size: (0, 0, 0)\n",
      "Input shape: torch.Size([28, 28, 98])\n",
      "Shape after qkv linear layer: torch.Size([28, 28, 294])\n"
     ]
    },
    {
     "name": "stderr",
     "output_type": "stream",
     "text": [
      "Epoch 1/5:  26%|██▌       | 11/43 [08:59<26:34, 49.84s/batch, Loss=0.0902]INFO:swin_transformer_3d:Epoch [1/5], Step [11/43], Loss: 0.0902\n"
     ]
    },
    {
     "name": "stdout",
     "output_type": "stream",
     "text": [
      "Input x_size: (1, 2, 98)\n",
      "Initial window_size: (1, 2, 14)\n",
      "Initial shift_size: (0, 0, 0)\n",
      "Input shape: torch.Size([28, 28, 98])\n",
      "Shape after qkv linear layer: torch.Size([28, 28, 294])\n"
     ]
    },
    {
     "name": "stderr",
     "output_type": "stream",
     "text": [
      "Epoch 1/5:  28%|██▊       | 12/43 [09:03<18:25, 35.65s/batch, Loss=0.0969]"
     ]
    },
    {
     "name": "stdout",
     "output_type": "stream",
     "text": [
      "Input x_size: (1, 2, 98)\n",
      "Initial window_size: (1, 2, 14)\n",
      "Initial shift_size: (0, 0, 0)\n",
      "Input shape: torch.Size([28, 28, 98])\n",
      "Shape after qkv linear layer: torch.Size([28, 28, 294])\n"
     ]
    },
    {
     "name": "stderr",
     "output_type": "stream",
     "text": [
      "Epoch 1/5:  30%|███       | 13/43 [09:06<12:55, 25.83s/batch, Loss=0.102] "
     ]
    },
    {
     "name": "stdout",
     "output_type": "stream",
     "text": [
      "Input x_size: (1, 2, 98)\n",
      "Initial window_size: (1, 2, 14)\n",
      "Initial shift_size: (0, 0, 0)\n",
      "Input shape: torch.Size([28, 28, 98])\n",
      "Shape after qkv linear layer: torch.Size([28, 28, 294])\n"
     ]
    },
    {
     "name": "stderr",
     "output_type": "stream",
     "text": [
      "Epoch 1/5:  33%|███▎      | 14/43 [09:10<09:14, 19.12s/batch, Loss=0.0717]"
     ]
    },
    {
     "name": "stdout",
     "output_type": "stream",
     "text": [
      "Input x_size: (1, 2, 98)\n",
      "Initial window_size: (1, 2, 14)\n",
      "Initial shift_size: (0, 0, 0)\n",
      "Input shape: torch.Size([28, 28, 98])\n",
      "Shape after qkv linear layer: torch.Size([28, 28, 294])\n"
     ]
    },
    {
     "name": "stderr",
     "output_type": "stream",
     "text": [
      "Epoch 1/5:  35%|███▍      | 15/43 [09:12<06:30, 13.96s/batch, Loss=0.0804]"
     ]
    },
    {
     "name": "stdout",
     "output_type": "stream",
     "text": [
      "Input x_size: (1, 2, 98)\n",
      "Initial window_size: (1, 2, 14)\n",
      "Initial shift_size: (0, 0, 0)\n",
      "Input shape: torch.Size([28, 28, 98])\n",
      "Shape after qkv linear layer: torch.Size([28, 28, 294])\n",
      "Input x_size: (1, 2, 98)\n",
      "Initial window_size: (1, 2, 14)\n",
      "Initial shift_size: (0, 0, 0)\n",
      "Input shape: torch.Size([28, 28, 98])\n",
      "Shape after qkv linear layer: torch.Size([28, 28, 294])\n"
     ]
    },
    {
     "name": "stderr",
     "output_type": "stream",
     "text": [
      "Epoch 1/5:  37%|███▋      | 16/43 [11:13<20:47, 46.22s/batch, Loss=0.0669]"
     ]
    },
    {
     "name": "stdout",
     "output_type": "stream",
     "text": [
      "Input x_size: (1, 2, 98)\n",
      "Initial window_size: (1, 2, 14)\n",
      "Initial shift_size: (0, 0, 0)\n",
      "Input shape: torch.Size([28, 28, 98])\n",
      "Shape after qkv linear layer: torch.Size([28, 28, 294])\n"
     ]
    },
    {
     "name": "stderr",
     "output_type": "stream",
     "text": [
      "Epoch 1/5:  40%|███▉      | 17/43 [11:16<14:27, 33.36s/batch, Loss=0.0645]"
     ]
    },
    {
     "name": "stdout",
     "output_type": "stream",
     "text": [
      "Input x_size: (1, 2, 98)\n",
      "Initial window_size: (1, 2, 14)\n",
      "Initial shift_size: (0, 0, 0)\n",
      "Input shape: torch.Size([28, 28, 98])\n",
      "Shape after qkv linear layer: torch.Size([28, 28, 294])\n"
     ]
    },
    {
     "name": "stderr",
     "output_type": "stream",
     "text": [
      "Epoch 1/5:  42%|████▏     | 18/43 [11:45<13:21, 32.07s/batch, Loss=0.0708]"
     ]
    },
    {
     "name": "stdout",
     "output_type": "stream",
     "text": [
      "Input x_size: (1, 2, 98)\n",
      "Initial window_size: (1, 2, 14)\n",
      "Initial shift_size: (0, 0, 0)\n",
      "Input shape: torch.Size([28, 28, 98])\n",
      "Shape after qkv linear layer: torch.Size([28, 28, 294])\n"
     ]
    },
    {
     "name": "stderr",
     "output_type": "stream",
     "text": [
      "Epoch 1/5:  47%|████▋     | 20/43 [13:38<17:51, 46.57s/batch, Loss=0.0708]"
     ]
    },
    {
     "name": "stdout",
     "output_type": "stream",
     "text": [
      "Input x_size: (1, 2, 98)\n",
      "Initial window_size: (1, 2, 14)\n",
      "Initial shift_size: (0, 0, 0)\n",
      "Input shape: torch.Size([28, 28, 98])\n",
      "Shape after qkv linear layer: torch.Size([28, 28, 294])\n"
     ]
    },
    {
     "name": "stderr",
     "output_type": "stream",
     "text": [
      "Epoch 1/5:  49%|████▉     | 21/43 [15:02<21:08, 57.65s/batch, Loss=0.0659]INFO:swin_transformer_3d:Epoch [1/5], Step [21/43], Loss: 0.0659\n"
     ]
    },
    {
     "name": "stdout",
     "output_type": "stream",
     "text": [
      "Input x_size: (1, 2, 98)\n",
      "Initial window_size: (1, 2, 14)\n",
      "Initial shift_size: (0, 0, 0)\n",
      "Input shape: torch.Size([28, 28, 98])\n",
      "Shape after qkv linear layer: torch.Size([28, 28, 294])\n"
     ]
    },
    {
     "name": "stderr",
     "output_type": "stream",
     "text": [
      "Epoch 1/5:  51%|█████     | 22/43 [15:05<14:30, 41.43s/batch, Loss=0.0645]"
     ]
    },
    {
     "name": "stdout",
     "output_type": "stream",
     "text": [
      "Input x_size: (1, 2, 98)\n",
      "Initial window_size: (1, 2, 14)\n",
      "Initial shift_size: (0, 0, 0)\n",
      "Input shape: torch.Size([28, 28, 98])\n",
      "Shape after qkv linear layer: torch.Size([28, 28, 294])\n"
     ]
    },
    {
     "name": "stderr",
     "output_type": "stream",
     "text": [
      "Epoch 1/5:  53%|█████▎    | 23/43 [15:09<10:00, 30.01s/batch, Loss=0.0554]"
     ]
    },
    {
     "name": "stdout",
     "output_type": "stream",
     "text": [
      "Input x_size: (1, 2, 98)\n",
      "Initial window_size: (1, 2, 14)\n",
      "Initial shift_size: (0, 0, 0)\n",
      "Input shape: torch.Size([28, 28, 98])\n",
      "Shape after qkv linear layer: torch.Size([28, 28, 294])\n"
     ]
    },
    {
     "name": "stderr",
     "output_type": "stream",
     "text": [
      "Epoch 1/5:  56%|█████▌    | 24/43 [15:32<08:52, 28.05s/batch, Loss=0.0579]"
     ]
    },
    {
     "name": "stdout",
     "output_type": "stream",
     "text": [
      "Input x_size: (1, 2, 98)\n",
      "Initial window_size: (1, 2, 14)\n",
      "Initial shift_size: (0, 0, 0)\n",
      "Input shape: torch.Size([28, 28, 98])\n",
      "Shape after qkv linear layer: torch.Size([28, 28, 294])\n"
     ]
    },
    {
     "name": "stderr",
     "output_type": "stream",
     "text": [
      "Epoch 1/5:  58%|█████▊    | 25/43 [15:36<06:12, 20.69s/batch, Loss=0.0533]"
     ]
    },
    {
     "name": "stdout",
     "output_type": "stream",
     "text": [
      "Input x_size: (1, 2, 98)\n",
      "Initial window_size: (1, 2, 14)\n",
      "Initial shift_size: (0, 0, 0)\n",
      "Input shape: torch.Size([28, 28, 98])\n",
      "Shape after qkv linear layer: torch.Size([28, 28, 294])\n",
      "Input x_size: (1, 2, 98)\n",
      "Initial window_size: (1, 2, 14)\n",
      "Initial shift_size: (0, 0, 0)\n",
      "Input shape: torch.Size([28, 28, 98])\n",
      "Shape after qkv linear layer: torch.Size([28, 28, 294])\n"
     ]
    },
    {
     "name": "stderr",
     "output_type": "stream",
     "text": [
      "Epoch 1/5:  60%|██████    | 26/43 [16:14<07:21, 25.97s/batch, Loss=0.059] "
     ]
    },
    {
     "name": "stdout",
     "output_type": "stream",
     "text": [
      "Input x_size: (1, 2, 98)\n",
      "Initial window_size: (1, 2, 14)\n",
      "Initial shift_size: (0, 0, 0)\n",
      "Input shape: torch.Size([28, 28, 98])\n",
      "Shape after qkv linear layer: torch.Size([28, 28, 294])\n"
     ]
    },
    {
     "name": "stderr",
     "output_type": "stream",
     "text": [
      "Epoch 1/5:  65%|██████▌   | 28/43 [18:57<15:19, 61.32s/batch, Loss=0.0575]"
     ]
    },
    {
     "name": "stdout",
     "output_type": "stream",
     "text": [
      "Input x_size: (1, 2, 98)\n",
      "Initial window_size: (1, 2, 14)\n",
      "Initial shift_size: (0, 0, 0)\n",
      "Input shape: torch.Size([28, 28, 98])\n",
      "Shape after qkv linear layer: torch.Size([28, 28, 294])\n"
     ]
    },
    {
     "name": "stderr",
     "output_type": "stream",
     "text": [
      "Epoch 1/5:  67%|██████▋   | 29/43 [20:01<14:31, 62.28s/batch, Loss=0.0528]"
     ]
    },
    {
     "name": "stdout",
     "output_type": "stream",
     "text": [
      "Input x_size: (1, 2, 98)\n",
      "Initial window_size: (1, 2, 14)\n",
      "Initial shift_size: (0, 0, 0)\n",
      "Input shape: torch.Size([28, 28, 98])\n",
      "Shape after qkv linear layer: torch.Size([28, 28, 294])\n",
      "Error reading /Users/eleanorbolton/Library/CloudStorage/OneDrive-UniversityofLeeds/t1_vibe_we_hand_subset/CCP_485/2ffb0f83f7/t1_vibe_we/1.3.12.2.1107.5.2.36.40258.2016092211142500015427.DCM: File is missing DICOM File Meta Information header or the 'DICM' prefix is missing from the header. Use force=True to force reading.\n",
      "Input x_size: (1, 2, 98)\n",
      "Initial window_size: (1, 2, 14)\n",
      "Initial shift_size: (0, 0, 0)\n",
      "Input shape: torch.Size([28, 28, 98])\n",
      "Shape after qkv linear layer: torch.Size([28, 28, 294])\n"
     ]
    },
    {
     "name": "stderr",
     "output_type": "stream",
     "text": [
      "Epoch 1/5:  70%|██████▉   | 30/43 [21:44<16:06, 74.34s/batch, Loss=0.0513]"
     ]
    },
    {
     "name": "stdout",
     "output_type": "stream",
     "text": [
      "Input x_size: (1, 2, 98)\n",
      "Initial window_size: (1, 2, 14)\n",
      "Initial shift_size: (0, 0, 0)\n",
      "Input shape: torch.Size([28, 28, 98])\n",
      "Shape after qkv linear layer: torch.Size([28, 28, 294])\n"
     ]
    },
    {
     "name": "stderr",
     "output_type": "stream",
     "text": [
      "Epoch 1/5:  72%|███████▏  | 31/43 [23:53<18:09, 90.80s/batch, Loss=0.0531]INFO:swin_transformer_3d:Epoch [1/5], Step [31/43], Loss: 0.0531\n",
      "Epoch 1/5:  74%|███████▍  | 32/43 [24:28<13:34, 74.06s/batch, Loss=0.0483]"
     ]
    },
    {
     "name": "stdout",
     "output_type": "stream",
     "text": [
      "Input x_size: (1, 2, 98)\n",
      "Initial window_size: (1, 2, 14)\n",
      "Initial shift_size: (0, 0, 0)\n",
      "Input shape: torch.Size([28, 28, 98])\n",
      "Shape after qkv linear layer: torch.Size([28, 28, 294])\n"
     ]
    },
    {
     "name": "stderr",
     "output_type": "stream",
     "text": [
      "Epoch 1/5:  77%|███████▋  | 33/43 [24:32<08:50, 53.00s/batch, Loss=0.0441]"
     ]
    },
    {
     "name": "stdout",
     "output_type": "stream",
     "text": [
      "Input x_size: (1, 2, 98)\n",
      "Initial window_size: (1, 2, 14)\n",
      "Initial shift_size: (0, 0, 0)\n",
      "Input shape: torch.Size([28, 28, 98])\n",
      "Shape after qkv linear layer: torch.Size([28, 28, 294])\n"
     ]
    },
    {
     "name": "stderr",
     "output_type": "stream",
     "text": [
      "Epoch 1/5:  79%|███████▉  | 34/43 [24:36<05:45, 38.37s/batch, Loss=0.047] "
     ]
    },
    {
     "name": "stdout",
     "output_type": "stream",
     "text": [
      "Input x_size: (1, 2, 98)\n",
      "Initial window_size: (1, 2, 14)\n",
      "Initial shift_size: (0, 0, 0)\n",
      "Input shape: torch.Size([28, 28, 98])\n",
      "Shape after qkv linear layer: torch.Size([28, 28, 294])\n"
     ]
    },
    {
     "name": "stderr",
     "output_type": "stream",
     "text": [
      "Epoch 1/5:  81%|████████▏ | 35/43 [24:40<03:43, 27.95s/batch, Loss=0.0519]"
     ]
    },
    {
     "name": "stdout",
     "output_type": "stream",
     "text": [
      "Input x_size: (1, 2, 98)\n",
      "Initial window_size: (1, 2, 14)\n",
      "Initial shift_size: (0, 0, 0)\n",
      "Input shape: torch.Size([28, 28, 98])\n",
      "Shape after qkv linear layer: torch.Size([28, 28, 294])\n"
     ]
    },
    {
     "name": "stderr",
     "output_type": "stream",
     "text": [
      "Epoch 1/5:  84%|████████▎ | 36/43 [24:42<02:21, 20.25s/batch, Loss=0.0477]"
     ]
    },
    {
     "name": "stdout",
     "output_type": "stream",
     "text": [
      "Input x_size: (1, 2, 98)\n",
      "Initial window_size: (1, 2, 14)\n",
      "Initial shift_size: (0, 0, 0)\n",
      "Input shape: torch.Size([28, 28, 98])\n",
      "Shape after qkv linear layer: torch.Size([28, 28, 294])\n"
     ]
    },
    {
     "name": "stderr",
     "output_type": "stream",
     "text": [
      "Epoch 1/5:  86%|████████▌ | 37/43 [26:00<03:46, 37.68s/batch, Loss=0.038] "
     ]
    },
    {
     "name": "stdout",
     "output_type": "stream",
     "text": [
      "Input x_size: (1, 2, 98)\n",
      "Initial window_size: (1, 2, 14)\n",
      "Initial shift_size: (0, 0, 0)\n",
      "Input shape: torch.Size([28, 28, 98])\n",
      "Shape after qkv linear layer: torch.Size([28, 28, 294])\n"
     ]
    },
    {
     "name": "stderr",
     "output_type": "stream",
     "text": [
      "Epoch 1/5:  88%|████████▊ | 38/43 [26:04<02:17, 27.52s/batch, Loss=0.0476]"
     ]
    },
    {
     "name": "stdout",
     "output_type": "stream",
     "text": [
      "Input x_size: (1, 2, 98)\n",
      "Initial window_size: (1, 2, 14)\n",
      "Initial shift_size: (0, 0, 0)\n",
      "Input shape: torch.Size([28, 28, 98])\n",
      "Shape after qkv linear layer: torch.Size([28, 28, 294])\n"
     ]
    },
    {
     "name": "stderr",
     "output_type": "stream",
     "text": [
      "Epoch 1/5:  91%|█████████ | 39/43 [26:32<01:50, 27.72s/batch, Loss=0.0465]"
     ]
    },
    {
     "name": "stdout",
     "output_type": "stream",
     "text": [
      "Input x_size: (1, 2, 98)\n",
      "Initial window_size: (1, 2, 14)\n",
      "Initial shift_size: (0, 0, 0)\n",
      "Input shape: torch.Size([28, 28, 98])\n",
      "Shape after qkv linear layer: torch.Size([28, 28, 294])\n",
      "Input x_size: (1, 2, 98)\n",
      "Initial window_size: (1, 2, 14)\n",
      "Initial shift_size: (0, 0, 0)\n",
      "Input shape: torch.Size([28, 28, 98])\n",
      "Shape after qkv linear layer: torch.Size([28, 28, 294])\n"
     ]
    },
    {
     "name": "stderr",
     "output_type": "stream",
     "text": [
      "Epoch 1/5:  95%|█████████▌| 41/43 [30:08<02:18, 69.15s/batch, Loss=0.0458]INFO:swin_transformer_3d:Epoch [1/5], Step [41/43], Loss: 0.0458\n"
     ]
    },
    {
     "name": "stdout",
     "output_type": "stream",
     "text": [
      "Input x_size: (1, 2, 98)\n",
      "Initial window_size: (1, 2, 14)\n",
      "Initial shift_size: (0, 0, 0)\n",
      "Input shape: torch.Size([28, 28, 98])\n",
      "Shape after qkv linear layer: torch.Size([28, 28, 294])\n"
     ]
    },
    {
     "name": "stderr",
     "output_type": "stream",
     "text": [
      "Epoch 1/5:  98%|█████████▊| 42/43 [30:12<00:49, 49.41s/batch, Loss=0.0418]"
     ]
    },
    {
     "name": "stdout",
     "output_type": "stream",
     "text": [
      "Input x_size: (1, 2, 98)\n",
      "Initial window_size: (1, 2, 14)\n",
      "Initial shift_size: (0, 0, 0)\n",
      "Input shape: torch.Size([28, 28, 98])\n",
      "Shape after qkv linear layer: torch.Size([28, 28, 294])\n",
      "Input x_size: (1, 2, 98)\n",
      "Initial window_size: (1, 2, 14)\n",
      "Initial shift_size: (0, 0, 0)\n",
      "Input shape: torch.Size([28, 28, 98])\n",
      "Shape after qkv linear layer: torch.Size([28, 28, 294])\n"
     ]
    },
    {
     "name": "stderr",
     "output_type": "stream",
     "text": [
      "Epoch 1/5: 100%|██████████| 43/43 [30:16<00:00, 42.25s/batch, Loss=0.0458]\n",
      "INFO:swin_transformer_3d:Epoch [1/5], Average Loss: 0.0712\n",
      "INFO:swin_transformer_3d:Epoch [1/5] completed in 1816.65 seconds\n",
      "Epoch 2/5:   0%|          | 0/43 [00:00<?, ?batch/s]"
     ]
    },
    {
     "name": "stdout",
     "output_type": "stream",
     "text": [
      "Input x_size: (1, 2, 98)\n",
      "Initial window_size: (1, 2, 14)\n",
      "Initial shift_size: (0, 0, 0)\n",
      "Input shape: torch.Size([28, 28, 98])\n",
      "Shape after qkv linear layer: torch.Size([28, 28, 294])\n"
     ]
    },
    {
     "name": "stderr",
     "output_type": "stream",
     "text": [
      "Epoch 2/5:   2%|▏         | 1/43 [00:02<02:00,  2.86s/batch, Loss=0.0395]INFO:swin_transformer_3d:Epoch [2/5], Step [1/43], Loss: 0.0395\n"
     ]
    },
    {
     "name": "stdout",
     "output_type": "stream",
     "text": [
      "Input x_size: (1, 2, 98)\n",
      "Initial window_size: (1, 2, 14)\n",
      "Initial shift_size: (0, 0, 0)\n",
      "Input shape: torch.Size([28, 28, 98])\n",
      "Shape after qkv linear layer: torch.Size([28, 28, 294])\n"
     ]
    },
    {
     "name": "stderr",
     "output_type": "stream",
     "text": [
      "Epoch 2/5:   7%|▋         | 3/43 [00:10<02:26,  3.66s/batch, Loss=0.0343]"
     ]
    },
    {
     "name": "stdout",
     "output_type": "stream",
     "text": [
      "Input x_size: (1, 2, 98)\n",
      "Initial window_size: (1, 2, 14)\n",
      "Initial shift_size: (0, 0, 0)\n",
      "Input shape: torch.Size([28, 28, 98])\n",
      "Shape after qkv linear layer: torch.Size([28, 28, 294])\n"
     ]
    },
    {
     "name": "stderr",
     "output_type": "stream",
     "text": [
      "Epoch 2/5:   9%|▉         | 4/43 [00:12<02:01,  3.12s/batch, Loss=0.0336]"
     ]
    },
    {
     "name": "stdout",
     "output_type": "stream",
     "text": [
      "Input x_size: (1, 2, 98)\n",
      "Initial window_size: (1, 2, 14)\n",
      "Initial shift_size: (0, 0, 0)\n",
      "Input shape: torch.Size([28, 28, 98])\n",
      "Shape after qkv linear layer: torch.Size([28, 28, 294])\n"
     ]
    },
    {
     "name": "stderr",
     "output_type": "stream",
     "text": [
      "Epoch 2/5:  12%|█▏        | 5/43 [00:16<02:10,  3.44s/batch, Loss=0.0362]"
     ]
    },
    {
     "name": "stdout",
     "output_type": "stream",
     "text": [
      "Input x_size: (1, 2, 98)\n",
      "Initial window_size: (1, 2, 14)\n",
      "Initial shift_size: (0, 0, 0)\n",
      "Input shape: torch.Size([28, 28, 98])\n",
      "Shape after qkv linear layer: torch.Size([28, 28, 294])\n"
     ]
    },
    {
     "name": "stderr",
     "output_type": "stream",
     "text": [
      "Epoch 2/5:  14%|█▍        | 6/43 [00:18<01:49,  2.97s/batch, Loss=0.0358]"
     ]
    },
    {
     "name": "stdout",
     "output_type": "stream",
     "text": [
      "Input x_size: (1, 2, 98)\n",
      "Initial window_size: (1, 2, 14)\n",
      "Initial shift_size: (0, 0, 0)\n",
      "Input shape: torch.Size([28, 28, 98])\n",
      "Shape after qkv linear layer: torch.Size([28, 28, 294])\n"
     ]
    },
    {
     "name": "stderr",
     "output_type": "stream",
     "text": [
      "Epoch 2/5:  16%|█▋        | 7/43 [00:22<01:51,  3.09s/batch, Loss=0.0325]"
     ]
    },
    {
     "name": "stdout",
     "output_type": "stream",
     "text": [
      "Input x_size: (1, 2, 98)\n",
      "Initial window_size: (1, 2, 14)\n",
      "Initial shift_size: (0, 0, 0)\n",
      "Input shape: torch.Size([28, 28, 98])\n",
      "Shape after qkv linear layer: torch.Size([28, 28, 294])\n"
     ]
    },
    {
     "name": "stderr",
     "output_type": "stream",
     "text": [
      "Epoch 2/5:  19%|█▊        | 8/43 [00:25<01:47,  3.08s/batch, Loss=0.0391]"
     ]
    },
    {
     "name": "stdout",
     "output_type": "stream",
     "text": [
      "Input x_size: (1, 2, 98)\n",
      "Initial window_size: (1, 2, 14)\n",
      "Initial shift_size: (0, 0, 0)\n",
      "Input shape: torch.Size([28, 28, 98])\n",
      "Shape after qkv linear layer: torch.Size([28, 28, 294])\n",
      "Input x_size: (1, 2, 98)\n",
      "Initial window_size: (1, 2, 14)\n",
      "Initial shift_size: (0, 0, 0)\n",
      "Input shape: torch.Size([28, 28, 98])\n",
      "Shape after qkv linear layer: torch.Size([28, 28, 294])\n"
     ]
    },
    {
     "name": "stderr",
     "output_type": "stream",
     "text": [
      "Epoch 2/5:  21%|██        | 9/43 [00:27<01:39,  2.93s/batch, Loss=0.0281]"
     ]
    },
    {
     "name": "stdout",
     "output_type": "stream",
     "text": [
      "Input x_size: (1, 2, 98)\n",
      "Initial window_size: (1, 2, 14)\n",
      "Initial shift_size: (0, 0, 0)\n",
      "Input shape: torch.Size([28, 28, 98])\n",
      "Shape after qkv linear layer: torch.Size([28, 28, 294])\n"
     ]
    },
    {
     "name": "stderr",
     "output_type": "stream",
     "text": [
      "Epoch 2/5:  23%|██▎       | 10/43 [00:30<01:34,  2.86s/batch, Loss=0.0317]"
     ]
    },
    {
     "name": "stdout",
     "output_type": "stream",
     "text": [
      "Input x_size: (1, 2, 98)\n",
      "Initial window_size: (1, 2, 14)\n",
      "Initial shift_size: (0, 0, 0)\n",
      "Input shape: torch.Size([28, 28, 98])\n",
      "Shape after qkv linear layer: torch.Size([28, 28, 294])\n"
     ]
    },
    {
     "name": "stderr",
     "output_type": "stream",
     "text": [
      "Epoch 2/5:  26%|██▌       | 11/43 [00:34<01:38,  3.09s/batch, Loss=0.035] INFO:swin_transformer_3d:Epoch [2/5], Step [11/43], Loss: 0.0350\n",
      "Epoch 2/5:  28%|██▊       | 12/43 [00:36<01:33,  3.00s/batch, Loss=0.0334]"
     ]
    },
    {
     "name": "stdout",
     "output_type": "stream",
     "text": [
      "Input x_size: (1, 2, 98)\n",
      "Initial window_size: (1, 2, 14)\n",
      "Initial shift_size: (0, 0, 0)\n",
      "Input shape: torch.Size([28, 28, 98])\n",
      "Shape after qkv linear layer: torch.Size([28, 28, 294])\n"
     ]
    },
    {
     "name": "stderr",
     "output_type": "stream",
     "text": [
      "Epoch 2/5:  30%|███       | 13/43 [00:40<01:33,  3.11s/batch, Loss=0.031] "
     ]
    },
    {
     "name": "stdout",
     "output_type": "stream",
     "text": [
      "Input x_size: (1, 2, 98)\n",
      "Initial window_size: (1, 2, 14)\n",
      "Initial shift_size: (0, 0, 0)\n",
      "Input shape: torch.Size([28, 28, 98])\n",
      "Shape after qkv linear layer: torch.Size([28, 28, 294])\n"
     ]
    },
    {
     "name": "stderr",
     "output_type": "stream",
     "text": [
      "Epoch 2/5:  33%|███▎      | 14/43 [00:44<01:42,  3.53s/batch, Loss=0.0306]"
     ]
    },
    {
     "name": "stdout",
     "output_type": "stream",
     "text": [
      "Input x_size: (1, 2, 98)\n",
      "Initial window_size: (1, 2, 14)\n",
      "Initial shift_size: (0, 0, 0)\n",
      "Input shape: torch.Size([28, 28, 98])\n",
      "Shape after qkv linear layer: torch.Size([28, 28, 294])\n"
     ]
    },
    {
     "name": "stderr",
     "output_type": "stream",
     "text": [
      "Epoch 2/5:  35%|███▍      | 15/43 [00:48<01:36,  3.43s/batch, Loss=0.0331]"
     ]
    },
    {
     "name": "stdout",
     "output_type": "stream",
     "text": [
      "Input x_size: (1, 2, 98)\n",
      "Initial window_size: (1, 2, 14)\n",
      "Initial shift_size: (0, 0, 0)\n",
      "Input shape: torch.Size([28, 28, 98])\n",
      "Shape after qkv linear layer: torch.Size([28, 28, 294])\n"
     ]
    },
    {
     "name": "stderr",
     "output_type": "stream",
     "text": [
      "Epoch 2/5:  37%|███▋      | 16/43 [00:51<01:32,  3.41s/batch, Loss=0.0247]"
     ]
    },
    {
     "name": "stdout",
     "output_type": "stream",
     "text": [
      "Input x_size: (1, 2, 98)\n",
      "Initial window_size: (1, 2, 14)\n",
      "Initial shift_size: (0, 0, 0)\n",
      "Input shape: torch.Size([28, 28, 98])\n",
      "Shape after qkv linear layer: torch.Size([28, 28, 294])\n"
     ]
    },
    {
     "name": "stderr",
     "output_type": "stream",
     "text": [
      "Epoch 2/5:  40%|███▉      | 17/43 [00:54<01:26,  3.33s/batch, Loss=0.03]  "
     ]
    },
    {
     "name": "stdout",
     "output_type": "stream",
     "text": [
      "Input x_size: (1, 2, 98)\n",
      "Initial window_size: (1, 2, 14)\n",
      "Initial shift_size: (0, 0, 0)\n",
      "Input shape: torch.Size([28, 28, 98])\n",
      "Shape after qkv linear layer: torch.Size([28, 28, 294])\n",
      "Input x_size: (1, 2, 98)\n",
      "Initial window_size: (1, 2, 14)\n",
      "Initial shift_size: (0, 0, 0)\n",
      "Input shape: torch.Size([28, 28, 98])\n",
      "Shape after qkv linear layer: torch.Size([28, 28, 294])\n"
     ]
    },
    {
     "name": "stderr",
     "output_type": "stream",
     "text": [
      "Epoch 2/5:  42%|████▏     | 18/43 [00:57<01:21,  3.27s/batch, Loss=0.0359]"
     ]
    },
    {
     "name": "stdout",
     "output_type": "stream",
     "text": [
      "Input x_size: (1, 2, 98)\n",
      "Initial window_size: (1, 2, 14)\n",
      "Initial shift_size: (0, 0, 0)\n",
      "Input shape: torch.Size([28, 28, 98])\n",
      "Shape after qkv linear layer: torch.Size([28, 28, 294])\n"
     ]
    },
    {
     "name": "stderr",
     "output_type": "stream",
     "text": [
      "Epoch 2/5:  44%|████▍     | 19/43 [01:01<01:25,  3.54s/batch, Loss=0.03]  "
     ]
    },
    {
     "name": "stdout",
     "output_type": "stream",
     "text": [
      "Input x_size: (1, 2, 98)\n",
      "Initial window_size: (1, 2, 14)\n",
      "Initial shift_size: (0, 0, 0)\n",
      "Input shape: torch.Size([28, 28, 98])\n",
      "Shape after qkv linear layer: torch.Size([28, 28, 294])\n"
     ]
    },
    {
     "name": "stderr",
     "output_type": "stream",
     "text": [
      "Epoch 2/5:  49%|████▉     | 21/43 [01:09<01:22,  3.75s/batch, Loss=0.0283]INFO:swin_transformer_3d:Epoch [2/5], Step [21/43], Loss: 0.0283\n"
     ]
    },
    {
     "name": "stdout",
     "output_type": "stream",
     "text": [
      "Input x_size: (1, 2, 98)\n",
      "Initial window_size: (1, 2, 14)\n",
      "Initial shift_size: (0, 0, 0)\n",
      "Input shape: torch.Size([28, 28, 98])\n",
      "Shape after qkv linear layer: torch.Size([28, 28, 294])\n"
     ]
    },
    {
     "name": "stderr",
     "output_type": "stream",
     "text": [
      "Epoch 2/5:  51%|█████     | 22/43 [01:11<01:07,  3.22s/batch, Loss=0.0276]"
     ]
    },
    {
     "name": "stdout",
     "output_type": "stream",
     "text": [
      "Input x_size: (1, 2, 98)\n",
      "Initial window_size: (1, 2, 14)\n",
      "Initial shift_size: (0, 0, 0)\n",
      "Input shape: torch.Size([28, 28, 98])\n",
      "Shape after qkv linear layer: torch.Size([28, 28, 294])\n"
     ]
    },
    {
     "name": "stderr",
     "output_type": "stream",
     "text": [
      "Epoch 2/5:  53%|█████▎    | 23/43 [01:14<01:03,  3.17s/batch, Loss=0.0288]"
     ]
    },
    {
     "name": "stdout",
     "output_type": "stream",
     "text": [
      "Input x_size: (1, 2, 98)\n",
      "Initial window_size: (1, 2, 14)\n",
      "Initial shift_size: (0, 0, 0)\n",
      "Input shape: torch.Size([28, 28, 98])\n",
      "Shape after qkv linear layer: torch.Size([28, 28, 294])\n"
     ]
    },
    {
     "name": "stderr",
     "output_type": "stream",
     "text": [
      "Epoch 2/5:  56%|█████▌    | 24/43 [01:17<00:59,  3.14s/batch, Loss=0.0279]"
     ]
    },
    {
     "name": "stdout",
     "output_type": "stream",
     "text": [
      "Input x_size: (1, 2, 98)\n",
      "Initial window_size: (1, 2, 14)\n",
      "Initial shift_size: (0, 0, 0)\n",
      "Input shape: torch.Size([28, 28, 98])\n",
      "Shape after qkv linear layer: torch.Size([28, 28, 294])\n"
     ]
    },
    {
     "name": "stderr",
     "output_type": "stream",
     "text": [
      "Epoch 2/5:  58%|█████▊    | 25/43 [01:19<00:50,  2.82s/batch, Loss=0.0237]"
     ]
    },
    {
     "name": "stdout",
     "output_type": "stream",
     "text": [
      "Input x_size: (1, 2, 98)\n",
      "Initial window_size: (1, 2, 14)\n",
      "Initial shift_size: (0, 0, 0)\n",
      "Input shape: torch.Size([28, 28, 98])\n",
      "Shape after qkv linear layer: torch.Size([28, 28, 294])\n"
     ]
    },
    {
     "name": "stderr",
     "output_type": "stream",
     "text": [
      "Epoch 2/5:  60%|██████    | 26/43 [01:23<00:49,  2.91s/batch, Loss=0.031] "
     ]
    },
    {
     "name": "stdout",
     "output_type": "stream",
     "text": [
      "Input x_size: (1, 2, 98)\n",
      "Initial window_size: (1, 2, 14)\n",
      "Initial shift_size: (0, 0, 0)\n",
      "Input shape: torch.Size([28, 28, 98])\n",
      "Shape after qkv linear layer: torch.Size([28, 28, 294])\n"
     ]
    },
    {
     "name": "stderr",
     "output_type": "stream",
     "text": [
      "Epoch 2/5:  63%|██████▎   | 27/43 [01:25<00:43,  2.75s/batch, Loss=0.0281]"
     ]
    },
    {
     "name": "stdout",
     "output_type": "stream",
     "text": [
      "Input x_size: (1, 2, 98)\n",
      "Initial window_size: (1, 2, 14)\n",
      "Initial shift_size: (0, 0, 0)\n",
      "Input shape: torch.Size([28, 28, 98])\n",
      "Shape after qkv linear layer: torch.Size([28, 28, 294])\n",
      "Input x_size: (1, 2, 98)\n",
      "Initial window_size: (1, 2, 14)\n",
      "Initial shift_size: (0, 0, 0)\n",
      "Input shape: torch.Size([28, 28, 98])\n",
      "Shape after qkv linear layer: torch.Size([28, 28, 294])\n"
     ]
    },
    {
     "name": "stderr",
     "output_type": "stream",
     "text": [
      "Epoch 2/5:  67%|██████▋   | 29/43 [01:33<00:45,  3.25s/batch, Loss=0.0256]"
     ]
    },
    {
     "name": "stdout",
     "output_type": "stream",
     "text": [
      "Input x_size: (1, 2, 98)\n",
      "Initial window_size: (1, 2, 14)\n",
      "Initial shift_size: (0, 0, 0)\n",
      "Input shape: torch.Size([28, 28, 98])\n",
      "Shape after qkv linear layer: torch.Size([28, 28, 294])\n",
      "Input x_size: (1, 2, 98)\n",
      "Initial window_size: (1, 2, 14)\n",
      "Initial shift_size: (0, 0, 0)\n",
      "Input shape: torch.Size([28, 28, 98])\n",
      "Shape after qkv linear layer: torch.Size([28, 28, 294])\n"
     ]
    },
    {
     "name": "stderr",
     "output_type": "stream",
     "text": [
      "Epoch 2/5:  72%|███████▏  | 31/43 [01:41<00:43,  3.58s/batch, Loss=0.0223]INFO:swin_transformer_3d:Epoch [2/5], Step [31/43], Loss: 0.0223\n"
     ]
    },
    {
     "name": "stdout",
     "output_type": "stream",
     "text": [
      "Input x_size: (1, 2, 98)\n",
      "Initial window_size: (1, 2, 14)\n",
      "Initial shift_size: (0, 0, 0)\n",
      "Input shape: torch.Size([28, 28, 98])\n",
      "Shape after qkv linear layer: torch.Size([28, 28, 294])\n"
     ]
    },
    {
     "name": "stderr",
     "output_type": "stream",
     "text": [
      "Epoch 2/5:  74%|███████▍  | 32/43 [01:44<00:40,  3.67s/batch, Loss=0.0277]"
     ]
    },
    {
     "name": "stdout",
     "output_type": "stream",
     "text": [
      "Input x_size: (1, 2, 98)\n",
      "Initial window_size: (1, 2, 14)\n",
      "Initial shift_size: (0, 0, 0)\n",
      "Input shape: torch.Size([28, 28, 98])\n",
      "Shape after qkv linear layer: torch.Size([28, 28, 294])\n"
     ]
    },
    {
     "name": "stderr",
     "output_type": "stream",
     "text": [
      "Epoch 2/5:  77%|███████▋  | 33/43 [01:47<00:34,  3.41s/batch, Loss=0.0266]"
     ]
    },
    {
     "name": "stdout",
     "output_type": "stream",
     "text": [
      "Input x_size: (1, 2, 98)\n",
      "Initial window_size: (1, 2, 14)\n",
      "Initial shift_size: (0, 0, 0)\n",
      "Input shape: torch.Size([28, 28, 98])\n",
      "Shape after qkv linear layer: torch.Size([28, 28, 294])\n",
      "Input x_size: (1, 2, 98)\n",
      "Initial window_size: (1, 2, 14)\n",
      "Initial shift_size: (0, 0, 0)\n",
      "Input shape: torch.Size([28, 28, 98])\n",
      "Shape after qkv linear layer: torch.Size([28, 28, 294])\n"
     ]
    },
    {
     "name": "stderr",
     "output_type": "stream",
     "text": [
      "Epoch 2/5:  79%|███████▉  | 34/43 [01:52<00:33,  3.76s/batch, Loss=0.0284]"
     ]
    },
    {
     "name": "stdout",
     "output_type": "stream",
     "text": [
      "Error reading /Users/eleanorbolton/Library/CloudStorage/OneDrive-UniversityofLeeds/t1_vibe_we_hand_subset/CCP_485/2ffb0f83f7/t1_vibe_we/1.3.12.2.1107.5.2.36.40258.2016092211142500015427.DCM: File is missing DICOM File Meta Information header or the 'DICM' prefix is missing from the header. Use force=True to force reading.\n"
     ]
    },
    {
     "name": "stderr",
     "output_type": "stream",
     "text": [
      "Epoch 2/5:  81%|████████▏ | 35/43 [01:55<00:29,  3.72s/batch, Loss=0.0268]"
     ]
    },
    {
     "name": "stdout",
     "output_type": "stream",
     "text": [
      "Input x_size: (1, 2, 98)\n",
      "Initial window_size: (1, 2, 14)\n",
      "Initial shift_size: (0, 0, 0)\n",
      "Input shape: torch.Size([28, 28, 98])\n",
      "Shape after qkv linear layer: torch.Size([28, 28, 294])\n",
      "Input x_size: (1, 2, 98)\n",
      "Initial window_size: (1, 2, 14)\n",
      "Initial shift_size: (0, 0, 0)\n",
      "Input shape: torch.Size([28, 28, 98])\n",
      "Shape after qkv linear layer: torch.Size([28, 28, 294])\n"
     ]
    },
    {
     "name": "stderr",
     "output_type": "stream",
     "text": [
      "Epoch 2/5:  84%|████████▎ | 36/43 [02:00<00:26,  3.83s/batch, Loss=0.0255]"
     ]
    },
    {
     "name": "stdout",
     "output_type": "stream",
     "text": [
      "Input x_size: (1, 2, 98)\n",
      "Initial window_size: (1, 2, 14)\n",
      "Initial shift_size: (0, 0, 0)\n",
      "Input shape: torch.Size([28, 28, 98])\n",
      "Shape after qkv linear layer: torch.Size([28, 28, 294])\n"
     ]
    },
    {
     "name": "stderr",
     "output_type": "stream",
     "text": [
      "Epoch 2/5:  86%|████████▌ | 37/43 [02:04<00:23,  3.88s/batch, Loss=0.0221]"
     ]
    },
    {
     "name": "stdout",
     "output_type": "stream",
     "text": [
      "Input x_size: (1, 2, 98)\n",
      "Initial window_size: (1, 2, 14)\n",
      "Initial shift_size: (0, 0, 0)\n",
      "Input shape: torch.Size([28, 28, 98])\n",
      "Shape after qkv linear layer: torch.Size([28, 28, 294])\n"
     ]
    },
    {
     "name": "stderr",
     "output_type": "stream",
     "text": [
      "Epoch 2/5:  91%|█████████ | 39/43 [02:11<00:15,  3.82s/batch, Loss=0.0163]"
     ]
    },
    {
     "name": "stdout",
     "output_type": "stream",
     "text": [
      "Input x_size: (1, 2, 98)\n",
      "Initial window_size: (1, 2, 14)\n",
      "Initial shift_size: (0, 0, 0)\n",
      "Input shape: torch.Size([28, 28, 98])\n",
      "Shape after qkv linear layer: torch.Size([28, 28, 294])\n"
     ]
    },
    {
     "name": "stderr",
     "output_type": "stream",
     "text": [
      "Epoch 2/5:  93%|█████████▎| 40/43 [02:15<00:12,  4.02s/batch, Loss=0.0246]"
     ]
    },
    {
     "name": "stdout",
     "output_type": "stream",
     "text": [
      "Input x_size: (1, 2, 98)\n",
      "Initial window_size: (1, 2, 14)\n",
      "Initial shift_size: (0, 0, 0)\n",
      "Input shape: torch.Size([28, 28, 98])\n",
      "Shape after qkv linear layer: torch.Size([28, 28, 294])\n"
     ]
    },
    {
     "name": "stderr",
     "output_type": "stream",
     "text": [
      "Epoch 2/5:  95%|█████████▌| 41/43 [02:20<00:08,  4.12s/batch, Loss=0.022] INFO:swin_transformer_3d:Epoch [2/5], Step [41/43], Loss: 0.0220\n"
     ]
    },
    {
     "name": "stdout",
     "output_type": "stream",
     "text": [
      "Input x_size: (1, 2, 98)\n",
      "Initial window_size: (1, 2, 14)\n",
      "Initial shift_size: (0, 0, 0)\n",
      "Input shape: torch.Size([28, 28, 98])\n",
      "Shape after qkv linear layer: torch.Size([28, 28, 294])\n"
     ]
    },
    {
     "name": "stderr",
     "output_type": "stream",
     "text": [
      "Epoch 2/5:  98%|█████████▊| 42/43 [02:23<00:03,  3.84s/batch, Loss=0.0218]"
     ]
    },
    {
     "name": "stdout",
     "output_type": "stream",
     "text": [
      "Input x_size: (1, 2, 98)\n",
      "Initial window_size: (1, 2, 14)\n",
      "Initial shift_size: (0, 0, 0)\n",
      "Input shape: torch.Size([28, 28, 98])\n",
      "Shape after qkv linear layer: torch.Size([28, 28, 294])\n",
      "Input x_size: (1, 2, 98)\n",
      "Initial window_size: (1, 2, 14)\n",
      "Initial shift_size: (0, 0, 0)\n",
      "Input shape: torch.Size([28, 28, 98])\n",
      "Shape after qkv linear layer: torch.Size([28, 28, 294])\n"
     ]
    },
    {
     "name": "stderr",
     "output_type": "stream",
     "text": [
      "Epoch 2/5: 100%|██████████| 43/43 [02:28<00:00,  3.45s/batch, Loss=0.0221]\n",
      "INFO:swin_transformer_3d:Epoch [2/5], Average Loss: 0.0293\n",
      "INFO:swin_transformer_3d:Epoch [2/5] completed in 148.44 seconds\n",
      "Epoch 3/5:   0%|          | 0/43 [00:00<?, ?batch/s]"
     ]
    },
    {
     "name": "stdout",
     "output_type": "stream",
     "text": [
      "Input x_size: (1, 2, 98)\n",
      "Initial window_size: (1, 2, 14)\n",
      "Initial shift_size: (0, 0, 0)\n",
      "Input shape: torch.Size([28, 28, 98])\n",
      "Shape after qkv linear layer: torch.Size([28, 28, 294])\n"
     ]
    },
    {
     "name": "stderr",
     "output_type": "stream",
     "text": [
      "Epoch 3/5:   2%|▏         | 1/43 [00:02<01:45,  2.50s/batch, Loss=0.0267]INFO:swin_transformer_3d:Epoch [3/5], Step [1/43], Loss: 0.0267\n"
     ]
    },
    {
     "name": "stdout",
     "output_type": "stream",
     "text": [
      "Input x_size: (1, 2, 98)\n",
      "Initial window_size: (1, 2, 14)\n",
      "Initial shift_size: (0, 0, 0)\n",
      "Input shape: torch.Size([28, 28, 98])\n",
      "Shape after qkv linear layer: torch.Size([28, 28, 294])\n"
     ]
    },
    {
     "name": "stderr",
     "output_type": "stream",
     "text": [
      "Epoch 3/5:   7%|▋         | 3/43 [00:09<02:08,  3.21s/batch, Loss=0.0287]"
     ]
    },
    {
     "name": "stdout",
     "output_type": "stream",
     "text": [
      "Input x_size: (1, 2, 98)\n",
      "Initial window_size: (1, 2, 14)\n",
      "Initial shift_size: (0, 0, 0)\n",
      "Input shape: torch.Size([28, 28, 98])\n",
      "Shape after qkv linear layer: torch.Size([28, 28, 294])\n"
     ]
    },
    {
     "name": "stderr",
     "output_type": "stream",
     "text": [
      "Epoch 3/5:   9%|▉         | 4/43 [00:12<01:59,  3.06s/batch, Loss=0.0239]"
     ]
    },
    {
     "name": "stdout",
     "output_type": "stream",
     "text": [
      "Input x_size: (1, 2, 98)\n",
      "Initial window_size: (1, 2, 14)\n",
      "Initial shift_size: (0, 0, 0)\n",
      "Input shape: torch.Size([28, 28, 98])\n",
      "Shape after qkv linear layer: torch.Size([28, 28, 294])\n"
     ]
    },
    {
     "name": "stderr",
     "output_type": "stream",
     "text": [
      "Epoch 3/5:  12%|█▏        | 5/43 [00:13<01:33,  2.46s/batch, Loss=0.0241]"
     ]
    },
    {
     "name": "stdout",
     "output_type": "stream",
     "text": [
      "Input x_size: (1, 2, 98)\n",
      "Initial window_size: (1, 2, 14)\n",
      "Initial shift_size: (0, 0, 0)\n",
      "Input shape: torch.Size([28, 28, 98])\n",
      "Shape after qkv linear layer: torch.Size([28, 28, 294])\n"
     ]
    },
    {
     "name": "stderr",
     "output_type": "stream",
     "text": [
      "Epoch 3/5:  14%|█▍        | 6/43 [00:15<01:16,  2.08s/batch, Loss=0.0181]"
     ]
    },
    {
     "name": "stdout",
     "output_type": "stream",
     "text": [
      "Input x_size: (1, 2, 98)\n",
      "Initial window_size: (1, 2, 14)\n",
      "Initial shift_size: (0, 0, 0)\n",
      "Input shape: torch.Size([28, 28, 98])\n",
      "Shape after qkv linear layer: torch.Size([28, 28, 294])\n"
     ]
    },
    {
     "name": "stderr",
     "output_type": "stream",
     "text": [
      "Epoch 3/5:  16%|█▋        | 7/43 [00:18<01:35,  2.65s/batch, Loss=0.0169]"
     ]
    },
    {
     "name": "stdout",
     "output_type": "stream",
     "text": [
      "Input x_size: (1, 2, 98)\n",
      "Initial window_size: (1, 2, 14)\n",
      "Initial shift_size: (0, 0, 0)\n",
      "Input shape: torch.Size([28, 28, 98])\n",
      "Shape after qkv linear layer: torch.Size([28, 28, 294])\n"
     ]
    },
    {
     "name": "stderr",
     "output_type": "stream",
     "text": [
      "Epoch 3/5:  19%|█▊        | 8/43 [00:23<01:53,  3.24s/batch, Loss=0.0166]"
     ]
    },
    {
     "name": "stdout",
     "output_type": "stream",
     "text": [
      "Input x_size: (1, 2, 98)\n",
      "Initial window_size: (1, 2, 14)\n",
      "Initial shift_size: (0, 0, 0)\n",
      "Input shape: torch.Size([28, 28, 98])\n",
      "Shape after qkv linear layer: torch.Size([28, 28, 294])\n"
     ]
    },
    {
     "name": "stderr",
     "output_type": "stream",
     "text": [
      "Epoch 3/5:  21%|██        | 9/43 [00:27<02:00,  3.55s/batch, Loss=0.0164]"
     ]
    },
    {
     "name": "stdout",
     "output_type": "stream",
     "text": [
      "Input x_size: (1, 2, 98)\n",
      "Initial window_size: (1, 2, 14)\n",
      "Initial shift_size: (0, 0, 0)\n",
      "Input shape: torch.Size([28, 28, 98])\n",
      "Shape after qkv linear layer: torch.Size([28, 28, 294])\n",
      "Input x_size: (1, 2, 98)\n",
      "Initial window_size: (1, 2, 14)\n",
      "Initial shift_size: (0, 0, 0)\n",
      "Input shape: torch.Size([28, 28, 98])\n",
      "Shape after qkv linear layer: torch.Size([28, 28, 294])\n"
     ]
    },
    {
     "name": "stderr",
     "output_type": "stream",
     "text": [
      "Epoch 3/5:  23%|██▎       | 10/43 [00:31<02:04,  3.79s/batch, Loss=0.0225]"
     ]
    },
    {
     "name": "stdout",
     "output_type": "stream",
     "text": [
      "Input x_size: (1, 2, 98)\n",
      "Initial window_size: (1, 2, 14)\n",
      "Initial shift_size: (0, 0, 0)\n",
      "Input shape: torch.Size([28, 28, 98])\n",
      "Shape after qkv linear layer: torch.Size([28, 28, 294])\n"
     ]
    },
    {
     "name": "stderr",
     "output_type": "stream",
     "text": [
      "Epoch 3/5:  26%|██▌       | 11/43 [00:35<01:59,  3.73s/batch, Loss=0.0251]INFO:swin_transformer_3d:Epoch [3/5], Step [11/43], Loss: 0.0251\n",
      "Epoch 3/5:  28%|██▊       | 12/43 [00:38<01:48,  3.50s/batch, Loss=0.0268]"
     ]
    },
    {
     "name": "stdout",
     "output_type": "stream",
     "text": [
      "Input x_size: (1, 2, 98)\n",
      "Initial window_size: (1, 2, 14)\n",
      "Initial shift_size: (0, 0, 0)\n",
      "Input shape: torch.Size([28, 28, 98])\n",
      "Shape after qkv linear layer: torch.Size([28, 28, 294])\n"
     ]
    },
    {
     "name": "stderr",
     "output_type": "stream",
     "text": [
      "Epoch 3/5:  30%|███       | 13/43 [00:42<01:52,  3.75s/batch, Loss=0.0223]"
     ]
    },
    {
     "name": "stdout",
     "output_type": "stream",
     "text": [
      "Input x_size: (1, 2, 98)\n",
      "Initial window_size: (1, 2, 14)\n",
      "Initial shift_size: (0, 0, 0)\n",
      "Input shape: torch.Size([28, 28, 98])\n",
      "Shape after qkv linear layer: torch.Size([28, 28, 294])\n",
      "Input x_size: (1, 2, 98)\n",
      "Initial window_size: (1, 2, 14)\n",
      "Initial shift_size: (0, 0, 0)\n",
      "Input shape: torch.Size([28, 28, 98])\n",
      "Shape after qkv linear layer: torch.Size([28, 28, 294])\n"
     ]
    },
    {
     "name": "stderr",
     "output_type": "stream",
     "text": [
      "Epoch 3/5:  35%|███▍      | 15/43 [00:48<01:32,  3.31s/batch, Loss=0.0217]"
     ]
    },
    {
     "name": "stdout",
     "output_type": "stream",
     "text": [
      "Input x_size: (1, 2, 98)\n",
      "Initial window_size: (1, 2, 14)\n",
      "Initial shift_size: (0, 0, 0)\n",
      "Input shape: torch.Size([28, 28, 98])\n",
      "Shape after qkv linear layer: torch.Size([28, 28, 294])\n"
     ]
    },
    {
     "name": "stderr",
     "output_type": "stream",
     "text": [
      "Epoch 3/5:  37%|███▋      | 16/43 [00:51<01:22,  3.05s/batch, Loss=0.0208]"
     ]
    },
    {
     "name": "stdout",
     "output_type": "stream",
     "text": [
      "Input x_size: (1, 2, 98)\n",
      "Initial window_size: (1, 2, 14)\n",
      "Initial shift_size: (0, 0, 0)\n",
      "Input shape: torch.Size([28, 28, 98])\n",
      "Shape after qkv linear layer: torch.Size([28, 28, 294])\n"
     ]
    },
    {
     "name": "stderr",
     "output_type": "stream",
     "text": [
      "Epoch 3/5:  40%|███▉      | 17/43 [00:54<01:24,  3.27s/batch, Loss=0.0189]"
     ]
    },
    {
     "name": "stdout",
     "output_type": "stream",
     "text": [
      "Input x_size: (1, 2, 98)\n",
      "Initial window_size: (1, 2, 14)\n",
      "Initial shift_size: (0, 0, 0)\n",
      "Input shape: torch.Size([28, 28, 98])\n",
      "Shape after qkv linear layer: torch.Size([28, 28, 294])\n"
     ]
    },
    {
     "name": "stderr",
     "output_type": "stream",
     "text": [
      "Epoch 3/5:  42%|████▏     | 18/43 [00:58<01:26,  3.46s/batch, Loss=0.0165]"
     ]
    },
    {
     "name": "stdout",
     "output_type": "stream",
     "text": [
      "Input x_size: (1, 2, 98)\n",
      "Initial window_size: (1, 2, 14)\n",
      "Initial shift_size: (0, 0, 0)\n",
      "Input shape: torch.Size([28, 28, 98])\n",
      "Shape after qkv linear layer: torch.Size([28, 28, 294])\n",
      "Input x_size: (1, 2, 98)\n",
      "Initial window_size: (1, 2, 14)\n",
      "Initial shift_size: (0, 0, 0)\n",
      "Input shape: torch.Size([28, 28, 98])\n",
      "Shape after qkv linear layer: torch.Size([28, 28, 294])\n"
     ]
    },
    {
     "name": "stderr",
     "output_type": "stream",
     "text": [
      "Epoch 3/5:  44%|████▍     | 19/43 [01:03<01:28,  3.68s/batch, Loss=0.016] "
     ]
    },
    {
     "name": "stdout",
     "output_type": "stream",
     "text": [
      "Input x_size: (1, 2, 98)\n",
      "Initial window_size: (1, 2, 14)\n",
      "Initial shift_size: (0, 0, 0)\n",
      "Input shape: torch.Size([28, 28, 98])\n",
      "Shape after qkv linear layer: torch.Size([28, 28, 294])\n"
     ]
    },
    {
     "name": "stderr",
     "output_type": "stream",
     "text": [
      "Epoch 3/5:  49%|████▉     | 21/43 [01:09<01:18,  3.56s/batch, Loss=0.0205]INFO:swin_transformer_3d:Epoch [3/5], Step [21/43], Loss: 0.0205\n"
     ]
    },
    {
     "name": "stdout",
     "output_type": "stream",
     "text": [
      "Input x_size: (1, 2, 98)\n",
      "Initial window_size: (1, 2, 14)\n",
      "Initial shift_size: (0, 0, 0)\n",
      "Input shape: torch.Size([28, 28, 98])\n",
      "Shape after qkv linear layer: torch.Size([28, 28, 294])\n"
     ]
    },
    {
     "name": "stderr",
     "output_type": "stream",
     "text": [
      "Epoch 3/5:  51%|█████     | 22/43 [01:14<01:20,  3.85s/batch, Loss=0.0139]"
     ]
    },
    {
     "name": "stdout",
     "output_type": "stream",
     "text": [
      "Input x_size: (1, 2, 98)\n",
      "Initial window_size: (1, 2, 14)\n",
      "Initial shift_size: (0, 0, 0)\n",
      "Input shape: torch.Size([28, 28, 98])\n",
      "Shape after qkv linear layer: torch.Size([28, 28, 294])\n"
     ]
    },
    {
     "name": "stderr",
     "output_type": "stream",
     "text": [
      "Epoch 3/5:  53%|█████▎    | 23/43 [01:16<01:08,  3.44s/batch, Loss=0.018] "
     ]
    },
    {
     "name": "stdout",
     "output_type": "stream",
     "text": [
      "Input x_size: (1, 2, 98)\n",
      "Initial window_size: (1, 2, 14)\n",
      "Initial shift_size: (0, 0, 0)\n",
      "Input shape: torch.Size([28, 28, 98])\n",
      "Shape after qkv linear layer: torch.Size([28, 28, 294])\n"
     ]
    },
    {
     "name": "stderr",
     "output_type": "stream",
     "text": [
      "Epoch 3/5:  56%|█████▌    | 24/43 [01:19<00:58,  3.08s/batch, Loss=0.0184]"
     ]
    },
    {
     "name": "stdout",
     "output_type": "stream",
     "text": [
      "Input x_size: (1, 2, 98)\n",
      "Initial window_size: (1, 2, 14)\n",
      "Initial shift_size: (0, 0, 0)\n",
      "Input shape: torch.Size([28, 28, 98])\n",
      "Shape after qkv linear layer: torch.Size([28, 28, 294])\n"
     ]
    },
    {
     "name": "stderr",
     "output_type": "stream",
     "text": [
      "Epoch 3/5:  58%|█████▊    | 25/43 [01:22<00:55,  3.09s/batch, Loss=0.0191]"
     ]
    },
    {
     "name": "stdout",
     "output_type": "stream",
     "text": [
      "Input x_size: (1, 2, 98)\n",
      "Initial window_size: (1, 2, 14)\n",
      "Initial shift_size: (0, 0, 0)\n",
      "Input shape: torch.Size([28, 28, 98])\n",
      "Shape after qkv linear layer: torch.Size([28, 28, 294])\n"
     ]
    },
    {
     "name": "stderr",
     "output_type": "stream",
     "text": [
      "Epoch 3/5:  60%|██████    | 26/43 [01:25<00:51,  3.04s/batch, Loss=0.0193]"
     ]
    },
    {
     "name": "stdout",
     "output_type": "stream",
     "text": [
      "Input x_size: (1, 2, 98)\n",
      "Initial window_size: (1, 2, 14)\n",
      "Initial shift_size: (0, 0, 0)\n",
      "Input shape: torch.Size([28, 28, 98])\n",
      "Shape after qkv linear layer: torch.Size([28, 28, 294])\n",
      "Input x_size: (1, 2, 98)\n",
      "Initial window_size: (1, 2, 14)\n",
      "Initial shift_size: (0, 0, 0)\n",
      "Input shape: torch.Size([28, 28, 98])\n",
      "Shape after qkv linear layer: torch.Size([28, 28, 294])\n"
     ]
    },
    {
     "name": "stderr",
     "output_type": "stream",
     "text": [
      "Epoch 3/5:  63%|██████▎   | 27/43 [01:30<00:57,  3.58s/batch, Loss=0.0135]"
     ]
    },
    {
     "name": "stdout",
     "output_type": "stream",
     "text": [
      "Input x_size: (1, 2, 98)\n",
      "Initial window_size: (1, 2, 14)\n",
      "Initial shift_size: (0, 0, 0)\n",
      "Input shape: torch.Size([28, 28, 98])\n",
      "Shape after qkv linear layer: torch.Size([28, 28, 294])\n"
     ]
    },
    {
     "name": "stderr",
     "output_type": "stream",
     "text": [
      "Epoch 3/5:  67%|██████▋   | 29/43 [01:35<00:43,  3.11s/batch, Loss=0.0145]"
     ]
    },
    {
     "name": "stdout",
     "output_type": "stream",
     "text": [
      "Input x_size: (1, 2, 98)\n",
      "Initial window_size: (1, 2, 14)\n",
      "Initial shift_size: (0, 0, 0)\n",
      "Input shape: torch.Size([28, 28, 98])\n",
      "Shape after qkv linear layer: torch.Size([28, 28, 294])\n",
      "Input x_size: (1, 2, 98)\n",
      "Initial window_size: (1, 2, 14)\n",
      "Initial shift_size: (0, 0, 0)\n",
      "Input shape: torch.Size([28, 28, 98])\n",
      "Shape after qkv linear layer: torch.Size([28, 28, 294])\n"
     ]
    },
    {
     "name": "stderr",
     "output_type": "stream",
     "text": [
      "Epoch 3/5:  72%|███████▏  | 31/43 [01:41<00:38,  3.21s/batch, Loss=0.0153]INFO:swin_transformer_3d:Epoch [3/5], Step [31/43], Loss: 0.0153\n"
     ]
    },
    {
     "name": "stdout",
     "output_type": "stream",
     "text": [
      "Input x_size: (1, 2, 98)\n",
      "Initial window_size: (1, 2, 14)\n",
      "Initial shift_size: (0, 0, 0)\n",
      "Input shape: torch.Size([28, 28, 98])\n",
      "Shape after qkv linear layer: torch.Size([28, 28, 294])\n"
     ]
    },
    {
     "name": "stderr",
     "output_type": "stream",
     "text": [
      "Epoch 3/5:  74%|███████▍  | 32/43 [01:45<00:37,  3.39s/batch, Loss=0.0187]"
     ]
    },
    {
     "name": "stdout",
     "output_type": "stream",
     "text": [
      "Input x_size: (1, 2, 98)\n",
      "Initial window_size: (1, 2, 14)\n",
      "Initial shift_size: (0, 0, 0)\n",
      "Input shape: torch.Size([28, 28, 98])\n",
      "Shape after qkv linear layer: torch.Size([28, 28, 294])\n"
     ]
    },
    {
     "name": "stderr",
     "output_type": "stream",
     "text": [
      "Epoch 3/5:  77%|███████▋  | 33/43 [01:48<00:32,  3.27s/batch, Loss=0.0165]"
     ]
    },
    {
     "name": "stdout",
     "output_type": "stream",
     "text": [
      "Input x_size: (1, 2, 98)\n",
      "Initial window_size: (1, 2, 14)\n",
      "Initial shift_size: (0, 0, 0)\n",
      "Input shape: torch.Size([28, 28, 98])\n",
      "Shape after qkv linear layer: torch.Size([28, 28, 294])\n"
     ]
    },
    {
     "name": "stderr",
     "output_type": "stream",
     "text": [
      "Epoch 3/5:  79%|███████▉  | 34/43 [01:51<00:29,  3.25s/batch, Loss=0.0166]"
     ]
    },
    {
     "name": "stdout",
     "output_type": "stream",
     "text": [
      "Input x_size: (1, 2, 98)\n",
      "Initial window_size: (1, 2, 14)\n",
      "Initial shift_size: (0, 0, 0)\n",
      "Input shape: torch.Size([28, 28, 98])\n",
      "Shape after qkv linear layer: torch.Size([28, 28, 294])\n"
     ]
    },
    {
     "name": "stderr",
     "output_type": "stream",
     "text": [
      "Epoch 3/5:  81%|████████▏ | 35/43 [01:55<00:26,  3.27s/batch, Loss=0.0172]"
     ]
    },
    {
     "name": "stdout",
     "output_type": "stream",
     "text": [
      "Input x_size: (1, 2, 98)\n",
      "Initial window_size: (1, 2, 14)\n",
      "Initial shift_size: (0, 0, 0)\n",
      "Input shape: torch.Size([28, 28, 98])\n",
      "Shape after qkv linear layer: torch.Size([28, 28, 294])\n"
     ]
    },
    {
     "name": "stderr",
     "output_type": "stream",
     "text": [
      "Epoch 3/5:  84%|████████▎ | 36/43 [01:59<00:24,  3.43s/batch, Loss=0.0182]"
     ]
    },
    {
     "name": "stdout",
     "output_type": "stream",
     "text": [
      "Input x_size: (1, 2, 98)\n",
      "Initial window_size: (1, 2, 14)\n",
      "Initial shift_size: (0, 0, 0)\n",
      "Input shape: torch.Size([28, 28, 98])\n",
      "Shape after qkv linear layer: torch.Size([28, 28, 294])\n",
      "Input x_size: (1, 2, 98)\n",
      "Initial window_size: (1, 2, 14)\n",
      "Initial shift_size: (0, 0, 0)\n",
      "Input shape: torch.Size([28, 28, 98])\n",
      "Shape after qkv linear layer: torch.Size([28, 28, 294])\n"
     ]
    },
    {
     "name": "stderr",
     "output_type": "stream",
     "text": [
      "Epoch 3/5:  86%|████████▌ | 37/43 [02:02<00:20,  3.47s/batch, Loss=0.0173]"
     ]
    },
    {
     "name": "stdout",
     "output_type": "stream",
     "text": [
      "Input x_size: (1, 2, 98)\n",
      "Initial window_size: (1, 2, 14)\n",
      "Initial shift_size: (0, 0, 0)\n",
      "Input shape: torch.Size([28, 28, 98])\n",
      "Shape after qkv linear layer: torch.Size([28, 28, 294])\n"
     ]
    },
    {
     "name": "stderr",
     "output_type": "stream",
     "text": [
      "Epoch 3/5:  91%|█████████ | 39/43 [02:10<00:15,  3.77s/batch, Loss=0.019] "
     ]
    },
    {
     "name": "stdout",
     "output_type": "stream",
     "text": [
      "Input x_size: (1, 2, 98)\n",
      "Initial window_size: (1, 2, 14)\n",
      "Initial shift_size: (0, 0, 0)\n",
      "Input shape: torch.Size([28, 28, 98])\n",
      "Shape after qkv linear layer: torch.Size([28, 28, 294])\n"
     ]
    },
    {
     "name": "stderr",
     "output_type": "stream",
     "text": [
      "Epoch 3/5:  93%|█████████▎| 40/43 [02:15<00:11,  3.91s/batch, Loss=0.0168]"
     ]
    },
    {
     "name": "stdout",
     "output_type": "stream",
     "text": [
      "Input x_size: (1, 2, 98)\n",
      "Initial window_size: (1, 2, 14)\n",
      "Initial shift_size: (0, 0, 0)\n",
      "Input shape: torch.Size([28, 28, 98])\n",
      "Shape after qkv linear layer: torch.Size([28, 28, 294])\n"
     ]
    },
    {
     "name": "stderr",
     "output_type": "stream",
     "text": [
      "Epoch 3/5:  95%|█████████▌| 41/43 [02:19<00:08,  4.05s/batch, Loss=0.014] INFO:swin_transformer_3d:Epoch [3/5], Step [41/43], Loss: 0.0140\n"
     ]
    },
    {
     "name": "stdout",
     "output_type": "stream",
     "text": [
      "Input x_size: (1, 2, 98)\n",
      "Initial window_size: (1, 2, 14)\n",
      "Initial shift_size: (0, 0, 0)\n",
      "Input shape: torch.Size([28, 28, 98])\n",
      "Shape after qkv linear layer: torch.Size([28, 28, 294])\n"
     ]
    },
    {
     "name": "stderr",
     "output_type": "stream",
     "text": [
      "Epoch 3/5:  98%|█████████▊| 42/43 [02:22<00:03,  3.72s/batch, Loss=0.0187]"
     ]
    },
    {
     "name": "stdout",
     "output_type": "stream",
     "text": [
      "Input x_size: (1, 2, 98)\n",
      "Initial window_size: (1, 2, 14)\n",
      "Initial shift_size: (0, 0, 0)\n",
      "Input shape: torch.Size([28, 28, 98])\n",
      "Shape after qkv linear layer: torch.Size([28, 28, 294])\n",
      "Error reading /Users/eleanorbolton/Library/CloudStorage/OneDrive-UniversityofLeeds/t1_vibe_we_hand_subset/CCP_485/2ffb0f83f7/t1_vibe_we/1.3.12.2.1107.5.2.36.40258.2016092211142500015427.DCM: File is missing DICOM File Meta Information header or the 'DICM' prefix is missing from the header. Use force=True to force reading.\n"
     ]
    },
    {
     "name": "stderr",
     "output_type": "stream",
     "text": [
      "Epoch 3/5: 100%|██████████| 43/43 [02:25<00:00,  3.38s/batch, Loss=0.0182]\n",
      "INFO:swin_transformer_3d:Epoch [3/5], Average Loss: 0.0190\n",
      "INFO:swin_transformer_3d:Epoch [3/5] completed in 145.53 seconds\n"
     ]
    },
    {
     "name": "stdout",
     "output_type": "stream",
     "text": [
      "Input x_size: (1, 2, 98)\n",
      "Initial window_size: (1, 2, 14)\n",
      "Initial shift_size: (0, 0, 0)\n",
      "Input shape: torch.Size([28, 28, 98])\n",
      "Shape after qkv linear layer: torch.Size([28, 28, 294])\n"
     ]
    },
    {
     "name": "stderr",
     "output_type": "stream",
     "text": [
      "Epoch 4/5:   0%|          | 0/43 [00:00<?, ?batch/s]"
     ]
    },
    {
     "name": "stdout",
     "output_type": "stream",
     "text": [
      "Input x_size: (1, 2, 98)\n",
      "Initial window_size: (1, 2, 14)\n",
      "Initial shift_size: (0, 0, 0)\n",
      "Input shape: torch.Size([28, 28, 98])\n",
      "Shape after qkv linear layer: torch.Size([28, 28, 294])\n"
     ]
    },
    {
     "name": "stderr",
     "output_type": "stream",
     "text": [
      "Epoch 4/5:   2%|▏         | 1/43 [00:03<02:41,  3.85s/batch, Loss=0.0224]INFO:swin_transformer_3d:Epoch [4/5], Step [1/43], Loss: 0.0224\n"
     ]
    },
    {
     "name": "stdout",
     "output_type": "stream",
     "text": [
      "Input x_size: (1, 2, 98)\n",
      "Initial window_size: (1, 2, 14)\n",
      "Initial shift_size: (0, 0, 0)\n",
      "Input shape: torch.Size([28, 28, 98])\n",
      "Shape after qkv linear layer: torch.Size([28, 28, 294])\n"
     ]
    },
    {
     "name": "stderr",
     "output_type": "stream",
     "text": [
      "Epoch 4/5:   7%|▋         | 3/43 [00:10<02:22,  3.56s/batch, Loss=0.017] "
     ]
    },
    {
     "name": "stdout",
     "output_type": "stream",
     "text": [
      "Input x_size: (1, 2, 98)\n",
      "Initial window_size: (1, 2, 14)\n",
      "Initial shift_size: (0, 0, 0)\n",
      "Input shape: torch.Size([28, 28, 98])\n",
      "Shape after qkv linear layer: torch.Size([28, 28, 294])\n"
     ]
    },
    {
     "name": "stderr",
     "output_type": "stream",
     "text": [
      "Epoch 4/5:   9%|▉         | 4/43 [00:14<02:16,  3.50s/batch, Loss=0.0248]"
     ]
    },
    {
     "name": "stdout",
     "output_type": "stream",
     "text": [
      "Input x_size: (1, 2, 98)\n",
      "Initial window_size: (1, 2, 14)\n",
      "Initial shift_size: (0, 0, 0)\n",
      "Input shape: torch.Size([28, 28, 98])\n",
      "Shape after qkv linear layer: torch.Size([28, 28, 294])\n"
     ]
    },
    {
     "name": "stderr",
     "output_type": "stream",
     "text": [
      "Epoch 4/5:  12%|█▏        | 5/43 [00:17<02:06,  3.33s/batch, Loss=0.021] "
     ]
    },
    {
     "name": "stdout",
     "output_type": "stream",
     "text": [
      "Input x_size: (1, 2, 98)\n",
      "Initial window_size: (1, 2, 14)\n",
      "Initial shift_size: (0, 0, 0)\n",
      "Input shape: torch.Size([28, 28, 98])\n",
      "Shape after qkv linear layer: torch.Size([28, 28, 294])\n"
     ]
    },
    {
     "name": "stderr",
     "output_type": "stream",
     "text": [
      "Epoch 4/5:  14%|█▍        | 6/43 [00:21<02:08,  3.48s/batch, Loss=0.0153]"
     ]
    },
    {
     "name": "stdout",
     "output_type": "stream",
     "text": [
      "Input x_size: (1, 2, 98)\n",
      "Initial window_size: (1, 2, 14)\n",
      "Initial shift_size: (0, 0, 0)\n",
      "Input shape: torch.Size([28, 28, 98])\n",
      "Shape after qkv linear layer: torch.Size([28, 28, 294])\n"
     ]
    },
    {
     "name": "stderr",
     "output_type": "stream",
     "text": [
      "Epoch 4/5:  16%|█▋        | 7/43 [00:24<01:58,  3.29s/batch, Loss=0.0151]"
     ]
    },
    {
     "name": "stdout",
     "output_type": "stream",
     "text": [
      "Input x_size: (1, 2, 98)\n",
      "Initial window_size: (1, 2, 14)\n",
      "Initial shift_size: (0, 0, 0)\n",
      "Input shape: torch.Size([28, 28, 98])\n",
      "Shape after qkv linear layer: torch.Size([28, 28, 294])\n"
     ]
    },
    {
     "name": "stderr",
     "output_type": "stream",
     "text": [
      "Epoch 4/5:  19%|█▊        | 8/43 [00:26<01:49,  3.13s/batch, Loss=0.0158]"
     ]
    },
    {
     "name": "stdout",
     "output_type": "stream",
     "text": [
      "Input x_size: (1, 2, 98)\n",
      "Initial window_size: (1, 2, 14)\n",
      "Initial shift_size: (0, 0, 0)\n",
      "Input shape: torch.Size([28, 28, 98])\n",
      "Shape after qkv linear layer: torch.Size([28, 28, 294])\n"
     ]
    },
    {
     "name": "stderr",
     "output_type": "stream",
     "text": [
      "Epoch 4/5:  21%|██        | 9/43 [00:30<01:53,  3.35s/batch, Loss=0.0183]"
     ]
    },
    {
     "name": "stdout",
     "output_type": "stream",
     "text": [
      "Input x_size: (1, 2, 98)\n",
      "Initial window_size: (1, 2, 14)\n",
      "Initial shift_size: (0, 0, 0)\n",
      "Input shape: torch.Size([28, 28, 98])\n",
      "Shape after qkv linear layer: torch.Size([28, 28, 294])\n",
      "Input x_size: (1, 2, 98)\n",
      "Initial window_size: (1, 2, 14)\n",
      "Initial shift_size: (0, 0, 0)\n",
      "Input shape: torch.Size([28, 28, 98])\n",
      "Shape after qkv linear layer: torch.Size([28, 28, 294])\n"
     ]
    },
    {
     "name": "stderr",
     "output_type": "stream",
     "text": [
      "Epoch 4/5:  23%|██▎       | 10/43 [00:34<01:52,  3.40s/batch, Loss=0.0162]"
     ]
    },
    {
     "name": "stdout",
     "output_type": "stream",
     "text": [
      "Input x_size: (1, 2, 98)\n",
      "Initial window_size: (1, 2, 14)\n",
      "Initial shift_size: (0, 0, 0)\n",
      "Input shape: torch.Size([28, 28, 98])\n",
      "Shape after qkv linear layer: torch.Size([28, 28, 294])\n"
     ]
    },
    {
     "name": "stderr",
     "output_type": "stream",
     "text": [
      "Epoch 4/5:  26%|██▌       | 11/43 [00:37<01:51,  3.48s/batch, Loss=0.0174]INFO:swin_transformer_3d:Epoch [4/5], Step [11/43], Loss: 0.0174\n"
     ]
    },
    {
     "name": "stdout",
     "output_type": "stream",
     "text": [
      "Input x_size: (1, 2, 98)\n",
      "Initial window_size: (1, 2, 14)\n",
      "Initial shift_size: (0, 0, 0)\n",
      "Input shape: torch.Size([28, 28, 98])\n",
      "Shape after qkv linear layer: torch.Size([28, 28, 294])\n"
     ]
    },
    {
     "name": "stderr",
     "output_type": "stream",
     "text": [
      "Epoch 4/5:  30%|███       | 13/43 [00:45<01:50,  3.68s/batch, Loss=0.0131]"
     ]
    },
    {
     "name": "stdout",
     "output_type": "stream",
     "text": [
      "Input x_size: (1, 2, 98)\n",
      "Initial window_size: (1, 2, 14)\n",
      "Initial shift_size: (0, 0, 0)\n",
      "Input shape: torch.Size([28, 28, 98])\n",
      "Shape after qkv linear layer: torch.Size([28, 28, 294])\n"
     ]
    },
    {
     "name": "stderr",
     "output_type": "stream",
     "text": [
      "Epoch 4/5:  33%|███▎      | 14/43 [00:50<01:53,  3.92s/batch, Loss=0.0187]"
     ]
    },
    {
     "name": "stdout",
     "output_type": "stream",
     "text": [
      "Input x_size: (1, 2, 98)\n",
      "Initial window_size: (1, 2, 14)\n",
      "Initial shift_size: (0, 0, 0)\n",
      "Input shape: torch.Size([28, 28, 98])\n",
      "Shape after qkv linear layer: torch.Size([28, 28, 294])\n"
     ]
    },
    {
     "name": "stderr",
     "output_type": "stream",
     "text": [
      "Epoch 4/5:  35%|███▍      | 15/43 [00:54<01:51,  3.99s/batch, Loss=0.0188]"
     ]
    },
    {
     "name": "stdout",
     "output_type": "stream",
     "text": [
      "Input x_size: (1, 2, 98)\n",
      "Initial window_size: (1, 2, 14)\n",
      "Initial shift_size: (0, 0, 0)\n",
      "Input shape: torch.Size([28, 28, 98])\n",
      "Shape after qkv linear layer: torch.Size([28, 28, 294])\n"
     ]
    },
    {
     "name": "stderr",
     "output_type": "stream",
     "text": [
      "Epoch 4/5:  37%|███▋      | 16/43 [00:57<01:42,  3.78s/batch, Loss=0.0128]"
     ]
    },
    {
     "name": "stdout",
     "output_type": "stream",
     "text": [
      "Input x_size: (1, 2, 98)\n",
      "Initial window_size: (1, 2, 14)\n",
      "Initial shift_size: (0, 0, 0)\n",
      "Input shape: torch.Size([28, 28, 98])\n",
      "Shape after qkv linear layer: torch.Size([28, 28, 294])\n"
     ]
    },
    {
     "name": "stderr",
     "output_type": "stream",
     "text": [
      "Epoch 4/5:  40%|███▉      | 17/43 [01:00<01:32,  3.55s/batch, Loss=0.0187]"
     ]
    },
    {
     "name": "stdout",
     "output_type": "stream",
     "text": [
      "Input x_size: (1, 2, 98)\n",
      "Initial window_size: (1, 2, 14)\n",
      "Initial shift_size: (0, 0, 0)\n",
      "Input shape: torch.Size([28, 28, 98])\n",
      "Shape after qkv linear layer: torch.Size([28, 28, 294])\n",
      "Input x_size: (1, 2, 98)\n",
      "Initial window_size: (1, 2, 14)\n",
      "Initial shift_size: (0, 0, 0)\n",
      "Input shape: torch.Size([28, 28, 98])\n",
      "Shape after qkv linear layer: torch.Size([28, 28, 294])\n"
     ]
    },
    {
     "name": "stderr",
     "output_type": "stream",
     "text": [
      "Epoch 4/5:  42%|████▏     | 18/43 [01:04<01:31,  3.67s/batch, Loss=0.0177]"
     ]
    },
    {
     "name": "stdout",
     "output_type": "stream",
     "text": [
      "Input x_size: (1, 2, 98)\n",
      "Initial window_size: (1, 2, 14)\n",
      "Initial shift_size: (0, 0, 0)\n",
      "Input shape: torch.Size([28, 28, 98])\n",
      "Shape after qkv linear layer: torch.Size([28, 28, 294])\n"
     ]
    },
    {
     "name": "stderr",
     "output_type": "stream",
     "text": [
      "Epoch 4/5:  47%|████▋     | 20/43 [01:12<01:26,  3.77s/batch, Loss=0.0157]"
     ]
    },
    {
     "name": "stdout",
     "output_type": "stream",
     "text": [
      "Input x_size: (1, 2, 98)\n",
      "Initial window_size: (1, 2, 14)\n",
      "Initial shift_size: (0, 0, 0)\n",
      "Input shape: torch.Size([28, 28, 98])\n",
      "Shape after qkv linear layer: torch.Size([28, 28, 294])\n"
     ]
    },
    {
     "name": "stderr",
     "output_type": "stream",
     "text": [
      "Epoch 4/5:  49%|████▉     | 21/43 [01:15<01:15,  3.43s/batch, Loss=0.0111]INFO:swin_transformer_3d:Epoch [4/5], Step [21/43], Loss: 0.0111\n"
     ]
    },
    {
     "name": "stdout",
     "output_type": "stream",
     "text": [
      "Input x_size: (1, 2, 98)\n",
      "Initial window_size: (1, 2, 14)\n",
      "Initial shift_size: (0, 0, 0)\n",
      "Input shape: torch.Size([28, 28, 98])\n",
      "Shape after qkv linear layer: torch.Size([28, 28, 294])\n"
     ]
    },
    {
     "name": "stderr",
     "output_type": "stream",
     "text": [
      "Epoch 4/5:  51%|█████     | 22/43 [01:18<01:10,  3.35s/batch, Loss=0.0146]"
     ]
    },
    {
     "name": "stdout",
     "output_type": "stream",
     "text": [
      "Input x_size: (1, 2, 98)\n",
      "Initial window_size: (1, 2, 14)\n",
      "Initial shift_size: (0, 0, 0)\n",
      "Input shape: torch.Size([28, 28, 98])\n",
      "Shape after qkv linear layer: torch.Size([28, 28, 294])\n"
     ]
    },
    {
     "name": "stderr",
     "output_type": "stream",
     "text": [
      "Epoch 4/5:  53%|█████▎    | 23/43 [01:22<01:14,  3.73s/batch, Loss=0.0168]"
     ]
    },
    {
     "name": "stdout",
     "output_type": "stream",
     "text": [
      "Input x_size: (1, 2, 98)\n",
      "Initial window_size: (1, 2, 14)\n",
      "Initial shift_size: (0, 0, 0)\n",
      "Input shape: torch.Size([28, 28, 98])\n",
      "Shape after qkv linear layer: torch.Size([28, 28, 294])\n"
     ]
    },
    {
     "name": "stderr",
     "output_type": "stream",
     "text": [
      "Epoch 4/5:  56%|█████▌    | 24/43 [01:25<01:03,  3.35s/batch, Loss=0.0125]"
     ]
    },
    {
     "name": "stdout",
     "output_type": "stream",
     "text": [
      "Input x_size: (1, 2, 98)\n",
      "Initial window_size: (1, 2, 14)\n",
      "Initial shift_size: (0, 0, 0)\n",
      "Input shape: torch.Size([28, 28, 98])\n",
      "Shape after qkv linear layer: torch.Size([28, 28, 294])\n"
     ]
    },
    {
     "name": "stderr",
     "output_type": "stream",
     "text": [
      "Epoch 4/5:  58%|█████▊    | 25/43 [01:27<00:51,  2.88s/batch, Loss=0.0133]"
     ]
    },
    {
     "name": "stdout",
     "output_type": "stream",
     "text": [
      "Input x_size: (1, 2, 98)\n",
      "Initial window_size: (1, 2, 14)\n",
      "Initial shift_size: (0, 0, 0)\n",
      "Input shape: torch.Size([28, 28, 98])\n",
      "Shape after qkv linear layer: torch.Size([28, 28, 294])\n"
     ]
    },
    {
     "name": "stderr",
     "output_type": "stream",
     "text": [
      "Epoch 4/5:  60%|██████    | 26/43 [01:31<00:54,  3.20s/batch, Loss=0.0123]"
     ]
    },
    {
     "name": "stdout",
     "output_type": "stream",
     "text": [
      "Input x_size: (1, 2, 98)\n",
      "Initial window_size: (1, 2, 14)\n",
      "Initial shift_size: (0, 0, 0)\n",
      "Input shape: torch.Size([28, 28, 98])\n",
      "Shape after qkv linear layer: torch.Size([28, 28, 294])\n",
      "Input x_size: (1, 2, 98)\n",
      "Initial window_size: (1, 2, 14)\n",
      "Initial shift_size: (0, 0, 0)\n",
      "Input shape: torch.Size([28, 28, 98])\n",
      "Shape after qkv linear layer: torch.Size([28, 28, 294])\n"
     ]
    },
    {
     "name": "stderr",
     "output_type": "stream",
     "text": [
      "Epoch 4/5:  63%|██████▎   | 27/43 [01:34<00:53,  3.31s/batch, Loss=0.0167]"
     ]
    },
    {
     "name": "stdout",
     "output_type": "stream",
     "text": [
      "Input x_size: (1, 2, 98)\n",
      "Initial window_size: (1, 2, 14)\n",
      "Initial shift_size: (0, 0, 0)\n",
      "Input shape: torch.Size([28, 28, 98])\n",
      "Shape after qkv linear layer: torch.Size([28, 28, 294])\n"
     ]
    },
    {
     "name": "stderr",
     "output_type": "stream",
     "text": [
      "Epoch 4/5:  65%|██████▌   | 28/43 [01:37<00:47,  3.16s/batch, Loss=0.0117]"
     ]
    },
    {
     "name": "stdout",
     "output_type": "stream",
     "text": [
      "Error reading /Users/eleanorbolton/Library/CloudStorage/OneDrive-UniversityofLeeds/t1_vibe_we_hand_subset/CCP_485/2ffb0f83f7/t1_vibe_we/1.3.12.2.1107.5.2.36.40258.2016092211142500015427.DCM: File is missing DICOM File Meta Information header or the 'DICM' prefix is missing from the header. Use force=True to force reading.\n",
      "Input x_size: (1, 2, 98)\n",
      "Initial window_size: (1, 2, 14)\n",
      "Initial shift_size: (0, 0, 0)\n",
      "Input shape: torch.Size([28, 28, 98])\n",
      "Shape after qkv linear layer: torch.Size([28, 28, 294])\n"
     ]
    },
    {
     "name": "stderr",
     "output_type": "stream",
     "text": [
      "Epoch 4/5:  70%|██████▉   | 30/43 [01:44<00:43,  3.33s/batch, Loss=0.0128]"
     ]
    },
    {
     "name": "stdout",
     "output_type": "stream",
     "text": [
      "Input x_size: (1, 2, 98)\n",
      "Initial window_size: (1, 2, 14)\n",
      "Initial shift_size: (0, 0, 0)\n",
      "Input shape: torch.Size([28, 28, 98])\n",
      "Shape after qkv linear layer: torch.Size([28, 28, 294])\n"
     ]
    },
    {
     "name": "stderr",
     "output_type": "stream",
     "text": [
      "Epoch 4/5:  72%|███████▏  | 31/43 [01:47<00:38,  3.20s/batch, Loss=0.0151]INFO:swin_transformer_3d:Epoch [4/5], Step [31/43], Loss: 0.0151\n"
     ]
    },
    {
     "name": "stdout",
     "output_type": "stream",
     "text": [
      "Input x_size: (1, 2, 98)\n",
      "Initial window_size: (1, 2, 14)\n",
      "Initial shift_size: (0, 0, 0)\n",
      "Input shape: torch.Size([28, 28, 98])\n",
      "Shape after qkv linear layer: torch.Size([28, 28, 294])\n"
     ]
    },
    {
     "name": "stderr",
     "output_type": "stream",
     "text": [
      "Epoch 4/5:  74%|███████▍  | 32/43 [01:50<00:34,  3.10s/batch, Loss=0.0167]"
     ]
    },
    {
     "name": "stdout",
     "output_type": "stream",
     "text": [
      "Input x_size: (1, 2, 98)\n",
      "Initial window_size: (1, 2, 14)\n",
      "Initial shift_size: (0, 0, 0)\n",
      "Input shape: torch.Size([28, 28, 98])\n",
      "Shape after qkv linear layer: torch.Size([28, 28, 294])\n"
     ]
    },
    {
     "name": "stderr",
     "output_type": "stream",
     "text": [
      "Epoch 4/5:  77%|███████▋  | 33/43 [01:52<00:29,  2.97s/batch, Loss=0.0174]"
     ]
    },
    {
     "name": "stdout",
     "output_type": "stream",
     "text": [
      "Input x_size: (1, 2, 98)\n",
      "Initial window_size: (1, 2, 14)\n",
      "Initial shift_size: (0, 0, 0)\n",
      "Input shape: torch.Size([28, 28, 98])\n",
      "Shape after qkv linear layer: torch.Size([28, 28, 294])\n"
     ]
    },
    {
     "name": "stderr",
     "output_type": "stream",
     "text": [
      "Epoch 4/5:  79%|███████▉  | 34/43 [01:56<00:28,  3.17s/batch, Loss=0.0106]"
     ]
    },
    {
     "name": "stdout",
     "output_type": "stream",
     "text": [
      "Input x_size: (1, 2, 98)\n",
      "Initial window_size: (1, 2, 14)\n",
      "Initial shift_size: (0, 0, 0)\n",
      "Input shape: torch.Size([28, 28, 98])\n",
      "Shape after qkv linear layer: torch.Size([28, 28, 294])\n"
     ]
    },
    {
     "name": "stderr",
     "output_type": "stream",
     "text": [
      "Epoch 4/5:  81%|████████▏ | 35/43 [01:59<00:24,  3.11s/batch, Loss=0.0178]"
     ]
    },
    {
     "name": "stdout",
     "output_type": "stream",
     "text": [
      "Input x_size: (1, 2, 98)\n",
      "Initial window_size: (1, 2, 14)\n",
      "Initial shift_size: (0, 0, 0)\n",
      "Input shape: torch.Size([28, 28, 98])\n",
      "Shape after qkv linear layer: torch.Size([28, 28, 294])\n"
     ]
    },
    {
     "name": "stderr",
     "output_type": "stream",
     "text": [
      "Epoch 4/5:  84%|████████▎ | 36/43 [02:01<00:20,  2.93s/batch, Loss=0.0178]"
     ]
    },
    {
     "name": "stdout",
     "output_type": "stream",
     "text": [
      "Input x_size: (1, 2, 98)\n",
      "Initial window_size: (1, 2, 14)\n",
      "Initial shift_size: (0, 0, 0)\n",
      "Input shape: torch.Size([28, 28, 98])\n",
      "Shape after qkv linear layer: torch.Size([28, 28, 294])\n",
      "Input x_size: (1, 2, 98)\n",
      "Initial window_size: (1, 2, 14)\n",
      "Initial shift_size: (0, 0, 0)\n",
      "Input shape: torch.Size([28, 28, 98])\n",
      "Shape after qkv linear layer: torch.Size([28, 28, 294])\n"
     ]
    },
    {
     "name": "stderr",
     "output_type": "stream",
     "text": [
      "Epoch 4/5:  88%|████████▊ | 38/43 [02:07<00:13,  2.80s/batch, Loss=0.0128]"
     ]
    },
    {
     "name": "stdout",
     "output_type": "stream",
     "text": [
      "Input x_size: (1, 2, 98)\n",
      "Initial window_size: (1, 2, 14)\n",
      "Initial shift_size: (0, 0, 0)\n",
      "Input shape: torch.Size([28, 28, 98])\n",
      "Shape after qkv linear layer: torch.Size([28, 28, 294])\n",
      "Input x_size: (1, 2, 98)\n",
      "Initial window_size: (1, 2, 14)\n",
      "Initial shift_size: (0, 0, 0)\n",
      "Input shape: torch.Size([28, 28, 98])\n",
      "Shape after qkv linear layer: torch.Size([28, 28, 294])\n"
     ]
    },
    {
     "name": "stderr",
     "output_type": "stream",
     "text": [
      "Epoch 4/5:  93%|█████████▎| 40/43 [02:14<00:09,  3.19s/batch, Loss=0.0131]"
     ]
    },
    {
     "name": "stdout",
     "output_type": "stream",
     "text": [
      "Input x_size: (1, 2, 98)\n",
      "Initial window_size: (1, 2, 14)\n",
      "Initial shift_size: (0, 0, 0)\n",
      "Input shape: torch.Size([28, 28, 98])\n",
      "Shape after qkv linear layer: torch.Size([28, 28, 294])\n"
     ]
    },
    {
     "name": "stderr",
     "output_type": "stream",
     "text": [
      "Epoch 4/5:  95%|█████████▌| 41/43 [02:17<00:06,  3.10s/batch, Loss=0.0118]INFO:swin_transformer_3d:Epoch [4/5], Step [41/43], Loss: 0.0118\n"
     ]
    },
    {
     "name": "stdout",
     "output_type": "stream",
     "text": [
      "Input x_size: (1, 2, 98)\n",
      "Initial window_size: (1, 2, 14)\n",
      "Initial shift_size: (0, 0, 0)\n",
      "Input shape: torch.Size([28, 28, 98])\n",
      "Shape after qkv linear layer: torch.Size([28, 28, 294])\n"
     ]
    },
    {
     "name": "stderr",
     "output_type": "stream",
     "text": [
      "Epoch 4/5:  98%|█████████▊| 42/43 [02:21<00:03,  3.52s/batch, Loss=0.015] "
     ]
    },
    {
     "name": "stdout",
     "output_type": "stream",
     "text": [
      "Input x_size: (1, 2, 98)\n",
      "Initial window_size: (1, 2, 14)\n",
      "Initial shift_size: (0, 0, 0)\n",
      "Input shape: torch.Size([28, 28, 98])\n",
      "Shape after qkv linear layer: torch.Size([28, 28, 294])\n"
     ]
    },
    {
     "name": "stderr",
     "output_type": "stream",
     "text": [
      "Epoch 4/5: 100%|██████████| 43/43 [02:25<00:00,  3.38s/batch, Loss=0.0192]\n",
      "INFO:swin_transformer_3d:Epoch [4/5], Average Loss: 0.0156\n",
      "INFO:swin_transformer_3d:Epoch [4/5] completed in 145.52 seconds\n"
     ]
    },
    {
     "name": "stdout",
     "output_type": "stream",
     "text": [
      "Input x_size: (1, 2, 98)\n",
      "Initial window_size: (1, 2, 14)\n",
      "Initial shift_size: (0, 0, 0)\n",
      "Input shape: torch.Size([28, 28, 98])\n",
      "Shape after qkv linear layer: torch.Size([28, 28, 294])\n"
     ]
    },
    {
     "name": "stderr",
     "output_type": "stream",
     "text": [
      "Epoch 5/5:   2%|▏         | 1/43 [00:01<01:15,  1.81s/batch, Loss=0.0101]INFO:swin_transformer_3d:Epoch [5/5], Step [1/43], Loss: 0.0101\n"
     ]
    },
    {
     "name": "stdout",
     "output_type": "stream",
     "text": [
      "Input x_size: (1, 2, 98)\n",
      "Initial window_size: (1, 2, 14)\n",
      "Initial shift_size: (0, 0, 0)\n",
      "Input shape: torch.Size([28, 28, 98])\n",
      "Shape after qkv linear layer: torch.Size([28, 28, 294])\n"
     ]
    },
    {
     "name": "stderr",
     "output_type": "stream",
     "text": [
      "Epoch 5/5:   5%|▍         | 2/43 [00:04<01:41,  2.48s/batch, Loss=0.0128]"
     ]
    },
    {
     "name": "stdout",
     "output_type": "stream",
     "text": [
      "Input x_size: (1, 2, 98)\n",
      "Initial window_size: (1, 2, 14)\n",
      "Initial shift_size: (0, 0, 0)\n",
      "Input shape: torch.Size([28, 28, 98])\n",
      "Shape after qkv linear layer: torch.Size([28, 28, 294])\n",
      "Input x_size: (1, 2, 98)\n",
      "Initial window_size: (1, 2, 14)\n",
      "Initial shift_size: (0, 0, 0)\n",
      "Input shape: torch.Size([28, 28, 98])\n",
      "Shape after qkv linear layer: torch.Size([28, 28, 294])\n"
     ]
    },
    {
     "name": "stderr",
     "output_type": "stream",
     "text": [
      "Epoch 5/5:   7%|▋         | 3/43 [00:08<01:59,  3.00s/batch, Loss=0.0126]"
     ]
    },
    {
     "name": "stdout",
     "output_type": "stream",
     "text": [
      "Input x_size: (1, 2, 98)\n",
      "Initial window_size: (1, 2, 14)\n",
      "Initial shift_size: (0, 0, 0)\n",
      "Input shape: torch.Size([28, 28, 98])\n",
      "Shape after qkv linear layer: torch.Size([28, 28, 294])\n"
     ]
    },
    {
     "name": "stderr",
     "output_type": "stream",
     "text": [
      "Epoch 5/5:   9%|▉         | 4/43 [00:12<02:10,  3.34s/batch, Loss=0.00906]"
     ]
    },
    {
     "name": "stdout",
     "output_type": "stream",
     "text": [
      "Input x_size: (1, 2, 98)\n",
      "Initial window_size: (1, 2, 14)\n",
      "Initial shift_size: (0, 0, 0)\n",
      "Input shape: torch.Size([28, 28, 98])\n",
      "Shape after qkv linear layer: torch.Size([28, 28, 294])\n"
     ]
    },
    {
     "name": "stderr",
     "output_type": "stream",
     "text": [
      "Epoch 5/5:  14%|█▍        | 6/43 [00:18<01:55,  3.13s/batch, Loss=0.0117] "
     ]
    },
    {
     "name": "stdout",
     "output_type": "stream",
     "text": [
      "Input x_size: (1, 2, 98)\n",
      "Initial window_size: (1, 2, 14)\n",
      "Initial shift_size: (0, 0, 0)\n",
      "Input shape: torch.Size([28, 28, 98])\n",
      "Shape after qkv linear layer: torch.Size([28, 28, 294])\n"
     ]
    },
    {
     "name": "stderr",
     "output_type": "stream",
     "text": [
      "Epoch 5/5:  16%|█▋        | 7/43 [00:21<01:56,  3.24s/batch, Loss=0.00999]"
     ]
    },
    {
     "name": "stdout",
     "output_type": "stream",
     "text": [
      "Input x_size: (1, 2, 98)\n",
      "Initial window_size: (1, 2, 14)\n",
      "Initial shift_size: (0, 0, 0)\n",
      "Input shape: torch.Size([28, 28, 98])\n",
      "Shape after qkv linear layer: torch.Size([28, 28, 294])\n",
      "Error reading /Users/eleanorbolton/Library/CloudStorage/OneDrive-UniversityofLeeds/t1_vibe_we_hand_subset/CCP_485/2ffb0f83f7/t1_vibe_we/1.3.12.2.1107.5.2.36.40258.2016092211142500015427.DCM: File is missing DICOM File Meta Information header or the 'DICM' prefix is missing from the header. Use force=True to force reading.\n"
     ]
    },
    {
     "name": "stderr",
     "output_type": "stream",
     "text": [
      "Epoch 5/5:  19%|█▊        | 8/43 [00:25<01:58,  3.39s/batch, Loss=0.0105] "
     ]
    },
    {
     "name": "stdout",
     "output_type": "stream",
     "text": [
      "Input x_size: (1, 2, 98)\n",
      "Initial window_size: (1, 2, 14)\n",
      "Initial shift_size: (0, 0, 0)\n",
      "Input shape: torch.Size([28, 28, 98])\n",
      "Shape after qkv linear layer: torch.Size([28, 28, 294])\n"
     ]
    },
    {
     "name": "stderr",
     "output_type": "stream",
     "text": [
      "Epoch 5/5:  21%|██        | 9/43 [00:29<01:58,  3.49s/batch, Loss=0.00951]"
     ]
    },
    {
     "name": "stdout",
     "output_type": "stream",
     "text": [
      "Input x_size: (1, 2, 98)\n",
      "Initial window_size: (1, 2, 14)\n",
      "Initial shift_size: (0, 0, 0)\n",
      "Input shape: torch.Size([28, 28, 98])\n",
      "Shape after qkv linear layer: torch.Size([28, 28, 294])\n"
     ]
    },
    {
     "name": "stderr",
     "output_type": "stream",
     "text": [
      "Epoch 5/5:  23%|██▎       | 10/43 [00:32<01:58,  3.58s/batch, Loss=0.0129]"
     ]
    },
    {
     "name": "stdout",
     "output_type": "stream",
     "text": [
      "Input x_size: (1, 2, 98)\n",
      "Initial window_size: (1, 2, 14)\n",
      "Initial shift_size: (0, 0, 0)\n",
      "Input shape: torch.Size([28, 28, 98])\n",
      "Shape after qkv linear layer: torch.Size([28, 28, 294])\n"
     ]
    },
    {
     "name": "stderr",
     "output_type": "stream",
     "text": [
      "Epoch 5/5:  26%|██▌       | 11/43 [00:35<01:49,  3.41s/batch, Loss=0.0162]INFO:swin_transformer_3d:Epoch [5/5], Step [11/43], Loss: 0.0162\n"
     ]
    },
    {
     "name": "stdout",
     "output_type": "stream",
     "text": [
      "Input x_size: (1, 2, 98)\n",
      "Initial window_size: (1, 2, 14)\n",
      "Initial shift_size: (0, 0, 0)\n",
      "Input shape: torch.Size([28, 28, 98])\n",
      "Shape after qkv linear layer: torch.Size([28, 28, 294])\n"
     ]
    },
    {
     "name": "stderr",
     "output_type": "stream",
     "text": [
      "Epoch 5/5:  28%|██▊       | 12/43 [00:39<01:49,  3.55s/batch, Loss=0.0114]"
     ]
    },
    {
     "name": "stdout",
     "output_type": "stream",
     "text": [
      "Input x_size: (1, 2, 98)\n",
      "Initial window_size: (1, 2, 14)\n",
      "Initial shift_size: (0, 0, 0)\n",
      "Input shape: torch.Size([28, 28, 98])\n",
      "Shape after qkv linear layer: torch.Size([28, 28, 294])\n",
      "Input x_size: (1, 2, 98)\n",
      "Initial window_size: (1, 2, 14)\n",
      "Initial shift_size: (0, 0, 0)\n",
      "Input shape: torch.Size([28, 28, 98])\n",
      "Shape after qkv linear layer: torch.Size([28, 28, 294])\n"
     ]
    },
    {
     "name": "stderr",
     "output_type": "stream",
     "text": [
      "Epoch 5/5:  30%|███       | 13/43 [00:43<01:45,  3.52s/batch, Loss=0.0139]"
     ]
    },
    {
     "name": "stdout",
     "output_type": "stream",
     "text": [
      "Input x_size: (1, 2, 98)\n",
      "Initial window_size: (1, 2, 14)\n",
      "Initial shift_size: (0, 0, 0)\n",
      "Input shape: torch.Size([28, 28, 98])\n",
      "Shape after qkv linear layer: torch.Size([28, 28, 294])\n"
     ]
    },
    {
     "name": "stderr",
     "output_type": "stream",
     "text": [
      "Epoch 5/5:  35%|███▍      | 15/43 [00:51<01:49,  3.90s/batch, Loss=0.0149]"
     ]
    },
    {
     "name": "stdout",
     "output_type": "stream",
     "text": [
      "Input x_size: (1, 2, 98)\n",
      "Initial window_size: (1, 2, 14)\n",
      "Initial shift_size: (0, 0, 0)\n",
      "Input shape: torch.Size([28, 28, 98])\n",
      "Shape after qkv linear layer: torch.Size([28, 28, 294])\n"
     ]
    },
    {
     "name": "stderr",
     "output_type": "stream",
     "text": [
      "Epoch 5/5:  37%|███▋      | 16/43 [00:55<01:39,  3.69s/batch, Loss=0.0126]"
     ]
    },
    {
     "name": "stdout",
     "output_type": "stream",
     "text": [
      "Input x_size: (1, 2, 98)\n",
      "Initial window_size: (1, 2, 14)\n",
      "Initial shift_size: (0, 0, 0)\n",
      "Input shape: torch.Size([28, 28, 98])\n",
      "Shape after qkv linear layer: torch.Size([28, 28, 294])\n"
     ]
    },
    {
     "name": "stderr",
     "output_type": "stream",
     "text": [
      "Epoch 5/5:  40%|███▉      | 17/43 [00:58<01:35,  3.67s/batch, Loss=0.0147]"
     ]
    },
    {
     "name": "stdout",
     "output_type": "stream",
     "text": [
      "Input x_size: (1, 2, 98)\n",
      "Initial window_size: (1, 2, 14)\n",
      "Initial shift_size: (0, 0, 0)\n",
      "Input shape: torch.Size([28, 28, 98])\n",
      "Shape after qkv linear layer: torch.Size([28, 28, 294])\n"
     ]
    },
    {
     "name": "stderr",
     "output_type": "stream",
     "text": [
      "Epoch 5/5:  42%|████▏     | 18/43 [01:01<01:26,  3.45s/batch, Loss=0.0103]"
     ]
    },
    {
     "name": "stdout",
     "output_type": "stream",
     "text": [
      "Input x_size: (1, 2, 98)\n",
      "Initial window_size: (1, 2, 14)\n",
      "Initial shift_size: (0, 0, 0)\n",
      "Input shape: torch.Size([28, 28, 98])\n",
      "Shape after qkv linear layer: torch.Size([28, 28, 294])\n"
     ]
    },
    {
     "name": "stderr",
     "output_type": "stream",
     "text": [
      "Epoch 5/5:  44%|████▍     | 19/43 [01:04<01:20,  3.36s/batch, Loss=0.012] "
     ]
    },
    {
     "name": "stdout",
     "output_type": "stream",
     "text": [
      "Input x_size: (1, 2, 98)\n",
      "Initial window_size: (1, 2, 14)\n",
      "Initial shift_size: (0, 0, 0)\n",
      "Input shape: torch.Size([28, 28, 98])\n",
      "Shape after qkv linear layer: torch.Size([28, 28, 294])\n",
      "Input x_size: (1, 2, 98)\n",
      "Initial window_size: (1, 2, 14)\n",
      "Initial shift_size: (0, 0, 0)\n",
      "Input shape: torch.Size([28, 28, 98])\n",
      "Shape after qkv linear layer: torch.Size([28, 28, 294])\n"
     ]
    },
    {
     "name": "stderr",
     "output_type": "stream",
     "text": [
      "Epoch 5/5:  47%|████▋     | 20/43 [01:08<01:22,  3.58s/batch, Loss=0.0133]"
     ]
    },
    {
     "name": "stdout",
     "output_type": "stream",
     "text": [
      "Input x_size: (1, 2, 98)\n",
      "Initial window_size: (1, 2, 14)\n",
      "Initial shift_size: (0, 0, 0)\n",
      "Input shape: torch.Size([28, 28, 98])\n",
      "Shape after qkv linear layer: torch.Size([28, 28, 294])\n"
     ]
    },
    {
     "name": "stderr",
     "output_type": "stream",
     "text": [
      "Epoch 5/5:  49%|████▉     | 21/43 [01:13<01:24,  3.85s/batch, Loss=0.0124]INFO:swin_transformer_3d:Epoch [5/5], Step [21/43], Loss: 0.0124\n"
     ]
    },
    {
     "name": "stdout",
     "output_type": "stream",
     "text": [
      "Input x_size: (1, 2, 98)\n",
      "Initial window_size: (1, 2, 14)\n",
      "Initial shift_size: (0, 0, 0)\n",
      "Input shape: torch.Size([28, 28, 98])\n",
      "Shape after qkv linear layer: torch.Size([28, 28, 294])\n"
     ]
    },
    {
     "name": "stderr",
     "output_type": "stream",
     "text": [
      "Epoch 5/5:  53%|█████▎    | 23/43 [01:20<01:15,  3.77s/batch, Loss=0.0111]"
     ]
    },
    {
     "name": "stdout",
     "output_type": "stream",
     "text": [
      "Input x_size: (1, 2, 98)\n",
      "Initial window_size: (1, 2, 14)\n",
      "Initial shift_size: (0, 0, 0)\n",
      "Input shape: torch.Size([28, 28, 98])\n",
      "Shape after qkv linear layer: torch.Size([28, 28, 294])\n"
     ]
    },
    {
     "name": "stderr",
     "output_type": "stream",
     "text": [
      "Epoch 5/5:  56%|█████▌    | 24/43 [01:23<01:02,  3.31s/batch, Loss=0.0167]"
     ]
    },
    {
     "name": "stdout",
     "output_type": "stream",
     "text": [
      "Input x_size: (1, 2, 98)\n",
      "Initial window_size: (1, 2, 14)\n",
      "Initial shift_size: (0, 0, 0)\n",
      "Input shape: torch.Size([28, 28, 98])\n",
      "Shape after qkv linear layer: torch.Size([28, 28, 294])\n"
     ]
    },
    {
     "name": "stderr",
     "output_type": "stream",
     "text": [
      "Epoch 5/5:  58%|█████▊    | 25/43 [01:26<01:01,  3.39s/batch, Loss=0.0131]"
     ]
    },
    {
     "name": "stdout",
     "output_type": "stream",
     "text": [
      "Input x_size: (1, 2, 98)\n",
      "Initial window_size: (1, 2, 14)\n",
      "Initial shift_size: (0, 0, 0)\n",
      "Input shape: torch.Size([28, 28, 98])\n",
      "Shape after qkv linear layer: torch.Size([28, 28, 294])\n"
     ]
    },
    {
     "name": "stderr",
     "output_type": "stream",
     "text": [
      "Epoch 5/5:  60%|██████    | 26/43 [01:29<00:52,  3.11s/batch, Loss=0.0128]"
     ]
    },
    {
     "name": "stdout",
     "output_type": "stream",
     "text": [
      "Input x_size: (1, 2, 98)\n",
      "Initial window_size: (1, 2, 14)\n",
      "Initial shift_size: (0, 0, 0)\n",
      "Input shape: torch.Size([28, 28, 98])\n",
      "Shape after qkv linear layer: torch.Size([28, 28, 294])\n"
     ]
    },
    {
     "name": "stderr",
     "output_type": "stream",
     "text": [
      "Epoch 5/5:  63%|██████▎   | 27/43 [01:31<00:47,  2.95s/batch, Loss=0.0126]"
     ]
    },
    {
     "name": "stdout",
     "output_type": "stream",
     "text": [
      "Input x_size: (1, 2, 98)\n",
      "Initial window_size: (1, 2, 14)\n",
      "Initial shift_size: (0, 0, 0)\n",
      "Input shape: torch.Size([28, 28, 98])\n",
      "Shape after qkv linear layer: torch.Size([28, 28, 294])\n"
     ]
    },
    {
     "name": "stderr",
     "output_type": "stream",
     "text": [
      "Epoch 5/5:  65%|██████▌   | 28/43 [01:35<00:48,  3.26s/batch, Loss=0.0113]"
     ]
    },
    {
     "name": "stdout",
     "output_type": "stream",
     "text": [
      "Input x_size: (1, 2, 98)\n",
      "Initial window_size: (1, 2, 14)\n",
      "Initial shift_size: (0, 0, 0)\n",
      "Input shape: torch.Size([28, 28, 98])\n",
      "Shape after qkv linear layer: torch.Size([28, 28, 294])\n",
      "Input x_size: (1, 2, 98)\n",
      "Initial window_size: (1, 2, 14)\n",
      "Initial shift_size: (0, 0, 0)\n",
      "Input shape: torch.Size([28, 28, 98])\n",
      "Shape after qkv linear layer: torch.Size([28, 28, 294])\n"
     ]
    },
    {
     "name": "stderr",
     "output_type": "stream",
     "text": [
      "Epoch 5/5:  67%|██████▋   | 29/43 [01:39<00:48,  3.49s/batch, Loss=0.00801]"
     ]
    },
    {
     "name": "stdout",
     "output_type": "stream",
     "text": [
      "Input x_size: (1, 2, 98)\n",
      "Initial window_size: (1, 2, 14)\n",
      "Initial shift_size: (0, 0, 0)\n",
      "Input shape: torch.Size([28, 28, 98])\n",
      "Shape after qkv linear layer: torch.Size([28, 28, 294])\n"
     ]
    },
    {
     "name": "stderr",
     "output_type": "stream",
     "text": [
      "Epoch 5/5:  72%|███████▏  | 31/43 [01:48<00:45,  3.82s/batch, Loss=0.0119] INFO:swin_transformer_3d:Epoch [5/5], Step [31/43], Loss: 0.0119\n"
     ]
    },
    {
     "name": "stdout",
     "output_type": "stream",
     "text": [
      "Input x_size: (1, 2, 98)\n",
      "Initial window_size: (1, 2, 14)\n",
      "Initial shift_size: (0, 0, 0)\n",
      "Input shape: torch.Size([28, 28, 98])\n",
      "Shape after qkv linear layer: torch.Size([28, 28, 294])\n"
     ]
    },
    {
     "name": "stderr",
     "output_type": "stream",
     "text": [
      "Epoch 5/5:  74%|███████▍  | 32/43 [01:51<00:39,  3.63s/batch, Loss=0.0112]"
     ]
    },
    {
     "name": "stdout",
     "output_type": "stream",
     "text": [
      "Input x_size: (1, 2, 98)\n",
      "Initial window_size: (1, 2, 14)\n",
      "Initial shift_size: (0, 0, 0)\n",
      "Input shape: torch.Size([28, 28, 98])\n",
      "Shape after qkv linear layer: torch.Size([28, 28, 294])\n"
     ]
    },
    {
     "name": "stderr",
     "output_type": "stream",
     "text": [
      "Epoch 5/5:  77%|███████▋  | 33/43 [01:53<00:33,  3.30s/batch, Loss=0.0117]"
     ]
    },
    {
     "name": "stdout",
     "output_type": "stream",
     "text": [
      "Input x_size: (1, 2, 98)\n",
      "Initial window_size: (1, 2, 14)\n",
      "Initial shift_size: (0, 0, 0)\n",
      "Input shape: torch.Size([28, 28, 98])\n",
      "Shape after qkv linear layer: torch.Size([28, 28, 294])\n"
     ]
    },
    {
     "name": "stderr",
     "output_type": "stream",
     "text": [
      "Epoch 5/5:  79%|███████▉  | 34/43 [01:57<00:30,  3.36s/batch, Loss=0.013] "
     ]
    },
    {
     "name": "stdout",
     "output_type": "stream",
     "text": [
      "Input x_size: (1, 2, 98)\n",
      "Initial window_size: (1, 2, 14)\n",
      "Initial shift_size: (0, 0, 0)\n",
      "Input shape: torch.Size([28, 28, 98])\n",
      "Shape after qkv linear layer: torch.Size([28, 28, 294])\n"
     ]
    },
    {
     "name": "stderr",
     "output_type": "stream",
     "text": [
      "Epoch 5/5:  81%|████████▏ | 35/43 [01:59<00:24,  3.11s/batch, Loss=0.0103]"
     ]
    },
    {
     "name": "stdout",
     "output_type": "stream",
     "text": [
      "Input x_size: (1, 2, 98)\n",
      "Initial window_size: (1, 2, 14)\n",
      "Initial shift_size: (0, 0, 0)\n",
      "Input shape: torch.Size([28, 28, 98])\n",
      "Shape after qkv linear layer: torch.Size([28, 28, 294])\n"
     ]
    },
    {
     "name": "stderr",
     "output_type": "stream",
     "text": [
      "Epoch 5/5:  84%|████████▎ | 36/43 [02:01<00:18,  2.67s/batch, Loss=0.00953]"
     ]
    },
    {
     "name": "stdout",
     "output_type": "stream",
     "text": [
      "Input x_size: (1, 2, 98)\n",
      "Initial window_size: (1, 2, 14)\n",
      "Initial shift_size: (0, 0, 0)\n",
      "Input shape: torch.Size([28, 28, 98])\n",
      "Shape after qkv linear layer: torch.Size([28, 28, 294])\n"
     ]
    },
    {
     "name": "stderr",
     "output_type": "stream",
     "text": [
      "Epoch 5/5:  86%|████████▌ | 37/43 [02:04<00:16,  2.70s/batch, Loss=0.0118] "
     ]
    },
    {
     "name": "stdout",
     "output_type": "stream",
     "text": [
      "Input x_size: (1, 2, 98)\n",
      "Initial window_size: (1, 2, 14)\n",
      "Initial shift_size: (0, 0, 0)\n",
      "Input shape: torch.Size([28, 28, 98])\n",
      "Shape after qkv linear layer: torch.Size([28, 28, 294])\n"
     ]
    },
    {
     "name": "stderr",
     "output_type": "stream",
     "text": [
      "Epoch 5/5:  88%|████████▊ | 38/43 [02:08<00:15,  3.15s/batch, Loss=0.0123]"
     ]
    },
    {
     "name": "stdout",
     "output_type": "stream",
     "text": [
      "Input x_size: (1, 2, 98)\n",
      "Initial window_size: (1, 2, 14)\n",
      "Initial shift_size: (0, 0, 0)\n",
      "Input shape: torch.Size([28, 28, 98])\n",
      "Shape after qkv linear layer: torch.Size([28, 28, 294])\n",
      "Input x_size: (1, 2, 98)\n",
      "Initial window_size: (1, 2, 14)\n",
      "Initial shift_size: (0, 0, 0)\n",
      "Input shape: torch.Size([28, 28, 98])\n",
      "Shape after qkv linear layer: torch.Size([28, 28, 294])\n"
     ]
    },
    {
     "name": "stderr",
     "output_type": "stream",
     "text": [
      "Epoch 5/5:  91%|█████████ | 39/43 [02:11<00:12,  3.05s/batch, Loss=0.008] "
     ]
    },
    {
     "name": "stdout",
     "output_type": "stream",
     "text": [
      "Input x_size: (1, 2, 98)\n",
      "Initial window_size: (1, 2, 14)\n",
      "Initial shift_size: (0, 0, 0)\n",
      "Input shape: torch.Size([28, 28, 98])\n",
      "Shape after qkv linear layer: torch.Size([28, 28, 294])\n"
     ]
    },
    {
     "name": "stderr",
     "output_type": "stream",
     "text": [
      "Epoch 5/5:  95%|█████████▌| 41/43 [02:17<00:06,  3.28s/batch, Loss=0.0133] INFO:swin_transformer_3d:Epoch [5/5], Step [41/43], Loss: 0.0133\n"
     ]
    },
    {
     "name": "stdout",
     "output_type": "stream",
     "text": [
      "Input x_size: (1, 2, 98)\n",
      "Initial window_size: (1, 2, 14)\n",
      "Initial shift_size: (0, 0, 0)\n",
      "Input shape: torch.Size([28, 28, 98])\n",
      "Shape after qkv linear layer: torch.Size([28, 28, 294])\n"
     ]
    },
    {
     "name": "stderr",
     "output_type": "stream",
     "text": [
      "Epoch 5/5:  98%|█████████▊| 42/43 [02:22<00:03,  3.65s/batch, Loss=0.00825]"
     ]
    },
    {
     "name": "stdout",
     "output_type": "stream",
     "text": [
      "Input x_size: (1, 2, 98)\n",
      "Initial window_size: (1, 2, 14)\n",
      "Initial shift_size: (0, 0, 0)\n",
      "Input shape: torch.Size([28, 28, 98])\n",
      "Shape after qkv linear layer: torch.Size([28, 28, 294])\n"
     ]
    },
    {
     "name": "stderr",
     "output_type": "stream",
     "text": [
      "Epoch 5/5: 100%|██████████| 43/43 [02:26<00:00,  3.40s/batch, Loss=0.0131] \n",
      "INFO:swin_transformer_3d:Epoch [5/5], Average Loss: 0.0117\n",
      "INFO:swin_transformer_3d:Epoch [5/5] completed in 146.08 seconds\n"
     ]
    },
    {
     "name": "stdout",
     "output_type": "stream",
     "text": [
      "Input x_size: (1, 2, 98)\n",
      "Initial window_size: (1, 2, 14)\n",
      "Initial shift_size: (0, 0, 0)\n",
      "Input shape: torch.Size([28, 28, 98])\n",
      "Shape after qkv linear layer: torch.Size([28, 28, 294])\n"
     ]
    }
   ],
   "source": [
    "import torch\n",
    "import torch.nn as nn\n",
    "import torch.optim as optim\n",
    "from torch.utils.data import DataLoader\n",
    "import logging\n",
    "from torch.utils.tensorboard import SummaryWriter\n",
    "from tqdm import tqdm\n",
    "import time\n",
    "\n",
    "# Assuming SwinTransformer3D is already defined and imported\n",
    "# Assuming HandScanDataset2 is your custom dataset class\n",
    "\n",
    "# Define the output directory and log directory\n",
    "output_dir = \"./output\"\n",
    "log_dir = \"./logs\"\n",
    "\n",
    "# Set up basic logging\n",
    "logging.basicConfig(level=logging.INFO)\n",
    "logger = logging.getLogger(\"swin_transformer_3d\")\n",
    "\n",
    "# Create a TensorBoard writer\n",
    "writer = SummaryWriter(log_dir=log_dir)\n",
    "\n",
    "# Parameters\n",
    "num_epochs = 5\n",
    "batch_size = 4\n",
    "learning_rate = 1e-4\n",
    "device = torch.device('cuda' if torch.cuda.is_available() else 'cpu')\n",
    "\n",
    "# Initialize dataset and data loader\n",
    "train_dataset = HandScanDataset2(labels_df=train_df, data_dir=training_data_dir, transform=transform)\n",
    "train_loader = DataLoader(train_dataset, batch_size=batch_size, shuffle=True)\n",
    "\n",
    "# Initialize model, optimizer, and loss function\n",
    "model = SwinTransformer3D(\n",
    "    dim=98,                # Example input dimension; adjust as needed\n",
    "    img_size=(2, 98, 98),  # Image size as a tuple (D, H, W)\n",
    "    num_classes=2,         # Number of classes for classification\n",
    "    in_chans=1,            # Number of input channels, typically 1 for grayscale images\n",
    "    num_heads=7,           # Number of attention heads\n",
    "    window_size=(1, 2, 14)\n",
    ").to(device)\n",
    "\n",
    "optimizer = optim.Adam(model.parameters(), lr=learning_rate)\n",
    "criterion = torch.nn.MSELoss()\n",
    "\n",
    "# Training loop\n",
    "model.train()\n",
    "for epoch in range(num_epochs):\n",
    "    start_time = time.time()\n",
    "    total_loss = 0.0\n",
    "    \n",
    "    with tqdm(total=len(train_loader), desc=f'Epoch {epoch+1}/{num_epochs}', unit='batch') as pbar:\n",
    "        for batch_idx, (images, labels) in enumerate(train_loader):\n",
    "            images, labels = images.to(device), labels.to(device)\n",
    "            optimizer.zero_grad()\n",
    "\n",
    "            # Compute mask matrix based on the input size and model's window and shift sizes\n",
    "            attn_mask = compute_mask(\n",
    "                D=images.shape[2], \n",
    "                H=images.shape[3], \n",
    "                W=images.shape[4], \n",
    "                window_size=model.window_size, \n",
    "                shift_size=model.shift_size, \n",
    "                device=images.device\n",
    "            )\n",
    "\n",
    "            # Forward pass\n",
    "            outputs = model(images, attn_mask)\n",
    "            loss = criterion(outputs, images)\n",
    "            loss.backward()\n",
    "            optimizer.step()\n",
    "\n",
    "            total_loss += loss.item()\n",
    "\n",
    "            # Update progress bar\n",
    "            pbar.set_postfix({'Loss': loss.item()})\n",
    "            pbar.update(1)\n",
    "\n",
    "            # Logging every 10 batches\n",
    "            if batch_idx % 10 == 0:\n",
    "                logger.info(f'Epoch [{epoch+1}/{num_epochs}], Step [{batch_idx+1}/{len(train_loader)}], Loss: {loss.item():.4f}')\n",
    "        \n",
    "    # Log average loss for the epoch\n",
    "    avg_loss = total_loss / len(train_loader)\n",
    "    writer.add_scalar('Loss/train', avg_loss, epoch)\n",
    "    logger.info(f'Epoch [{epoch+1}/{num_epochs}], Average Loss: {avg_loss:.4f}')\n",
    "\n",
    "    # Time taken for the epoch\n",
    "    end_time = time.time()\n",
    "    epoch_time = end_time - start_time\n",
    "    logger.info(f'Epoch [{epoch+1}/{num_epochs}] completed in {epoch_time:.2f} seconds')\n",
    "\n",
    "# Closing the writer at the end\n",
    "writer.close()\n"
   ]
  },
  {
   "cell_type": "code",
   "execution_count": null,
   "metadata": {},
   "outputs": [],
   "source": []
  }
 ],
 "metadata": {
  "kernelspec": {
   "display_name": "Python 3",
   "language": "python",
   "name": "python3"
  },
  "language_info": {
   "codemirror_mode": {
    "name": "ipython",
    "version": 3
   },
   "file_extension": ".py",
   "mimetype": "text/x-python",
   "name": "python",
   "nbconvert_exporter": "python",
   "pygments_lexer": "ipython3",
   "version": "3.11.8"
  }
 },
 "nbformat": 4,
 "nbformat_minor": 2
}
