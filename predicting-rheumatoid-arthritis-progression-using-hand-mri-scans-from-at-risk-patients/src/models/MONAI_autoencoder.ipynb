{
 "cells": [
  {
   "cell_type": "code",
   "execution_count": 9,
   "metadata": {},
   "outputs": [
    {
     "name": "stdout",
     "output_type": "stream",
     "text": [
      "Collecting tensorboardX\n",
      "  Using cached tensorboardX-2.6.2.2-py2.py3-none-any.whl.metadata (5.8 kB)\n",
      "Requirement already satisfied: numpy in /Users/eleanorbolton/anaconda3/lib/python3.11/site-packages (from tensorboardX) (1.24.3)\n",
      "Requirement already satisfied: packaging in /Users/eleanorbolton/.local/lib/python3.11/site-packages (from tensorboardX) (24.1)\n",
      "Requirement already satisfied: protobuf>=3.20 in /Users/eleanorbolton/anaconda3/lib/python3.11/site-packages (from tensorboardX) (4.25.4)\n",
      "Using cached tensorboardX-2.6.2.2-py2.py3-none-any.whl (101 kB)\n",
      "Installing collected packages: tensorboardX\n",
      "Successfully installed tensorboardX-2.6.2.2\n",
      "Note: you may need to restart the kernel to use updated packages.\n"
     ]
    }
   ],
   "source": [
    "pip install tensorboardX"
   ]
  },
  {
   "cell_type": "code",
   "execution_count": 2,
   "metadata": {},
   "outputs": [
    {
     "name": "stdout",
     "output_type": "stream",
     "text": [
      "Channels:\n",
      " - conda-forge\n",
      " - defaults\n",
      "Platform: osx-arm64\n",
      "Collecting package metadata (repodata.json): done\n",
      "Solving environment: done\n",
      "\n",
      "# All requested packages already installed.\n",
      "\n",
      "\n",
      "Note: you may need to restart the kernel to use updated packages.\n"
     ]
    }
   ],
   "source": [
    "conda install -c conda-forge monai=1.3.2\n"
   ]
  },
  {
   "cell_type": "code",
   "execution_count": 2,
   "metadata": {},
   "outputs": [
    {
     "name": "stdout",
     "output_type": "stream",
     "text": [
      "MONAI version: 1.3.2\n",
      "Numpy version: 1.24.3\n",
      "Pytorch version: 2.1.0.post100\n",
      "MONAI flags: HAS_EXT = False, USE_COMPILED = False, USE_META_DICT = False\n",
      "MONAI rev id: 59a7211070538586369afd4a01eca0a7fe2e742e\n",
      "MONAI __file__: /Users/<username>/anaconda3/lib/python3.11/site-packages/monai/__init__.py\n",
      "\n",
      "Optional dependencies:\n",
      "Pytorch Ignite version: NOT INSTALLED or UNKNOWN VERSION.\n",
      "ITK version: NOT INSTALLED or UNKNOWN VERSION.\n",
      "Nibabel version: 5.2.1\n",
      "scikit-image version: 0.20.0\n",
      "scipy version: 1.11.1\n",
      "Pillow version: 10.2.0\n",
      "Tensorboard version: 2.17.0\n",
      "gdown version: NOT INSTALLED or UNKNOWN VERSION.\n",
      "TorchVision version: 0.15.2a0\n",
      "tqdm version: 4.65.0\n",
      "lmdb version: 1.4.1\n",
      "psutil version: 6.0.0\n",
      "pandas version: 2.0.3\n",
      "einops version: 0.8.0\n",
      "transformers version: 4.32.1\n",
      "mlflow version: NOT INSTALLED or UNKNOWN VERSION.\n",
      "pynrrd version: NOT INSTALLED or UNKNOWN VERSION.\n",
      "clearml version: NOT INSTALLED or UNKNOWN VERSION.\n",
      "\n",
      "For details about installing the optional dependencies, please visit:\n",
      "    https://docs.monai.io/en/latest/installation.html#installing-the-recommended-dependencies\n",
      "\n"
     ]
    }
   ],
   "source": [
    "# Importing necessary libraries for logging, file handling, and system operations\n",
    "import logging  # Provides a flexible framework for emitting log messages from Python programs.\n",
    "import os  # Provides a way of using operating system-dependent functionality, such as reading or writing to the file system.\n",
    "import shutil  # Used for high-level file operations, such as copying or removing files and directories.\n",
    "import sys  # Provides access to some variables used or maintained by the Python interpreter and to functions that interact with the interpreter.\n",
    "import tempfile  # Used to create temporary files and directories.\n",
    "import random  # Implements pseudo-random number generators for various distributions.\n",
    "import numpy as np  # Fundamental package for scientific computing with Python, providing support for large, multi-dimensional arrays and matrices.\n",
    "from tqdm import trange  # Provides a progress bar for loops, making it easier to track long-running tasks.\n",
    "import matplotlib.pyplot as plt  # A plotting library used for creating static, animated, and interactive visualizations in Python.\n",
    "import torch  # PyTorch, an open-source machine learning library based on the Torch library, used for applications such as computer vision and natural language processing.\n",
    "from skimage.util import random_noise  # A function to add random noise of various types to an image.\n",
    "# Importing functions and classes from the MONAI library, a deep learning framework specialized for healthcare imaging\n",
    "from monai.apps import download_and_extract  # Utility to download and extract files, particularly useful for datasets.\n",
    "from monai.config import print_config  # Prints the current configuration of MONAI, including the environment, installed packages, and versions.\n",
    "from monai.data import CacheDataset, DataLoader  # CacheDataset caches data and is useful for datasets that fit in memory. DataLoader is used to load the data in batches.\n",
    "from monai.networks.nets import AutoEncoder, SwinUNETR  # Importing an AutoEncoder model, which is a type of neural network used for unsupervised learning, particularly for dimensionality reduction.\n",
    "from monai.transforms import (  # Importing various transformations to be applied to the data.\n",
    "    EnsureChannelFirstD,  # Ensures the channel dimension is first in the data tensor.\n",
    "    Compose,  # Allows the chaining of multiple transformations to be applied sequentially.\n",
    "    LoadImageD,  # Loads images from a file.\n",
    "    RandFlipD,  # Randomly flips the image along a specified axis.\n",
    "    RandRotateD,  # Randomly rotates the image within a specified angle range.\n",
    "    RandZoomD,  # Randomly zooms in or out of the image within a specified range.\n",
    "    ScaleIntensityD,  # Scales the intensity of the image to a specified range.\n",
    "    EnsureTypeD,  # Ensures the output is of a specific data type.\n",
    "    Lambda,  # Allows for custom transformations using a lambda function.\n",
    "    #AddChannelD\n",
    ")\n",
    "from monai.utils import set_determinism  # Sets the seed for random number generators to ensure reproducibility.\n",
    "from monai.networks.utils import copy_model_state\n",
    "from monai.networks.nets.swin_unetr import filter_swinunetr\n",
    "from monai.transforms import RandSpatialCropd\n",
    "import math\n",
    "import warnings\n",
    "from typing import List\n",
    "\n",
    "from torch import nn as nn\n",
    "from torch.optim import Adam, Optimizer\n",
    "from torch.optim.lr_scheduler import LambdaLR, _LRScheduler\n",
    "import os\n",
    "import random\n",
    "import glob\n",
    "import numpy as np\n",
    "import pydicom\n",
    "import matplotlib.pyplot as plt\n",
    "from tensorboardX import SummaryWriter\n",
    "# Print the current MONAI configuration\n",
    "print_config()\n",
    "from pre_processing_py import HandScanDataset2, train_df, valid_df, training_data_dir\n",
    "import torch\n",
    "import torch.nn as nn\n",
    "import torch.optim as optim\n",
    "from torch.utils.data import DataLoader\n",
    "import logging\n",
    "from torch.utils.tensorboard import SummaryWriter\n",
    "from tqdm import tqdm\n",
    "import time\n",
    "import torch.nn.functional as F\n",
    "import psutil  # For memory tracking\n",
    "import gc\n"
   ]
  },
  {
   "cell_type": "code",
   "execution_count": 3,
   "metadata": {},
   "outputs": [],
   "source": [
    "# Set up basic logging configuration to output log messages to the console (stdout).\n",
    "# The logging level is set to INFO, meaning all messages at this level and above\n",
    "# (INFO, WARNING, ERROR, CRITICAL) will be displayed.\n",
    "logging.basicConfig(stream=sys.stdout, level=logging.INFO)\n",
    "\n",
    "\n",
    "# Set deterministic behavior for reproducibility. This is important in experiments where\n",
    "# you want to ensure that the results are the same every time the code is run. \n",
    "# The seed value is set to 0, which will be used to initialize the random number generator.\n",
    "set_determinism(0)\n",
    "\n",
    "# Determine the device to run the computations on. If a CUDA-capable GPU is available,\n",
    "# the device will be set to \"cuda\" (meaning GPU); otherwise, it will fall back to \"cpu\".\n",
    "# This allows the code to take advantage of GPU acceleration if possible.\n",
    "device = torch.device(\"cuda\" if torch.cuda.is_available() else \"cpu\")\n"
   ]
  },
  {
   "cell_type": "code",
   "execution_count": 4,
   "metadata": {},
   "outputs": [],
   "source": [
    "import matplotlib.pyplot as plt\n",
    "import torch\n",
    "\n",
    "def plot_ims(ims, shape=None, figsize=(10, 10), titles=None):\n",
    "    shape = (1, len(ims)) if shape is None else shape\n",
    "    plt.subplots(*shape, figsize=figsize)\n",
    "    for i, im in enumerate(ims):\n",
    "        plt.subplot(*shape, i + 1)\n",
    "        \n",
    "        # Convert numpy array to a compatible data type if needed\n",
    "        if isinstance(im, np.ndarray):\n",
    "            im = im.astype(np.float32)  # Convert to a supported type like float32\n",
    "            im = torch.from_numpy(im)\n",
    "        \n",
    "        # Squeeze the image if it's a tensor\n",
    "        if isinstance(im, torch.Tensor):\n",
    "            im = torch.squeeze(im)\n",
    "        \n",
    "        plt.imshow(im, cmap=\"gray\")\n",
    "        \n",
    "        if titles is not None:\n",
    "            plt.title(titles[i])\n",
    "        plt.axis(\"off\")\n",
    "    \n",
    "    plt.tight_layout()\n",
    "    plt.show()\n"
   ]
  },
  {
   "cell_type": "code",
   "execution_count": 5,
   "metadata": {},
   "outputs": [
    {
     "name": "stdout",
     "output_type": "stream",
     "text": [
      "Loaded image with shape: (512, 288)\n",
      "Loaded image with shape: (512, 288)\n",
      "Loaded image with shape: (512, 288)\n",
      "Loaded image with shape: (512, 288)\n",
      "Loaded image with shape: (512, 288)\n",
      "Loaded image with shape: (512, 288)\n",
      "Loaded image with shape: (512, 288)\n",
      "Loaded image with shape: (512, 288)\n",
      "Loaded image with shape: (512, 288)\n",
      "Loaded image with shape: (512, 288)\n",
      "Loaded image with shape: (512, 288)\n",
      "Loaded image with shape: (512, 288)\n",
      "Loaded image with shape: (512, 288)\n",
      "Loaded image with shape: (512, 288)\n",
      "Loaded image with shape: (512, 288)\n",
      "Loaded image with shape: (512, 288)\n",
      "Loaded image with shape: (512, 288)\n",
      "Loaded image with shape: (512, 288)\n",
      "Loaded image with shape: (512, 288)\n",
      "Loaded image with shape: (512, 288)\n",
      "Loaded image with shape: (512, 288)\n",
      "Loaded image with shape: (512, 288)\n",
      "Loaded image with shape: (512, 288)\n",
      "Loaded image with shape: (512, 288)\n",
      "Loaded image with shape: (512, 288)\n",
      "Loaded image with shape: (512, 288)\n",
      "Loaded image with shape: (512, 288)\n",
      "Loaded image with shape: (512, 288)\n",
      "Loaded image with shape: (512, 288)\n",
      "Loaded image with shape: (512, 288)\n",
      "Loaded image with shape: (512, 288)\n",
      "Loaded image with shape: (512, 288)\n",
      "Loaded image with shape: (512, 288)\n",
      "Loaded image with shape: (512, 288)\n",
      "Loaded image with shape: (512, 288)\n",
      "Loaded image with shape: (512, 288)\n",
      "Loaded image with shape: (512, 288)\n",
      "Loaded image with shape: (512, 288)\n",
      "Loaded image with shape: (512, 288)\n",
      "Loaded image with shape: (512, 288)\n",
      "Loaded image with shape: (512, 288)\n",
      "Loaded image with shape: (512, 288)\n",
      "Loaded image with shape: (512, 288)\n",
      "Loaded image with shape: (512, 288)\n",
      "Loaded image with shape: (512, 288)\n",
      "Loaded image with shape: (512, 288)\n",
      "Loaded image with shape: (512, 288)\n",
      "Loaded image with shape: (512, 288)\n",
      "Loaded image with shape: (512, 288)\n",
      "Loaded image with shape: (512, 288)\n",
      "Loaded image with shape: (512, 288)\n",
      "Loaded image with shape: (512, 288)\n",
      "Loaded image with shape: (512, 288)\n",
      "Loaded image with shape: (512, 288)\n",
      "Loaded image with shape: (512, 288)\n",
      "Loaded image with shape: (512, 288)\n",
      "Loaded image with shape: (512, 288)\n",
      "Loaded image with shape: (512, 288)\n",
      "Loaded image with shape: (512, 288)\n",
      "Loaded image with shape: (512, 288)\n",
      "Loaded image with shape: (512, 288)\n",
      "Loaded image with shape: (512, 288)\n",
      "Loaded image with shape: (512, 288)\n",
      "Loaded image with shape: (512, 288)\n",
      "Loaded image with shape: (512, 288)\n",
      "Loaded image with shape: (512, 288)\n",
      "Loaded image with shape: (512, 288)\n",
      "Loaded image with shape: (512, 288)\n",
      "Loaded image with shape: (512, 288)\n",
      "Loaded image with shape: (512, 288)\n",
      "Loaded image with shape: (512, 288)\n",
      "Loaded image with shape: (512, 288)\n",
      "Loaded image with shape: (512, 288)\n",
      "Loaded image with shape: (512, 288)\n",
      "Loaded image with shape: (512, 288)\n",
      "Loaded image with shape: (512, 288)\n",
      "Loaded image with shape: (512, 288)\n",
      "Loaded image with shape: (512, 288)\n",
      "Loaded image with shape: (512, 288)\n",
      "Loaded image with shape: (512, 288)\n",
      "Loaded image with shape: (512, 288)\n",
      "Loaded image with shape: (512, 288)\n",
      "Loaded image with shape: (512, 288)\n",
      "Loaded image with shape: (512, 288)\n",
      "Loaded image with shape: (512, 288)\n",
      "Loaded image with shape: (512, 288)\n",
      "Loaded image with shape: (512, 288)\n",
      "Loaded image with shape: (512, 288)\n",
      "Loaded image with shape: (512, 288)\n",
      "Loaded image with shape: (512, 288)\n",
      "Loaded image with shape: (512, 288)\n",
      "Loaded image with shape: (512, 288)\n",
      "Loaded image with shape: (512, 288)\n",
      "Loaded image with shape: (512, 288)\n",
      "Loaded image with shape: (512, 288)\n",
      "Loaded image with shape: (512, 288)\n",
      "Loaded image with shape: (512, 288)\n",
      "Loaded image with shape: (512, 288)\n",
      "Loaded image with shape: (512, 288)\n",
      "Loaded image with shape: (512, 288)\n",
      "Loaded image with shape: (512, 288)\n",
      "Loaded image with shape: (512, 288)\n",
      "Loaded image with shape: (512, 288)\n",
      "Loaded image with shape: (512, 288)\n",
      "Loaded image with shape: (512, 288)\n",
      "Loaded image with shape: (512, 288)\n",
      "Loaded image with shape: (512, 288)\n",
      "Loaded image with shape: (512, 288)\n",
      "Loaded image with shape: (512, 288)\n",
      "Loaded image with shape: (512, 288)\n",
      "Loaded image with shape: (512, 288)\n",
      "Loaded image with shape: (512, 288)\n",
      "Loaded image with shape: (512, 288)\n",
      "Loaded image with shape: (512, 288)\n",
      "Loaded image with shape: (512, 288)\n",
      "Loaded image with shape: (512, 288)\n",
      "Loaded image with shape: (512, 288)\n",
      "Loaded image with shape: (512, 288)\n",
      "Loaded image with shape: (512, 288)\n",
      "Loaded image with shape: (512, 288)\n",
      "Loaded image with shape: (512, 288)\n",
      "Loaded image with shape: (512, 288)\n",
      "Loaded image with shape: (512, 288)\n",
      "Loaded image with shape: (512, 288)\n",
      "Loaded image with shape: (512, 288)\n",
      "Loaded image with shape: (512, 288)\n",
      "Loaded image with shape: (512, 288)\n",
      "Loaded image with shape: (512, 288)\n",
      "Loaded image with shape: (512, 288)\n",
      "Loaded image with shape: (512, 288)\n",
      "Loaded image with shape: (512, 288)\n",
      "Loaded image with shape: (512, 288)\n",
      "Loaded image with shape: (512, 288)\n",
      "Loaded image with shape: (512, 288)\n",
      "Loaded image with shape: (512, 288)\n",
      "Loaded image with shape: (512, 288)\n",
      "Loaded image with shape: (512, 288)\n",
      "Loaded image with shape: (512, 288)\n",
      "Loaded image with shape: (512, 288)\n",
      "Loaded image with shape: (512, 288)\n",
      "Loaded image with shape: (512, 288)\n",
      "Loaded image with shape: (512, 288)\n",
      "Loaded image with shape: (512, 288)\n",
      "Loaded image with shape: (512, 288)\n",
      "Loaded image with shape: (512, 288)\n",
      "Loaded image with shape: (512, 288)\n",
      "Loaded image with shape: (512, 288)\n",
      "Loaded image with shape: (512, 288)\n",
      "Loaded image with shape: (512, 288)\n",
      "Loaded image with shape: (512, 288)\n",
      "Loaded image with shape: (512, 288)\n",
      "Loaded image with shape: (512, 288)\n",
      "Loaded image with shape: (512, 288)\n",
      "Loaded image with shape: (512, 288)\n",
      "Loaded image with shape: (512, 288)\n",
      "Loaded image with shape: (512, 288)\n",
      "Loaded image with shape: (512, 288)\n",
      "Loaded image with shape: (512, 288)\n",
      "Loaded image with shape: (512, 288)\n",
      "Loaded image with shape: (512, 288)\n",
      "Loaded image with shape: (512, 288)\n",
      "Loaded image with shape: (512, 288)\n",
      "Loaded image with shape: (512, 288)\n",
      "Loaded image with shape: (512, 288)\n",
      "Loaded image with shape: (512, 288)\n",
      "Loaded image with shape: (512, 288)\n",
      "Loaded image with shape: (512, 288)\n",
      "Loaded image with shape: (512, 288)\n",
      "Loaded image with shape: (512, 288)\n",
      "Loaded image with shape: (512, 288)\n",
      "Loaded image with shape: (512, 288)\n",
      "Loaded image with shape: (512, 288)\n",
      "Loaded image with shape: (512, 288)\n",
      "Loaded image with shape: (512, 288)\n",
      "Loaded image with shape: (512, 288)\n",
      "Loaded image with shape: (512, 288)\n",
      "Loaded image with shape: (512, 288)\n",
      "Loaded image with shape: (512, 288)\n",
      "Loaded image with shape: (512, 288)\n",
      "Loaded image with shape: (512, 288)\n",
      "Loaded image with shape: (512, 288)\n",
      "Loaded image with shape: (512, 288)\n",
      "Loaded image with shape: (512, 288)\n",
      "Loaded image with shape: (512, 288)\n",
      "Loaded image with shape: (512, 288)\n",
      "Loaded image with shape: (512, 288)\n",
      "Loaded image with shape: (512, 288)\n",
      "Loaded image with shape: (512, 288)\n",
      "Loaded image with shape: (512, 288)\n",
      "Loaded image with shape: (512, 288)\n",
      "Loaded image with shape: (512, 288)\n",
      "Loaded image with shape: (512, 288)\n",
      "Loaded image with shape: (512, 288)\n",
      "Loaded image with shape: (512, 288)\n",
      "Loaded image with shape: (512, 288)\n",
      "Loaded image with shape: (512, 288)\n",
      "Loaded image with shape: (512, 288)\n",
      "Loaded image with shape: (512, 288)\n",
      "Loaded image with shape: (512, 288)\n",
      "Loaded image with shape: (512, 288)\n",
      "Loaded image with shape: (512, 288)\n",
      "Loaded image with shape: (512, 288)\n",
      "Loaded image with shape: (512, 288)\n",
      "Loaded image with shape: (512, 288)\n",
      "Loaded image with shape: (512, 288)\n",
      "Loaded image with shape: (512, 288)\n",
      "Loaded image with shape: (512, 288)\n",
      "Loaded image with shape: (512, 288)\n",
      "Loaded image with shape: (512, 288)\n",
      "Loaded image with shape: (512, 288)\n",
      "Loaded image with shape: (512, 288)\n",
      "Loaded image with shape: (512, 288)\n",
      "Loaded image with shape: (512, 288)\n",
      "Loaded image with shape: (512, 288)\n",
      "Loaded image with shape: (512, 288)\n",
      "Loaded image with shape: (512, 288)\n",
      "Loaded image with shape: (512, 288)\n",
      "Loaded image with shape: (512, 288)\n",
      "Loaded image with shape: (512, 288)\n",
      "Loaded image with shape: (512, 288)\n",
      "Loaded image with shape: (512, 288)\n",
      "Loaded image with shape: (512, 288)\n",
      "Loaded image with shape: (512, 288)\n",
      "Loaded image with shape: (512, 288)\n",
      "Loaded image with shape: (512, 288)\n",
      "Loaded image with shape: (512, 288)\n",
      "Loaded image with shape: (512, 288)\n",
      "Loaded image with shape: (512, 288)\n",
      "Loaded image with shape: (512, 288)\n",
      "Loaded image with shape: (512, 288)\n",
      "Loaded image with shape: (512, 288)\n",
      "Loaded image with shape: (512, 288)\n",
      "Loaded image with shape: (512, 288)\n",
      "Loaded image with shape: (512, 288)\n",
      "Loaded image with shape: (512, 288)\n",
      "Loaded image with shape: (512, 288)\n",
      "Loaded image with shape: (512, 288)\n",
      "Loaded image with shape: (512, 288)\n",
      "Loaded image with shape: (512, 288)\n",
      "Loaded image with shape: (512, 288)\n",
      "Loaded image with shape: (512, 288)\n",
      "Loaded image with shape: (512, 288)\n",
      "Loaded image with shape: (512, 288)\n",
      "Loaded image with shape: (512, 288)\n",
      "Loaded image with shape: (512, 288)\n",
      "Loaded image with shape: (512, 288)\n",
      "Loaded image with shape: (512, 288)\n",
      "Loaded image with shape: (512, 288)\n",
      "Loaded image with shape: (512, 288)\n",
      "Loaded image with shape: (512, 288)\n",
      "Loaded image with shape: (512, 288)\n",
      "Loaded image with shape: (512, 288)\n",
      "Loaded image with shape: (512, 288)\n",
      "Loaded image with shape: (512, 288)\n",
      "Loaded image with shape: (512, 288)\n",
      "Loaded image with shape: (512, 288)\n",
      "Loaded image with shape: (512, 288)\n",
      "Loaded image with shape: (512, 288)\n",
      "Loaded image with shape: (512, 288)\n",
      "Loaded image with shape: (512, 288)\n",
      "Loaded image with shape: (512, 288)\n",
      "Loaded image with shape: (512, 288)\n",
      "Loaded image with shape: (512, 288)\n",
      "Loaded image with shape: (512, 288)\n",
      "Loaded image with shape: (512, 288)\n",
      "Loaded image with shape: (512, 288)\n",
      "Loaded image with shape: (512, 288)\n",
      "Loaded image with shape: (512, 288)\n",
      "Loaded image with shape: (512, 288)\n",
      "Loaded image with shape: (512, 288)\n",
      "Loaded image with shape: (512, 288)\n",
      "Loaded image with shape: (512, 288)\n",
      "Loaded image with shape: (512, 288)\n",
      "Loaded image with shape: (512, 288)\n",
      "Loaded image with shape: (512, 288)\n",
      "Loaded image with shape: (512, 288)\n",
      "Loaded image with shape: (512, 288)\n",
      "Loaded image with shape: (512, 288)\n",
      "Loaded image with shape: (512, 288)\n",
      "Loaded image with shape: (512, 288)\n",
      "Loaded image with shape: (512, 288)\n",
      "Loaded image with shape: (512, 288)\n",
      "Loaded image with shape: (512, 288)\n",
      "Loaded image with shape: (512, 288)\n",
      "Loaded image with shape: (512, 288)\n",
      "Loaded image with shape: (512, 288)\n",
      "Loaded image with shape: (512, 288)\n",
      "Loaded image with shape: (512, 288)\n"
     ]
    },
    {
     "data": {
      "image/png": "[encoded data removed]",
      "text/plain": [
       "<Figure size 1200x600 with 8 Axes>"
      ]
     },
     "metadata": {},
     "output_type": "display_data"
    }
   ],
   "source": [
    "\n",
    "# Define a function to load DICOM images from a directory\n",
    "def load_dicom_images(directory):\n",
    "    dicom_files = []\n",
    "    for image_path in glob.glob(os.path.join(directory, '*')):\n",
    "        if os.path.isfile(image_path):  # Check if the path is a file (not a directory)\n",
    "            try:\n",
    "                dicom_file = pydicom.dcmread(image_path)\n",
    "                dicom_files.append(dicom_file)\n",
    "            except Exception as e:\n",
    "                print(f\"Error reading {image_path}: {e}\")\n",
    "    return dicom_files\n",
    "\n",
    "# Define a function to extract pixel data from DICOM files\n",
    "def extract_pixel_data(dicom_files):\n",
    "    images = []\n",
    "    for dicom_data in dicom_files:\n",
    "        if hasattr(dicom_data, 'pixel_array'):  # Check if pixel data is present\n",
    "            image = dicom_data.pixel_array\n",
    "            images.append(image)\n",
    "            print(f\"Loaded image with shape: {image.shape}\")  # Print the shape of each image\n",
    "    return images\n",
    "\n",
    "# Function to plot images\n",
    "def plot_ims(images, shape):\n",
    "    fig, axes = plt.subplots(shape[0], shape[1], figsize=(12, 6))\n",
    "    for i, ax in enumerate(axes.flat):\n",
    "        ax.imshow(images[i], cmap='gray')\n",
    "        ax.axis('off')\n",
    "    plt.show()\n",
    "\n",
    "# Directory containing the images\n",
    "data_dir = '/Users/eleanorbolton/Library/CloudStorage/OneDrive-UniversityofLeeds/t1_vibe_we_hand_subset/CCP_28/9730895c1e/t1_vibe_we'  # Replace with the path to your DICOM files\n",
    "\n",
    "# Load DICOM images from the directory\n",
    "dicom_files = load_dicom_images(data_dir)\n",
    "\n",
    "# Extract pixel data from the loaded DICOM files\n",
    "images = extract_pixel_data(dicom_files)\n",
    "\n",
    "# Check if there are any images loaded\n",
    "if images:\n",
    "    # Select random images\n",
    "    rand_indices = np.random.choice(len(images), 8, replace=False)\n",
    "\n",
    "    # Get the images corresponding to the random indices\n",
    "    rand_images = [images[i] for i in rand_indices]\n",
    "    \n",
    "    # Visualize selected images\n",
    "    plot_ims(rand_images, shape=(2, 4))\n",
    "else:\n",
    "    print(f\"No images found in directory: {data_dir}\")\n"
   ]
  },
  {
   "cell_type": "code",
   "execution_count": 6,
   "metadata": {},
   "outputs": [
    {
     "data": {
      "text/plain": [
       "'\\n# Define a custom transformation using MONAI\\'s Lambda transform.\\n# The transformation applies two types of noise to the image: Gaussian noise and Salt & Pepper noise.\\n# It creates a dictionary with three keys: \"orig\" (original image), \"gaus\" (image with Gaussian noise),\\n# and \"s&p\" (image with Salt & Pepper noise).\\nNoiseLambda = Lambda(\\n    lambda d: {\\n        \"orig\": d[\"im\"],  # Original image\\n        \"gaus\": torch.tensor(random_noise(d[\"im\"], mode=\"gaussian\"), dtype=torch.float32),  # Gaussian noise\\n        \"s&p\": torch.tensor(random_noise(d[\"im\"], mode=\"s&p\", salt_vs_pepper=0.1)),  # Salt & Pepper noise\\n    }\\n)\\n\\n# Define the set of transformations to apply to the training data.\\ntrain_transforms = Compose(\\n    [\\n        LoadImageD(keys=[\"im\"]),  # Load the image from file\\n        EnsureChannelFirstD(keys=[\"im\"]),  # Ensure the image has the channel dimension first (e.g., [C, H, W])\\n        ScaleIntensityD(keys=[\"im\"]),  # Scale the intensity of the image to a specific range (default 0 to 1)\\n        RandRotateD(keys=[\"im\"], range_x=np.pi / 12, prob=0.5, keep_size=True),  # Randomly rotate the image\\n        RandFlipD(keys=[\"im\"], spatial_axis=0, prob=0.5),  # Randomly flip the image along the specified axis\\n        RandZoomD(keys=[\"im\"], min_zoom=0.9, max_zoom=1.1, prob=0.5),  # Randomly zoom in/out on the image\\n        EnsureTypeD(keys=[\"im\"]),  # Ensure the image is a PyTorch tensor with appropriate data type\\n        NoiseLambda,  # Apply the custom noise transformation\\n    ]\\n)\\n\\n# Define the set of transformations to apply to the test data.\\ntest_transforms = Compose(\\n    [\\n        LoadImageD(keys=[\"im\"]),  # Load the image from file\\n        EnsureChannelFirstD(keys=[\"im\"]),  # Ensure the image has the channel dimension first\\n        ScaleIntensityD(keys=[\"im\"]),  # Scale the intensity of the image to a specific range\\n        EnsureTypeD(keys=[\"im\"]),  # Ensure the image is a PyTorch tensor with appropriate data type\\n        NoiseLambda,  # Apply the custom noise transformation\\n    ]\\n)\\n'"
      ]
     },
     "execution_count": 6,
     "metadata": {},
     "output_type": "execute_result"
    }
   ],
   "source": [
    "'''\n",
    "# Define a custom transformation using MONAI's Lambda transform.\n",
    "# The transformation applies two types of noise to the image: Gaussian noise and Salt & Pepper noise.\n",
    "# It creates a dictionary with three keys: \"orig\" (original image), \"gaus\" (image with Gaussian noise),\n",
    "# and \"s&p\" (image with Salt & Pepper noise).\n",
    "NoiseLambda = Lambda(\n",
    "    lambda d: {\n",
    "        \"orig\": d[\"im\"],  # Original image\n",
    "        \"gaus\": torch.tensor(random_noise(d[\"im\"], mode=\"gaussian\"), dtype=torch.float32),  # Gaussian noise\n",
    "        \"s&p\": torch.tensor(random_noise(d[\"im\"], mode=\"s&p\", salt_vs_pepper=0.1)),  # Salt & Pepper noise\n",
    "    }\n",
    ")\n",
    "\n",
    "# Define the set of transformations to apply to the training data.\n",
    "train_transforms = Compose(\n",
    "    [\n",
    "        LoadImageD(keys=[\"im\"]),  # Load the image from file\n",
    "        EnsureChannelFirstD(keys=[\"im\"]),  # Ensure the image has the channel dimension first (e.g., [C, H, W])\n",
    "        ScaleIntensityD(keys=[\"im\"]),  # Scale the intensity of the image to a specific range (default 0 to 1)\n",
    "        RandRotateD(keys=[\"im\"], range_x=np.pi / 12, prob=0.5, keep_size=True),  # Randomly rotate the image\n",
    "        RandFlipD(keys=[\"im\"], spatial_axis=0, prob=0.5),  # Randomly flip the image along the specified axis\n",
    "        RandZoomD(keys=[\"im\"], min_zoom=0.9, max_zoom=1.1, prob=0.5),  # Randomly zoom in/out on the image\n",
    "        EnsureTypeD(keys=[\"im\"]),  # Ensure the image is a PyTorch tensor with appropriate data type\n",
    "        NoiseLambda,  # Apply the custom noise transformation\n",
    "    ]\n",
    ")\n",
    "\n",
    "# Define the set of transformations to apply to the test data.\n",
    "test_transforms = Compose(\n",
    "    [\n",
    "        LoadImageD(keys=[\"im\"]),  # Load the image from file\n",
    "        EnsureChannelFirstD(keys=[\"im\"]),  # Ensure the image has the channel dimension first\n",
    "        ScaleIntensityD(keys=[\"im\"]),  # Scale the intensity of the image to a specific range\n",
    "        EnsureTypeD(keys=[\"im\"]),  # Ensure the image is a PyTorch tensor with appropriate data type\n",
    "        NoiseLambda,  # Apply the custom noise transformation\n",
    "    ]\n",
    ")\n",
    "'''"
   ]
  },
  {
   "cell_type": "code",
   "execution_count": 7,
   "metadata": {},
   "outputs": [],
   "source": [
    "'''\n",
    "\n",
    "NoiseLambda = Lambda(\n",
    "    lambda d: {\n",
    "        \"im\": d[\"im\"],  # Preserve the original image key\n",
    "        \"orig\": d[\"im\"].clone(),  # Store a copy of the original image\n",
    "        \"gaus\": torch.tensor(random_noise(d[\"im\"].numpy(), mode=\"gaussian\"), dtype=torch.float32),\n",
    "        \"s&p\": torch.tensor(random_noise(d[\"im\"].numpy(), mode=\"s&p\", salt_vs_pepper=0.1), dtype=torch.float32),\n",
    "    }\n",
    ")\n",
    "\n",
    "\n",
    "train_transforms = Compose(\n",
    "    [\n",
    "        AddChannelD(keys=[\"im\"]),\n",
    "        ScaleIntensityD(keys=[\"im\"]),\n",
    "        RandRotateD(keys=[\"im\"], range_x=np.pi / 12, prob=0.5, keep_size=True),\n",
    "        RandFlipD(keys=[\"im\"], spatial_axis=0, prob=0.5),\n",
    "        RandZoomD(keys=[\"im\"], min_zoom=0.9, max_zoom=1.1, prob=0.5),\n",
    "        EnsureTypeD(keys=[\"im\"]),\n",
    "        NoiseLambda,\n",
    "    ]\n",
    ")\n",
    "\n",
    "test_transforms = Compose(\n",
    "    [\n",
    "        AddChannelD(keys=[\"im\"]),\n",
    "        ScaleIntensityD(keys=[\"im\"]),\n",
    "        EnsureTypeD(keys=[\"im\"]),\n",
    "        NoiseLambda,\n",
    "    ]\n",
    ")'''\n",
    "\n",
    "from monai.transforms import Compose, ScaleIntensityD, RandRotateD, RandFlipD, RandZoomD, EnsureTypeD, Lambda\n",
    "import torch\n",
    "import numpy as np\n",
    "from skimage.util import random_noise\n",
    "'''\n",
    "# Save the original image before applying transformations\n",
    "SaveOriginalLambda = Lambda(\n",
    "    lambda d: {\n",
    "        \"im\": d[\"im\"],  # Original image key\n",
    "        \"orig\": d[\"im\"].clone(),  # Save a clone of the original image\n",
    "    }\n",
    ")\n",
    "\n",
    "# Add noise transformations while preserving the original\n",
    "NoiseLambda = Lambda(\n",
    "    lambda d: {\n",
    "        **d,  # Keep the original keys\n",
    "        \"gaus\": torch.tensor(random_noise(d[\"orig\"].numpy(), mode=\"gaussian\"), dtype=torch.float32),  # Gaussian noise on original\n",
    "        \"s&p\": torch.tensor(random_noise(d[\"orig\"].numpy(), mode=\"s&p\", salt_vs_pepper=0.1), dtype=torch.float32),  # Salt & Pepper noise on original\n",
    "    }\n",
    ")'''\n",
    "'''\n",
    "train_transforms = Compose(\n",
    "    [\n",
    "        # AddChannelD(keys=[\"im\"]),\n",
    "        SaveOriginalLambda,  # Save the original image before any transformations\n",
    "        ScaleIntensityD(keys=[\"im\"]),\n",
    "        RandRotateD(keys=[\"im\"], range_x=np.pi / 12, prob=0.5, keep_size=True),\n",
    "        RandFlipD(keys=[\"im\"], spatial_axis=0, prob=0.5),\n",
    "        RandZoomD(keys=[\"im\"], min_zoom=0.9, max_zoom=1.1, prob=0.5),\n",
    "        EnsureTypeD(keys=[\"im\"]),\n",
    "        #NoiseLambda,  # Apply noise to the stored original image\n",
    "    ]\n",
    ")\n",
    "\n",
    "test_transforms = Compose(\n",
    "    [\n",
    "        # AddChannelD(keys=[\"im\"]),\n",
    "        SaveOriginalLambda,  # Save the original image before applying noise\n",
    "        ScaleIntensityD(keys=[\"im\"]),\n",
    "        EnsureTypeD(keys=[\"im\"]),\n",
    "        #NoiseLambda,  # Apply noise to the stored original image\n",
    "    ]\n",
    ")'''\n",
    "\n",
    "train_transforms = RandSpatialCropd(keys=[\"im\"], roi_size=(96, 96, 96), random_center=True, random_size=False)\n",
    "test_transforms = RandSpatialCropd(keys=[\"im\"], roi_size=(96, 96, 96), random_center=True, random_size=False)\n"
   ]
  },
  {
   "cell_type": "code",
   "execution_count": 8,
   "metadata": {},
   "outputs": [],
   "source": [
    "batch_size = 1\n",
    "num_workers = 0\n",
    "\n",
    "# Select a few subjects (e.g., the first three subjects)\n",
    "train_subset_df = train_df.iloc[:80]\n",
    "# Initialize the dataset with the selected subjects\n",
    "train_ds = HandScanDataset2(labels_df=train_subset_df, data_dir=training_data_dir, transform=train_transforms)\n",
    "# Create a data loader for testing\n",
    "train_loader = DataLoader(train_ds, batch_size=batch_size, shuffle=True, num_workers=num_workers)\n",
    "\n",
    "# Select a few subjects (e.g., the first three subjects)\n",
    "valid_subset_df = valid_df.iloc[:20]\n",
    "# Initialize the dataset with the selected subjects\n",
    "train_dataset = HandScanDataset2(labels_df=valid_subset_df, data_dir=training_data_dir, transform=test_transforms)\n",
    "# Create a data loader for testing\n",
    "test_loader = DataLoader(train_dataset, batch_size=batch_size, shuffle=False, num_workers=num_workers)"
   ]
  },
  {
   "cell_type": "code",
   "execution_count": 9,
   "metadata": {},
   "outputs": [],
   "source": [
    "# Define the device to be used for training\n",
    "device = torch.device(\"cuda\" if torch.cuda.is_available() else \"cpu\")\n"
   ]
  },
  {
   "cell_type": "code",
   "execution_count": 10,
   "metadata": {},
   "outputs": [],
   "source": [
    "class EarlyStopper:\n",
    "    def __init__(self, patience=1, min_delta=0):\n",
    "        self.patience = patience\n",
    "        self.min_delta = min_delta\n",
    "        self.counter = 0\n",
    "        self.min_validation_loss = float('inf')\n",
    "        self.activation_count = 0\n",
    "\n",
    "    def early_stop(self, validation_loss):\n",
    "        if validation_loss < self.min_validation_loss:\n",
    "            self.min_validation_loss = validation_loss\n",
    "            self.counter = 0\n",
    "        elif validation_loss > (self.min_validation_loss + self.min_delta):\n",
    "            self.counter += 1\n",
    "            if self.counter >= self.patience:\n",
    "                self.activation_count += 1\n",
    "                return True\n",
    "        return False\n",
    "\n",
    "# Instantiate EarlyStopper\n",
    "early_stopper = EarlyStopper(patience=3, min_delta=0.001)"
   ]
  },
  {
   "cell_type": "code",
   "execution_count": 11,
   "metadata": {},
   "outputs": [],
   "source": [
    "import matplotlib.pyplot as plt\n",
    "\n",
    "def plot_loss_curves(loss_values, val_loss_values, early_stop_epoch):\n",
    "    \"\"\"\n",
    "    Plots the training and validation loss curves.\n",
    "\n",
    "    Args:\n",
    "        loss_values (list): List of training loss values.\n",
    "        val_loss_values (list): List of validation loss values.\n",
    "        early_stop_epoch (int): Epoch at which early stopping was triggered.\n",
    "    \"\"\"\n",
    "    # Convert the loss values to NumPy arrays for easier manipulation\n",
    "    loss_values = np.array(loss_values)\n",
    "    val_loss_values = np.array(val_loss_values)\n",
    "\n",
    "    # Figure out how many epochs there were\n",
    "    epochs = range(len(loss_values))\n",
    "\n",
    "    # Setup a plot\n",
    "    plt.figure(figsize=(10, 5))\n",
    "\n",
    "    # Plot the loss\n",
    "    plt.plot(epochs, loss_values, label='Training Loss')\n",
    "    plt.plot(epochs, val_loss_values, label='Validation Loss')\n",
    "    plt.axvline(x=early_stop_epoch, color='red', linestyle='--', label='Early Stop Epoch')\n",
    "    plt.title('Loss')\n",
    "    plt.xlabel('Epochs')\n",
    "    plt.ylabel('Loss')\n",
    "    plt.legend()\n",
    "\n",
    "    plt.show()\n",
    "\n"
   ]
  },
  {
   "cell_type": "code",
   "execution_count": 12,
   "metadata": {},
   "outputs": [
    {
     "data": {
      "text/plain": [
       "'def train(dict_key_for_training, max_epochs=10, learning_rate=1e-3):\\n    model = AutoEncoder(\\n        spatial_dims=3,\\n        in_channels=1,\\n        out_channels=1,\\n        channels=(4, 8, 16, 32),\\n        strides=(2, 2, 2, 2),\\n    ).to(device)\\n\\n    # Create loss function and optimizer\\n    loss_function = torch.nn.MSELoss()\\n    optimizer = torch.optim.Adam(model.parameters(), learning_rate)\\n\\n    epoch_loss_values = []\\n\\n    t = trange(max_epochs, desc=f\"{dict_key_for_training} -- epoch 0, avg loss: inf\", leave=True)\\n    for epoch in t:\\n        model.train()\\n        epoch_loss = 0\\n        step = 0\\n        for batch_data in train_loader:\\n            step += 1\\n\\n            # Check if the key exists in batch_data\\n            if dict_key_for_training not in batch_data:\\n                raise KeyError(f\"Key \\'{dict_key_for_training}\\' not found in batch data. Available keys: {batch_data.keys()}\")\\n\\n            inputs = batch_data[dict_key_for_training].squeeze(dim=2).to(device)\\n            optimizer.zero_grad()\\n            outputs = model(inputs)\\n\\n            # Ensure the \"orig\" key is present\\n            if \"orig\" not in batch_data:\\n                raise KeyError(\"\\'orig\\' key not found in batch data. Available keys: {batch_data.keys()}\")\\n            loss = loss_function(outputs, batch_data[\"orig\"].to(device))\\n            loss.backward()\\n            optimizer.step()\\n            epoch_loss += loss.item()\\n        \\n        epoch_loss /= step\\n        epoch_loss_values.append(epoch_loss)\\n        t.set_description(\\n            f\"{dict_key_for_training} -- epoch {epoch + 1}\" + f\", average loss: {epoch_loss:.4f}\"\\n        )\\n    \\n    return model, epoch_loss_values\\n'"
      ]
     },
     "execution_count": 12,
     "metadata": {},
     "output_type": "execute_result"
    }
   ],
   "source": [
    "'''def train(dict_key_for_training, max_epochs=10, learning_rate=1e-3):\n",
    "    model = AutoEncoder(\n",
    "        spatial_dims=3,\n",
    "        in_channels=1,\n",
    "        out_channels=1,\n",
    "        channels=(4, 8, 16, 32),\n",
    "        strides=(2, 2, 2, 2),\n",
    "    ).to(device)\n",
    "\n",
    "    # Create loss function and optimizer\n",
    "    loss_function = torch.nn.MSELoss()\n",
    "    optimizer = torch.optim.Adam(model.parameters(), learning_rate)\n",
    "\n",
    "    epoch_loss_values = []\n",
    "\n",
    "    t = trange(max_epochs, desc=f\"{dict_key_for_training} -- epoch 0, avg loss: inf\", leave=True)\n",
    "    for epoch in t:\n",
    "        model.train()\n",
    "        epoch_loss = 0\n",
    "        step = 0\n",
    "        for batch_data in train_loader:\n",
    "            step += 1\n",
    "\n",
    "            # Check if the key exists in batch_data\n",
    "            if dict_key_for_training not in batch_data:\n",
    "                raise KeyError(f\"Key '{dict_key_for_training}' not found in batch data. Available keys: {batch_data.keys()}\")\n",
    "\n",
    "            inputs = batch_data[dict_key_for_training].squeeze(dim=2).to(device)\n",
    "            optimizer.zero_grad()\n",
    "            outputs = model(inputs)\n",
    "\n",
    "            # Ensure the \"orig\" key is present\n",
    "            if \"orig\" not in batch_data:\n",
    "                raise KeyError(\"'orig' key not found in batch data. Available keys: {batch_data.keys()}\")\n",
    "            loss = loss_function(outputs, batch_data[\"orig\"].to(device))\n",
    "            loss.backward()\n",
    "            optimizer.step()\n",
    "            epoch_loss += loss.item()\n",
    "        \n",
    "        epoch_loss /= step\n",
    "        epoch_loss_values.append(epoch_loss)\n",
    "        t.set_description(\n",
    "            f\"{dict_key_for_training} -- epoch {epoch + 1}\" + f\", average loss: {epoch_loss:.4f}\"\n",
    "        )\n",
    "    \n",
    "    return model, epoch_loss_values\n",
    "'''"
   ]
  },
  {
   "cell_type": "code",
   "execution_count": 13,
   "metadata": {},
   "outputs": [
    {
     "data": {
      "text/plain": [
       "'output_dir = \"./output\"\\nlog_dir = \"./logs\"\\n\\n# Set up basic logging\\nlogging.basicConfig(level=logging.INFO)\\nlogger = logging.getLogger(\"swin_transformer_3d\")\\n\\n# Create a TensorBoard writer\\nwriter = SummaryWriter(log_dir=log_dir)\\n\\n# Contrastive Loss Function\\ndef contrastive_loss(zsim, zlabel, alpha=0.05):\\n    bce_loss = nn.BCEWithLogitsLoss()\\n    return alpha * bce_loss(zsim, zlabel)\\n\\ndef train(dict_key_for_training, max_epochs=10, learning_rate=1e-3, alpha=0.05, patience=5):\\n    model = AutoEncoder(\\n        spatial_dims=3,\\n        in_channels=1,\\n        out_channels=1,\\n        channels=(4, 8, 16, 32),\\n        strides=(2, 2, 2, 2),\\n    ).to(device)\\n\\n    loss_function = nn.MSELoss()\\n    optimizer = optim.Adam(model.parameters(), lr=learning_rate)\\n    early_stopper = EarlyStopper(patience=patience)\\n\\n    epoch_loss_values = []\\n\\n    for epoch in range(max_epochs):\\n        model.train()\\n        epoch_loss = 0\\n        step = 0\\n        for batch_data in train_loader:\\n            step += 1\\n\\n            if dict_key_for_training not in batch_data:\\n                raise KeyError(f\"Key \\'{dict_key_for_training}\\' not found in batch data. Available keys: {batch_data.keys()}\")\\n\\n            inputs = batch_data[dict_key_for_training].squeeze(dim=2).to(device)\\n            optimizer.zero_grad()\\n            outputs = model(inputs)\\n\\n            if \"orig\" not in batch_data:\\n                raise KeyError(\"\\'orig\\' key not found in batch data. Available keys: {batch_data.keys()}\")\\n\\n            loss = loss_function(outputs, batch_data[\"orig\"].to(device))\\n            loss.backward()\\n            optimizer.step()\\n            epoch_loss += loss.item()\\n\\n        epoch_loss /= step\\n        epoch_loss_values.append(epoch_loss)\\n\\n        logger.info(f\"Epoch {epoch + 1}/{max_epochs}, Loss: {epoch_loss:.4f}\")\\n\\n        # Validation loop\\n        total_val_loss = 0.0\\n        model.eval()\\n        with torch.no_grad():\\n            for batch_data in test_loader:\\n                inputs = batch_data[dict_key_for_training].squeeze(dim=2).to(device)\\n                outputs = model(inputs)\\n\\n                loss_L1 = loss_function(outputs, batch_data[\"orig\"].to(device))\\n                total_val_loss += loss_L1.item()\\n\\n        avg_val_loss = total_val_loss / len(test_loader)\\n        logger.info(f\"Validation Loss: {avg_val_loss:.4f}\")\\n\\n        # Early stopping check\\n        if early_stopper.early_stop(avg_val_loss):\\n            if early_stopper.activation_count == 1:\\n                logger.info(f\"\\nEarly stopping criteria reached!\\nSaving model parameters to {output_dir}/optimal_model_weights_epoch_{epoch + 1}.pth\\n\")\\n                opt_model_filepath = f\"{output_dir}/optimal_model_weights_epoch_{epoch + 1}.pth\"\\n                torch.save(model.state_dict(), opt_model_filepath)\\n\\n        # Logging to TensorBoard\\n        writer.add_scalar(\\'Loss/train\\', epoch_loss, epoch)\\n        writer.add_scalar(\\'Loss/validation\\', avg_val_loss, epoch)\\n\\n    return model, epoch_loss_values\\n'"
      ]
     },
     "execution_count": 13,
     "metadata": {},
     "output_type": "execute_result"
    }
   ],
   "source": [
    "'''output_dir = \"./output\"\n",
    "log_dir = \"./logs\"\n",
    "\n",
    "# Set up basic logging\n",
    "logging.basicConfig(level=logging.INFO)\n",
    "logger = logging.getLogger(\"swin_transformer_3d\")\n",
    "\n",
    "# Create a TensorBoard writer\n",
    "writer = SummaryWriter(log_dir=log_dir)\n",
    "\n",
    "# Contrastive Loss Function\n",
    "def contrastive_loss(zsim, zlabel, alpha=0.05):\n",
    "    bce_loss = nn.BCEWithLogitsLoss()\n",
    "    return alpha * bce_loss(zsim, zlabel)\n",
    "\n",
    "def train(dict_key_for_training, max_epochs=10, learning_rate=1e-3, alpha=0.05, patience=5):\n",
    "    model = AutoEncoder(\n",
    "        spatial_dims=3,\n",
    "        in_channels=1,\n",
    "        out_channels=1,\n",
    "        channels=(4, 8, 16, 32),\n",
    "        strides=(2, 2, 2, 2),\n",
    "    ).to(device)\n",
    "\n",
    "    loss_function = nn.MSELoss()\n",
    "    optimizer = optim.Adam(model.parameters(), lr=learning_rate)\n",
    "    early_stopper = EarlyStopper(patience=patience)\n",
    "\n",
    "    epoch_loss_values = []\n",
    "\n",
    "    for epoch in range(max_epochs):\n",
    "        model.train()\n",
    "        epoch_loss = 0\n",
    "        step = 0\n",
    "        for batch_data in train_loader:\n",
    "            step += 1\n",
    "\n",
    "            if dict_key_for_training not in batch_data:\n",
    "                raise KeyError(f\"Key '{dict_key_for_training}' not found in batch data. Available keys: {batch_data.keys()}\")\n",
    "\n",
    "            inputs = batch_data[dict_key_for_training].squeeze(dim=2).to(device)\n",
    "            optimizer.zero_grad()\n",
    "            outputs = model(inputs)\n",
    "\n",
    "            if \"orig\" not in batch_data:\n",
    "                raise KeyError(\"'orig' key not found in batch data. Available keys: {batch_data.keys()}\")\n",
    "\n",
    "            loss = loss_function(outputs, batch_data[\"orig\"].to(device))\n",
    "            loss.backward()\n",
    "            optimizer.step()\n",
    "            epoch_loss += loss.item()\n",
    "\n",
    "        epoch_loss /= step\n",
    "        epoch_loss_values.append(epoch_loss)\n",
    "\n",
    "        logger.info(f\"Epoch {epoch + 1}/{max_epochs}, Loss: {epoch_loss:.4f}\")\n",
    "\n",
    "        # Validation loop\n",
    "        total_val_loss = 0.0\n",
    "        model.eval()\n",
    "        with torch.no_grad():\n",
    "            for batch_data in test_loader:\n",
    "                inputs = batch_data[dict_key_for_training].squeeze(dim=2).to(device)\n",
    "                outputs = model(inputs)\n",
    "\n",
    "                loss_L1 = loss_function(outputs, batch_data[\"orig\"].to(device))\n",
    "                total_val_loss += loss_L1.item()\n",
    "\n",
    "        avg_val_loss = total_val_loss / len(test_loader)\n",
    "        logger.info(f\"Validation Loss: {avg_val_loss:.4f}\")\n",
    "\n",
    "        # Early stopping check\n",
    "        if early_stopper.early_stop(avg_val_loss):\n",
    "            if early_stopper.activation_count == 1:\n",
    "                logger.info(f\"\\nEarly stopping criteria reached!\\nSaving model parameters to {output_dir}/optimal_model_weights_epoch_{epoch + 1}.pth\\n\")\n",
    "                opt_model_filepath = f\"{output_dir}/optimal_model_weights_epoch_{epoch + 1}.pth\"\n",
    "                torch.save(model.state_dict(), opt_model_filepath)\n",
    "\n",
    "        # Logging to TensorBoard\n",
    "        writer.add_scalar('Loss/train', epoch_loss, epoch)\n",
    "        writer.add_scalar('Loss/validation', avg_val_loss, epoch)\n",
    "\n",
    "    return model, epoch_loss_values\n",
    "'''"
   ]
  },
  {
   "cell_type": "code",
   "execution_count": 14,
   "metadata": {},
   "outputs": [
    {
     "name": "stderr",
     "output_type": "stream",
     "text": [
      "/Users/eleanorbolton/anaconda3/lib/python3.11/site-packages/monai/utils/deprecate_utils.py:221: FutureWarning: monai.networks.nets.swin_unetr SwinUNETR.__init__:img_size: Argument `img_size` has been deprecated since version 1.3. It will be removed in version 1.5. The img_size argument is not required anymore and checks on the input size are run during forward().\n",
      "  warn_deprecated(argname, msg, warning_category)\n"
     ]
    },
    {
     "name": "stdout",
     "output_type": "stream",
     "text": [
      "2024-08-27 13:56:19,903 - INFO - Expected md5 is None, skip md5 check for file /Users/eleanorbolton/Documents/project_repo/predicting-rheumatoid-arthritis-progression-using-hand-mri-scans-from-at-risk-patients/Predicting-Rheumatoid-Arthritis-Progression-Using-Hand-MRI-Scans-from-At-Risk-Patients/predicting-rheumatoid-arthritis-progression-using-hand-mri-scans-from-at-risk-patients/src/models/ssl_pretrained_weights.pth.\n",
      "2024-08-27 13:56:19,903 - INFO - File exists: /Users/eleanorbolton/Documents/project_repo/predicting-rheumatoid-arthritis-progression-using-hand-mri-scans-from-at-risk-patients/Predicting-Rheumatoid-Arthritis-Progression-Using-Hand-MRI-Scans-from-At-Risk-Patients/predicting-rheumatoid-arthritis-progression-using-hand-mri-scans-from-at-risk-patients/src/models/ssl_pretrained_weights.pth, skipped downloading.\n",
      "2024-08-27 13:56:20,366 - INFO - 'dst' model updated: 159 of 159 variables.\n"
     ]
    }
   ],
   "source": [
    "from monai.apps import download_url\n",
    "pre_training_weights_path='/Users/eleanorbolton/Documents/project_repo/predicting-rheumatoid-arthritis-progression-using-hand-mri-scans-from-at-risk-patients/Predicting-Rheumatoid-Arthritis-Progression-Using-Hand-MRI-Scans-from-At-Risk-Patients/predicting-rheumatoid-arthritis-progression-using-hand-mri-scans-from-at-risk-patients/src/models/ssl_pretrained_weights.pth'\n",
    "\n",
    "swin_model = SwinUNETR(\n",
    "    img_size=(32, 96, 96),\n",
    "    in_channels=1,\n",
    "    out_channels=1,  \n",
    "    feature_size=48,  # Match the pre-trained model\n",
    "    depths=(2, 2, 2, 2),  # Match the pre-trained model\n",
    "    num_heads=(3, 6, 12, 24),  # Match the pre-trained model\n",
    "    spatial_dims=3,\n",
    "    use_checkpoint=False  # You can keep this as True if you need it\n",
    ")\n",
    "\n",
    "resource = (\n",
    "    \"https://github.com/Project-MONAI/MONAI-extra-test-data/releases/download/0.8.1/ssl_pretrained_weights.pth\"\n",
    ")\n",
    "download_url(resource, pre_training_weights_path)\n",
    "ssl_weights = torch.load(pre_training_weights_path, map_location=torch.device('cpu'))[\"model\"]\n",
    "\n",
    "dst_dict, loaded, not_loaded = copy_model_state(swin_model, ssl_weights, filter_func=filter_swinunetr)"
   ]
  },
  {
   "cell_type": "code",
   "execution_count": 15,
   "metadata": {},
   "outputs": [
    {
     "name": "stdout",
     "output_type": "stream",
     "text": [
      "Fine-tuning layer: swinViT.layers3.0.blocks.0.norm1.weight\n",
      "Fine-tuning layer: swinViT.layers3.0.blocks.0.norm1.bias\n",
      "Fine-tuning layer: swinViT.layers3.0.blocks.0.attn.relative_position_bias_table\n",
      "Fine-tuning layer: swinViT.layers3.0.blocks.0.attn.qkv.weight\n",
      "Fine-tuning layer: swinViT.layers3.0.blocks.0.attn.qkv.bias\n",
      "Fine-tuning layer: swinViT.layers3.0.blocks.0.attn.proj.weight\n",
      "Fine-tuning layer: swinViT.layers3.0.blocks.0.attn.proj.bias\n",
      "Fine-tuning layer: swinViT.layers3.0.blocks.0.norm2.weight\n",
      "Fine-tuning layer: swinViT.layers3.0.blocks.0.norm2.bias\n",
      "Fine-tuning layer: swinViT.layers3.0.blocks.0.mlp.linear1.weight\n",
      "Fine-tuning layer: swinViT.layers3.0.blocks.0.mlp.linear1.bias\n",
      "Fine-tuning layer: swinViT.layers3.0.blocks.0.mlp.linear2.weight\n",
      "Fine-tuning layer: swinViT.layers3.0.blocks.0.mlp.linear2.bias\n",
      "Fine-tuning layer: swinViT.layers3.0.blocks.1.norm1.weight\n",
      "Fine-tuning layer: swinViT.layers3.0.blocks.1.norm1.bias\n",
      "Fine-tuning layer: swinViT.layers3.0.blocks.1.attn.relative_position_bias_table\n",
      "Fine-tuning layer: swinViT.layers3.0.blocks.1.attn.qkv.weight\n",
      "Fine-tuning layer: swinViT.layers3.0.blocks.1.attn.qkv.bias\n",
      "Fine-tuning layer: swinViT.layers3.0.blocks.1.attn.proj.weight\n",
      "Fine-tuning layer: swinViT.layers3.0.blocks.1.attn.proj.bias\n",
      "Fine-tuning layer: swinViT.layers3.0.blocks.1.norm2.weight\n",
      "Fine-tuning layer: swinViT.layers3.0.blocks.1.norm2.bias\n",
      "Fine-tuning layer: swinViT.layers3.0.blocks.1.mlp.linear1.weight\n",
      "Fine-tuning layer: swinViT.layers3.0.blocks.1.mlp.linear1.bias\n",
      "Fine-tuning layer: swinViT.layers3.0.blocks.1.mlp.linear2.weight\n",
      "Fine-tuning layer: swinViT.layers3.0.blocks.1.mlp.linear2.bias\n",
      "Fine-tuning layer: swinViT.layers3.0.downsample.reduction.weight\n",
      "Fine-tuning layer: swinViT.layers3.0.downsample.norm.weight\n",
      "Fine-tuning layer: swinViT.layers3.0.downsample.norm.bias\n",
      "Fine-tuning layer: swinViT.layers4.0.blocks.0.norm1.weight\n",
      "Fine-tuning layer: swinViT.layers4.0.blocks.0.norm1.bias\n",
      "Fine-tuning layer: swinViT.layers4.0.blocks.0.attn.relative_position_bias_table\n",
      "Fine-tuning layer: swinViT.layers4.0.blocks.0.attn.qkv.weight\n",
      "Fine-tuning layer: swinViT.layers4.0.blocks.0.attn.qkv.bias\n",
      "Fine-tuning layer: swinViT.layers4.0.blocks.0.attn.proj.weight\n",
      "Fine-tuning layer: swinViT.layers4.0.blocks.0.attn.proj.bias\n",
      "Fine-tuning layer: swinViT.layers4.0.blocks.0.norm2.weight\n",
      "Fine-tuning layer: swinViT.layers4.0.blocks.0.norm2.bias\n",
      "Fine-tuning layer: swinViT.layers4.0.blocks.0.mlp.linear1.weight\n",
      "Fine-tuning layer: swinViT.layers4.0.blocks.0.mlp.linear1.bias\n",
      "Fine-tuning layer: swinViT.layers4.0.blocks.0.mlp.linear2.weight\n",
      "Fine-tuning layer: swinViT.layers4.0.blocks.0.mlp.linear2.bias\n",
      "Fine-tuning layer: swinViT.layers4.0.blocks.1.norm1.weight\n",
      "Fine-tuning layer: swinViT.layers4.0.blocks.1.norm1.bias\n",
      "Fine-tuning layer: swinViT.layers4.0.blocks.1.attn.relative_position_bias_table\n",
      "Fine-tuning layer: swinViT.layers4.0.blocks.1.attn.qkv.weight\n",
      "Fine-tuning layer: swinViT.layers4.0.blocks.1.attn.qkv.bias\n",
      "Fine-tuning layer: swinViT.layers4.0.blocks.1.attn.proj.weight\n",
      "Fine-tuning layer: swinViT.layers4.0.blocks.1.attn.proj.bias\n",
      "Fine-tuning layer: swinViT.layers4.0.blocks.1.norm2.weight\n",
      "Fine-tuning layer: swinViT.layers4.0.blocks.1.norm2.bias\n",
      "Fine-tuning layer: swinViT.layers4.0.blocks.1.mlp.linear1.weight\n",
      "Fine-tuning layer: swinViT.layers4.0.blocks.1.mlp.linear1.bias\n",
      "Fine-tuning layer: swinViT.layers4.0.blocks.1.mlp.linear2.weight\n",
      "Fine-tuning layer: swinViT.layers4.0.blocks.1.mlp.linear2.bias\n",
      "Fine-tuning layer: swinViT.layers4.0.downsample.reduction.weight\n",
      "Fine-tuning layer: swinViT.layers4.0.downsample.norm.weight\n",
      "Fine-tuning layer: swinViT.layers4.0.downsample.norm.bias\n",
      "Fine-tuning layer: encoder4.layer.conv1.conv.weight\n",
      "Fine-tuning layer: encoder4.layer.conv2.conv.weight\n",
      "Fine-tuning layer: encoder10.layer.conv1.conv.weight\n",
      "Fine-tuning layer: encoder10.layer.conv2.conv.weight\n",
      "Fine-tuning layer: decoder5.transp_conv.conv.weight\n",
      "Fine-tuning layer: decoder5.conv_block.conv1.conv.weight\n",
      "Fine-tuning layer: decoder5.conv_block.conv2.conv.weight\n",
      "Fine-tuning layer: decoder5.conv_block.conv3.conv.weight\n",
      "Fine-tuning layer: decoder4.transp_conv.conv.weight\n",
      "Fine-tuning layer: decoder4.conv_block.conv1.conv.weight\n",
      "Fine-tuning layer: decoder4.conv_block.conv2.conv.weight\n",
      "Fine-tuning layer: decoder4.conv_block.conv3.conv.weight\n",
      "Fine-tuning layer: out.conv.conv.weight\n",
      "Fine-tuning layer: out.conv.conv.bias\n"
     ]
    }
   ],
   "source": [
    "# Freeze specific layers if you don't want them to be updated during fine-tuning\n",
    "for name, param in swin_model.named_parameters():\n",
    "    if \"swinViT.layers1\" in name or \"swinViT.layers2\" in name:\n",
    "        param.requires_grad = False  # Freeze these layers\n",
    "\n",
    "\n",
    "# Freeze specific layers if you don't want them to be updated during fine-tuning\n",
    "for name, param in swin_model.named_parameters():\n",
    "    if \"patch_embed\" in name:\n",
    "        param.requires_grad = False  # Freeze these layers\n",
    "\n",
    "\n",
    "for name, param in swin_model.named_parameters():\n",
    "    if 'encoder' in name and 'encoder4' not in name and 'encoder10' not in name:\n",
    "        param.requires_grad = False  # Freeze these layers\n",
    "\n",
    "# Freeze some parts of the decoder if needed\n",
    "for name, param in swin_model.named_parameters():\n",
    "     if 'decoder' in name and 'decoder4' not in name and 'decoder5' not in name:\n",
    "         param.requires_grad = False\n",
    "\n",
    "# Print which layers will be fine-tuned\n",
    "for name, param in swin_model.named_parameters():\n",
    "    if param.requires_grad:\n",
    "        print(f\"Fine-tuning layer: {name}\")"
   ]
  },
  {
   "cell_type": "code",
   "execution_count": 16,
   "metadata": {},
   "outputs": [
    {
     "data": {
      "text/plain": [
       "'/Users/eleanorbolton/Documents/project_repo/predicting-rheumatoid-arthritis-progression-using-hand-mri-scans-from-at-risk-patients/Predicting-Rheumatoid-Arthritis-Progression-Using-Hand-MRI-Scans-from-At-Risk-Patients/predicting-rheumatoid-arthritis-progression-using-hand-mri-scans-from-at-risk-patients/src/results'"
      ]
     },
     "execution_count": 16,
     "metadata": {},
     "output_type": "execute_result"
    }
   ],
   "source": [
    "# Define path to where I will save results\n",
    "ResultsPath = '/Users/eleanorbolton/Documents/project_repo/predicting-rheumatoid-arthritis-progression-using-hand-mri-scans-from-at-risk-patients/Predicting-Rheumatoid-Arthritis-Progression-Using-Hand-MRI-Scans-from-At-Risk-Patients/predicting-rheumatoid-arthritis-progression-using-hand-mri-scans-from-at-risk-patients/src/results'\n",
    "os.makedirs(ResultsPath, exist_ok=True)\n",
    "ResultsPath"
   ]
  },
  {
   "cell_type": "code",
   "execution_count": 17,
   "metadata": {},
   "outputs": [],
   "source": [
    "import logging\n",
    "import torch\n",
    "import torch.nn as nn\n",
    "import torch.optim as optim\n",
    "from torch.utils.tensorboard import SummaryWriter\n",
    "from monai.networks.nets import SwinUNETR  # Import SwinUNETR from MONAI\n",
    "from monai.data import DataLoader\n",
    "from monai.utils import set_determinism\n",
    "\n",
    "# Initialize paths\n",
    "\n",
    "log_dir = ResultsPath\n",
    "\n",
    "# Set up basic logging\n",
    "logging.basicConfig(level=logging.INFO)\n",
    "logger = logging.getLogger(\"swin_transformer_3d\")\n",
    "\n",
    "# Create a TensorBoard writer\n",
    "writer = SummaryWriter(log_dir=log_dir)\n",
    "\n",
    "\n",
    "# Training function using SwinUNETR\n",
    "def train(train_loader, test_loader, max_epochs=10, learning_rate=1e-3, patience=5, model=None):\n",
    "    # Initialize the SwinUNETR model\n",
    "    logger.info('Initializing model')\n",
    "\n",
    "    # Define the loss function and optimizer\n",
    "    loss_function = nn.MSELoss()\n",
    "    optimizer = optim.Adam(model.parameters(), lr=learning_rate)\n",
    "    early_stopper = EarlyStopper(patience=patience)\n",
    "\n",
    "    epoch_loss_values = []\n",
    "\n",
    "    for epoch in range(max_epochs):\n",
    "        epoch_start_time = time.time()\n",
    "        model.train()\n",
    "        epoch_loss = 0\n",
    "        step = 0\n",
    "\n",
    "        # Progress bar for the epoch\n",
    "        with tqdm(total=len(train_loader), desc=f\"Epoch {epoch+1}/{max_epochs}\", unit=\"batch\") as pbar:\n",
    "            for batch_data in train_loader:\n",
    "                batch_start_time = time.time()\n",
    "                step += 1\n",
    "\n",
    "                inputs = batch_data[\"im\"].to(device)\n",
    "                optimizer.zero_grad()\n",
    "                outputs = model(inputs)\n",
    "\n",
    "                loss = loss_function(outputs, inputs.to(device))\n",
    "                loss.backward()\n",
    "                optimizer.step()\n",
    "                epoch_loss += loss.item()\n",
    "\n",
    "                batch_time = time.time() - batch_start_time\n",
    "                pbar.set_postfix({\"Batch Time\": f\"{batch_time:.4f} sec\"})\n",
    "                pbar.update(1)\n",
    "\n",
    "        epoch_loss /= step\n",
    "        epoch_loss_values.append(epoch_loss)\n",
    "\n",
    "        logger.info(f\"Epoch {epoch + 1}/{max_epochs}, Loss: {epoch_loss:.4f}\")\n",
    "\n",
    "        # Validation loop with progress bar\n",
    "        total_val_loss = 0.0\n",
    "        model.eval()\n",
    "        with tqdm(total=len(test_loader), desc=\"Validation\", unit=\"batch\") as pbar:\n",
    "            with torch.no_grad():\n",
    "                for batch_data in test_loader:\n",
    "                    inputs = batch_data[\"im\"].to(device)\n",
    "                    outputs = model(inputs)\n",
    "\n",
    "                    loss_L1 = loss_function(outputs, inputs.to(device))\n",
    "                    total_val_loss += loss_L1.item()\n",
    "                    pbar.update(1)\n",
    "\n",
    "        avg_val_loss = total_val_loss / len(test_loader)\n",
    "        logger.info(f\"Validation Loss: {avg_val_loss:.4f}\")\n",
    "\n",
    "        epoch_time = time.time() - epoch_start_time\n",
    "        logger.info(f\"Epoch {epoch + 1} took {epoch_time:.4f} seconds\")\n",
    "\n",
    "        # Early stopping check\n",
    "        if early_stopper.early_stop(avg_val_loss):\n",
    "            # Save model parameters if early stopping criteria are met for the first time\n",
    "            if early_stopper.counter == 1:\n",
    "                logger.info(f\"\\nEarly stopping criteria reached!\\nSaving model parameters to {ResultsPath}/optimal_model_weights_epoch_{epoch + 1}.pth\\n\")\n",
    "                opt_model_filepath = f\"{ResultsPath}/optimal_model_weights_epoch_{epoch + 1}.pth\"\n",
    "                torch.save(model.state_dict(), opt_model_filepath)\n",
    "\n",
    "        # Logging to TensorBoard\n",
    "        writer.add_scalar('Loss/train', epoch_loss, epoch)\n",
    "        writer.add_scalar('Loss/validation', avg_val_loss, epoch)\n",
    "\n",
    "    return model, epoch_loss_values\n",
    "\n"
   ]
  },
  {
   "cell_type": "code",
   "execution_count": 18,
   "metadata": {},
   "outputs": [
    {
     "name": "stdout",
     "output_type": "stream",
     "text": [
      "INFO:swin_transformer_3d:Initializing model\n"
     ]
    },
    {
     "name": "stderr",
     "output_type": "stream",
     "text": [
      "Epoch 1/100:  99%|█████████▉| 79/80 [11:10<00:09,  9.23s/batch, Batch Time=8.8072 sec] "
     ]
    },
    {
     "name": "stdout",
     "output_type": "stream",
     "text": [
      "Error reading /Users/eleanorbolton/Library/CloudStorage/OneDrive-UniversityofLeeds/t1_vibe_we_hand_subset/CCP_181/983862e0ae/t1_vibe_we/1.3.12.2.1107.5.2.36.40258.201309201106223154520723.DCM: File is missing DICOM File Meta Information header or the 'DICM' prefix is missing from the header. Use force=True to force reading.\n"
     ]
    },
    {
     "name": "stderr",
     "output_type": "stream",
     "text": [
      "Epoch 1/100: 100%|██████████| 80/80 [11:19<00:00,  8.49s/batch, Batch Time=8.0268 sec]"
     ]
    },
    {
     "name": "stdout",
     "output_type": "stream",
     "text": [
      "INFO:swin_transformer_3d:Epoch 1/100, Loss: 0.1113\n"
     ]
    },
    {
     "name": "stderr",
     "output_type": "stream",
     "text": [
      "\n",
      "Validation: 100%|██████████| 44/44 [04:32<00:00,  6.20s/batch]"
     ]
    },
    {
     "name": "stdout",
     "output_type": "stream",
     "text": [
      "INFO:swin_transformer_3d:Validation Loss: 0.0799\n",
      "INFO:swin_transformer_3d:Epoch 1 took 951.9901 seconds\n"
     ]
    },
    {
     "name": "stderr",
     "output_type": "stream",
     "text": [
      "\n",
      "Epoch 2/100:  85%|████████▌ | 68/80 [10:04<01:49,  9.12s/batch, Batch Time=8.3552 sec] "
     ]
    },
    {
     "name": "stdout",
     "output_type": "stream",
     "text": [
      "Error reading /Users/eleanorbolton/Library/CloudStorage/OneDrive-UniversityofLeeds/t1_vibe_we_hand_subset/CCP_181/983862e0ae/t1_vibe_we/1.3.12.2.1107.5.2.36.40258.201309201106223154520723.DCM: File is missing DICOM File Meta Information header or the 'DICM' prefix is missing from the header. Use force=True to force reading.\n"
     ]
    },
    {
     "name": "stderr",
     "output_type": "stream",
     "text": [
      "Epoch 2/100: 100%|██████████| 80/80 [11:53<00:00,  8.92s/batch, Batch Time=7.8418 sec]"
     ]
    },
    {
     "name": "stdout",
     "output_type": "stream",
     "text": [
      "INFO:swin_transformer_3d:Epoch 2/100, Loss: 0.0825\n"
     ]
    },
    {
     "name": "stderr",
     "output_type": "stream",
     "text": [
      "\n",
      "Validation: 100%|██████████| 44/44 [04:07<00:00,  5.61s/batch]"
     ]
    },
    {
     "name": "stdout",
     "output_type": "stream",
     "text": [
      "INFO:swin_transformer_3d:Validation Loss: 0.0678\n",
      "INFO:swin_transformer_3d:Epoch 2 took 960.6066 seconds\n"
     ]
    },
    {
     "name": "stderr",
     "output_type": "stream",
     "text": [
      "\n",
      "Epoch 3/100:  86%|████████▋ | 69/80 [10:30<01:41,  9.23s/batch, Batch Time=7.9985 sec] "
     ]
    },
    {
     "name": "stdout",
     "output_type": "stream",
     "text": [
      "Error reading /Users/eleanorbolton/Library/CloudStorage/OneDrive-UniversityofLeeds/t1_vibe_we_hand_subset/CCP_181/983862e0ae/t1_vibe_we/1.3.12.2.1107.5.2.36.40258.201309201106223154520723.DCM: File is missing DICOM File Meta Information header or the 'DICM' prefix is missing from the header. Use force=True to force reading.\n"
     ]
    },
    {
     "name": "stderr",
     "output_type": "stream",
     "text": [
      "Epoch 3/100: 100%|██████████| 80/80 [12:08<00:00,  9.11s/batch, Batch Time=8.3385 sec] "
     ]
    },
    {
     "name": "stdout",
     "output_type": "stream",
     "text": [
      "INFO:swin_transformer_3d:Epoch 3/100, Loss: 0.0718\n"
     ]
    },
    {
     "name": "stderr",
     "output_type": "stream",
     "text": [
      "\n",
      "Validation: 100%|██████████| 44/44 [04:19<00:00,  5.91s/batch]"
     ]
    },
    {
     "name": "stdout",
     "output_type": "stream",
     "text": [
      "INFO:swin_transformer_3d:Validation Loss: 0.0733\n",
      "INFO:swin_transformer_3d:Epoch 3 took 988.4231 seconds\n"
     ]
    },
    {
     "name": "stderr",
     "output_type": "stream",
     "text": [
      "\n",
      "Epoch 4/100:  60%|██████    | 48/80 [08:15<04:49,  9.04s/batch, Batch Time=8.3737 sec] "
     ]
    },
    {
     "name": "stdout",
     "output_type": "stream",
     "text": [
      "Error reading /Users/eleanorbolton/Library/CloudStorage/OneDrive-UniversityofLeeds/t1_vibe_we_hand_subset/CCP_181/983862e0ae/t1_vibe_we/1.3.12.2.1107.5.2.36.40258.201309201106223154520723.DCM: File is missing DICOM File Meta Information header or the 'DICM' prefix is missing from the header. Use force=True to force reading.\n"
     ]
    },
    {
     "name": "stderr",
     "output_type": "stream",
     "text": [
      "Epoch 4/100: 100%|██████████| 80/80 [13:08<00:00,  9.86s/batch, Batch Time=7.8112 sec] "
     ]
    },
    {
     "name": "stdout",
     "output_type": "stream",
     "text": [
      "INFO:swin_transformer_3d:Epoch 4/100, Loss: 0.0637\n"
     ]
    },
    {
     "name": "stderr",
     "output_type": "stream",
     "text": [
      "\n",
      "Validation: 100%|██████████| 44/44 [04:26<00:00,  6.05s/batch]"
     ]
    },
    {
     "name": "stdout",
     "output_type": "stream",
     "text": [
      "INFO:swin_transformer_3d:Validation Loss: 0.0659\n",
      "INFO:swin_transformer_3d:Epoch 4 took 1055.1528 seconds\n"
     ]
    },
    {
     "name": "stderr",
     "output_type": "stream",
     "text": [
      "\n",
      "Epoch 5/100:  60%|██████    | 48/80 [07:18<05:51, 10.99s/batch, Batch Time=10.9356 sec]"
     ]
    },
    {
     "name": "stdout",
     "output_type": "stream",
     "text": [
      "Error reading /Users/eleanorbolton/Library/CloudStorage/OneDrive-UniversityofLeeds/t1_vibe_we_hand_subset/CCP_181/983862e0ae/t1_vibe_we/1.3.12.2.1107.5.2.36.40258.201309201106223154520723.DCM: File is missing DICOM File Meta Information header or the 'DICM' prefix is missing from the header. Use force=True to force reading.\n"
     ]
    },
    {
     "name": "stderr",
     "output_type": "stream",
     "text": [
      "Epoch 5/100: 100%|██████████| 80/80 [12:43<00:00,  9.54s/batch, Batch Time=8.9079 sec] "
     ]
    },
    {
     "name": "stdout",
     "output_type": "stream",
     "text": [
      "INFO:swin_transformer_3d:Epoch 5/100, Loss: 0.0619\n"
     ]
    },
    {
     "name": "stderr",
     "output_type": "stream",
     "text": [
      "\n",
      "Validation: 100%|██████████| 44/44 [04:42<00:00,  6.43s/batch]"
     ]
    },
    {
     "name": "stdout",
     "output_type": "stream",
     "text": [
      "INFO:swin_transformer_3d:Validation Loss: 0.0546\n",
      "INFO:swin_transformer_3d:Epoch 5 took 1046.3345 seconds\n"
     ]
    },
    {
     "name": "stderr",
     "output_type": "stream",
     "text": [
      "\n",
      "Epoch 6/100:  69%|██████▉   | 55/80 [08:36<03:42,  8.90s/batch, Batch Time=7.7784 sec] "
     ]
    },
    {
     "name": "stdout",
     "output_type": "stream",
     "text": [
      "Error reading /Users/eleanorbolton/Library/CloudStorage/OneDrive-UniversityofLeeds/t1_vibe_we_hand_subset/CCP_181/983862e0ae/t1_vibe_we/1.3.12.2.1107.5.2.36.40258.201309201106223154520723.DCM: File is missing DICOM File Meta Information header or the 'DICM' prefix is missing from the header. Use force=True to force reading.\n"
     ]
    },
    {
     "name": "stderr",
     "output_type": "stream",
     "text": [
      "Epoch 6/100: 100%|██████████| 80/80 [13:06<00:00,  9.83s/batch, Batch Time=7.2275 sec] "
     ]
    },
    {
     "name": "stdout",
     "output_type": "stream",
     "text": [
      "INFO:swin_transformer_3d:Epoch 6/100, Loss: 0.0591\n"
     ]
    },
    {
     "name": "stderr",
     "output_type": "stream",
     "text": [
      "\n",
      "Validation: 100%|██████████| 44/44 [04:20<00:00,  5.92s/batch]"
     ]
    },
    {
     "name": "stdout",
     "output_type": "stream",
     "text": [
      "INFO:swin_transformer_3d:Validation Loss: 0.0525\n",
      "INFO:swin_transformer_3d:Epoch 6 took 1046.8368 seconds\n"
     ]
    },
    {
     "name": "stderr",
     "output_type": "stream",
     "text": [
      "\n",
      "Epoch 7/100:  21%|██▏       | 17/80 [02:39<09:24,  8.97s/batch, Batch Time=7.2048 sec] "
     ]
    },
    {
     "name": "stdout",
     "output_type": "stream",
     "text": [
      "Error reading /Users/eleanorbolton/Library/CloudStorage/OneDrive-UniversityofLeeds/t1_vibe_we_hand_subset/CCP_181/983862e0ae/t1_vibe_we/1.3.12.2.1107.5.2.36.40258.201309201106223154520723.DCM: File is missing DICOM File Meta Information header or the 'DICM' prefix is missing from the header. Use force=True to force reading.\n"
     ]
    },
    {
     "name": "stderr",
     "output_type": "stream",
     "text": [
      "Epoch 7/100: 100%|██████████| 80/80 [12:12<00:00,  9.16s/batch, Batch Time=7.1478 sec] "
     ]
    },
    {
     "name": "stdout",
     "output_type": "stream",
     "text": [
      "INFO:swin_transformer_3d:Epoch 7/100, Loss: 0.0716\n"
     ]
    },
    {
     "name": "stderr",
     "output_type": "stream",
     "text": [
      "\n",
      "Validation: 100%|██████████| 44/44 [04:30<00:00,  6.16s/batch]"
     ]
    },
    {
     "name": "stdout",
     "output_type": "stream",
     "text": [
      "INFO:swin_transformer_3d:Validation Loss: 0.0520\n",
      "INFO:swin_transformer_3d:Epoch 7 took 1003.2994 seconds\n"
     ]
    },
    {
     "name": "stderr",
     "output_type": "stream",
     "text": [
      "\n",
      "Epoch 8/100:  98%|█████████▊| 78/80 [11:48<00:17,  8.92s/batch, Batch Time=7.9041 sec] "
     ]
    },
    {
     "name": "stdout",
     "output_type": "stream",
     "text": [
      "Error reading /Users/eleanorbolton/Library/CloudStorage/OneDrive-UniversityofLeeds/t1_vibe_we_hand_subset/CCP_181/983862e0ae/t1_vibe_we/1.3.12.2.1107.5.2.36.40258.201309201106223154520723.DCM: File is missing DICOM File Meta Information header or the 'DICM' prefix is missing from the header. Use force=True to force reading.\n"
     ]
    },
    {
     "name": "stderr",
     "output_type": "stream",
     "text": [
      "Epoch 8/100: 100%|██████████| 80/80 [12:09<00:00,  9.12s/batch, Batch Time=11.0738 sec]"
     ]
    },
    {
     "name": "stdout",
     "output_type": "stream",
     "text": [
      "INFO:swin_transformer_3d:Epoch 8/100, Loss: 0.0576\n"
     ]
    },
    {
     "name": "stderr",
     "output_type": "stream",
     "text": [
      "\n",
      "Validation: 100%|██████████| 44/44 [04:58<00:00,  6.78s/batch]"
     ]
    },
    {
     "name": "stdout",
     "output_type": "stream",
     "text": [
      "INFO:swin_transformer_3d:Validation Loss: 0.0506\n",
      "INFO:swin_transformer_3d:Epoch 8 took 1027.6812 seconds\n"
     ]
    },
    {
     "name": "stderr",
     "output_type": "stream",
     "text": [
      "\n",
      "Epoch 9/100:  92%|█████████▎| 74/80 [12:14<00:59,  9.93s/batch, Batch Time=8.6372 sec] "
     ]
    },
    {
     "name": "stdout",
     "output_type": "stream",
     "text": [
      "Error reading /Users/eleanorbolton/Library/CloudStorage/OneDrive-UniversityofLeeds/t1_vibe_we_hand_subset/CCP_181/983862e0ae/t1_vibe_we/1.3.12.2.1107.5.2.36.40258.201309201106223154520723.DCM: File is missing DICOM File Meta Information header or the 'DICM' prefix is missing from the header. Use force=True to force reading.\n"
     ]
    },
    {
     "name": "stderr",
     "output_type": "stream",
     "text": [
      "Epoch 9/100: 100%|██████████| 80/80 [13:13<00:00,  9.92s/batch, Batch Time=8.0887 sec] "
     ]
    },
    {
     "name": "stdout",
     "output_type": "stream",
     "text": [
      "INFO:swin_transformer_3d:Epoch 9/100, Loss: 0.0588\n"
     ]
    },
    {
     "name": "stderr",
     "output_type": "stream",
     "text": [
      "\n",
      "Validation: 100%|██████████| 44/44 [04:28<00:00,  6.10s/batch]"
     ]
    },
    {
     "name": "stdout",
     "output_type": "stream",
     "text": [
      "INFO:swin_transformer_3d:Validation Loss: 0.0482\n",
      "INFO:swin_transformer_3d:Epoch 9 took 1062.0284 seconds\n"
     ]
    },
    {
     "name": "stderr",
     "output_type": "stream",
     "text": [
      "\n",
      "Epoch 10/100:  85%|████████▌ | 68/80 [10:25<01:51,  9.27s/batch, Batch Time=7.1478 sec] "
     ]
    },
    {
     "name": "stdout",
     "output_type": "stream",
     "text": [
      "Error reading /Users/eleanorbolton/Library/CloudStorage/OneDrive-UniversityofLeeds/t1_vibe_we_hand_subset/CCP_181/983862e0ae/t1_vibe_we/1.3.12.2.1107.5.2.36.40258.201309201106223154520723.DCM: File is missing DICOM File Meta Information header or the 'DICM' prefix is missing from the header. Use force=True to force reading.\n"
     ]
    },
    {
     "name": "stderr",
     "output_type": "stream",
     "text": [
      "Epoch 10/100: 100%|██████████| 80/80 [12:54<00:00,  9.68s/batch, Batch Time=15.8107 sec]"
     ]
    },
    {
     "name": "stdout",
     "output_type": "stream",
     "text": [
      "INFO:swin_transformer_3d:Epoch 10/100, Loss: 0.0590\n"
     ]
    },
    {
     "name": "stderr",
     "output_type": "stream",
     "text": [
      "\n",
      "Validation: 100%|██████████| 44/44 [04:43<00:00,  6.44s/batch]"
     ]
    },
    {
     "name": "stdout",
     "output_type": "stream",
     "text": [
      "INFO:swin_transformer_3d:Validation Loss: 0.0728\n",
      "INFO:swin_transformer_3d:Epoch 10 took 1057.5936 seconds\n"
     ]
    },
    {
     "name": "stderr",
     "output_type": "stream",
     "text": [
      "\n",
      "Epoch 11/100:  39%|███▉      | 31/80 [04:46<07:34,  9.28s/batch, Batch Time=8.3265 sec]"
     ]
    },
    {
     "name": "stdout",
     "output_type": "stream",
     "text": [
      "Error reading /Users/eleanorbolton/Library/CloudStorage/OneDrive-UniversityofLeeds/t1_vibe_we_hand_subset/CCP_181/983862e0ae/t1_vibe_we/1.3.12.2.1107.5.2.36.40258.201309201106223154520723.DCM: File is missing DICOM File Meta Information header or the 'DICM' prefix is missing from the header. Use force=True to force reading.\n"
     ]
    },
    {
     "name": "stderr",
     "output_type": "stream",
     "text": [
      "Epoch 11/100: 100%|██████████| 80/80 [12:37<00:00,  9.47s/batch, Batch Time=7.9954 sec] "
     ]
    },
    {
     "name": "stdout",
     "output_type": "stream",
     "text": [
      "INFO:swin_transformer_3d:Epoch 11/100, Loss: 0.0555\n"
     ]
    },
    {
     "name": "stderr",
     "output_type": "stream",
     "text": [
      "\n",
      "Validation: 100%|██████████| 44/44 [04:46<00:00,  6.51s/batch]"
     ]
    },
    {
     "name": "stdout",
     "output_type": "stream",
     "text": [
      "INFO:swin_transformer_3d:Validation Loss: 0.0594\n",
      "INFO:swin_transformer_3d:Epoch 11 took 1043.7685 seconds\n"
     ]
    },
    {
     "name": "stderr",
     "output_type": "stream",
     "text": [
      "\n",
      "Epoch 12/100:  75%|███████▌  | 60/80 [09:25<03:13,  9.67s/batch, Batch Time=9.4734 sec] "
     ]
    },
    {
     "name": "stdout",
     "output_type": "stream",
     "text": [
      "Error reading /Users/eleanorbolton/Library/CloudStorage/OneDrive-UniversityofLeeds/t1_vibe_we_hand_subset/CCP_181/983862e0ae/t1_vibe_we/1.3.12.2.1107.5.2.36.40258.201309201106223154520723.DCM: File is missing DICOM File Meta Information header or the 'DICM' prefix is missing from the header. Use force=True to force reading.\n"
     ]
    },
    {
     "name": "stderr",
     "output_type": "stream",
     "text": [
      "Epoch 12/100: 100%|██████████| 80/80 [12:44<00:00,  9.55s/batch, Batch Time=9.7087 sec] "
     ]
    },
    {
     "name": "stdout",
     "output_type": "stream",
     "text": [
      "INFO:swin_transformer_3d:Epoch 12/100, Loss: 0.0490\n"
     ]
    },
    {
     "name": "stderr",
     "output_type": "stream",
     "text": [
      "\n",
      "Validation: 100%|██████████| 44/44 [05:09<00:00,  7.03s/batch]"
     ]
    },
    {
     "name": "stdout",
     "output_type": "stream",
     "text": [
      "INFO:swin_transformer_3d:Validation Loss: 0.0539\n",
      "INFO:swin_transformer_3d:Epoch 12 took 1073.5970 seconds\n"
     ]
    },
    {
     "name": "stderr",
     "output_type": "stream",
     "text": [
      "\n",
      "Epoch 13/100:   0%|          | 0/80 [00:00<?, ?batch/s]"
     ]
    },
    {
     "name": "stdout",
     "output_type": "stream",
     "text": [
      "Error reading /Users/eleanorbolton/Library/CloudStorage/OneDrive-UniversityofLeeds/t1_vibe_we_hand_subset/CCP_181/983862e0ae/t1_vibe_we/1.3.12.2.1107.5.2.36.40258.201309201106223154520723.DCM: File is missing DICOM File Meta Information header or the 'DICM' prefix is missing from the header. Use force=True to force reading.\n"
     ]
    },
    {
     "name": "stderr",
     "output_type": "stream",
     "text": [
      "Epoch 13/100: 100%|██████████| 80/80 [13:31<00:00, 10.15s/batch, Batch Time=7.1154 sec] "
     ]
    },
    {
     "name": "stdout",
     "output_type": "stream",
     "text": [
      "INFO:swin_transformer_3d:Epoch 13/100, Loss: 0.0535\n"
     ]
    },
    {
     "name": "stderr",
     "output_type": "stream",
     "text": [
      "\n",
      "Validation: 100%|██████████| 44/44 [05:26<00:00,  7.42s/batch]"
     ]
    },
    {
     "name": "stdout",
     "output_type": "stream",
     "text": [
      "INFO:swin_transformer_3d:Validation Loss: 0.0466\n",
      "INFO:swin_transformer_3d:Epoch 13 took 1138.4127 seconds\n"
     ]
    },
    {
     "name": "stderr",
     "output_type": "stream",
     "text": [
      "\n",
      "Epoch 14/100:   2%|▎         | 2/80 [00:20<13:36, 10.47s/batch, Batch Time=9.7463 sec]"
     ]
    },
    {
     "name": "stdout",
     "output_type": "stream",
     "text": [
      "Error reading /Users/eleanorbolton/Library/CloudStorage/OneDrive-UniversityofLeeds/t1_vibe_we_hand_subset/CCP_181/983862e0ae/t1_vibe_we/1.3.12.2.1107.5.2.36.40258.201309201106223154520723.DCM: File is missing DICOM File Meta Information header or the 'DICM' prefix is missing from the header. Use force=True to force reading.\n"
     ]
    },
    {
     "name": "stderr",
     "output_type": "stream",
     "text": [
      "Epoch 14/100: 100%|██████████| 80/80 [12:24<00:00,  9.30s/batch, Batch Time=10.0695 sec]"
     ]
    },
    {
     "name": "stdout",
     "output_type": "stream",
     "text": [
      "INFO:swin_transformer_3d:Epoch 14/100, Loss: 0.0501\n"
     ]
    },
    {
     "name": "stderr",
     "output_type": "stream",
     "text": [
      "\n",
      "Validation: 100%|██████████| 44/44 [04:12<00:00,  5.74s/batch]"
     ]
    },
    {
     "name": "stdout",
     "output_type": "stream",
     "text": [
      "INFO:swin_transformer_3d:Validation Loss: 0.0457\n",
      "INFO:swin_transformer_3d:Epoch 14 took 996.9177 seconds\n"
     ]
    },
    {
     "name": "stderr",
     "output_type": "stream",
     "text": [
      "\n",
      "Epoch 15/100:  79%|███████▉  | 63/80 [09:27<02:24,  8.47s/batch, Batch Time=7.8426 sec] "
     ]
    },
    {
     "name": "stdout",
     "output_type": "stream",
     "text": [
      "Error reading /Users/eleanorbolton/Library/CloudStorage/OneDrive-UniversityofLeeds/t1_vibe_we_hand_subset/CCP_181/983862e0ae/t1_vibe_we/1.3.12.2.1107.5.2.36.40258.201309201106223154520723.DCM: File is missing DICOM File Meta Information header or the 'DICM' prefix is missing from the header. Use force=True to force reading.\n"
     ]
    },
    {
     "name": "stderr",
     "output_type": "stream",
     "text": [
      "Epoch 15/100: 100%|██████████| 80/80 [11:58<00:00,  8.98s/batch, Batch Time=7.8859 sec] "
     ]
    },
    {
     "name": "stdout",
     "output_type": "stream",
     "text": [
      "INFO:swin_transformer_3d:Epoch 15/100, Loss: 0.0548\n"
     ]
    },
    {
     "name": "stderr",
     "output_type": "stream",
     "text": [
      "\n",
      "Validation: 100%|██████████| 44/44 [04:17<00:00,  5.86s/batch]"
     ]
    },
    {
     "name": "stdout",
     "output_type": "stream",
     "text": [
      "INFO:swin_transformer_3d:Validation Loss: 0.0458\n",
      "INFO:swin_transformer_3d:Epoch 15 took 976.0435 seconds\n"
     ]
    },
    {
     "name": "stderr",
     "output_type": "stream",
     "text": [
      "\n",
      "Epoch 16/100:   9%|▉         | 7/80 [01:04<11:12,  9.22s/batch, Batch Time=8.3218 sec] "
     ]
    },
    {
     "name": "stdout",
     "output_type": "stream",
     "text": [
      "Error reading /Users/eleanorbolton/Library/CloudStorage/OneDrive-UniversityofLeeds/t1_vibe_we_hand_subset/CCP_181/983862e0ae/t1_vibe_we/1.3.12.2.1107.5.2.36.40258.201309201106223154520723.DCM: File is missing DICOM File Meta Information header or the 'DICM' prefix is missing from the header. Use force=True to force reading.\n"
     ]
    },
    {
     "name": "stderr",
     "output_type": "stream",
     "text": [
      "Epoch 16/100: 100%|██████████| 80/80 [12:03<00:00,  9.05s/batch, Batch Time=11.0614 sec]"
     ]
    },
    {
     "name": "stdout",
     "output_type": "stream",
     "text": [
      "INFO:swin_transformer_3d:Epoch 16/100, Loss: 0.0501\n"
     ]
    },
    {
     "name": "stderr",
     "output_type": "stream",
     "text": [
      "\n",
      "Validation: 100%|██████████| 44/44 [04:17<00:00,  5.86s/batch]"
     ]
    },
    {
     "name": "stdout",
     "output_type": "stream",
     "text": [
      "INFO:swin_transformer_3d:Validation Loss: 0.0440\n",
      "INFO:swin_transformer_3d:Epoch 16 took 981.6221 seconds\n"
     ]
    },
    {
     "name": "stderr",
     "output_type": "stream",
     "text": [
      "\n",
      "Epoch 17/100:  38%|███▊      | 30/80 [04:55<09:21, 11.23s/batch, Batch Time=11.2513 sec]"
     ]
    },
    {
     "name": "stdout",
     "output_type": "stream",
     "text": [
      "Error reading /Users/eleanorbolton/Library/CloudStorage/OneDrive-UniversityofLeeds/t1_vibe_we_hand_subset/CCP_181/983862e0ae/t1_vibe_we/1.3.12.2.1107.5.2.36.40258.201309201106223154520723.DCM: File is missing DICOM File Meta Information header or the 'DICM' prefix is missing from the header. Use force=True to force reading.\n"
     ]
    },
    {
     "name": "stderr",
     "output_type": "stream",
     "text": [
      "Epoch 17/100: 100%|██████████| 80/80 [13:03<00:00,  9.79s/batch, Batch Time=8.0863 sec] "
     ]
    },
    {
     "name": "stdout",
     "output_type": "stream",
     "text": [
      "INFO:swin_transformer_3d:Epoch 17/100, Loss: 0.0483\n"
     ]
    },
    {
     "name": "stderr",
     "output_type": "stream",
     "text": [
      "\n",
      "Validation: 100%|██████████| 44/44 [04:40<00:00,  6.37s/batch]"
     ]
    },
    {
     "name": "stdout",
     "output_type": "stream",
     "text": [
      "INFO:swin_transformer_3d:Validation Loss: 0.0376\n",
      "INFO:swin_transformer_3d:Epoch 17 took 1063.3986 seconds\n"
     ]
    },
    {
     "name": "stderr",
     "output_type": "stream",
     "text": [
      "\n",
      "Epoch 18/100:  60%|██████    | 48/80 [07:39<04:42,  8.84s/batch, Batch Time=8.0426 sec] "
     ]
    },
    {
     "name": "stdout",
     "output_type": "stream",
     "text": [
      "Error reading /Users/eleanorbolton/Library/CloudStorage/OneDrive-UniversityofLeeds/t1_vibe_we_hand_subset/CCP_181/983862e0ae/t1_vibe_we/1.3.12.2.1107.5.2.36.40258.201309201106223154520723.DCM: File is missing DICOM File Meta Information header or the 'DICM' prefix is missing from the header. Use force=True to force reading.\n"
     ]
    },
    {
     "name": "stderr",
     "output_type": "stream",
     "text": [
      "Epoch 18/100: 100%|██████████| 80/80 [12:21<00:00,  9.27s/batch, Batch Time=8.4684 sec] "
     ]
    },
    {
     "name": "stdout",
     "output_type": "stream",
     "text": [
      "INFO:swin_transformer_3d:Epoch 18/100, Loss: 0.0465\n"
     ]
    },
    {
     "name": "stderr",
     "output_type": "stream",
     "text": [
      "\n",
      "Validation: 100%|██████████| 44/44 [04:20<00:00,  5.93s/batch]"
     ]
    },
    {
     "name": "stdout",
     "output_type": "stream",
     "text": [
      "INFO:swin_transformer_3d:Validation Loss: 0.0431\n",
      "INFO:swin_transformer_3d:Epoch 18 took 1002.4617 seconds\n"
     ]
    },
    {
     "name": "stderr",
     "output_type": "stream",
     "text": [
      "\n",
      "Epoch 19/100:  62%|██████▎   | 50/80 [41:20<04:27,  8.91s/batch, Batch Time=7.2616 sec]      "
     ]
    },
    {
     "name": "stdout",
     "output_type": "stream",
     "text": [
      "Error reading /Users/eleanorbolton/Library/CloudStorage/OneDrive-UniversityofLeeds/t1_vibe_we_hand_subset/CCP_181/983862e0ae/t1_vibe_we/1.3.12.2.1107.5.2.36.40258.201309201106223154520723.DCM: File is missing DICOM File Meta Information header or the 'DICM' prefix is missing from the header. Use force=True to force reading.\n"
     ]
    },
    {
     "name": "stderr",
     "output_type": "stream",
     "text": [
      "Epoch 19/100: 100%|██████████| 80/80 [45:59<00:00, 34.49s/batch, Batch Time=7.5992 sec] "
     ]
    },
    {
     "name": "stdout",
     "output_type": "stream",
     "text": [
      "INFO:swin_transformer_3d:Epoch 19/100, Loss: 0.0457\n"
     ]
    },
    {
     "name": "stderr",
     "output_type": "stream",
     "text": [
      "\n",
      "Validation: 100%|██████████| 44/44 [39:09<00:00, 53.39s/batch]   "
     ]
    },
    {
     "name": "stdout",
     "output_type": "stream",
     "text": [
      "INFO:swin_transformer_3d:Validation Loss: 0.0493\n",
      "INFO:swin_transformer_3d:Epoch 19 took 5108.3891 seconds\n"
     ]
    },
    {
     "name": "stderr",
     "output_type": "stream",
     "text": [
      "\n",
      "Epoch 20/100:  32%|███▎      | 26/80 [04:08<08:31,  9.47s/batch, Batch Time=8.0052 sec] "
     ]
    },
    {
     "name": "stdout",
     "output_type": "stream",
     "text": [
      "Error reading /Users/eleanorbolton/Library/CloudStorage/OneDrive-UniversityofLeeds/t1_vibe_we_hand_subset/CCP_181/983862e0ae/t1_vibe_we/1.3.12.2.1107.5.2.36.40258.201309201106223154520723.DCM: File is missing DICOM File Meta Information header or the 'DICM' prefix is missing from the header. Use force=True to force reading.\n"
     ]
    },
    {
     "name": "stderr",
     "output_type": "stream",
     "text": [
      "Epoch 20/100: 100%|██████████| 80/80 [12:30<00:00,  9.38s/batch, Batch Time=9.1400 sec] "
     ]
    },
    {
     "name": "stdout",
     "output_type": "stream",
     "text": [
      "INFO:swin_transformer_3d:Epoch 20/100, Loss: 0.0457\n"
     ]
    },
    {
     "name": "stderr",
     "output_type": "stream",
     "text": [
      "\n",
      "Validation: 100%|██████████| 44/44 [04:48<00:00,  6.56s/batch]"
     ]
    },
    {
     "name": "stdout",
     "output_type": "stream",
     "text": [
      "INFO:swin_transformer_3d:Validation Loss: 0.0459\n",
      "INFO:swin_transformer_3d:Epoch 20 took 1038.9739 seconds\n"
     ]
    },
    {
     "name": "stderr",
     "output_type": "stream",
     "text": [
      "\n",
      "Epoch 21/100:  15%|█▌        | 12/80 [01:50<10:34,  9.33s/batch, Batch Time=7.6128 sec]"
     ]
    },
    {
     "name": "stdout",
     "output_type": "stream",
     "text": [
      "Error reading /Users/eleanorbolton/Library/CloudStorage/OneDrive-UniversityofLeeds/t1_vibe_we_hand_subset/CCP_181/983862e0ae/t1_vibe_we/1.3.12.2.1107.5.2.36.40258.201309201106223154520723.DCM: File is missing DICOM File Meta Information header or the 'DICM' prefix is missing from the header. Use force=True to force reading.\n"
     ]
    },
    {
     "name": "stderr",
     "output_type": "stream",
     "text": [
      "Epoch 21/100: 100%|██████████| 80/80 [12:02<00:00,  9.03s/batch, Batch Time=8.8760 sec] "
     ]
    },
    {
     "name": "stdout",
     "output_type": "stream",
     "text": [
      "INFO:swin_transformer_3d:Epoch 21/100, Loss: 0.0514\n"
     ]
    },
    {
     "name": "stderr",
     "output_type": "stream",
     "text": [
      "\n",
      "Validation: 100%|██████████| 44/44 [04:26<00:00,  6.07s/batch]"
     ]
    },
    {
     "name": "stdout",
     "output_type": "stream",
     "text": [
      "INFO:swin_transformer_3d:Validation Loss: 0.0455\n",
      "INFO:swin_transformer_3d:Epoch 21 took 988.9560 seconds\n"
     ]
    },
    {
     "name": "stderr",
     "output_type": "stream",
     "text": [
      "\n",
      "Epoch 22/100:  32%|███▎      | 26/80 [08:16<12:21, 13.72s/batch, Batch Time=8.6147 sec] "
     ]
    },
    {
     "name": "stdout",
     "output_type": "stream",
     "text": [
      "Error reading /Users/eleanorbolton/Library/CloudStorage/OneDrive-UniversityofLeeds/t1_vibe_we_hand_subset/CCP_181/983862e0ae/t1_vibe_we/1.3.12.2.1107.5.2.36.40258.201309201106223154520723.DCM: File is missing DICOM File Meta Information header or the 'DICM' prefix is missing from the header. Use force=True to force reading.\n"
     ]
    },
    {
     "name": "stderr",
     "output_type": "stream",
     "text": [
      "Epoch 22/100: 100%|██████████| 80/80 [21:26<00:00, 16.08s/batch, Batch Time=9.1126 sec] "
     ]
    },
    {
     "name": "stdout",
     "output_type": "stream",
     "text": [
      "INFO:swin_transformer_3d:Epoch 22/100, Loss: 0.0449\n"
     ]
    },
    {
     "name": "stderr",
     "output_type": "stream",
     "text": [
      "\n",
      "Validation: 100%|██████████| 44/44 [05:40<00:00,  7.73s/batch]"
     ]
    },
    {
     "name": "stdout",
     "output_type": "stream",
     "text": [
      "INFO:swin_transformer_3d:Validation Loss: 0.0431\n",
      "INFO:swin_transformer_3d:Epoch 22 took 1626.8129 seconds\n"
     ]
    },
    {
     "name": "stderr",
     "output_type": "stream",
     "text": [
      "\n",
      "Epoch 23/100:   1%|▏         | 1/80 [00:28<37:04, 28.16s/batch, Batch Time=27.5316 sec]"
     ]
    },
    {
     "name": "stdout",
     "output_type": "stream",
     "text": [
      "Error reading /Users/eleanorbolton/Library/CloudStorage/OneDrive-UniversityofLeeds/t1_vibe_we_hand_subset/CCP_181/983862e0ae/t1_vibe_we/1.3.12.2.1107.5.2.36.40258.201309201106223154520723.DCM: File is missing DICOM File Meta Information header or the 'DICM' prefix is missing from the header. Use force=True to force reading.\n"
     ]
    },
    {
     "name": "stderr",
     "output_type": "stream",
     "text": [
      "Epoch 23/100: 100%|██████████| 80/80 [21:32<00:00, 16.15s/batch, Batch Time=9.7174 sec] "
     ]
    },
    {
     "name": "stdout",
     "output_type": "stream",
     "text": [
      "INFO:swin_transformer_3d:Epoch 23/100, Loss: 0.0453\n"
     ]
    },
    {
     "name": "stderr",
     "output_type": "stream",
     "text": [
      "\n",
      "Validation: 100%|██████████| 44/44 [04:52<00:00,  6.64s/batch]"
     ]
    },
    {
     "name": "stdout",
     "output_type": "stream",
     "text": [
      "INFO:swin_transformer_3d:Validation Loss: 0.0382\n",
      "INFO:swin_transformer_3d:Epoch 23 took 1584.0517 seconds\n"
     ]
    },
    {
     "name": "stderr",
     "output_type": "stream",
     "text": [
      "\n",
      "Epoch 24/100:  57%|█████▊    | 46/80 [06:55<04:55,  8.70s/batch, Batch Time=7.5624 sec] "
     ]
    },
    {
     "name": "stdout",
     "output_type": "stream",
     "text": [
      "Error reading /Users/eleanorbolton/Library/CloudStorage/OneDrive-UniversityofLeeds/t1_vibe_we_hand_subset/CCP_181/983862e0ae/t1_vibe_we/1.3.12.2.1107.5.2.36.40258.201309201106223154520723.DCM: File is missing DICOM File Meta Information header or the 'DICM' prefix is missing from the header. Use force=True to force reading.\n"
     ]
    },
    {
     "name": "stderr",
     "output_type": "stream",
     "text": [
      "Epoch 24/100: 100%|██████████| 80/80 [12:12<00:00,  9.15s/batch, Batch Time=7.0734 sec] "
     ]
    },
    {
     "name": "stdout",
     "output_type": "stream",
     "text": [
      "INFO:swin_transformer_3d:Epoch 24/100, Loss: 0.0416\n"
     ]
    },
    {
     "name": "stderr",
     "output_type": "stream",
     "text": [
      "\n",
      "Validation: 100%|██████████| 44/44 [04:33<00:00,  6.22s/batch]"
     ]
    },
    {
     "name": "stdout",
     "output_type": "stream",
     "text": [
      "INFO:swin_transformer_3d:Validation Loss: 0.0387\n",
      "INFO:swin_transformer_3d:Epoch 24 took 1005.8711 seconds\n"
     ]
    },
    {
     "name": "stderr",
     "output_type": "stream",
     "text": [
      "\n",
      "Epoch 25/100:  72%|███████▎  | 58/80 [09:36<03:39,  9.98s/batch, Batch Time=7.4411 sec] "
     ]
    },
    {
     "name": "stdout",
     "output_type": "stream",
     "text": [
      "Error reading /Users/eleanorbolton/Library/CloudStorage/OneDrive-UniversityofLeeds/t1_vibe_we_hand_subset/CCP_181/983862e0ae/t1_vibe_we/1.3.12.2.1107.5.2.36.40258.201309201106223154520723.DCM: File is missing DICOM File Meta Information header or the 'DICM' prefix is missing from the header. Use force=True to force reading.\n"
     ]
    },
    {
     "name": "stderr",
     "output_type": "stream",
     "text": [
      "Epoch 25/100: 100%|██████████| 80/80 [12:47<00:00,  9.59s/batch, Batch Time=8.8800 sec]"
     ]
    },
    {
     "name": "stdout",
     "output_type": "stream",
     "text": [
      "INFO:swin_transformer_3d:Epoch 25/100, Loss: 0.0460\n"
     ]
    },
    {
     "name": "stderr",
     "output_type": "stream",
     "text": [
      "\n",
      "Validation: 100%|██████████| 44/44 [04:50<00:00,  6.60s/batch]"
     ]
    },
    {
     "name": "stdout",
     "output_type": "stream",
     "text": [
      "INFO:swin_transformer_3d:Validation Loss: 0.0401\n",
      "INFO:swin_transformer_3d:Epoch 25 took 1057.7726 seconds\n"
     ]
    },
    {
     "name": "stderr",
     "output_type": "stream",
     "text": [
      "\n",
      "Epoch 26/100:  85%|████████▌ | 68/80 [10:50<01:59,  9.96s/batch, Batch Time=8.4583 sec] "
     ]
    },
    {
     "name": "stdout",
     "output_type": "stream",
     "text": [
      "Error reading /Users/eleanorbolton/Library/CloudStorage/OneDrive-UniversityofLeeds/t1_vibe_we_hand_subset/CCP_181/983862e0ae/t1_vibe_we/1.3.12.2.1107.5.2.36.40258.201309201106223154520723.DCM: File is missing DICOM File Meta Information header or the 'DICM' prefix is missing from the header. Use force=True to force reading.\n"
     ]
    },
    {
     "name": "stderr",
     "output_type": "stream",
     "text": [
      "Epoch 26/100: 100%|██████████| 80/80 [12:44<00:00,  9.55s/batch, Batch Time=9.7674 sec] "
     ]
    },
    {
     "name": "stdout",
     "output_type": "stream",
     "text": [
      "INFO:swin_transformer_3d:Epoch 26/100, Loss: 0.0416\n"
     ]
    },
    {
     "name": "stderr",
     "output_type": "stream",
     "text": [
      "\n",
      "Validation: 100%|██████████| 44/44 [04:42<00:00,  6.43s/batch]"
     ]
    },
    {
     "name": "stdout",
     "output_type": "stream",
     "text": [
      "INFO:swin_transformer_3d:Validation Loss: 0.0400\n",
      "INFO:swin_transformer_3d:Epoch 26 took 1047.1707 seconds\n"
     ]
    },
    {
     "name": "stderr",
     "output_type": "stream",
     "text": [
      "\n",
      "Epoch 27/100:  72%|███████▎  | 58/80 [09:04<03:21,  9.17s/batch, Batch Time=7.7394 sec] "
     ]
    },
    {
     "name": "stdout",
     "output_type": "stream",
     "text": [
      "Error reading /Users/eleanorbolton/Library/CloudStorage/OneDrive-UniversityofLeeds/t1_vibe_we_hand_subset/CCP_181/983862e0ae/t1_vibe_we/1.3.12.2.1107.5.2.36.40258.201309201106223154520723.DCM: File is missing DICOM File Meta Information header or the 'DICM' prefix is missing from the header. Use force=True to force reading.\n"
     ]
    },
    {
     "name": "stderr",
     "output_type": "stream",
     "text": [
      "Epoch 27/100: 100%|██████████| 80/80 [12:48<00:00,  9.61s/batch, Batch Time=8.6100 sec] "
     ]
    },
    {
     "name": "stdout",
     "output_type": "stream",
     "text": [
      "INFO:swin_transformer_3d:Epoch 27/100, Loss: 0.0428\n"
     ]
    },
    {
     "name": "stderr",
     "output_type": "stream",
     "text": [
      "\n",
      "Validation: 100%|██████████| 44/44 [05:51<00:00,  8.00s/batch]"
     ]
    },
    {
     "name": "stdout",
     "output_type": "stream",
     "text": [
      "INFO:swin_transformer_3d:Validation Loss: 0.0432\n",
      "INFO:swin_transformer_3d:Epoch 27 took 1120.9036 seconds\n"
     ]
    },
    {
     "name": "stderr",
     "output_type": "stream",
     "text": [
      "\n",
      "Epoch 28/100:  28%|██▊       | 22/80 [03:36<10:26, 10.81s/batch, Batch Time=10.0797 sec]"
     ]
    },
    {
     "name": "stdout",
     "output_type": "stream",
     "text": [
      "Error reading /Users/eleanorbolton/Library/CloudStorage/OneDrive-UniversityofLeeds/t1_vibe_we_hand_subset/CCP_181/983862e0ae/t1_vibe_we/1.3.12.2.1107.5.2.36.40258.201309201106223154520723.DCM: File is missing DICOM File Meta Information header or the 'DICM' prefix is missing from the header. Use force=True to force reading.\n"
     ]
    },
    {
     "name": "stderr",
     "output_type": "stream",
     "text": [
      "Epoch 28/100: 100%|██████████| 80/80 [12:36<00:00,  9.45s/batch, Batch Time=10.9253 sec]"
     ]
    },
    {
     "name": "stdout",
     "output_type": "stream",
     "text": [
      "INFO:swin_transformer_3d:Epoch 28/100, Loss: 0.0375\n"
     ]
    },
    {
     "name": "stderr",
     "output_type": "stream",
     "text": [
      "\n",
      "Validation: 100%|██████████| 44/44 [04:46<00:00,  6.51s/batch]"
     ]
    },
    {
     "name": "stdout",
     "output_type": "stream",
     "text": [
      "INFO:swin_transformer_3d:Validation Loss: 0.0375\n",
      "INFO:swin_transformer_3d:Epoch 28 took 1042.5836 seconds\n"
     ]
    },
    {
     "name": "stderr",
     "output_type": "stream",
     "text": [
      "\n",
      "Epoch 29/100:  75%|███████▌  | 60/80 [10:10<03:00,  9.05s/batch, Batch Time=8.8619 sec] "
     ]
    },
    {
     "name": "stdout",
     "output_type": "stream",
     "text": [
      "Error reading /Users/eleanorbolton/Library/CloudStorage/OneDrive-UniversityofLeeds/t1_vibe_we_hand_subset/CCP_181/983862e0ae/t1_vibe_we/1.3.12.2.1107.5.2.36.40258.201309201106223154520723.DCM: File is missing DICOM File Meta Information header or the 'DICM' prefix is missing from the header. Use force=True to force reading.\n"
     ]
    },
    {
     "name": "stderr",
     "output_type": "stream",
     "text": [
      "Epoch 29/100: 100%|██████████| 80/80 [13:28<00:00, 10.11s/batch, Batch Time=9.6122 sec] "
     ]
    },
    {
     "name": "stdout",
     "output_type": "stream",
     "text": [
      "INFO:swin_transformer_3d:Epoch 29/100, Loss: 0.0396\n"
     ]
    },
    {
     "name": "stderr",
     "output_type": "stream",
     "text": [
      "\n",
      "Validation: 100%|██████████| 44/44 [04:55<00:00,  6.71s/batch]"
     ]
    },
    {
     "name": "stdout",
     "output_type": "stream",
     "text": [
      "INFO:swin_transformer_3d:Validation Loss: 0.0390\n",
      "INFO:swin_transformer_3d:Epoch 29 took 1104.0710 seconds\n"
     ]
    },
    {
     "name": "stderr",
     "output_type": "stream",
     "text": [
      "\n",
      "Epoch 30/100:  81%|████████▏ | 65/80 [10:27<02:16,  9.13s/batch, Batch Time=8.3639 sec] "
     ]
    },
    {
     "name": "stdout",
     "output_type": "stream",
     "text": [
      "Error reading /Users/eleanorbolton/Library/CloudStorage/OneDrive-UniversityofLeeds/t1_vibe_we_hand_subset/CCP_181/983862e0ae/t1_vibe_we/1.3.12.2.1107.5.2.36.40258.201309201106223154520723.DCM: File is missing DICOM File Meta Information header or the 'DICM' prefix is missing from the header. Use force=True to force reading.\n"
     ]
    },
    {
     "name": "stderr",
     "output_type": "stream",
     "text": [
      "Epoch 30/100: 100%|██████████| 80/80 [12:43<00:00,  9.55s/batch, Batch Time=9.2461 sec]"
     ]
    },
    {
     "name": "stdout",
     "output_type": "stream",
     "text": [
      "INFO:swin_transformer_3d:Epoch 30/100, Loss: 0.0412\n"
     ]
    },
    {
     "name": "stderr",
     "output_type": "stream",
     "text": [
      "\n",
      "Validation: 100%|██████████| 44/44 [04:52<00:00,  6.64s/batch]"
     ]
    },
    {
     "name": "stdout",
     "output_type": "stream",
     "text": [
      "INFO:swin_transformer_3d:Validation Loss: 0.0392\n",
      "INFO:swin_transformer_3d:Epoch 30 took 1056.1021 seconds\n"
     ]
    },
    {
     "name": "stderr",
     "output_type": "stream",
     "text": [
      "\n",
      "Epoch 31/100:  22%|██▎       | 18/80 [03:01<09:23,  9.10s/batch, Batch Time=7.2822 sec] "
     ]
    },
    {
     "name": "stdout",
     "output_type": "stream",
     "text": [
      "Error reading /Users/eleanorbolton/Library/CloudStorage/OneDrive-UniversityofLeeds/t1_vibe_we_hand_subset/CCP_181/983862e0ae/t1_vibe_we/1.3.12.2.1107.5.2.36.40258.201309201106223154520723.DCM: File is missing DICOM File Meta Information header or the 'DICM' prefix is missing from the header. Use force=True to force reading.\n"
     ]
    },
    {
     "name": "stderr",
     "output_type": "stream",
     "text": [
      "Epoch 31/100: 100%|██████████| 80/80 [12:38<00:00,  9.48s/batch, Batch Time=9.2883 sec] "
     ]
    },
    {
     "name": "stdout",
     "output_type": "stream",
     "text": [
      "INFO:swin_transformer_3d:Epoch 31/100, Loss: 0.0396\n"
     ]
    },
    {
     "name": "stderr",
     "output_type": "stream",
     "text": [
      "\n",
      "Validation: 100%|██████████| 44/44 [04:38<00:00,  6.33s/batch]"
     ]
    },
    {
     "name": "stdout",
     "output_type": "stream",
     "text": [
      "INFO:swin_transformer_3d:Validation Loss: 0.0360\n",
      "INFO:swin_transformer_3d:Epoch 31 took 1037.2492 seconds\n"
     ]
    },
    {
     "name": "stderr",
     "output_type": "stream",
     "text": [
      "\n",
      "Epoch 32/100:  86%|████████▋ | 69/80 [11:23<01:46,  9.64s/batch, Batch Time=8.8568 sec] "
     ]
    },
    {
     "name": "stdout",
     "output_type": "stream",
     "text": [
      "Error reading /Users/eleanorbolton/Library/CloudStorage/OneDrive-UniversityofLeeds/t1_vibe_we_hand_subset/CCP_181/983862e0ae/t1_vibe_we/1.3.12.2.1107.5.2.36.40258.201309201106223154520723.DCM: File is missing DICOM File Meta Information header or the 'DICM' prefix is missing from the header. Use force=True to force reading.\n"
     ]
    },
    {
     "name": "stderr",
     "output_type": "stream",
     "text": [
      "Epoch 32/100: 100%|██████████| 80/80 [13:10<00:00,  9.89s/batch, Batch Time=8.4326 sec] "
     ]
    },
    {
     "name": "stdout",
     "output_type": "stream",
     "text": [
      "INFO:swin_transformer_3d:Epoch 32/100, Loss: 0.0417\n"
     ]
    },
    {
     "name": "stderr",
     "output_type": "stream",
     "text": [
      "\n",
      "Validation: 100%|██████████| 44/44 [04:38<00:00,  6.32s/batch]"
     ]
    },
    {
     "name": "stdout",
     "output_type": "stream",
     "text": [
      "INFO:swin_transformer_3d:Validation Loss: 0.0349\n",
      "INFO:swin_transformer_3d:Epoch 32 took 1068.9303 seconds\n"
     ]
    },
    {
     "name": "stderr",
     "output_type": "stream",
     "text": [
      "\n",
      "Epoch 33/100:  64%|██████▍   | 51/80 [08:20<04:37,  9.58s/batch, Batch Time=8.4301 sec] "
     ]
    },
    {
     "name": "stdout",
     "output_type": "stream",
     "text": [
      "Error reading /Users/eleanorbolton/Library/CloudStorage/OneDrive-UniversityofLeeds/t1_vibe_we_hand_subset/CCP_181/983862e0ae/t1_vibe_we/1.3.12.2.1107.5.2.36.40258.201309201106223154520723.DCM: File is missing DICOM File Meta Information header or the 'DICM' prefix is missing from the header. Use force=True to force reading.\n"
     ]
    },
    {
     "name": "stderr",
     "output_type": "stream",
     "text": [
      "Epoch 33/100: 100%|██████████| 80/80 [12:58<00:00,  9.73s/batch, Batch Time=8.2614 sec] "
     ]
    },
    {
     "name": "stdout",
     "output_type": "stream",
     "text": [
      "INFO:swin_transformer_3d:Epoch 33/100, Loss: 0.0396\n"
     ]
    },
    {
     "name": "stderr",
     "output_type": "stream",
     "text": [
      "\n",
      "Validation: 100%|██████████| 44/44 [04:46<00:00,  6.51s/batch]"
     ]
    },
    {
     "name": "stdout",
     "output_type": "stream",
     "text": [
      "INFO:swin_transformer_3d:Validation Loss: 0.0393\n",
      "INFO:swin_transformer_3d:Epoch 33 took 1064.6264 seconds\n"
     ]
    },
    {
     "name": "stderr",
     "output_type": "stream",
     "text": [
      "\n",
      "Epoch 34/100:  18%|█▊        | 14/80 [02:17<11:01, 10.02s/batch, Batch Time=10.5866 sec]"
     ]
    },
    {
     "name": "stdout",
     "output_type": "stream",
     "text": [
      "Error reading /Users/eleanorbolton/Library/CloudStorage/OneDrive-UniversityofLeeds/t1_vibe_we_hand_subset/CCP_181/983862e0ae/t1_vibe_we/1.3.12.2.1107.5.2.36.40258.201309201106223154520723.DCM: File is missing DICOM File Meta Information header or the 'DICM' prefix is missing from the header. Use force=True to force reading.\n"
     ]
    },
    {
     "name": "stderr",
     "output_type": "stream",
     "text": [
      "Epoch 34/100: 100%|██████████| 80/80 [12:35<00:00,  9.45s/batch, Batch Time=8.0027 sec] "
     ]
    },
    {
     "name": "stdout",
     "output_type": "stream",
     "text": [
      "INFO:swin_transformer_3d:Epoch 34/100, Loss: 0.0334\n"
     ]
    },
    {
     "name": "stderr",
     "output_type": "stream",
     "text": [
      "\n",
      "Validation: 100%|██████████| 44/44 [04:33<00:00,  6.21s/batch]"
     ]
    },
    {
     "name": "stdout",
     "output_type": "stream",
     "text": [
      "INFO:swin_transformer_3d:Validation Loss: 0.0423\n",
      "INFO:swin_transformer_3d:Epoch 34 took 1029.1154 seconds\n"
     ]
    },
    {
     "name": "stderr",
     "output_type": "stream",
     "text": [
      "\n",
      "Epoch 35/100:  99%|█████████▉| 79/80 [11:51<00:08,  8.73s/batch, Batch Time=8.0437 sec] "
     ]
    },
    {
     "name": "stdout",
     "output_type": "stream",
     "text": [
      "Error reading /Users/eleanorbolton/Library/CloudStorage/OneDrive-UniversityofLeeds/t1_vibe_we_hand_subset/CCP_181/983862e0ae/t1_vibe_we/1.3.12.2.1107.5.2.36.40258.201309201106223154520723.DCM: File is missing DICOM File Meta Information header or the 'DICM' prefix is missing from the header. Use force=True to force reading.\n"
     ]
    },
    {
     "name": "stderr",
     "output_type": "stream",
     "text": [
      "Epoch 35/100: 100%|██████████| 80/80 [12:01<00:00,  9.02s/batch, Batch Time=8.3371 sec]"
     ]
    },
    {
     "name": "stdout",
     "output_type": "stream",
     "text": [
      "INFO:swin_transformer_3d:Epoch 35/100, Loss: 0.0386\n"
     ]
    },
    {
     "name": "stderr",
     "output_type": "stream",
     "text": [
      "\n",
      "Validation: 100%|██████████| 44/44 [05:26<00:00,  7.43s/batch]"
     ]
    },
    {
     "name": "stdout",
     "output_type": "stream",
     "text": [
      "INFO:swin_transformer_3d:Validation Loss: 0.0313\n",
      "INFO:swin_transformer_3d:Epoch 35 took 1048.2372 seconds\n"
     ]
    },
    {
     "name": "stderr",
     "output_type": "stream",
     "text": [
      "\n",
      "Epoch 36/100:   6%|▋         | 5/80 [00:47<11:54,  9.53s/batch, Batch Time=8.8372 sec]"
     ]
    },
    {
     "name": "stdout",
     "output_type": "stream",
     "text": [
      "Error reading /Users/eleanorbolton/Library/CloudStorage/OneDrive-UniversityofLeeds/t1_vibe_we_hand_subset/CCP_181/983862e0ae/t1_vibe_we/1.3.12.2.1107.5.2.36.40258.201309201106223154520723.DCM: File is missing DICOM File Meta Information header or the 'DICM' prefix is missing from the header. Use force=True to force reading.\n"
     ]
    },
    {
     "name": "stderr",
     "output_type": "stream",
     "text": [
      "Epoch 36/100: 100%|██████████| 80/80 [12:02<00:00,  9.04s/batch, Batch Time=7.6854 sec]"
     ]
    },
    {
     "name": "stdout",
     "output_type": "stream",
     "text": [
      "INFO:swin_transformer_3d:Epoch 36/100, Loss: 0.0422\n"
     ]
    },
    {
     "name": "stderr",
     "output_type": "stream",
     "text": [
      "\n",
      "Validation: 100%|██████████| 44/44 [04:29<00:00,  6.12s/batch]"
     ]
    },
    {
     "name": "stdout",
     "output_type": "stream",
     "text": [
      "INFO:swin_transformer_3d:Validation Loss: 0.0374\n",
      "INFO:swin_transformer_3d:Epoch 36 took 992.1297 seconds\n"
     ]
    },
    {
     "name": "stderr",
     "output_type": "stream",
     "text": [
      "\n",
      "Epoch 37/100:  38%|███▊      | 30/80 [04:32<07:28,  8.97s/batch, Batch Time=7.8998 sec]"
     ]
    },
    {
     "name": "stdout",
     "output_type": "stream",
     "text": [
      "Error reading /Users/eleanorbolton/Library/CloudStorage/OneDrive-UniversityofLeeds/t1_vibe_we_hand_subset/CCP_181/983862e0ae/t1_vibe_we/1.3.12.2.1107.5.2.36.40258.201309201106223154520723.DCM: File is missing DICOM File Meta Information header or the 'DICM' prefix is missing from the header. Use force=True to force reading.\n"
     ]
    },
    {
     "name": "stderr",
     "output_type": "stream",
     "text": [
      "Epoch 37/100: 100%|██████████| 80/80 [12:20<00:00,  9.26s/batch, Batch Time=8.0788 sec] "
     ]
    },
    {
     "name": "stdout",
     "output_type": "stream",
     "text": [
      "INFO:swin_transformer_3d:Epoch 37/100, Loss: 0.0412\n"
     ]
    },
    {
     "name": "stderr",
     "output_type": "stream",
     "text": [
      "\n",
      "Validation: 100%|██████████| 44/44 [04:30<00:00,  6.15s/batch]"
     ]
    },
    {
     "name": "stdout",
     "output_type": "stream",
     "text": [
      "INFO:swin_transformer_3d:Validation Loss: 0.0352\n",
      "INFO:swin_transformer_3d:Epoch 37 took 1011.3894 seconds\n"
     ]
    },
    {
     "name": "stderr",
     "output_type": "stream",
     "text": [
      "\n",
      "Epoch 38/100:   6%|▋         | 5/80 [00:47<11:46,  9.42s/batch, Batch Time=8.8431 sec]"
     ]
    },
    {
     "name": "stdout",
     "output_type": "stream",
     "text": [
      "Error reading /Users/eleanorbolton/Library/CloudStorage/OneDrive-UniversityofLeeds/t1_vibe_we_hand_subset/CCP_181/983862e0ae/t1_vibe_we/1.3.12.2.1107.5.2.36.40258.201309201106223154520723.DCM: File is missing DICOM File Meta Information header or the 'DICM' prefix is missing from the header. Use force=True to force reading.\n"
     ]
    },
    {
     "name": "stderr",
     "output_type": "stream",
     "text": [
      "Epoch 38/100: 100%|██████████| 80/80 [12:15<00:00,  9.20s/batch, Batch Time=8.2629 sec] "
     ]
    },
    {
     "name": "stdout",
     "output_type": "stream",
     "text": [
      "INFO:swin_transformer_3d:Epoch 38/100, Loss: 0.0367\n"
     ]
    },
    {
     "name": "stderr",
     "output_type": "stream",
     "text": [
      "\n",
      "Validation: 100%|██████████| 44/44 [04:36<00:00,  6.28s/batch]"
     ]
    },
    {
     "name": "stdout",
     "output_type": "stream",
     "text": [
      "INFO:swin_transformer_3d:Validation Loss: 0.0375\n",
      "INFO:swin_transformer_3d:Epoch 38 took 1012.4326 seconds\n"
     ]
    },
    {
     "name": "stderr",
     "output_type": "stream",
     "text": [
      "\n",
      "Epoch 39/100:  80%|████████  | 64/80 [09:40<02:25,  9.09s/batch, Batch Time=8.1599 sec]"
     ]
    },
    {
     "name": "stdout",
     "output_type": "stream",
     "text": [
      "Error reading /Users/eleanorbolton/Library/CloudStorage/OneDrive-UniversityofLeeds/t1_vibe_we_hand_subset/CCP_181/983862e0ae/t1_vibe_we/1.3.12.2.1107.5.2.36.40258.201309201106223154520723.DCM: File is missing DICOM File Meta Information header or the 'DICM' prefix is missing from the header. Use force=True to force reading.\n"
     ]
    },
    {
     "name": "stderr",
     "output_type": "stream",
     "text": [
      "Epoch 39/100: 100%|██████████| 80/80 [12:04<00:00,  9.06s/batch, Batch Time=8.4346 sec]"
     ]
    },
    {
     "name": "stdout",
     "output_type": "stream",
     "text": [
      "INFO:swin_transformer_3d:Epoch 39/100, Loss: 0.0360\n"
     ]
    },
    {
     "name": "stderr",
     "output_type": "stream",
     "text": [
      "\n",
      "Validation: 100%|██████████| 44/44 [04:27<00:00,  6.09s/batch]"
     ]
    },
    {
     "name": "stdout",
     "output_type": "stream",
     "text": [
      "INFO:swin_transformer_3d:Validation Loss: 0.0588\n",
      "INFO:swin_transformer_3d:Epoch 39 took 992.7850 seconds\n"
     ]
    },
    {
     "name": "stderr",
     "output_type": "stream",
     "text": [
      "\n",
      "Epoch 40/100:  19%|█▉        | 15/80 [02:15<09:30,  8.78s/batch, Batch Time=7.7879 sec]"
     ]
    },
    {
     "name": "stdout",
     "output_type": "stream",
     "text": [
      "Error reading /Users/eleanorbolton/Library/CloudStorage/OneDrive-UniversityofLeeds/t1_vibe_we_hand_subset/CCP_181/983862e0ae/t1_vibe_we/1.3.12.2.1107.5.2.36.40258.201309201106223154520723.DCM: File is missing DICOM File Meta Information header or the 'DICM' prefix is missing from the header. Use force=True to force reading.\n"
     ]
    },
    {
     "name": "stderr",
     "output_type": "stream",
     "text": [
      "Epoch 40/100: 100%|██████████| 80/80 [11:55<00:00,  8.95s/batch, Batch Time=8.8285 sec]"
     ]
    },
    {
     "name": "stdout",
     "output_type": "stream",
     "text": [
      "INFO:swin_transformer_3d:Epoch 40/100, Loss: 0.0384\n"
     ]
    },
    {
     "name": "stderr",
     "output_type": "stream",
     "text": [
      "\n",
      "Validation: 100%|██████████| 44/44 [04:26<00:00,  6.05s/batch]"
     ]
    },
    {
     "name": "stdout",
     "output_type": "stream",
     "text": [
      "INFO:swin_transformer_3d:Validation Loss: 0.0366\n",
      "INFO:swin_transformer_3d:Epoch 40 took 981.9036 seconds\n"
     ]
    },
    {
     "name": "stderr",
     "output_type": "stream",
     "text": [
      "\n",
      "Epoch 41/100:  30%|███       | 24/80 [03:35<08:21,  8.95s/batch, Batch Time=8.3140 sec]"
     ]
    },
    {
     "name": "stdout",
     "output_type": "stream",
     "text": [
      "Error reading /Users/eleanorbolton/Library/CloudStorage/OneDrive-UniversityofLeeds/t1_vibe_we_hand_subset/CCP_181/983862e0ae/t1_vibe_we/1.3.12.2.1107.5.2.36.40258.201309201106223154520723.DCM: File is missing DICOM File Meta Information header or the 'DICM' prefix is missing from the header. Use force=True to force reading.\n"
     ]
    },
    {
     "name": "stderr",
     "output_type": "stream",
     "text": [
      "Epoch 41/100: 100%|██████████| 80/80 [11:52<00:00,  8.91s/batch, Batch Time=7.6619 sec]"
     ]
    },
    {
     "name": "stdout",
     "output_type": "stream",
     "text": [
      "INFO:swin_transformer_3d:Epoch 41/100, Loss: 0.0374\n"
     ]
    },
    {
     "name": "stderr",
     "output_type": "stream",
     "text": [
      "\n",
      "Validation: 100%|██████████| 44/44 [04:27<00:00,  6.08s/batch]"
     ]
    },
    {
     "name": "stdout",
     "output_type": "stream",
     "text": [
      "INFO:swin_transformer_3d:Validation Loss: 0.0335\n",
      "INFO:swin_transformer_3d:Epoch 41 took 980.2887 seconds\n"
     ]
    },
    {
     "name": "stderr",
     "output_type": "stream",
     "text": [
      "\n",
      "Epoch 42/100:  82%|████████▎ | 66/80 [09:48<02:05,  8.94s/batch, Batch Time=7.6040 sec]"
     ]
    },
    {
     "name": "stdout",
     "output_type": "stream",
     "text": [
      "Error reading /Users/eleanorbolton/Library/CloudStorage/OneDrive-UniversityofLeeds/t1_vibe_we_hand_subset/CCP_181/983862e0ae/t1_vibe_we/1.3.12.2.1107.5.2.36.40258.201309201106223154520723.DCM: File is missing DICOM File Meta Information header or the 'DICM' prefix is missing from the header. Use force=True to force reading.\n"
     ]
    },
    {
     "name": "stderr",
     "output_type": "stream",
     "text": [
      "Epoch 42/100: 100%|██████████| 80/80 [11:55<00:00,  8.94s/batch, Batch Time=8.0436 sec]"
     ]
    },
    {
     "name": "stdout",
     "output_type": "stream",
     "text": [
      "INFO:swin_transformer_3d:Epoch 42/100, Loss: 0.0372\n"
     ]
    },
    {
     "name": "stderr",
     "output_type": "stream",
     "text": [
      "\n",
      "Validation: 100%|██████████| 44/44 [04:27<00:00,  6.08s/batch]"
     ]
    },
    {
     "name": "stdout",
     "output_type": "stream",
     "text": [
      "INFO:swin_transformer_3d:Validation Loss: 0.0360\n",
      "INFO:swin_transformer_3d:Epoch 42 took 982.7360 seconds\n"
     ]
    },
    {
     "name": "stderr",
     "output_type": "stream",
     "text": [
      "\n",
      "Epoch 43/100:  42%|████▎     | 34/80 [05:07<06:50,  8.93s/batch, Batch Time=8.1210 sec]"
     ]
    },
    {
     "name": "stdout",
     "output_type": "stream",
     "text": [
      "Error reading /Users/eleanorbolton/Library/CloudStorage/OneDrive-UniversityofLeeds/t1_vibe_we_hand_subset/CCP_181/983862e0ae/t1_vibe_we/1.3.12.2.1107.5.2.36.40258.201309201106223154520723.DCM: File is missing DICOM File Meta Information header or the 'DICM' prefix is missing from the header. Use force=True to force reading.\n"
     ]
    },
    {
     "name": "stderr",
     "output_type": "stream",
     "text": [
      "Epoch 43/100: 100%|██████████| 80/80 [11:58<00:00,  8.98s/batch, Batch Time=8.5174 sec]"
     ]
    },
    {
     "name": "stdout",
     "output_type": "stream",
     "text": [
      "INFO:swin_transformer_3d:Epoch 43/100, Loss: 0.0327\n"
     ]
    },
    {
     "name": "stderr",
     "output_type": "stream",
     "text": [
      "\n",
      "Validation: 100%|██████████| 44/44 [04:26<00:00,  6.05s/batch]"
     ]
    },
    {
     "name": "stdout",
     "output_type": "stream",
     "text": [
      "INFO:swin_transformer_3d:Validation Loss: 0.0321\n",
      "INFO:swin_transformer_3d:Epoch 43 took 985.0890 seconds\n"
     ]
    },
    {
     "name": "stderr",
     "output_type": "stream",
     "text": [
      "\n",
      "Epoch 44/100:  56%|█████▋    | 45/80 [06:45<05:07,  8.78s/batch, Batch Time=7.7744 sec]"
     ]
    },
    {
     "name": "stdout",
     "output_type": "stream",
     "text": [
      "Error reading /Users/eleanorbolton/Library/CloudStorage/OneDrive-UniversityofLeeds/t1_vibe_we_hand_subset/CCP_181/983862e0ae/t1_vibe_we/1.3.12.2.1107.5.2.36.40258.201309201106223154520723.DCM: File is missing DICOM File Meta Information header or the 'DICM' prefix is missing from the header. Use force=True to force reading.\n"
     ]
    },
    {
     "name": "stderr",
     "output_type": "stream",
     "text": [
      "Epoch 44/100: 100%|██████████| 80/80 [12:07<00:00,  9.09s/batch, Batch Time=7.7258 sec] "
     ]
    },
    {
     "name": "stdout",
     "output_type": "stream",
     "text": [
      "INFO:swin_transformer_3d:Epoch 44/100, Loss: 0.0363\n"
     ]
    },
    {
     "name": "stderr",
     "output_type": "stream",
     "text": [
      "\n",
      "Validation: 100%|██████████| 44/44 [04:27<00:00,  6.09s/batch]"
     ]
    },
    {
     "name": "stdout",
     "output_type": "stream",
     "text": [
      "INFO:swin_transformer_3d:Validation Loss: 0.0282\n",
      "INFO:swin_transformer_3d:Epoch 44 took 995.3980 seconds\n"
     ]
    },
    {
     "name": "stderr",
     "output_type": "stream",
     "text": [
      "\n",
      "Epoch 45/100:  45%|████▌     | 36/80 [05:30<06:35,  8.99s/batch, Batch Time=7.8060 sec] "
     ]
    },
    {
     "name": "stdout",
     "output_type": "stream",
     "text": [
      "Error reading /Users/eleanorbolton/Library/CloudStorage/OneDrive-UniversityofLeeds/t1_vibe_we_hand_subset/CCP_181/983862e0ae/t1_vibe_we/1.3.12.2.1107.5.2.36.40258.201309201106223154520723.DCM: File is missing DICOM File Meta Information header or the 'DICM' prefix is missing from the header. Use force=True to force reading.\n"
     ]
    },
    {
     "name": "stderr",
     "output_type": "stream",
     "text": [
      "Epoch 45/100: 100%|██████████| 80/80 [11:58<00:00,  8.98s/batch, Batch Time=7.8431 sec]"
     ]
    },
    {
     "name": "stdout",
     "output_type": "stream",
     "text": [
      "INFO:swin_transformer_3d:Epoch 45/100, Loss: 0.0406\n"
     ]
    },
    {
     "name": "stderr",
     "output_type": "stream",
     "text": [
      "\n",
      "Validation: 100%|██████████| 44/44 [04:26<00:00,  6.06s/batch]"
     ]
    },
    {
     "name": "stdout",
     "output_type": "stream",
     "text": [
      "INFO:swin_transformer_3d:Validation Loss: 0.0373\n",
      "INFO:swin_transformer_3d:Epoch 45 took 984.6055 seconds\n"
     ]
    },
    {
     "name": "stderr",
     "output_type": "stream",
     "text": [
      "\n",
      "Epoch 46/100:  24%|██▍       | 19/80 [02:50<09:08,  8.98s/batch, Batch Time=8.1079 sec]"
     ]
    },
    {
     "name": "stdout",
     "output_type": "stream",
     "text": [
      "Error reading /Users/eleanorbolton/Library/CloudStorage/OneDrive-UniversityofLeeds/t1_vibe_we_hand_subset/CCP_181/983862e0ae/t1_vibe_we/1.3.12.2.1107.5.2.36.40258.201309201106223154520723.DCM: File is missing DICOM File Meta Information header or the 'DICM' prefix is missing from the header. Use force=True to force reading.\n"
     ]
    },
    {
     "name": "stderr",
     "output_type": "stream",
     "text": [
      "Epoch 46/100: 100%|██████████| 80/80 [12:00<00:00,  9.00s/batch, Batch Time=8.3858 sec]"
     ]
    },
    {
     "name": "stdout",
     "output_type": "stream",
     "text": [
      "INFO:swin_transformer_3d:Epoch 46/100, Loss: 0.0353\n"
     ]
    },
    {
     "name": "stderr",
     "output_type": "stream",
     "text": [
      "\n",
      "Validation: 100%|██████████| 44/44 [04:28<00:00,  6.11s/batch]"
     ]
    },
    {
     "name": "stdout",
     "output_type": "stream",
     "text": [
      "INFO:swin_transformer_3d:Validation Loss: 0.0373\n",
      "INFO:swin_transformer_3d:Epoch 46 took 989.1571 seconds\n"
     ]
    },
    {
     "name": "stderr",
     "output_type": "stream",
     "text": [
      "\n",
      "Epoch 47/100:  98%|█████████▊| 78/80 [11:36<00:17,  8.58s/batch, Batch Time=7.8496 sec]"
     ]
    },
    {
     "name": "stdout",
     "output_type": "stream",
     "text": [
      "Error reading /Users/eleanorbolton/Library/CloudStorage/OneDrive-UniversityofLeeds/t1_vibe_we_hand_subset/CCP_181/983862e0ae/t1_vibe_we/1.3.12.2.1107.5.2.36.40258.201309201106223154520723.DCM: File is missing DICOM File Meta Information header or the 'DICM' prefix is missing from the header. Use force=True to force reading.\n"
     ]
    },
    {
     "name": "stderr",
     "output_type": "stream",
     "text": [
      "Epoch 47/100: 100%|██████████| 80/80 [11:55<00:00,  8.94s/batch, Batch Time=8.9918 sec]"
     ]
    },
    {
     "name": "stdout",
     "output_type": "stream",
     "text": [
      "INFO:swin_transformer_3d:Epoch 47/100, Loss: 0.0397\n"
     ]
    },
    {
     "name": "stderr",
     "output_type": "stream",
     "text": [
      "\n",
      "Validation: 100%|██████████| 44/44 [04:29<00:00,  6.13s/batch]"
     ]
    },
    {
     "name": "stdout",
     "output_type": "stream",
     "text": [
      "INFO:swin_transformer_3d:Validation Loss: 0.0369\n",
      "INFO:swin_transformer_3d:Epoch 47 took 985.0369 seconds\n"
     ]
    },
    {
     "name": "stderr",
     "output_type": "stream",
     "text": [
      "\n",
      "Epoch 48/100:  84%|████████▍ | 67/80 [10:01<01:51,  8.55s/batch, Batch Time=7.9575 sec]"
     ]
    },
    {
     "name": "stdout",
     "output_type": "stream",
     "text": [
      "Error reading /Users/eleanorbolton/Library/CloudStorage/OneDrive-UniversityofLeeds/t1_vibe_we_hand_subset/CCP_181/983862e0ae/t1_vibe_we/1.3.12.2.1107.5.2.36.40258.201309201106223154520723.DCM: File is missing DICOM File Meta Information header or the 'DICM' prefix is missing from the header. Use force=True to force reading.\n"
     ]
    },
    {
     "name": "stderr",
     "output_type": "stream",
     "text": [
      "Epoch 48/100: 100%|██████████| 80/80 [12:00<00:00,  9.01s/batch, Batch Time=8.5377 sec]"
     ]
    },
    {
     "name": "stdout",
     "output_type": "stream",
     "text": [
      "INFO:swin_transformer_3d:Epoch 48/100, Loss: 0.0364\n"
     ]
    },
    {
     "name": "stderr",
     "output_type": "stream",
     "text": [
      "\n",
      "Validation: 100%|██████████| 44/44 [04:30<00:00,  6.14s/batch]"
     ]
    },
    {
     "name": "stdout",
     "output_type": "stream",
     "text": [
      "INFO:swin_transformer_3d:Validation Loss: 0.0342\n",
      "INFO:swin_transformer_3d:Epoch 48 took 991.0376 seconds\n"
     ]
    },
    {
     "name": "stderr",
     "output_type": "stream",
     "text": [
      "\n",
      "Epoch 49/100:  29%|██▉       | 23/80 [03:26<08:14,  8.68s/batch, Batch Time=8.2640 sec]"
     ]
    },
    {
     "name": "stdout",
     "output_type": "stream",
     "text": [
      "Error reading /Users/eleanorbolton/Library/CloudStorage/OneDrive-UniversityofLeeds/t1_vibe_we_hand_subset/CCP_181/983862e0ae/t1_vibe_we/1.3.12.2.1107.5.2.36.40258.201309201106223154520723.DCM: File is missing DICOM File Meta Information header or the 'DICM' prefix is missing from the header. Use force=True to force reading.\n"
     ]
    },
    {
     "name": "stderr",
     "output_type": "stream",
     "text": [
      "Epoch 49/100: 100%|██████████| 80/80 [12:00<00:00,  9.01s/batch, Batch Time=8.9641 sec]"
     ]
    },
    {
     "name": "stdout",
     "output_type": "stream",
     "text": [
      "INFO:swin_transformer_3d:Epoch 49/100, Loss: 0.0335\n"
     ]
    },
    {
     "name": "stderr",
     "output_type": "stream",
     "text": [
      "\n",
      "Validation: 100%|██████████| 44/44 [04:27<00:00,  6.08s/batch]"
     ]
    },
    {
     "name": "stdout",
     "output_type": "stream",
     "text": [
      "INFO:swin_transformer_3d:Validation Loss: 0.0338\n",
      "INFO:swin_transformer_3d:Epoch 49 took 988.3222 seconds\n"
     ]
    },
    {
     "name": "stderr",
     "output_type": "stream",
     "text": [
      "\n",
      "Epoch 50/100:  46%|████▋     | 37/80 [05:31<06:24,  8.94s/batch, Batch Time=8.7146 sec]"
     ]
    },
    {
     "name": "stdout",
     "output_type": "stream",
     "text": [
      "Error reading /Users/eleanorbolton/Library/CloudStorage/OneDrive-UniversityofLeeds/t1_vibe_we_hand_subset/CCP_181/983862e0ae/t1_vibe_we/1.3.12.2.1107.5.2.36.40258.201309201106223154520723.DCM: File is missing DICOM File Meta Information header or the 'DICM' prefix is missing from the header. Use force=True to force reading.\n"
     ]
    },
    {
     "name": "stderr",
     "output_type": "stream",
     "text": [
      "Epoch 50/100: 100%|██████████| 80/80 [11:55<00:00,  8.95s/batch, Batch Time=8.1483 sec]"
     ]
    },
    {
     "name": "stdout",
     "output_type": "stream",
     "text": [
      "INFO:swin_transformer_3d:Epoch 50/100, Loss: 0.0361\n"
     ]
    },
    {
     "name": "stderr",
     "output_type": "stream",
     "text": [
      "\n",
      "Validation: 100%|██████████| 44/44 [04:29<00:00,  6.12s/batch]"
     ]
    },
    {
     "name": "stdout",
     "output_type": "stream",
     "text": [
      "INFO:swin_transformer_3d:Validation Loss: 0.0358\n",
      "INFO:swin_transformer_3d:Epoch 50 took 985.2073 seconds\n"
     ]
    },
    {
     "name": "stderr",
     "output_type": "stream",
     "text": [
      "\n",
      "Epoch 51/100:  16%|█▋        | 13/80 [01:57<10:05,  9.04s/batch, Batch Time=7.8054 sec]"
     ]
    },
    {
     "name": "stdout",
     "output_type": "stream",
     "text": [
      "Error reading /Users/eleanorbolton/Library/CloudStorage/OneDrive-UniversityofLeeds/t1_vibe_we_hand_subset/CCP_181/983862e0ae/t1_vibe_we/1.3.12.2.1107.5.2.36.40258.201309201106223154520723.DCM: File is missing DICOM File Meta Information header or the 'DICM' prefix is missing from the header. Use force=True to force reading.\n"
     ]
    },
    {
     "name": "stderr",
     "output_type": "stream",
     "text": [
      "Epoch 51/100: 100%|██████████| 80/80 [11:52<00:00,  8.91s/batch, Batch Time=8.2925 sec]"
     ]
    },
    {
     "name": "stdout",
     "output_type": "stream",
     "text": [
      "INFO:swin_transformer_3d:Epoch 51/100, Loss: 0.0347\n"
     ]
    },
    {
     "name": "stderr",
     "output_type": "stream",
     "text": [
      "\n",
      "Validation: 100%|██████████| 44/44 [04:28<00:00,  6.11s/batch]"
     ]
    },
    {
     "name": "stdout",
     "output_type": "stream",
     "text": [
      "INFO:swin_transformer_3d:Validation Loss: 0.0311\n",
      "INFO:swin_transformer_3d:Epoch 51 took 981.3103 seconds\n"
     ]
    },
    {
     "name": "stderr",
     "output_type": "stream",
     "text": [
      "\n",
      "Epoch 52/100:  64%|██████▍   | 51/80 [07:29<04:14,  8.79s/batch, Batch Time=7.8241 sec]"
     ]
    },
    {
     "name": "stdout",
     "output_type": "stream",
     "text": [
      "Error reading /Users/eleanorbolton/Library/CloudStorage/OneDrive-UniversityofLeeds/t1_vibe_we_hand_subset/CCP_181/983862e0ae/t1_vibe_we/1.3.12.2.1107.5.2.36.40258.201309201106223154520723.DCM: File is missing DICOM File Meta Information header or the 'DICM' prefix is missing from the header. Use force=True to force reading.\n"
     ]
    },
    {
     "name": "stderr",
     "output_type": "stream",
     "text": [
      "Epoch 52/100: 100%|██████████| 80/80 [11:47<00:00,  8.85s/batch, Batch Time=8.3354 sec]"
     ]
    },
    {
     "name": "stdout",
     "output_type": "stream",
     "text": [
      "INFO:swin_transformer_3d:Epoch 52/100, Loss: 0.0370\n"
     ]
    },
    {
     "name": "stderr",
     "output_type": "stream",
     "text": [
      "\n",
      "Validation: 100%|██████████| 44/44 [04:28<00:00,  6.10s/batch]"
     ]
    },
    {
     "name": "stdout",
     "output_type": "stream",
     "text": [
      "INFO:swin_transformer_3d:Validation Loss: 0.0326\n",
      "INFO:swin_transformer_3d:Epoch 52 took 976.3968 seconds\n"
     ]
    },
    {
     "name": "stderr",
     "output_type": "stream",
     "text": [
      "\n",
      "Epoch 53/100:  30%|███       | 24/80 [03:34<08:22,  8.97s/batch, Batch Time=8.4567 sec]"
     ]
    },
    {
     "name": "stdout",
     "output_type": "stream",
     "text": [
      "Error reading /Users/eleanorbolton/Library/CloudStorage/OneDrive-UniversityofLeeds/t1_vibe_we_hand_subset/CCP_181/983862e0ae/t1_vibe_we/1.3.12.2.1107.5.2.36.40258.201309201106223154520723.DCM: File is missing DICOM File Meta Information header or the 'DICM' prefix is missing from the header. Use force=True to force reading.\n"
     ]
    },
    {
     "name": "stderr",
     "output_type": "stream",
     "text": [
      "Epoch 53/100: 100%|██████████| 80/80 [11:56<00:00,  8.95s/batch, Batch Time=8.2519 sec]"
     ]
    },
    {
     "name": "stdout",
     "output_type": "stream",
     "text": [
      "INFO:swin_transformer_3d:Epoch 53/100, Loss: 0.0340\n"
     ]
    },
    {
     "name": "stderr",
     "output_type": "stream",
     "text": [
      "\n",
      "Validation: 100%|██████████| 44/44 [04:28<00:00,  6.10s/batch]"
     ]
    },
    {
     "name": "stdout",
     "output_type": "stream",
     "text": [
      "INFO:swin_transformer_3d:Validation Loss: 0.0404\n",
      "INFO:swin_transformer_3d:Epoch 53 took 984.8411 seconds\n"
     ]
    },
    {
     "name": "stderr",
     "output_type": "stream",
     "text": [
      "\n",
      "Epoch 54/100:  88%|████████▊ | 70/80 [10:29<01:27,  8.77s/batch, Batch Time=8.2576 sec]"
     ]
    },
    {
     "name": "stdout",
     "output_type": "stream",
     "text": [
      "Error reading /Users/eleanorbolton/Library/CloudStorage/OneDrive-UniversityofLeeds/t1_vibe_we_hand_subset/CCP_181/983862e0ae/t1_vibe_we/1.3.12.2.1107.5.2.36.40258.201309201106223154520723.DCM: File is missing DICOM File Meta Information header or the 'DICM' prefix is missing from the header. Use force=True to force reading.\n"
     ]
    },
    {
     "name": "stderr",
     "output_type": "stream",
     "text": [
      "Epoch 54/100: 100%|██████████| 80/80 [12:01<00:00,  9.02s/batch, Batch Time=8.4976 sec]"
     ]
    },
    {
     "name": "stdout",
     "output_type": "stream",
     "text": [
      "INFO:swin_transformer_3d:Epoch 54/100, Loss: 0.0351\n"
     ]
    },
    {
     "name": "stderr",
     "output_type": "stream",
     "text": [
      "\n",
      "Validation: 100%|██████████| 44/44 [04:28<00:00,  6.10s/batch]"
     ]
    },
    {
     "name": "stdout",
     "output_type": "stream",
     "text": [
      "INFO:swin_transformer_3d:Validation Loss: 0.0315\n",
      "INFO:swin_transformer_3d:Epoch 54 took 989.9595 seconds\n"
     ]
    },
    {
     "name": "stderr",
     "output_type": "stream",
     "text": [
      "\n",
      "Epoch 55/100:  72%|███████▎  | 58/80 [09:43<04:22, 11.92s/batch, Batch Time=10.3648 sec]"
     ]
    },
    {
     "name": "stdout",
     "output_type": "stream",
     "text": [
      "Error reading /Users/eleanorbolton/Library/CloudStorage/OneDrive-UniversityofLeeds/t1_vibe_we_hand_subset/CCP_181/983862e0ae/t1_vibe_we/1.3.12.2.1107.5.2.36.40258.201309201106223154520723.DCM: File is missing DICOM File Meta Information header or the 'DICM' prefix is missing from the header. Use force=True to force reading.\n"
     ]
    },
    {
     "name": "stderr",
     "output_type": "stream",
     "text": [
      "Epoch 55/100: 100%|██████████| 80/80 [14:39<00:00, 10.99s/batch, Batch Time=13.4069 sec]"
     ]
    },
    {
     "name": "stdout",
     "output_type": "stream",
     "text": [
      "INFO:swin_transformer_3d:Epoch 55/100, Loss: 0.0365\n"
     ]
    },
    {
     "name": "stderr",
     "output_type": "stream",
     "text": [
      "\n",
      "Validation: 100%|██████████| 44/44 [05:01<00:00,  6.86s/batch]"
     ]
    },
    {
     "name": "stdout",
     "output_type": "stream",
     "text": [
      "INFO:swin_transformer_3d:Validation Loss: 0.0470\n",
      "INFO:swin_transformer_3d:Epoch 55 took 1181.1593 seconds\n"
     ]
    },
    {
     "name": "stderr",
     "output_type": "stream",
     "text": [
      "\n",
      "Epoch 56/100:  99%|█████████▉| 79/80 [13:24<00:09,  9.26s/batch, Batch Time=8.1818 sec] "
     ]
    },
    {
     "name": "stdout",
     "output_type": "stream",
     "text": [
      "Error reading /Users/eleanorbolton/Library/CloudStorage/OneDrive-UniversityofLeeds/t1_vibe_we_hand_subset/CCP_181/983862e0ae/t1_vibe_we/1.3.12.2.1107.5.2.36.40258.201309201106223154520723.DCM: File is missing DICOM File Meta Information header or the 'DICM' prefix is missing from the header. Use force=True to force reading.\n"
     ]
    },
    {
     "name": "stderr",
     "output_type": "stream",
     "text": [
      "Epoch 56/100: 100%|██████████| 80/80 [13:35<00:00, 10.20s/batch, Batch Time=9.9002 sec]"
     ]
    },
    {
     "name": "stdout",
     "output_type": "stream",
     "text": [
      "INFO:swin_transformer_3d:Epoch 56/100, Loss: 0.0343\n"
     ]
    },
    {
     "name": "stderr",
     "output_type": "stream",
     "text": [
      "\n",
      "Validation: 100%|██████████| 44/44 [04:28<00:00,  6.11s/batch]"
     ]
    },
    {
     "name": "stdout",
     "output_type": "stream",
     "text": [
      "INFO:swin_transformer_3d:Validation Loss: 0.0358\n",
      "INFO:swin_transformer_3d:Epoch 56 took 1084.7885 seconds\n"
     ]
    },
    {
     "name": "stderr",
     "output_type": "stream",
     "text": [
      "\n",
      "Epoch 57/100:  65%|██████▌   | 52/80 [08:00<04:25,  9.47s/batch, Batch Time=8.6479 sec] "
     ]
    },
    {
     "name": "stdout",
     "output_type": "stream",
     "text": [
      "Error reading /Users/eleanorbolton/Library/CloudStorage/OneDrive-UniversityofLeeds/t1_vibe_we_hand_subset/CCP_181/983862e0ae/t1_vibe_we/1.3.12.2.1107.5.2.36.40258.201309201106223154520723.DCM: File is missing DICOM File Meta Information header or the 'DICM' prefix is missing from the header. Use force=True to force reading.\n"
     ]
    },
    {
     "name": "stderr",
     "output_type": "stream",
     "text": [
      "Epoch 57/100: 100%|██████████| 80/80 [12:09<00:00,  9.12s/batch, Batch Time=8.1964 sec]"
     ]
    },
    {
     "name": "stdout",
     "output_type": "stream",
     "text": [
      "INFO:swin_transformer_3d:Epoch 57/100, Loss: 0.0335\n"
     ]
    },
    {
     "name": "stderr",
     "output_type": "stream",
     "text": [
      "\n",
      "Validation: 100%|██████████| 44/44 [04:36<00:00,  6.29s/batch]"
     ]
    },
    {
     "name": "stdout",
     "output_type": "stream",
     "text": [
      "INFO:swin_transformer_3d:Validation Loss: 0.0369\n",
      "INFO:swin_transformer_3d:Epoch 57 took 1005.8517 seconds\n"
     ]
    },
    {
     "name": "stderr",
     "output_type": "stream",
     "text": [
      "\n",
      "Epoch 58/100:  25%|██▌       | 20/80 [03:11<09:42,  9.71s/batch, Batch Time=9.6288 sec]"
     ]
    },
    {
     "name": "stdout",
     "output_type": "stream",
     "text": [
      "Error reading /Users/eleanorbolton/Library/CloudStorage/OneDrive-UniversityofLeeds/t1_vibe_we_hand_subset/CCP_181/983862e0ae/t1_vibe_we/1.3.12.2.1107.5.2.36.40258.201309201106223154520723.DCM: File is missing DICOM File Meta Information header or the 'DICM' prefix is missing from the header. Use force=True to force reading.\n"
     ]
    },
    {
     "name": "stderr",
     "output_type": "stream",
     "text": [
      "Epoch 58/100: 100%|██████████| 80/80 [11:52<00:00,  8.91s/batch, Batch Time=7.1474 sec] "
     ]
    },
    {
     "name": "stdout",
     "output_type": "stream",
     "text": [
      "INFO:swin_transformer_3d:Epoch 58/100, Loss: 0.0310\n"
     ]
    },
    {
     "name": "stderr",
     "output_type": "stream",
     "text": [
      "\n",
      "Validation: 100%|██████████| 44/44 [04:27<00:00,  6.09s/batch]"
     ]
    },
    {
     "name": "stdout",
     "output_type": "stream",
     "text": [
      "INFO:swin_transformer_3d:Validation Loss: 0.0341\n",
      "INFO:swin_transformer_3d:Epoch 58 took 980.2841 seconds\n"
     ]
    },
    {
     "name": "stderr",
     "output_type": "stream",
     "text": [
      "\n",
      "Epoch 59/100:  79%|███████▉  | 63/80 [09:16<02:22,  8.41s/batch, Batch Time=7.4435 sec] "
     ]
    },
    {
     "name": "stdout",
     "output_type": "stream",
     "text": [
      "Error reading /Users/eleanorbolton/Library/CloudStorage/OneDrive-UniversityofLeeds/t1_vibe_we_hand_subset/CCP_181/983862e0ae/t1_vibe_we/1.3.12.2.1107.5.2.36.40258.201309201106223154520723.DCM: File is missing DICOM File Meta Information header or the 'DICM' prefix is missing from the header. Use force=True to force reading.\n"
     ]
    },
    {
     "name": "stderr",
     "output_type": "stream",
     "text": [
      "Epoch 59/100: 100%|██████████| 80/80 [12:06<00:00,  9.08s/batch, Batch Time=7.6586 sec] "
     ]
    },
    {
     "name": "stdout",
     "output_type": "stream",
     "text": [
      "INFO:swin_transformer_3d:Epoch 59/100, Loss: 0.0379\n"
     ]
    },
    {
     "name": "stderr",
     "output_type": "stream",
     "text": [
      "\n",
      "Validation: 100%|██████████| 44/44 [04:16<00:00,  5.82s/batch]"
     ]
    },
    {
     "name": "stdout",
     "output_type": "stream",
     "text": [
      "INFO:swin_transformer_3d:Validation Loss: 0.0326\n",
      "INFO:swin_transformer_3d:Epoch 59 took 982.4099 seconds\n"
     ]
    },
    {
     "name": "stderr",
     "output_type": "stream",
     "text": [
      "\n",
      "Epoch 60/100:  41%|████▏     | 33/80 [04:41<06:45,  8.62s/batch, Batch Time=7.7205 sec]"
     ]
    },
    {
     "name": "stdout",
     "output_type": "stream",
     "text": [
      "Error reading /Users/eleanorbolton/Library/CloudStorage/OneDrive-UniversityofLeeds/t1_vibe_we_hand_subset/CCP_181/983862e0ae/t1_vibe_we/1.3.12.2.1107.5.2.36.40258.201309201106223154520723.DCM: File is missing DICOM File Meta Information header or the 'DICM' prefix is missing from the header. Use force=True to force reading.\n"
     ]
    },
    {
     "name": "stderr",
     "output_type": "stream",
     "text": [
      "Epoch 60/100: 100%|██████████| 80/80 [11:28<00:00,  8.60s/batch, Batch Time=7.3674 sec] "
     ]
    },
    {
     "name": "stdout",
     "output_type": "stream",
     "text": [
      "INFO:swin_transformer_3d:Epoch 60/100, Loss: 0.0373\n"
     ]
    },
    {
     "name": "stderr",
     "output_type": "stream",
     "text": [
      "\n",
      "Validation: 100%|██████████| 44/44 [04:20<00:00,  5.91s/batch]"
     ]
    },
    {
     "name": "stdout",
     "output_type": "stream",
     "text": [
      "INFO:swin_transformer_3d:Validation Loss: 0.0403\n",
      "INFO:swin_transformer_3d:Epoch 60 took 948.1591 seconds\n"
     ]
    },
    {
     "name": "stderr",
     "output_type": "stream",
     "text": [
      "\n",
      "Epoch 61/100:  54%|█████▍    | 43/80 [06:10<05:17,  8.57s/batch, Batch Time=7.4802 sec]"
     ]
    },
    {
     "name": "stdout",
     "output_type": "stream",
     "text": [
      "Error reading /Users/eleanorbolton/Library/CloudStorage/OneDrive-UniversityofLeeds/t1_vibe_we_hand_subset/CCP_181/983862e0ae/t1_vibe_we/1.3.12.2.1107.5.2.36.40258.201309201106223154520723.DCM: File is missing DICOM File Meta Information header or the 'DICM' prefix is missing from the header. Use force=True to force reading.\n"
     ]
    },
    {
     "name": "stderr",
     "output_type": "stream",
     "text": [
      "Epoch 61/100: 100%|██████████| 80/80 [11:26<00:00,  8.58s/batch, Batch Time=8.1877 sec]"
     ]
    },
    {
     "name": "stdout",
     "output_type": "stream",
     "text": [
      "INFO:swin_transformer_3d:Epoch 61/100, Loss: 0.0361\n"
     ]
    },
    {
     "name": "stderr",
     "output_type": "stream",
     "text": [
      "\n",
      "Validation: 100%|██████████| 44/44 [04:17<00:00,  5.84s/batch]"
     ]
    },
    {
     "name": "stdout",
     "output_type": "stream",
     "text": [
      "INFO:swin_transformer_3d:Validation Loss: 0.0336\n",
      "INFO:swin_transformer_3d:Epoch 61 took 943.8224 seconds\n"
     ]
    },
    {
     "name": "stderr",
     "output_type": "stream",
     "text": [
      "\n",
      "Epoch 62/100:  40%|████      | 32/80 [04:29<06:47,  8.50s/batch, Batch Time=7.6876 sec]"
     ]
    },
    {
     "name": "stdout",
     "output_type": "stream",
     "text": [
      "Error reading /Users/eleanorbolton/Library/CloudStorage/OneDrive-UniversityofLeeds/t1_vibe_we_hand_subset/CCP_181/983862e0ae/t1_vibe_we/1.3.12.2.1107.5.2.36.40258.201309201106223154520723.DCM: File is missing DICOM File Meta Information header or the 'DICM' prefix is missing from the header. Use force=True to force reading.\n"
     ]
    },
    {
     "name": "stderr",
     "output_type": "stream",
     "text": [
      "Epoch 62/100: 100%|██████████| 80/80 [11:21<00:00,  8.52s/batch, Batch Time=7.7128 sec]"
     ]
    },
    {
     "name": "stdout",
     "output_type": "stream",
     "text": [
      "INFO:swin_transformer_3d:Epoch 62/100, Loss: 0.0381\n"
     ]
    },
    {
     "name": "stderr",
     "output_type": "stream",
     "text": [
      "\n",
      "Validation: 100%|██████████| 44/44 [04:16<00:00,  5.84s/batch]"
     ]
    },
    {
     "name": "stdout",
     "output_type": "stream",
     "text": [
      "INFO:swin_transformer_3d:Validation Loss: 0.0328\n",
      "INFO:swin_transformer_3d:Epoch 62 took 938.8366 seconds\n"
     ]
    },
    {
     "name": "stderr",
     "output_type": "stream",
     "text": [
      "\n",
      "Epoch 63/100:  95%|█████████▌| 76/80 [11:09<00:35,  8.99s/batch, Batch Time=9.0199 sec] "
     ]
    },
    {
     "name": "stdout",
     "output_type": "stream",
     "text": [
      "Error reading /Users/eleanorbolton/Library/CloudStorage/OneDrive-UniversityofLeeds/t1_vibe_we_hand_subset/CCP_181/983862e0ae/t1_vibe_we/1.3.12.2.1107.5.2.36.40258.201309201106223154520723.DCM: File is missing DICOM File Meta Information header or the 'DICM' prefix is missing from the header. Use force=True to force reading.\n"
     ]
    },
    {
     "name": "stderr",
     "output_type": "stream",
     "text": [
      "Epoch 63/100: 100%|██████████| 80/80 [11:45<00:00,  8.82s/batch, Batch Time=7.5714 sec]"
     ]
    },
    {
     "name": "stdout",
     "output_type": "stream",
     "text": [
      "INFO:swin_transformer_3d:Epoch 63/100, Loss: 0.0331\n"
     ]
    },
    {
     "name": "stderr",
     "output_type": "stream",
     "text": [
      "\n",
      "Validation: 100%|██████████| 44/44 [04:34<00:00,  6.24s/batch]"
     ]
    },
    {
     "name": "stdout",
     "output_type": "stream",
     "text": [
      "INFO:swin_transformer_3d:Validation Loss: 0.0386\n",
      "INFO:swin_transformer_3d:Epoch 63 took 980.3953 seconds\n"
     ]
    },
    {
     "name": "stderr",
     "output_type": "stream",
     "text": [
      "\n",
      "Epoch 64/100:  38%|███▊      | 30/80 [04:19<07:26,  8.92s/batch, Batch Time=8.9504 sec]"
     ]
    },
    {
     "name": "stdout",
     "output_type": "stream",
     "text": [
      "Error reading /Users/eleanorbolton/Library/CloudStorage/OneDrive-UniversityofLeeds/t1_vibe_we_hand_subset/CCP_181/983862e0ae/t1_vibe_we/1.3.12.2.1107.5.2.36.40258.201309201106223154520723.DCM: File is missing DICOM File Meta Information header or the 'DICM' prefix is missing from the header. Use force=True to force reading.\n"
     ]
    },
    {
     "name": "stderr",
     "output_type": "stream",
     "text": [
      "Epoch 64/100: 100%|██████████| 80/80 [11:26<00:00,  8.59s/batch, Batch Time=7.3785 sec] "
     ]
    },
    {
     "name": "stdout",
     "output_type": "stream",
     "text": [
      "INFO:swin_transformer_3d:Epoch 64/100, Loss: 0.0354\n"
     ]
    },
    {
     "name": "stderr",
     "output_type": "stream",
     "text": [
      "\n",
      "Validation: 100%|██████████| 44/44 [04:13<00:00,  5.75s/batch]"
     ]
    },
    {
     "name": "stdout",
     "output_type": "stream",
     "text": [
      "INFO:swin_transformer_3d:Validation Loss: 0.0288\n",
      "INFO:swin_transformer_3d:Epoch 64 took 940.1565 seconds\n"
     ]
    },
    {
     "name": "stderr",
     "output_type": "stream",
     "text": [
      "\n",
      "Epoch 65/100:  26%|██▋       | 21/80 [02:57<07:59,  8.12s/batch, Batch Time=7.4370 sec]"
     ]
    },
    {
     "name": "stdout",
     "output_type": "stream",
     "text": [
      "Error reading /Users/eleanorbolton/Library/CloudStorage/OneDrive-UniversityofLeeds/t1_vibe_we_hand_subset/CCP_181/983862e0ae/t1_vibe_we/1.3.12.2.1107.5.2.36.40258.201309201106223154520723.DCM: File is missing DICOM File Meta Information header or the 'DICM' prefix is missing from the header. Use force=True to force reading.\n"
     ]
    },
    {
     "name": "stderr",
     "output_type": "stream",
     "text": [
      "Epoch 65/100: 100%|██████████| 80/80 [35:01<00:00, 26.27s/batch, Batch Time=7.8814 sec]     "
     ]
    },
    {
     "name": "stdout",
     "output_type": "stream",
     "text": [
      "INFO:swin_transformer_3d:Epoch 65/100, Loss: 0.0325\n"
     ]
    },
    {
     "name": "stderr",
     "output_type": "stream",
     "text": [
      "\n",
      "Validation: 100%|██████████| 44/44 [04:05<00:00,  5.57s/batch]"
     ]
    },
    {
     "name": "stdout",
     "output_type": "stream",
     "text": [
      "INFO:swin_transformer_3d:Validation Loss: 0.0367\n",
      "INFO:swin_transformer_3d:Epoch 65 took 2347.1823 seconds\n"
     ]
    },
    {
     "name": "stderr",
     "output_type": "stream",
     "text": [
      "\n",
      "Epoch 66/100:  80%|████████  | 64/80 [13:54<05:02, 18.92s/batch, Batch Time=13.3317 sec]"
     ]
    },
    {
     "name": "stdout",
     "output_type": "stream",
     "text": [
      "Error reading /Users/eleanorbolton/Library/CloudStorage/OneDrive-UniversityofLeeds/t1_vibe_we_hand_subset/CCP_181/983862e0ae/t1_vibe_we/1.3.12.2.1107.5.2.36.40258.201309201106223154520723.DCM: File is missing DICOM File Meta Information header or the 'DICM' prefix is missing from the header. Use force=True to force reading.\n"
     ]
    },
    {
     "name": "stderr",
     "output_type": "stream",
     "text": [
      "Epoch 66/100: 100%|██████████| 80/80 [19:16<00:00, 14.46s/batch, Batch Time=18.7967 sec]"
     ]
    },
    {
     "name": "stdout",
     "output_type": "stream",
     "text": [
      "INFO:swin_transformer_3d:Epoch 66/100, Loss: 0.0334\n"
     ]
    },
    {
     "name": "stderr",
     "output_type": "stream",
     "text": [
      "\n",
      "Validation: 100%|██████████| 44/44 [06:36<00:00,  9.02s/batch]"
     ]
    },
    {
     "name": "stdout",
     "output_type": "stream",
     "text": [
      "INFO:swin_transformer_3d:Validation Loss: 0.0291\n",
      "INFO:swin_transformer_3d:Epoch 66 took 1553.2869 seconds\n"
     ]
    },
    {
     "name": "stderr",
     "output_type": "stream",
     "text": [
      "\n",
      "Epoch 67/100:  21%|██▏       | 17/80 [02:45<10:01,  9.54s/batch, Batch Time=8.7616 sec]"
     ]
    },
    {
     "name": "stdout",
     "output_type": "stream",
     "text": [
      "Error reading /Users/eleanorbolton/Library/CloudStorage/OneDrive-UniversityofLeeds/t1_vibe_we_hand_subset/CCP_181/983862e0ae/t1_vibe_we/1.3.12.2.1107.5.2.36.40258.201309201106223154520723.DCM: File is missing DICOM File Meta Information header or the 'DICM' prefix is missing from the header. Use force=True to force reading.\n"
     ]
    },
    {
     "name": "stderr",
     "output_type": "stream",
     "text": [
      "Epoch 67/100: 100%|██████████| 80/80 [12:40<00:00,  9.51s/batch, Batch Time=8.3066 sec] "
     ]
    },
    {
     "name": "stdout",
     "output_type": "stream",
     "text": [
      "INFO:swin_transformer_3d:Epoch 67/100, Loss: 0.0370\n"
     ]
    },
    {
     "name": "stderr",
     "output_type": "stream",
     "text": [
      "\n",
      "Validation: 100%|██████████| 44/44 [04:36<00:00,  6.29s/batch]"
     ]
    },
    {
     "name": "stdout",
     "output_type": "stream",
     "text": [
      "INFO:swin_transformer_3d:Validation Loss: 0.0286\n",
      "INFO:swin_transformer_3d:Epoch 67 took 1037.9211 seconds\n"
     ]
    },
    {
     "name": "stderr",
     "output_type": "stream",
     "text": [
      "\n",
      "Epoch 68/100:  45%|████▌     | 36/80 [05:49<07:13,  9.85s/batch, Batch Time=8.6870 sec] "
     ]
    },
    {
     "name": "stdout",
     "output_type": "stream",
     "text": [
      "Error reading /Users/eleanorbolton/Library/CloudStorage/OneDrive-UniversityofLeeds/t1_vibe_we_hand_subset/CCP_181/983862e0ae/t1_vibe_we/1.3.12.2.1107.5.2.36.40258.201309201106223154520723.DCM: File is missing DICOM File Meta Information header or the 'DICM' prefix is missing from the header. Use force=True to force reading.\n"
     ]
    },
    {
     "name": "stderr",
     "output_type": "stream",
     "text": [
      "Epoch 68/100: 100%|██████████| 80/80 [12:27<00:00,  9.34s/batch, Batch Time=8.6326 sec]"
     ]
    },
    {
     "name": "stdout",
     "output_type": "stream",
     "text": [
      "INFO:swin_transformer_3d:Epoch 68/100, Loss: 0.0317\n"
     ]
    },
    {
     "name": "stderr",
     "output_type": "stream",
     "text": [
      "\n",
      "Validation: 100%|██████████| 44/44 [05:34<00:00,  7.59s/batch]"
     ]
    },
    {
     "name": "stdout",
     "output_type": "stream",
     "text": [
      "INFO:swin_transformer_3d:Validation Loss: 0.0320\n",
      "INFO:swin_transformer_3d:Epoch 68 took 1081.7012 seconds\n"
     ]
    },
    {
     "name": "stderr",
     "output_type": "stream",
     "text": [
      "\n",
      "Epoch 69/100:  57%|█████▊    | 46/80 [07:35<05:08,  9.09s/batch, Batch Time=8.2397 sec] "
     ]
    },
    {
     "name": "stdout",
     "output_type": "stream",
     "text": [
      "Error reading /Users/eleanorbolton/Library/CloudStorage/OneDrive-UniversityofLeeds/t1_vibe_we_hand_subset/CCP_181/983862e0ae/t1_vibe_we/1.3.12.2.1107.5.2.36.40258.201309201106223154520723.DCM: File is missing DICOM File Meta Information header or the 'DICM' prefix is missing from the header. Use force=True to force reading.\n"
     ]
    },
    {
     "name": "stderr",
     "output_type": "stream",
     "text": [
      "Epoch 69/100: 100%|██████████| 80/80 [13:46<00:00, 10.33s/batch, Batch Time=7.7482 sec] "
     ]
    },
    {
     "name": "stdout",
     "output_type": "stream",
     "text": [
      "INFO:swin_transformer_3d:Epoch 69/100, Loss: 0.0346\n"
     ]
    },
    {
     "name": "stderr",
     "output_type": "stream",
     "text": [
      "\n",
      "Validation: 100%|██████████| 44/44 [05:01<00:00,  6.86s/batch]"
     ]
    },
    {
     "name": "stdout",
     "output_type": "stream",
     "text": [
      "INFO:swin_transformer_3d:Validation Loss: 0.0382\n",
      "INFO:swin_transformer_3d:Epoch 69 took 1128.0297 seconds\n"
     ]
    },
    {
     "name": "stderr",
     "output_type": "stream",
     "text": [
      "\n",
      "Epoch 70/100:  25%|██▌       | 20/80 [03:07<09:27,  9.47s/batch, Batch Time=8.5636 sec]"
     ]
    },
    {
     "name": "stdout",
     "output_type": "stream",
     "text": [
      "Error reading /Users/eleanorbolton/Library/CloudStorage/OneDrive-UniversityofLeeds/t1_vibe_we_hand_subset/CCP_181/983862e0ae/t1_vibe_we/1.3.12.2.1107.5.2.36.40258.201309201106223154520723.DCM: File is missing DICOM File Meta Information header or the 'DICM' prefix is missing from the header. Use force=True to force reading.\n"
     ]
    },
    {
     "name": "stderr",
     "output_type": "stream",
     "text": [
      "Epoch 70/100: 100%|██████████| 80/80 [12:21<00:00,  9.27s/batch, Batch Time=8.5462 sec]"
     ]
    },
    {
     "name": "stdout",
     "output_type": "stream",
     "text": [
      "INFO:swin_transformer_3d:Epoch 70/100, Loss: 0.0350\n"
     ]
    },
    {
     "name": "stderr",
     "output_type": "stream",
     "text": [
      "\n",
      "Validation: 100%|██████████| 44/44 [04:28<00:00,  6.11s/batch]"
     ]
    },
    {
     "name": "stdout",
     "output_type": "stream",
     "text": [
      "INFO:swin_transformer_3d:Validation Loss: 0.0377\n",
      "INFO:swin_transformer_3d:Epoch 70 took 1010.5394 seconds\n"
     ]
    },
    {
     "name": "stderr",
     "output_type": "stream",
     "text": [
      "\n",
      "Epoch 71/100:  75%|███████▌  | 60/80 [10:16<04:08, 12.43s/batch, Batch Time=10.2208 sec]"
     ]
    },
    {
     "name": "stdout",
     "output_type": "stream",
     "text": [
      "Error reading /Users/eleanorbolton/Library/CloudStorage/OneDrive-UniversityofLeeds/t1_vibe_we_hand_subset/CCP_181/983862e0ae/t1_vibe_we/1.3.12.2.1107.5.2.36.40258.201309201106223154520723.DCM: File is missing DICOM File Meta Information header or the 'DICM' prefix is missing from the header. Use force=True to force reading.\n"
     ]
    },
    {
     "name": "stderr",
     "output_type": "stream",
     "text": [
      "Epoch 71/100: 100%|██████████| 80/80 [14:00<00:00, 10.50s/batch, Batch Time=8.5254 sec] "
     ]
    },
    {
     "name": "stdout",
     "output_type": "stream",
     "text": [
      "INFO:swin_transformer_3d:Epoch 71/100, Loss: 0.0375\n"
     ]
    },
    {
     "name": "stderr",
     "output_type": "stream",
     "text": [
      "\n",
      "Validation: 100%|██████████| 44/44 [06:03<00:00,  8.26s/batch]"
     ]
    },
    {
     "name": "stdout",
     "output_type": "stream",
     "text": [
      "INFO:swin_transformer_3d:Validation Loss: 0.0308\n",
      "INFO:swin_transformer_3d:Epoch 71 took 1203.5730 seconds\n"
     ]
    },
    {
     "name": "stderr",
     "output_type": "stream",
     "text": [
      "\n",
      "Epoch 72/100:  12%|█▎        | 10/80 [01:45<12:32, 10.75s/batch, Batch Time=10.9635 sec]"
     ]
    },
    {
     "name": "stdout",
     "output_type": "stream",
     "text": [
      "Error reading /Users/eleanorbolton/Library/CloudStorage/OneDrive-UniversityofLeeds/t1_vibe_we_hand_subset/CCP_181/983862e0ae/t1_vibe_we/1.3.12.2.1107.5.2.36.40258.201309201106223154520723.DCM: File is missing DICOM File Meta Information header or the 'DICM' prefix is missing from the header. Use force=True to force reading.\n"
     ]
    },
    {
     "name": "stderr",
     "output_type": "stream",
     "text": [
      "Epoch 72/100: 100%|██████████| 80/80 [14:14<00:00, 10.68s/batch, Batch Time=10.6293 sec]"
     ]
    },
    {
     "name": "stdout",
     "output_type": "stream",
     "text": [
      "INFO:swin_transformer_3d:Epoch 72/100, Loss: 0.0373\n"
     ]
    },
    {
     "name": "stderr",
     "output_type": "stream",
     "text": [
      "\n",
      "Validation: 100%|██████████| 44/44 [05:51<00:00,  7.99s/batch]"
     ]
    },
    {
     "name": "stdout",
     "output_type": "stream",
     "text": [
      "INFO:swin_transformer_3d:Validation Loss: 0.0299\n",
      "INFO:swin_transformer_3d:Epoch 72 took 1206.2442 seconds\n"
     ]
    },
    {
     "name": "stderr",
     "output_type": "stream",
     "text": [
      "\n",
      "Epoch 73/100:  91%|█████████▏| 73/80 [12:06<01:04,  9.27s/batch, Batch Time=10.6169 sec]"
     ]
    },
    {
     "name": "stdout",
     "output_type": "stream",
     "text": [
      "Error reading /Users/eleanorbolton/Library/CloudStorage/OneDrive-UniversityofLeeds/t1_vibe_we_hand_subset/CCP_181/983862e0ae/t1_vibe_we/1.3.12.2.1107.5.2.36.40258.201309201106223154520723.DCM: File is missing DICOM File Meta Information header or the 'DICM' prefix is missing from the header. Use force=True to force reading.\n"
     ]
    },
    {
     "name": "stderr",
     "output_type": "stream",
     "text": [
      "Epoch 73/100: 100%|██████████| 80/80 [13:23<00:00, 10.05s/batch, Batch Time=7.9407 sec] "
     ]
    },
    {
     "name": "stdout",
     "output_type": "stream",
     "text": [
      "INFO:swin_transformer_3d:Epoch 73/100, Loss: 0.0320\n"
     ]
    },
    {
     "name": "stderr",
     "output_type": "stream",
     "text": [
      "\n",
      "Validation: 100%|██████████| 44/44 [05:03<00:00,  6.90s/batch]"
     ]
    },
    {
     "name": "stdout",
     "output_type": "stream",
     "text": [
      "INFO:swin_transformer_3d:Validation Loss: 0.0332\n",
      "INFO:swin_transformer_3d:Epoch 73 took 1107.4300 seconds\n"
     ]
    },
    {
     "name": "stderr",
     "output_type": "stream",
     "text": [
      "\n",
      "Epoch 74/100:  42%|████▎     | 34/80 [06:16<09:25, 12.29s/batch, Batch Time=14.4167 sec]"
     ]
    },
    {
     "name": "stdout",
     "output_type": "stream",
     "text": [
      "Error reading /Users/eleanorbolton/Library/CloudStorage/OneDrive-UniversityofLeeds/t1_vibe_we_hand_subset/CCP_181/983862e0ae/t1_vibe_we/1.3.12.2.1107.5.2.36.40258.201309201106223154520723.DCM: File is missing DICOM File Meta Information header or the 'DICM' prefix is missing from the header. Use force=True to force reading.\n"
     ]
    },
    {
     "name": "stderr",
     "output_type": "stream",
     "text": [
      "Epoch 74/100: 100%|██████████| 80/80 [13:03<00:00,  9.79s/batch, Batch Time=9.4849 sec] "
     ]
    },
    {
     "name": "stdout",
     "output_type": "stream",
     "text": [
      "INFO:swin_transformer_3d:Epoch 74/100, Loss: 0.0319\n"
     ]
    },
    {
     "name": "stderr",
     "output_type": "stream",
     "text": [
      "\n",
      "Validation: 100%|██████████| 44/44 [04:55<00:00,  6.71s/batch]"
     ]
    },
    {
     "name": "stdout",
     "output_type": "stream",
     "text": [
      "INFO:swin_transformer_3d:Validation Loss: 0.0293\n",
      "INFO:swin_transformer_3d:Epoch 74 took 1078.4065 seconds\n"
     ]
    },
    {
     "name": "stderr",
     "output_type": "stream",
     "text": [
      "\n",
      "Epoch 75/100:  45%|████▌     | 36/80 [05:31<06:14,  8.50s/batch, Batch Time=8.0254 sec] "
     ]
    },
    {
     "name": "stdout",
     "output_type": "stream",
     "text": [
      "Error reading /Users/eleanorbolton/Library/CloudStorage/OneDrive-UniversityofLeeds/t1_vibe_we_hand_subset/CCP_181/983862e0ae/t1_vibe_we/1.3.12.2.1107.5.2.36.40258.201309201106223154520723.DCM: File is missing DICOM File Meta Information header or the 'DICM' prefix is missing from the header. Use force=True to force reading.\n"
     ]
    },
    {
     "name": "stderr",
     "output_type": "stream",
     "text": [
      "Epoch 75/100: 100%|██████████| 80/80 [12:00<00:00,  9.01s/batch, Batch Time=7.4850 sec] "
     ]
    },
    {
     "name": "stdout",
     "output_type": "stream",
     "text": [
      "INFO:swin_transformer_3d:Epoch 75/100, Loss: 0.0314\n"
     ]
    },
    {
     "name": "stderr",
     "output_type": "stream",
     "text": [
      "\n",
      "Validation: 100%|██████████| 44/44 [04:30<00:00,  6.15s/batch]"
     ]
    },
    {
     "name": "stdout",
     "output_type": "stream",
     "text": [
      "INFO:swin_transformer_3d:Validation Loss: 0.0288\n",
      "INFO:swin_transformer_3d:Epoch 75 took 991.2433 seconds\n"
     ]
    },
    {
     "name": "stderr",
     "output_type": "stream",
     "text": [
      "\n",
      "Epoch 76/100:  55%|█████▌    | 44/80 [07:01<05:22,  8.97s/batch, Batch Time=7.2044 sec] "
     ]
    },
    {
     "name": "stdout",
     "output_type": "stream",
     "text": [
      "Error reading /Users/eleanorbolton/Library/CloudStorage/OneDrive-UniversityofLeeds/t1_vibe_we_hand_subset/CCP_181/983862e0ae/t1_vibe_we/1.3.12.2.1107.5.2.36.40258.201309201106223154520723.DCM: File is missing DICOM File Meta Information header or the 'DICM' prefix is missing from the header. Use force=True to force reading.\n"
     ]
    },
    {
     "name": "stderr",
     "output_type": "stream",
     "text": [
      "Epoch 76/100: 100%|██████████| 80/80 [13:02<00:00,  9.79s/batch, Batch Time=7.8184 sec] "
     ]
    },
    {
     "name": "stdout",
     "output_type": "stream",
     "text": [
      "INFO:swin_transformer_3d:Epoch 76/100, Loss: 0.0305\n"
     ]
    },
    {
     "name": "stderr",
     "output_type": "stream",
     "text": [
      "\n",
      "Validation:   0%|          | 0/44 [00:00<?, ?batch/s]"
     ]
    }
   ],
   "source": [
    "# Set hyperparameters\n",
    "max_epochs = 100\n",
    "learning_rate = 1e-2\n",
    "patience = 3\n",
    "models = []\n",
    "epoch_losses = []\n",
    "\n",
    "# Run the training function\n",
    "model, epoch_loss = train(train_loader, test_loader, max_epochs=max_epochs, learning_rate=learning_rate, patience=patience, model=swin_model)\n",
    "\n",
    "# Store the trained model and loss values\n",
    "models.append(model)\n",
    "epoch_losses.append(epoch_loss)\n",
    "\n",
    "# Save the model and state dict after training\n",
    "model_path = f\"{ResultsPath}/swin_unetr_model.pth\"\n",
    "state_dict_path = f\"{ResultsPath}/swin_unetr_state_dict.pth\"\n",
    "\n",
    "# Save the full model\n",
    "torch.save(model, model_path)\n",
    "\n",
    "# Save only the model's state dict\n",
    "torch.save({\"state_dict\": model.state_dict()}, state_dict_path)\n",
    "\n",
    "logger.info(f\"Model saved to {model_path} and state dict saved to {state_dict_path}\")\n"
   ]
  },
  {
   "cell_type": "code",
   "execution_count": null,
   "metadata": {},
   "outputs": [
    {
     "name": "stdout",
     "output_type": "stream",
     "text": [
      "Training with orig data...\n"
     ]
    },
    {
     "name": "stderr",
     "output_type": "stream",
     "text": [
      "/Users/eleanorbolton/anaconda3/lib/python3.11/site-packages/monai/utils/deprecate_utils.py:221: FutureWarning: monai.networks.nets.swin_unetr SwinUNETR.__init__:img_size: Argument `img_size` has been deprecated since version 1.3. It will be removed in version 1.5. The img_size argument is not required anymore and checks on the input size are run during forward().\n",
      "  warn_deprecated(argname, msg, warning_category)\n"
     ]
    },
    {
     "ename": "",
     "evalue": "",
     "output_type": "error",
     "traceback": [
      "\u001b[1;31mThe Kernel crashed while executing code in the the current cell or a previous cell. Please review the code in the cell(s) to identify a possible cause of the failure. Click <a href='https://aka.ms/vscodeJupyterKernelCrash'>here</a> for more info. View Jupyter <a href='command:jupyter.viewOutput'>log</a> for further details."
     ]
    }
   ],
   "source": [
    "max_epochs = 10\n",
    "learning_rate = 0.00005\n",
    "alpha = 0.05\n",
    "patience = 5  # Early stopping patience\n",
    "training_types = [\"orig\", \"gaus\", \"s&p\"]\n",
    "models = []\n",
    "epoch_losses = []\n",
    "\n",
    "for training_type in training_types:\n",
    "    print(f\"Training with {training_type} data...\")\n",
    "\n",
    "    # Call the train function\n",
    "    model, epoch_loss = train(\n",
    "        dict_key_for_training=training_type,\n",
    "        train_loader=train_loader,\n",
    "        test_loader=test_loader,\n",
    "        max_epochs=max_epochs,\n",
    "        learning_rate=learning_rate,\n",
    "        alpha=alpha,\n",
    "        patience=patience\n",
    "    )\n",
    "\n",
    "    # Store the trained model and loss values\n",
    "    models.append(model)\n",
    "    epoch_losses.append(epoch_loss)\n",
    "\n",
    "    print(f\"Finished training with {training_type} data.\")\n"
   ]
  },
  {
   "cell_type": "code",
   "execution_count": null,
   "metadata": {},
   "outputs": [],
   "source": [
    "max_epochs = 1000\n",
    "learning_rate = 1e-3\n",
    "alpha = 0.05\n",
    "patience = 5  # Early stopping patience\n",
    "training_types = [\"orig\", \"gaus\", \"s&p\"]\n",
    "models = []\n",
    "epoch_losses = []\n",
    "\n",
    "for training_type in training_types:\n",
    "    print(f\"Training with {training_type} data...\")\n",
    "\n",
    "    # Call the train function\n",
    "    model, epoch_loss = train(\n",
    "        dict_key_for_training=training_type,\n",
    "        max_epochs=max_epochs,\n",
    "        learning_rate=learning_rate,\n",
    "        alpha=alpha,\n",
    "        patience=patience\n",
    "    )\n",
    "\n",
    "    # Store the trained model and loss values\n",
    "    models.append(model)\n",
    "    epoch_losses.append(epoch_loss)\n",
    "\n",
    "    print(f\"Finished training with {training_type} data.\")\n"
   ]
  },
  {
   "cell_type": "code",
   "execution_count": 30,
   "metadata": {},
   "outputs": [
    {
     "ename": "TypeError",
     "evalue": "train() missing 2 required positional arguments: 'train_loader' and 'test_loader'",
     "output_type": "error",
     "traceback": [
      "\u001b[0;31m---------------------------------------------------------------------------\u001b[0m",
      "\u001b[0;31mTypeError\u001b[0m                                 Traceback (most recent call last)",
      "\u001b[1;32m/Users/eleanorbolton/Documents/project_repo/predicting-rheumatoid-arthritis-progression-using-hand-mri-scans-from-at-risk-patients/Predicting-Rheumatoid-Arthritis-Progression-Using-Hand-MRI-Scans-from-At-Risk-Patients/predicting-rheumatoid-arthritis-progression-using-hand-mri-scans-from-at-risk-patients/src/models/MONAI_autoencoder.ipynb Cell 17\u001b[0m line \u001b[0;36m6\n\u001b[1;32m      <a href='vscode-notebook-cell:/Users/eleanorbolton/Documents/project_repo/predicting-rheumatoid-arthritis-progression-using-hand-mri-scans-from-at-risk-patients/Predicting-Rheumatoid-Arthritis-Progression-Using-Hand-MRI-Scans-from-At-Risk-Patients/predicting-rheumatoid-arthritis-progression-using-hand-mri-scans-from-at-risk-patients/src/models/MONAI_autoencoder.ipynb#X20sZmlsZQ%3D%3D?line=3'>4</a>\u001b[0m epoch_losses \u001b[39m=\u001b[39m []\n\u001b[1;32m      <a href='vscode-notebook-cell:/Users/eleanorbolton/Documents/project_repo/predicting-rheumatoid-arthritis-progression-using-hand-mri-scans-from-at-risk-patients/Predicting-Rheumatoid-Arthritis-Progression-Using-Hand-MRI-Scans-from-At-Risk-Patients/predicting-rheumatoid-arthritis-progression-using-hand-mri-scans-from-at-risk-patients/src/models/MONAI_autoencoder.ipynb#X20sZmlsZQ%3D%3D?line=4'>5</a>\u001b[0m \u001b[39mfor\u001b[39;00m training_type \u001b[39min\u001b[39;00m training_types:\n\u001b[0;32m----> <a href='vscode-notebook-cell:/Users/eleanorbolton/Documents/project_repo/predicting-rheumatoid-arthritis-progression-using-hand-mri-scans-from-at-risk-patients/Predicting-Rheumatoid-Arthritis-Progression-Using-Hand-MRI-Scans-from-At-Risk-Patients/predicting-rheumatoid-arthritis-progression-using-hand-mri-scans-from-at-risk-patients/src/models/MONAI_autoencoder.ipynb#X20sZmlsZQ%3D%3D?line=5'>6</a>\u001b[0m     model, epoch_loss \u001b[39m=\u001b[39m train(training_type, max_epochs\u001b[39m=\u001b[39;49mmax_epochs)\n\u001b[1;32m      <a href='vscode-notebook-cell:/Users/eleanorbolton/Documents/project_repo/predicting-rheumatoid-arthritis-progression-using-hand-mri-scans-from-at-risk-patients/Predicting-Rheumatoid-Arthritis-Progression-Using-Hand-MRI-Scans-from-At-Risk-Patients/predicting-rheumatoid-arthritis-progression-using-hand-mri-scans-from-at-risk-patients/src/models/MONAI_autoencoder.ipynb#X20sZmlsZQ%3D%3D?line=6'>7</a>\u001b[0m     models\u001b[39m.\u001b[39mappend(model)\n\u001b[1;32m      <a href='vscode-notebook-cell:/Users/eleanorbolton/Documents/project_repo/predicting-rheumatoid-arthritis-progression-using-hand-mri-scans-from-at-risk-patients/Predicting-Rheumatoid-Arthritis-Progression-Using-Hand-MRI-Scans-from-At-Risk-Patients/predicting-rheumatoid-arthritis-progression-using-hand-mri-scans-from-at-risk-patients/src/models/MONAI_autoencoder.ipynb#X20sZmlsZQ%3D%3D?line=7'>8</a>\u001b[0m     epoch_losses\u001b[39m.\u001b[39mappend(epoch_loss)\n",
      "\u001b[0;31mTypeError\u001b[0m: train() missing 2 required positional arguments: 'train_loader' and 'test_loader'"
     ]
    }
   ],
   "source": [
    "max_epochs = 10\n",
    "training_types = [\"orig\", \"gaus\", \"s&p\"]\n",
    "models = []\n",
    "epoch_losses = []\n",
    "for training_type in training_types:\n",
    "    model, epoch_loss = train(training_type, max_epochs=max_epochs)\n",
    "    models.append(model)\n",
    "    epoch_losses.append(epoch_loss)"
   ]
  },
  {
   "cell_type": "code",
   "execution_count": null,
   "metadata": {},
   "outputs": [],
   "source": [
    "import torch\n",
    "import matplotlib.pyplot as plt\n",
    "\n",
    "# Function to get a single image from the dataset\n",
    "def get_single_im(ds):\n",
    "    loader = torch.utils.data.DataLoader(ds, batch_size=1, num_workers=0, shuffle=True)\n",
    "    itera = iter(loader)\n",
    "    return next(itera)\n",
    "\n",
    "# Fetch a single image and its degraded versions\n",
    "data = get_single_im(train_ds)\n",
    "\n",
    "# Assuming you want to visualize the original and its degraded versions\n",
    "# (e.g., \"orig\", \"gaus\", \"s&p\" keys in the data dictionary)\n",
    "for key in [\"orig\", \"gaus\", \"s&p\"]:\n",
    "    im = data[key].squeeze()  # Remove any singleton dimensions, e.g., [1, 1, 512, 384] -> [512, 384]\n",
    "    \n",
    "    if im.ndim == 2:  # If it's a 2D image, just plot it\n",
    "        plt.figure()\n",
    "        plt.imshow(im, cmap=\"gray\")\n",
    "        plt.title(f\"{key}\")\n",
    "        plt.show()\n",
    "    \n",
    "    elif im.ndim == 3:  # If it's 3D (multi-channel), plot each channel separately\n",
    "        for i in range(im.shape[0]):\n",
    "            plt.figure()\n",
    "            plt.imshow(im[i], cmap=\"gray\")\n",
    "            plt.title(f\"{key} - Channel {i}\")\n",
    "            plt.show()\n"
   ]
  },
  {
   "cell_type": "code",
   "execution_count": 14,
   "metadata": {},
   "outputs": [],
   "source": [
    "# Get image original and its degraded versions\n",
    "def get_single_im(ds):\n",
    "    loader = torch.utils.data.DataLoader(train_ds, batch_size=1, num_workers=0, shuffle=True)\n",
    "    itera = iter(loader)\n",
    "    return next(itera)\n"
   ]
  },
  {
   "cell_type": "code",
   "execution_count": 15,
   "metadata": {},
   "outputs": [
    {
     "ename": "NameError",
     "evalue": "name 'im' is not defined",
     "output_type": "error",
     "traceback": [
      "\u001b[0;31m---------------------------------------------------------------------------\u001b[0m",
      "\u001b[0;31mNameError\u001b[0m                                 Traceback (most recent call last)",
      "\u001b[1;32m/Users/eleanorbolton/Documents/project_repo/predicting-rheumatoid-arthritis-progression-using-hand-mri-scans-from-at-risk-patients/Predicting-Rheumatoid-Arthritis-Progression-Using-Hand-MRI-Scans-from-At-Risk-Patients/predicting-rheumatoid-arthritis-progression-using-hand-mri-scans-from-at-risk-patients/src/models/MONAI_autoencoder.ipynb Cell 13\u001b[0m line \u001b[0;36m2\n\u001b[1;32m      <a href='vscode-notebook-cell:/Users/eleanorbolton/Documents/project_repo/predicting-rheumatoid-arthritis-progression-using-hand-mri-scans-from-at-risk-patients/Predicting-Rheumatoid-Arthritis-Progression-Using-Hand-MRI-Scans-from-At-Risk-Patients/predicting-rheumatoid-arthritis-progression-using-hand-mri-scans-from-at-risk-patients/src/models/MONAI_autoencoder.ipynb#X10sZmlsZQ%3D%3D?line=0'>1</a>\u001b[0m \u001b[39m# Assuming you want to visualize the first channel/slice\u001b[39;00m\n\u001b[0;32m----> <a href='vscode-notebook-cell:/Users/eleanorbolton/Documents/project_repo/predicting-rheumatoid-arthritis-progression-using-hand-mri-scans-from-at-risk-patients/Predicting-Rheumatoid-Arthritis-Progression-Using-Hand-MRI-Scans-from-At-Risk-Patients/predicting-rheumatoid-arthritis-progression-using-hand-mri-scans-from-at-risk-patients/src/models/MONAI_autoencoder.ipynb#X10sZmlsZQ%3D%3D?line=1'>2</a>\u001b[0m single_slice \u001b[39m=\u001b[39m im[\u001b[39m0\u001b[39m]  \u001b[39m# Select the first slice or channel\u001b[39;00m\n\u001b[1;32m      <a href='vscode-notebook-cell:/Users/eleanorbolton/Documents/project_repo/predicting-rheumatoid-arthritis-progression-using-hand-mri-scans-from-at-risk-patients/Predicting-Rheumatoid-Arthritis-Progression-Using-Hand-MRI-Scans-from-At-Risk-Patients/predicting-rheumatoid-arthritis-progression-using-hand-mri-scans-from-at-risk-patients/src/models/MONAI_autoencoder.ipynb#X10sZmlsZQ%3D%3D?line=2'>3</a>\u001b[0m plt\u001b[39m.\u001b[39mimshow(single_slice, cmap\u001b[39m=\u001b[39m\u001b[39m\"\u001b[39m\u001b[39mgray\u001b[39m\u001b[39m\"\u001b[39m)\n",
      "\u001b[0;31mNameError\u001b[0m: name 'im' is not defined"
     ]
    }
   ],
   "source": [
    "for i in range(im.shape[0]):\n",
    "    plt.figure()\n",
    "    plt.imshow(im[i], cmap=\"gray\")\n",
    "    plt.title(f\"Channel {i}\")\n",
    "    plt.show()\n"
   ]
  },
  {
   "cell_type": "code",
   "execution_count": null,
   "metadata": {},
   "outputs": [],
   "source": []
  },
  {
   "cell_type": "code",
   "execution_count": null,
   "metadata": {},
   "outputs": [],
   "source": []
  },
  {
   "cell_type": "code",
   "execution_count": null,
   "metadata": {},
   "outputs": [],
   "source": []
  }
 ],
 "metadata": {
  "kernelspec": {
   "display_name": "Python 3",
   "language": "python",
   "name": "python3"
  },
  "language_info": {
   "codemirror_mode": {
    "name": "ipython",
    "version": 3
   },
   "file_extension": ".py",
   "mimetype": "text/x-python",
   "name": "python",
   "nbconvert_exporter": "python",
   "pygments_lexer": "ipython3",
   "version": "3.11.8"
  }
 },
 "nbformat": 4,
 "nbformat_minor": 2
}
