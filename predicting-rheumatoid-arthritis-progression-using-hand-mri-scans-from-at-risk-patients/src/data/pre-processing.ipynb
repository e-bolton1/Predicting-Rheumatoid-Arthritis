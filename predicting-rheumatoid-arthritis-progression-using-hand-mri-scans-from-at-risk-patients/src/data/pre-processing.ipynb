{
 "cells": [
  {
   "cell_type": "code",
   "execution_count": 1,
   "metadata": {},
   "outputs": [],
   "source": [
    "# Standard library imports\n",
    "from pathlib import Path  # To handle and manipulate filesystem paths\n",
    "import os  # For interacting with the operating system\n",
    "import glob  # For finding all file paths matching a specified pattern\n",
    "\n",
    "# Third-party imports\n",
    "import numpy as np  # For numerical operations and handling arrays\n",
    "import pandas as pd  # For data manipulation and analysis\n",
    "import matplotlib.pyplot as plt  # For creating static, animated, and interactive visualizations\n",
    "from PIL import Image  # For opening, manipulating, and saving many different image file formats\n",
    "\n",
    "# PyTorch imports\n",
    "import torch  # Main PyTorch library for building and training neural networks\n",
    "from torch.utils.data import Dataset, DataLoader  # For handling datasets and data loaders\n",
    "\n",
    "# PyTorch-I/O extension\n",
    "import torchio as tio  # For medical image processing in PyTorch\n",
    "\n",
    "# pydicom imports\n",
    "import pydicom  # For reading, modifying, and writing DICOM files\n",
    "from pydicom.data import get_testdata_file  # For accessing test DICOM files\n",
    "from pydicom.fileset import FileSet  # For working with DICOM FileSets\n",
    "\n",
    "# Scikit-learn imports\n",
    "from sklearn.model_selection import train_test_split  # For splitting datasets into training and testing sets\n"
   ]
  },
  {
   "cell_type": "code",
   "execution_count": 2,
   "metadata": {},
   "outputs": [
    {
     "name": "stdout",
     "output_type": "stream",
     "text": [
      "/Users/eleanorbolton/Library/CloudStorage/OneDrive-UniversityofLeeds/CCP_MRI_image_subset\n"
     ]
    }
   ],
   "source": [
    "os.chdir('/Users/eleanorbolton/OneDrive - University of Leeds/CCP_MRI_IMAGE_SUBSET/')\n",
    "print(os.getcwd())"
   ]
  },
  {
   "cell_type": "markdown",
   "metadata": {},
   "source": [
    "#### Process the DICOM Image\n",
    "This function processes a DICOM image and returns the image as a NumPy array. It optionally resizes the image to reduce its size in memory.\n"
   ]
  },
  {
   "cell_type": "code",
   "execution_count": 3,
   "metadata": {},
   "outputs": [],
   "source": [
    "def process_dicom_image(path: str, resize=True) -> np.ndarray:\n",
    "    \"\"\" Given a path to a DICOM image, process and return the image. \n",
    "        Reduces the size in memory.\n",
    "    \"\"\"\n",
    "    dicom_file = pydicom.dcmread(path)\n",
    "    image = dicom_file.pixel_array\n",
    "    image = image - np.min(image)\n",
    "    image = image.astype(np.uint8)\n",
    "    '''\n",
    "    # resize the image to 256x256 using PIL\n",
    "    if resize:\n",
    "        image = Image.fromarray(image)\n",
    "        image = image.resize((256, 256))\n",
    "        image = np.array(image)\n",
    "    '''\n",
    "    return image"
   ]
  },
  {
   "cell_type": "markdown",
   "metadata": {},
   "source": [
    "#### Get Sequence Image\n",
    "This function returns a sorted list of images from a specified MRI sequence subfolder. It excludes images that are entirely black.\n"
   ]
  },
  {
   "cell_type": "code",
   "execution_count": 5,
   "metadata": {},
   "outputs": [],
   "source": [
    "def get_sequence_images(path: str) -> list:\n",
    "    images = []\n",
    "    \n",
    "    # Get a list of all DICOM files in the directory\n",
    "    image_path_list = glob.glob(os.path.join(path, '*'))\n",
    "    \n",
    "    # Read the DICOM files and store them with their instance numbers\n",
    "    dicom_files = []\n",
    "    for image_path in image_path_list:\n",
    "        try:\n",
    "            dicom_file = pydicom.dcmread(image_path)\n",
    "            instance_number = dicom_file.InstanceNumber\n",
    "            dicom_files.append((instance_number, image_path))\n",
    "        except Exception as e:\n",
    "            print(f\"Error reading {image_path}: {e}\")\n",
    "    \n",
    "    # Sort the files by instance number\n",
    "    dicom_files.sort(key=lambda x: x[0])\n",
    "    \n",
    "    # Read the pixel data in sorted order\n",
    "    for _, image_path in dicom_files:\n",
    "        try:\n",
    "            dicom_file = pydicom.dcmread(image_path)\n",
    "            image = dicom_file.pixel_array\n",
    "            images.append(image)\n",
    "        except Exception as e:\n",
    "            print(f\"Error reading pixel data from {image_path}: {e}\")\n",
    "    \n",
    "    return images"
   ]
  },
  {
   "cell_type": "code",
   "execution_count": null,
   "metadata": {},
   "outputs": [],
   "source": []
  }
 ],
 "metadata": {
  "kernelspec": {
   "display_name": "Python 3",
   "language": "python",
   "name": "python3"
  },
  "language_info": {
   "codemirror_mode": {
    "name": "ipython",
    "version": 3
   },
   "file_extension": ".py",
   "mimetype": "text/x-python",
   "name": "python",
   "nbconvert_exporter": "python",
   "pygments_lexer": "ipython3",
   "version": "3.11.8"
  }
 },
 "nbformat": 4,
 "nbformat_minor": 2
}
