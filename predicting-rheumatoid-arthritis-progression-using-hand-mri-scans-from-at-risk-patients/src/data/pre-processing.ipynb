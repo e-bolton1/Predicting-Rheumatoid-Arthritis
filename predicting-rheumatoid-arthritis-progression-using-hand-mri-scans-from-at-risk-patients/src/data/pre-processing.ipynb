{
 "cells": [
  {
   "cell_type": "code",
   "execution_count": 16,
   "metadata": {},
   "outputs": [],
   "source": [
    "# Standard library imports\n",
    "from pathlib import Path  # To handle and manipulate filesystem paths\n",
    "import os  # For interacting with the operating system\n",
    "import glob  # For finding all file paths matching a specified pattern\n",
    "\n",
    "# Third-party imports\n",
    "import numpy as np  # For numerical operations and handling arrays\n",
    "import pandas as pd  # For data manipulation and analysis\n",
    "import matplotlib.pyplot as plt  # For creating static, animated, and interactive visualizations\n",
    "from PIL import Image  # For opening, manipulating, and saving many different image file formats\n",
    "\n",
    "# PyTorch imports\n",
    "import torch  # Main PyTorch library for building and training neural networks\n",
    "from torch.utils.data import Dataset, DataLoader  # For handling datasets and data loaders\n",
    "import torch.nn.functional as F\n",
    "\n",
    "# PyTorch-I/O extension\n",
    "import torchio as tio  # For medical image processing in PyTorch\n",
    "\n",
    "# pydicom imports\n",
    "import pydicom  # For reading, modifying, and writing DICOM files\n",
    "from pydicom.data import get_testdata_file  # For accessing test DICOM files\n",
    "from pydicom.fileset import FileSet  # For working with DICOM FileSets\n",
    "\n",
    "# Scikit-learn imports\n",
    "from sklearn.model_selection import train_test_split  # For splitting datasets into training and testing sets\n"
   ]
  },
  {
   "cell_type": "code",
   "execution_count": 2,
   "metadata": {},
   "outputs": [
    {
     "name": "stdout",
     "output_type": "stream",
     "text": [
      "/Users/eleanorbolton/Library/CloudStorage/OneDrive-UniversityofLeeds/CCP_MRI_image_subset\n"
     ]
    }
   ],
   "source": [
    "os.chdir('/Users/eleanorbolton/OneDrive - University of Leeds/CCP_MRI_IMAGE_SUBSET/')\n",
    "print(os.getcwd())"
   ]
  },
  {
   "cell_type": "markdown",
   "metadata": {},
   "source": [
    "#### Process the DICOM Image\n",
    "This function processes a DICOM image and returns the image as a NumPy array. It optionally resizes the image to reduce its size in memory.\n"
   ]
  },
  {
   "cell_type": "code",
   "execution_count": 3,
   "metadata": {},
   "outputs": [],
   "source": [
    "def process_dicom_image(path: str, resize=True) -> np.ndarray:\n",
    "    \"\"\" Given a path to a DICOM image, process and return the image. \n",
    "        Reduces the size in memory.\n",
    "    \"\"\"\n",
    "    dicom_file = pydicom.dcmread(path)\n",
    "    image = dicom_file.pixel_array\n",
    "    image = image - np.min(image)\n",
    "    image = image.astype(np.uint8)\n",
    "    '''\n",
    "    # resize the image to 256x256 using PIL\n",
    "    if resize:\n",
    "        image = Image.fromarray(image)\n",
    "        image = image.resize((256, 256))\n",
    "        image = np.array(image)\n",
    "    '''\n",
    "    return image"
   ]
  },
  {
   "cell_type": "markdown",
   "metadata": {},
   "source": [
    "#### Get Sequence Image\n",
    "This function returns a sorted list of images from a specified MRI sequence subfolder. It excludes images that are entirely black.\n"
   ]
  },
  {
   "cell_type": "code",
   "execution_count": 5,
   "metadata": {},
   "outputs": [],
   "source": [
    "def get_sequence_images(path: str) -> list:\n",
    "    images = []\n",
    "    \n",
    "    # Get a list of all DICOM files in the directory\n",
    "    image_path_list = glob.glob(os.path.join(path, '*'))\n",
    "    \n",
    "    # Read the DICOM files and store them with their instance numbers\n",
    "    dicom_files = []\n",
    "    for image_path in image_path_list:\n",
    "        try:\n",
    "            dicom_file = pydicom.dcmread(image_path)\n",
    "            instance_number = dicom_file.InstanceNumber\n",
    "            dicom_files.append((instance_number, image_path))\n",
    "        except Exception as e:\n",
    "            print(f\"Error reading {image_path}: {e}\")\n",
    "    \n",
    "    # Sort the files by instance number\n",
    "    dicom_files.sort(key=lambda x: x[0])\n",
    "    \n",
    "    # Read the pixel data in sorted order\n",
    "    for _, image_path in dicom_files:\n",
    "        try:\n",
    "            dicom_file = pydicom.dcmread(image_path)\n",
    "            image = dicom_file.pixel_array\n",
    "            images.append(image)\n",
    "        except Exception as e:\n",
    "            print(f\"Error reading pixel data from {image_path}: {e}\")\n",
    "    \n",
    "    return images"
   ]
  },
  {
   "cell_type": "markdown",
   "metadata": {},
   "source": [
    "### Defining the central slice\n",
    "The anatomical \"middle\" of the MR image will be different in each subject. we therefore need to decide the best way to define the central slice"
   ]
  },
  {
   "cell_type": "markdown",
   "metadata": {},
   "source": [
    "#### Get the best slice\n",
    "\n",
    "This is based on the sum of the pixel tensor and finds the max sum"
   ]
  },
  {
   "cell_type": "code",
   "execution_count": 7,
   "metadata": {},
   "outputs": [],
   "source": [
    "def find_best_slice(dicom_files):\n",
    "    \"\"\" Find the slice with the highest sum of pixel intensities. \"\"\"\n",
    "    max_sum = -1\n",
    "    best_slice = None\n",
    "\n",
    "    for dicom_file, image_path in dicom_files:\n",
    "        try:\n",
    "            image = dicom_file.pixel_array\n",
    "            image_sum = np.sum(image)\n",
    "            if image_sum > max_sum:\n",
    "                max_sum = image_sum\n",
    "                best_slice = (dicom_file, image_path)\n",
    "        except Exception as e:\n",
    "            print(f\"Error reading {image_path}: {e}\")\n",
    "\n",
    "    return best_slice"
   ]
  },
  {
   "cell_type": "markdown",
   "metadata": {},
   "source": [
    "### Removing Duplicate Images\n",
    "Some images are present for the same subjects at the same position but have been processed. This Function removes the least infomrative of the duplicate image based on the number of 0 pixels"
   ]
  },
  {
   "cell_type": "code",
   "execution_count": 9,
   "metadata": {},
   "outputs": [],
   "source": [
    "def remove_duplicates(dicom_files):\n",
    "    \"\"\" Remove duplicate instance numbers, keeping only the slice with the highest sum of intensities. \"\"\"\n",
    "    instance_dict = defaultdict(list)\n",
    "\n",
    "    for dicom_file, image_path in dicom_files:\n",
    "        instance_number = dicom_file.InstanceNumber\n",
    "        instance_dict[instance_number].append((dicom_file, image_path))\n",
    "\n",
    "    # Keep only the slice with the highest sum of intensities for each instance number\n",
    "    unique_dicom_files = []\n",
    "    for instance_number, files in instance_dict.items():\n",
    "        if len(files) > 1:\n",
    "            best_slice = find_best_slice(files)\n",
    "            unique_dicom_files.append(best_slice)\n",
    "        else:\n",
    "            unique_dicom_files.append(files[0])\n",
    "\n",
    "    return unique_dicom_files"
   ]
  },
  {
   "cell_type": "markdown",
   "metadata": {},
   "source": [
    "### Get best subject Images:\n",
    "Selects the best images and surrounding images (based on seq_len) according to the sum of the intensities "
   ]
  },
  {
   "cell_type": "code",
   "execution_count": 10,
   "metadata": {},
   "outputs": [],
   "source": [
    "def get_best_patient_images(base_path):\n",
    "    \"\"\" Process all images in the 't1_vibe_we' subfolder of each subject. \n",
    "        Ensures the Study Description is 'MRI Hand RT'. Sorts images by Instance Number.\n",
    "        \n",
    "        Parameters:\n",
    "            base_path (str): base path containing all subject folders.\n",
    "        Returns:\n",
    "            np.array of images for each subject that meet the criteria.\n",
    "    \"\"\"\n",
    "    seq_len = 20\n",
    "    all_images = []\n",
    "\n",
    "    for root, dirs, files in os.walk(base_path):\n",
    "        if 't1_vibe_we' in dirs:\n",
    "            t1_vibe_we_path = os.path.join(root, 't1_vibe_we')\n",
    "            \n",
    "            # Get the images in the 't1_vibe_we' sequence\n",
    "            dicom_files = []\n",
    "            for image_path in glob.glob(os.path.join(t1_vibe_we_path, '*')):\n",
    "                try:\n",
    "                    dicom_file = pydicom.dcmread(image_path)\n",
    "                    # Check Study Description\n",
    "                    if dicom_file.StudyDescription == 'MRI Hand Rt':\n",
    "                        dicom_files.append((dicom_file, image_path))\n",
    "                except Exception as e:\n",
    "                    print(f\"Error reading {image_path}: {e}\")\n",
    "\n",
    "            # Sort the files by instance number\n",
    "            dicom_files.sort(key=lambda x: x[0].InstanceNumber)\n",
    "            \n",
    "            # Remove duplicates\n",
    "            dicom_files = remove_duplicates(dicom_files)\n",
    "\n",
    "            # Find the best slice\n",
    "            best_slice = find_best_slice(dicom_files)\n",
    "            if best_slice:\n",
    "                best_dicom_file, best_image_path = best_slice\n",
    "                best_instance_number = best_dicom_file.InstanceNumber\n",
    "                print(f\"Best instance number: {best_instance_number}\")\n",
    "\n",
    "                # Calculate the start and end indices for the selected sequence\n",
    "                start_index = max(0, best_instance_number - (seq_len // 2))\n",
    "                end_index = start_index + seq_len\n",
    "\n",
    "                # Select the slices around the best slice\n",
    "                selected_slices = dicom_files[start_index:end_index]\n",
    "\n",
    "                images = []\n",
    "                for dicom_file, image_path in selected_slices:\n",
    "                    try:\n",
    "                        image = process_dicom_image(image_path)\n",
    "                        images.append(image)\n",
    "                    except Exception as e:\n",
    "                        print(f\"Error processing image {image_path}: {e}\")\n",
    "\n",
    "                # Determine the original image dimensions\n",
    "                if images:\n",
    "                    img_shape = images[0].shape\n",
    "\n",
    "                if len(images) < seq_len:\n",
    "                    # Pad with zero images of the same shape as the original images\n",
    "                    diff = seq_len - len(images)\n",
    "                    images.extend([np.zeros(img_shape, dtype=np.uint8) for _ in range(diff)])\n",
    "\n",
    "                all_images.extend(images)\n",
    "\n",
    "    return np.array(all_images)\n",
    "\n"
   ]
  },
  {
   "cell_type": "markdown",
   "metadata": {},
   "source": [
    "#### Read CSV file and set up paths"
   ]
  },
  {
   "cell_type": "code",
   "execution_count": 11,
   "metadata": {},
   "outputs": [],
   "source": [
    "# Reading the CSV file\n",
    "training_data_dir = \"/Users/eleanorbolton/Library/CloudStorage/OneDrive-UniversityofLeeds/CCP_MRI images/\" \n",
    "csv_path = os.path.join(training_data_dir, 'training_labels_subset.csv')\n",
    "labels_df = pd.read_csv(csv_path)\n",
    "\n",
    "# Split the data into training and validation sets\n",
    "train_df, valid_df = train_test_split(labels_df, test_size=0.2, random_state=42, stratify=labels_df['progression'])\n",
    "\n",
    "# Save the splits for reference\n",
    "train_df.to_csv(os.path.join(training_data_dir, 'train_split.csv'), index=False)\n",
    "valid_df.to_csv(os.path.join(training_data_dir, 'valid_split.csv'), index=False)"
   ]
  },
  {
   "cell_type": "markdown",
   "metadata": {},
   "source": [
    "### Creating a custom dataset"
   ]
  },
  {
   "cell_type": "code",
   "execution_count": 12,
   "metadata": {},
   "outputs": [],
   "source": [
    "class HandScanDataset(Dataset):\n",
    "    def __init__(self, labels_df, data_dir, transform=None):\n",
    "        \"\"\"\n",
    "        Args:\n",
    "            labels_df (DataFrame): DataFrame containing the patient IDs and labels\n",
    "            data_dir (str): Path to the data folder\n",
    "            transform (callable, optional): Optional transform to be applied on a sample.\n",
    "        \"\"\"\n",
    "        self.labels_df = labels_df\n",
    "        self.data_dir = data_dir\n",
    "        self.transform = transform\n",
    "\n",
    "        # Create a list of patient IDs and their corresponding labels\n",
    "        self.patient_ids = self.labels_df['patient ID'].astype(str).str.zfill(5).tolist()\n",
    "        self.labels = self.labels_df['progression'].apply(lambda x: 1 if x == 'y' else 0).tolist()\n",
    "\n",
    "        # Create a dictionary of the labels\n",
    "        self.dict_labels = dict(zip(self.patient_ids, self.labels))\n",
    "        print(self.dict_labels)\n",
    "\n",
    "\n",
    "    def __len__(self):\n",
    "        return len(self.patient_ids)\n",
    "\n",
    "    def __getitem__(self, idx):\n",
    "        if torch.is_tensor(idx):\n",
    "            idx = idx.tolist()\n",
    "\n",
    "        patient_id = self.patient_ids[idx]\n",
    "        label = self.labels[idx]\n",
    "\n",
    "        # Process the images for this patient\n",
    "        patient_dir = os.path.join(self.data_dir, patient_id)\n",
    "        images = get_best_patient_images(patient_dir)  # Ensure this function only returns images for the given patient\n",
    "        \n",
    "        # If no images were returned, handle this case (optional)\n",
    "        if len(images) == 0:\n",
    "            raise ValueError(f\"No images found for patient {patient_id}\")\n",
    "\n",
    "        print(f\"Patient ID: {patient_id}, Image shape: {images.shape}\")\n",
    "\n",
    "        if self.transform:\n",
    "            images = self.transform(images)\n",
    "\n",
    "        images_tensor = torch.tensor(images, dtype=torch.float32)\n",
    "        label_tensor = torch.tensor(label, dtype=torch.long)\n",
    "\n",
    "        return images_tensor, label_tensor\n",
    "\n",
    "\n",
    "\n"
   ]
  },
  {
   "cell_type": "markdown",
   "metadata": {},
   "source": [
    "### Setting up transformation using torch.io"
   ]
  },
  {
   "cell_type": "markdown",
   "metadata": {},
   "source": [
    "#### Custom thresholding \n",
    "Separates the the foregrounds (objects of interest – hand) from the background \n",
    "Pixels with intensity values above this threshold are considered part of the foreground, while those below are treated as background.\n"
   ]
  },
  {
   "cell_type": "code",
   "execution_count": 15,
   "metadata": {},
   "outputs": [],
   "source": [
    "class CustomThresholding(tio.Transform):\n",
    "    def __init__(self, threshold_percentage=0.1):\n",
    "        super().__init__()\n",
    "        self.threshold_percentage = threshold_percentage\n",
    "\n",
    "    def apply_transform(self, subject):\n",
    "        for key, image in subject.get_images_dict(intensity_only=True).items():\n",
    "            max_intensity = torch.max(image.data)\n",
    "            threshold_value = self.threshold_percentage * max_intensity\n",
    "            binary_mask = (image.data > threshold_value).float()\n",
    "            subject.add_image(tio.LabelMap(tensor=binary_mask), f'{key}_mask')\n",
    "        return subject"
   ]
  },
  {
   "cell_type": "markdown",
   "metadata": {},
   "source": [
    "#### Morphological Operations\n",
    "improves the mask of the hand to identfiy the ROI"
   ]
  },
  {
   "cell_type": "code",
   "execution_count": 17,
   "metadata": {},
   "outputs": [],
   "source": [
    "class MorphologicalOperations(tio.Transform):\n",
    "    def __init__(self, kernel_size=3):\n",
    "        super().__init__()\n",
    "        self.kernel_size = kernel_size\n",
    "        self.kernel = torch.ones((1, 1, kernel_size, kernel_size, kernel_size), dtype=torch.float32)\n",
    "\n",
    "    def apply_transform(self, subject):\n",
    "        for key, image in subject.get_images_dict(intensity_only=False).items():\n",
    "            if 'mask' in key:\n",
    "                # Add batch and channel dimensions\n",
    "                mask_tensor = image.data.unsqueeze(0).unsqueeze(0)\n",
    "                \n",
    "                # Morphological opening (erosion followed by dilation)\n",
    "                eroded = F.conv3d(mask_tensor, self.kernel, padding=1) > (self.kernel_size ** 3 - 1)\n",
    "                dilated = F.conv3d(eroded.float(), self.kernel, padding=1) > 0\n",
    "                \n",
    "                # Morphological closing (dilation followed by erosion)\n",
    "                dilated_closed = F.conv3d(dilated.float(), self.kernel, padding=1) > 0\n",
    "                eroded_closed = F.conv3d(dilated_closed.float(), self.kernel, padding=1) > (self.kernel_size ** 3 - 1)\n",
    "                \n",
    "                # Remove batch and channel dimensions\n",
    "                final_mask = eroded_closed.squeeze(0).squeeze(0)\n",
    "                subject.add_image(tio.LabelMap(tensor=final_mask), f'{key}_processed')\n",
    "        return subject\n"
   ]
  },
  {
   "cell_type": "code",
   "execution_count": 13,
   "metadata": {},
   "outputs": [],
   "source": [
    "\n",
    "# Define the preprocessing and augmentation transforms\n",
    "transform = tio.Compose([\n",
    "    tio.ToCanonical(),                # Reorient images to a standard orientation\n",
    "    tio.CropOrPad((256, 256, 256)),   # Crop or pad images to the desired shape\n",
    "    CustomThresholding(threshold_percentage=0.1),  # Apply custom thresholding\n",
    "    MorphologicalOperations(kernel_size=3),        # Apply morphological operations\n",
    "    tio.RandomAffine(),               # Random affine transformations\n",
    "    tio.RandomElasticDeformation(),   # Random elastic deformations\n",
    "    tio.RandomFlip(axes=(0,)),        # Randomly flip along the first axis\n",
    "    tio.RandomNoise(),                # Add random Gaussian noise\n",
    "    tio.RandomBlur(),                 # Apply random blur\n",
    "])\n"
   ]
  },
  {
   "cell_type": "markdown",
   "metadata": {},
   "source": [
    "#### Dataloader"
   ]
  },
  {
   "cell_type": "code",
   "execution_count": 14,
   "metadata": {},
   "outputs": [
    {
     "name": "stdout",
     "output_type": "stream",
     "text": [
      "{'CCP_245': 1, 'CCP_137': 0, 'CCP_201': 0, 'CCP_239': 0, 'CCP_56': 1, 'CCP_87': 0, 'CCP_142': 1, 'CCP_212': 0, 'CCP_81': 1, 'CCP_100': 1, 'CCP_126': 0, 'CCP_214': 1, 'CCP_71': 1, 'CCP_34': 0, 'CCP_207': 1, 'CCP_77': 0, 'CCP_76': 0, 'CCP_46': 0, 'CCP_199': 1, 'CCP_52': 0, 'CCP_180': 1, 'CCP_53': 1, 'CCP_175': 1, 'CCP_50': 0, 'CCP_141': 1, 'CCP_113': 0, 'CCP_62': 0, 'CCP_229': 1, 'CCP_84': 0, 'CCP_188': 0, 'CCP_138': 0, 'CCP_127': 1, 'CCP_133': 1, 'CCP_89': 1, 'CCP_45': 1, 'CCP_153': 1, 'CCP_169': 0, 'CCP_103': 0, 'CCP_167': 1, 'CCP_134': 0, 'CCP_65': 1, 'CCP_172': 0, 'CCP_82': 1, 'CCP_43': 0, 'CCP_170': 0, 'CCP_238': 0, 'CCP_191': 0, 'CCP_120': 1, 'CCP_181': 0, 'CCP_131': 0, 'CCP_168': 1, 'CCP_72': 0, 'CCP_44': 1, 'CCP_160': 0, 'CCP_80': 0, 'CCP_215': 1, 'CCP_47': 0, 'CCP_66': 0, 'CCP_94': 1, 'CCP_57': 0, 'CCP_102': 1, 'CCP_107': 1}\n",
      "{'CCP_166': 1, 'CCP_117': 1, 'CCP_73': 1, 'CCP_90': 0, 'CCP_60': 0, 'CCP_70': 0, 'CCP_154': 0, 'CCP_174': 1, 'CCP_202': 0, 'CCP_98': 1, 'CCP_78': 0, 'CCP_228': 1, 'CCP_105': 0, 'CCP_185': 0, 'CCP_124': 0, 'CCP_48': 1}\n"
     ]
    }
   ],
   "source": [
    "# Creating datasets\n",
    "train_dataset = HandScanDataset(labels_df=train_df, data_dir=training_data_dir)\n",
    "valid_dataset = HandScanDataset(labels_df=valid_df, data_dir=training_data_dir)\n",
    "\n",
    "# Creating data loaders\n",
    "batch_size = 4\n",
    "train_loader = DataLoader(train_dataset, batch_size=batch_size, shuffle=True)\n",
    "valid_loader = DataLoader(valid_dataset, batch_size=batch_size, shuffle=False)\n"
   ]
  }
 ],
 "metadata": {
  "kernelspec": {
   "display_name": "Python 3",
   "language": "python",
   "name": "python3"
  },
  "language_info": {
   "codemirror_mode": {
    "name": "ipython",
    "version": 3
   },
   "file_extension": ".py",
   "mimetype": "text/x-python",
   "name": "python",
   "nbconvert_exporter": "python",
   "pygments_lexer": "ipython3",
   "version": "3.11.8"
  }
 },
 "nbformat": 4,
 "nbformat_minor": 2
}
