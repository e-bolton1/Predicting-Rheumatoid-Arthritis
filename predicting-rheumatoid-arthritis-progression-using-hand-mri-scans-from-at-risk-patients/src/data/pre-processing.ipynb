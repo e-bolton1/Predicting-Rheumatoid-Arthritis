{
 "cells": [
  {
   "cell_type": "code",
   "execution_count": 1,
   "metadata": {},
   "outputs": [],
   "source": [
    "# Standard library imports\n",
    "from pathlib import Path  # To handle and manipulate filesystem paths\n",
    "import os  # For interacting with the operating system\n",
    "import glob  # For finding all file paths matching a specified pattern\n",
    "\n",
    "# Third-party imports\n",
    "import numpy as np  # For numerical operations and handling arrays\n",
    "import pandas as pd  # For data manipulation and analysis\n",
    "import matplotlib.pyplot as plt  # For creating static, animated, and interactive visualizations\n",
    "from PIL import Image  # For opening, manipulating, and saving many different image file formats\n",
    "\n",
    "# PyTorch imports\n",
    "import torch  # Main PyTorch library for building and training neural networks\n",
    "from torch.utils.data import Dataset, DataLoader  # For handling datasets and data loaders\n",
    "\n",
    "# PyTorch-I/O extension\n",
    "import torchio as tio  # For medical image processing in PyTorch\n",
    "\n",
    "# pydicom imports\n",
    "import pydicom  # For reading, modifying, and writing DICOM files\n",
    "from pydicom.data import get_testdata_file  # For accessing test DICOM files\n",
    "from pydicom.fileset import FileSet  # For working with DICOM FileSets\n",
    "\n",
    "# Scikit-learn imports\n",
    "from sklearn.model_selection import train_test_split  # For splitting datasets into training and testing sets\n"
   ]
  },
  {
   "cell_type": "code",
   "execution_count": 2,
   "metadata": {},
   "outputs": [
    {
     "name": "stdout",
     "output_type": "stream",
     "text": [
      "/Users/eleanorbolton/Library/CloudStorage/OneDrive-UniversityofLeeds/CCP_MRI_image_subset\n"
     ]
    }
   ],
   "source": [
    "os.chdir('/Users/eleanorbolton/OneDrive - University of Leeds/CCP_MRI_IMAGE_SUBSET/')\n",
    "print(os.getcwd())"
   ]
  },
  {
   "cell_type": "markdown",
   "metadata": {},
   "source": [
    "#### Process the DICOM Image\n",
    "This function processes a DICOM image and returns the image as a NumPy array. It optionally resizes the image to reduce its size in memory.\n"
   ]
  },
  {
   "cell_type": "code",
   "execution_count": 3,
   "metadata": {},
   "outputs": [],
   "source": [
    "def process_dicom_image(path: str, resize=True) -> np.ndarray:\n",
    "    \"\"\" Given a path to a DICOM image, process and return the image. \n",
    "        Reduces the size in memory.\n",
    "    \"\"\"\n",
    "    dicom_file = pydicom.dcmread(path)\n",
    "    image = dicom_file.pixel_array\n",
    "    image = image - np.min(image)\n",
    "    image = image.astype(np.uint8)\n",
    "    '''\n",
    "    # resize the image to 256x256 using PIL\n",
    "    if resize:\n",
    "        image = Image.fromarray(image)\n",
    "        image = image.resize((256, 256))\n",
    "        image = np.array(image)\n",
    "    '''\n",
    "    return image"
   ]
  },
  {
   "cell_type": "markdown",
   "metadata": {},
   "source": [
    "#### Get Sequence Image\n",
    "This function returns a sorted list of images from a specified MRI sequence subfolder. It excludes images that are entirely black.\n"
   ]
  },
  {
   "cell_type": "code",
   "execution_count": 5,
   "metadata": {},
   "outputs": [],
   "source": [
    "def get_sequence_images(path: str) -> list:\n",
    "    images = []\n",
    "    \n",
    "    # Get a list of all DICOM files in the directory\n",
    "    image_path_list = glob.glob(os.path.join(path, '*'))\n",
    "    \n",
    "    # Read the DICOM files and store them with their instance numbers\n",
    "    dicom_files = []\n",
    "    for image_path in image_path_list:\n",
    "        try:\n",
    "            dicom_file = pydicom.dcmread(image_path)\n",
    "            instance_number = dicom_file.InstanceNumber\n",
    "            dicom_files.append((instance_number, image_path))\n",
    "        except Exception as e:\n",
    "            print(f\"Error reading {image_path}: {e}\")\n",
    "    \n",
    "    # Sort the files by instance number\n",
    "    dicom_files.sort(key=lambda x: x[0])\n",
    "    \n",
    "    # Read the pixel data in sorted order\n",
    "    for _, image_path in dicom_files:\n",
    "        try:\n",
    "            dicom_file = pydicom.dcmread(image_path)\n",
    "            image = dicom_file.pixel_array\n",
    "            images.append(image)\n",
    "        except Exception as e:\n",
    "            print(f\"Error reading pixel data from {image_path}: {e}\")\n",
    "    \n",
    "    return images"
   ]
  },
  {
   "cell_type": "markdown",
   "metadata": {},
   "source": [
    "### Defining the central slice\n",
    "The anatomical \"middle\" of the MR image will be different in each subject. we therefore need to decide the best way to define the central slice"
   ]
  },
  {
   "cell_type": "markdown",
   "metadata": {},
   "source": [
    "#### Get the best slice\n",
    "\n",
    "This is based on the sum of the pixel tensor and finds the max sum"
   ]
  },
  {
   "cell_type": "code",
   "execution_count": 7,
   "metadata": {},
   "outputs": [],
   "source": [
    "def find_best_slice(dicom_files):\n",
    "    \"\"\" Find the slice with the highest sum of pixel intensities. \"\"\"\n",
    "    max_sum = -1\n",
    "    best_slice = None\n",
    "\n",
    "    for dicom_file, image_path in dicom_files:\n",
    "        try:\n",
    "            image = dicom_file.pixel_array\n",
    "            image_sum = np.sum(image)\n",
    "            if image_sum > max_sum:\n",
    "                max_sum = image_sum\n",
    "                best_slice = (dicom_file, image_path)\n",
    "        except Exception as e:\n",
    "            print(f\"Error reading {image_path}: {e}\")\n",
    "\n",
    "    return best_slice"
   ]
  },
  {
   "cell_type": "markdown",
   "metadata": {},
   "source": [
    "### Removing Duplicate Images\n",
    "Some images are present for the same subjects at the same position but have been processed. This Function removes the least infomrative of the duplicate image based on the number of 0 pixels"
   ]
  },
  {
   "cell_type": "code",
   "execution_count": 9,
   "metadata": {},
   "outputs": [],
   "source": [
    "def remove_duplicates(dicom_files):\n",
    "    \"\"\" Remove duplicate instance numbers, keeping only the slice with the highest sum of intensities. \"\"\"\n",
    "    instance_dict = defaultdict(list)\n",
    "\n",
    "    for dicom_file, image_path in dicom_files:\n",
    "        instance_number = dicom_file.InstanceNumber\n",
    "        instance_dict[instance_number].append((dicom_file, image_path))\n",
    "\n",
    "    # Keep only the slice with the highest sum of intensities for each instance number\n",
    "    unique_dicom_files = []\n",
    "    for instance_number, files in instance_dict.items():\n",
    "        if len(files) > 1:\n",
    "            best_slice = find_best_slice(files)\n",
    "            unique_dicom_files.append(best_slice)\n",
    "        else:\n",
    "            unique_dicom_files.append(files[0])\n",
    "\n",
    "    return unique_dicom_files"
   ]
  },
  {
   "cell_type": "markdown",
   "metadata": {},
   "source": [
    "### Get best subject Images:\n",
    "Selects the best images and surrounding images (based on seq_len) according to the sum of the intensities "
   ]
  },
  {
   "cell_type": "code",
   "execution_count": 10,
   "metadata": {},
   "outputs": [],
   "source": [
    "def get_best_patient_images(base_path):\n",
    "    \"\"\" Process all images in the 't1_vibe_we' subfolder of each subject. \n",
    "        Ensures the Study Description is 'MRI Hand RT'. Sorts images by Instance Number.\n",
    "        \n",
    "        Parameters:\n",
    "            base_path (str): base path containing all subject folders.\n",
    "        Returns:\n",
    "            np.array of images for each subject that meet the criteria.\n",
    "    \"\"\"\n",
    "    seq_len = 20\n",
    "    all_images = []\n",
    "\n",
    "    for root, dirs, files in os.walk(base_path):\n",
    "        if 't1_vibe_we' in dirs:\n",
    "            t1_vibe_we_path = os.path.join(root, 't1_vibe_we')\n",
    "            \n",
    "            # Get the images in the 't1_vibe_we' sequence\n",
    "            dicom_files = []\n",
    "            for image_path in glob.glob(os.path.join(t1_vibe_we_path, '*')):\n",
    "                try:\n",
    "                    dicom_file = pydicom.dcmread(image_path)\n",
    "                    # Check Study Description\n",
    "                    if dicom_file.StudyDescription == 'MRI Hand Rt':\n",
    "                        dicom_files.append((dicom_file, image_path))\n",
    "                except Exception as e:\n",
    "                    print(f\"Error reading {image_path}: {e}\")\n",
    "\n",
    "            # Sort the files by instance number\n",
    "            dicom_files.sort(key=lambda x: x[0].InstanceNumber)\n",
    "            \n",
    "            # Remove duplicates\n",
    "            dicom_files = remove_duplicates(dicom_files)\n",
    "\n",
    "            # Find the best slice\n",
    "            best_slice = find_best_slice(dicom_files)\n",
    "            if best_slice:\n",
    "                best_dicom_file, best_image_path = best_slice\n",
    "                best_instance_number = best_dicom_file.InstanceNumber\n",
    "                print(f\"Best instance number: {best_instance_number}\")\n",
    "\n",
    "                # Calculate the start and end indices for the selected sequence\n",
    "                start_index = max(0, best_instance_number - (seq_len // 2))\n",
    "                end_index = start_index + seq_len\n",
    "\n",
    "                # Select the slices around the best slice\n",
    "                selected_slices = dicom_files[start_index:end_index]\n",
    "\n",
    "                images = []\n",
    "                for dicom_file, image_path in selected_slices:\n",
    "                    try:\n",
    "                        image = process_dicom_image(image_path)\n",
    "                        images.append(image)\n",
    "                    except Exception as e:\n",
    "                        print(f\"Error processing image {image_path}: {e}\")\n",
    "\n",
    "                # Determine the original image dimensions\n",
    "                if images:\n",
    "                    img_shape = images[0].shape\n",
    "\n",
    "                if len(images) < seq_len:\n",
    "                    # Pad with zero images of the same shape as the original images\n",
    "                    diff = seq_len - len(images)\n",
    "                    images.extend([np.zeros(img_shape, dtype=np.uint8) for _ in range(diff)])\n",
    "\n",
    "                all_images.extend(images)\n",
    "\n",
    "    return np.array(all_images)\n",
    "\n"
   ]
  },
  {
   "cell_type": "code",
   "execution_count": null,
   "metadata": {},
   "outputs": [],
   "source": []
  }
 ],
 "metadata": {
  "kernelspec": {
   "display_name": "Python 3",
   "language": "python",
   "name": "python3"
  },
  "language_info": {
   "codemirror_mode": {
    "name": "ipython",
    "version": 3
   },
   "file_extension": ".py",
   "mimetype": "text/x-python",
   "name": "python",
   "nbconvert_exporter": "python",
   "pygments_lexer": "ipython3",
   "version": "3.11.8"
  }
 },
 "nbformat": 4,
 "nbformat_minor": 2
}
