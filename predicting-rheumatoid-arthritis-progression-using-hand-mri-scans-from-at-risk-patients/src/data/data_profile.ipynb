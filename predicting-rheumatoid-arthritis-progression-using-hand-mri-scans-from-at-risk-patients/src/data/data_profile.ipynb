{
 "cells": [
  {
   "cell_type": "code",
   "execution_count": 1,
   "metadata": {},
   "outputs": [
    {
     "name": "stdout",
     "output_type": "stream",
     "text": [
      "Metadata saved to dicom_metadata.csv\n"
     ]
    }
   ],
   "source": [
    "import pydicom\n",
    "import os\n",
    "import pandas as pd\n",
    "\n",
    "# Path to your DICOM files\n",
    "dicom_dir = '/Users/eleanorbolton/Library/CloudStorage/OneDrive-UniversityofLeeds/t1_vibe_we_hand_subset'\n",
    "\n",
    "# Initialize counters and results storage\n",
    "subject_count = 0\n",
    "total_images = 0\n",
    "images_per_subject = {}\n",
    "results = []\n",
    "\n",
    "# Loop through the DICOM files\n",
    "processed_patients = set()\n",
    "for root, dirs, files in os.walk(dicom_dir):\n",
    "    for file in files:\n",
    "        if file.endswith('.DCM'):\n",
    "            filepath = os.path.join(root, file)\n",
    "            dicom_data = pydicom.dcmread(filepath)\n",
    "            \n",
    "            # Extract the patient ID\n",
    "            patient_id = dicom_data.PatientID\n",
    "            \n",
    "            # If this patient has already been processed, skip to the next file\n",
    "            if patient_id in processed_patients:\n",
    "                continue\n",
    "            \n",
    "            # Mark this patient as processed\n",
    "            processed_patients.add(patient_id)\n",
    "            \n",
    "            # Extract metadata\n",
    "            result = {\n",
    "                \"File Name\": os.path.basename(filepath),\n",
    "                \"Patient ID (0010, 0020)\": getattr(dicom_data, 'PatientID', 'N/A'),\n",
    "                \"Study Date (0008, 0020)\": getattr(dicom_data, 'StudyDate', 'N/A'),\n",
    "                \"Modality (0008, 0060)\": getattr(dicom_data, 'Modality', 'N/A'),\n",
    "                \"Study Description (0008, 1030)\": getattr(dicom_data, 'StudyDescription', 'N/A'),\n",
    "                \"Scanning Sequence (0018, 0020)\": getattr(dicom_data, 'ScanningSequence', 'N/A'),\n",
    "                \"Sequence Name (0018, 0024)\": getattr(dicom_data, 'SequenceName', 'N/A'),\n",
    "                \"Slice Thickness (0018, 0050)\": getattr(dicom_data, 'SliceThickness', 'N/A'),\n",
    "                \"Repetition Time (TR) (0018, 0080)\": getattr(dicom_data, 'RepetitionTime', 'N/A'),\n",
    "                \"Echo Time (TE) (0018, 0081)\": getattr(dicom_data, 'EchoTime', 'N/A'),\n",
    "                \"Magnetic Field Strength (0018, 0087)\": getattr(dicom_data, 'MagneticFieldStrength', 'N/A'),\n",
    "                \"Flip Angle (0018, 1314)\": getattr(dicom_data, 'FlipAngle', 'N/A'),\n",
    "                \"Pixel Spacing (0028, 0030)\": getattr(dicom_data, 'PixelSpacing', 'N/A'),\n",
    "                \"Rows (0028, 0010)\": getattr(dicom_data, 'Rows', 'N/A'),\n",
    "                \"Columns (0028, 0011)\": getattr(dicom_data, 'Columns', 'N/A'),\n",
    "                \"Study Instance UID (0020, 000d)\": getattr(dicom_data, 'StudyInstanceUID', 'N/A'),\n",
    "                \"Series Instance UID (0020, 000e)\": getattr(dicom_data, 'SeriesInstanceUID', 'N/A'),\n",
    "                \"SOP Instance UID (0008, 0018)\": getattr(dicom_data, 'SOPInstanceUID', 'N/A')\n",
    "            }\n",
    "            results.append(result)\n",
    "            \n",
    "            # Count subjects and images\n",
    "            if patient_id not in images_per_subject:\n",
    "                subject_count += 1\n",
    "                images_per_subject[patient_id] = 0\n",
    "            images_per_subject[patient_id] += 1\n",
    "            total_images += 1\n",
    "            \n",
    "            # Move on to the next patient (break out of the loop after processing one file per patient)\n",
    "            break\n",
    "\n",
    "# Convert the results to a DataFrame\n",
    "df = pd.DataFrame(results)\n",
    "\n",
    "# Convert the results to a DataFrame\n",
    "df = pd.DataFrame(results)\n",
    "\n",
    "# Save the DataFrame to a CSV file\n",
    "output_csv = \"dicom_metadata.csv\"\n",
    "df.to_csv(output_csv, index=False)\n",
    "\n",
    "print(f\"Metadata saved to {output_csv}\")"
   ]
  },
  {
   "cell_type": "code",
   "execution_count": null,
   "metadata": {},
   "outputs": [],
   "source": []
  }
 ],
 "metadata": {
  "kernelspec": {
   "display_name": "Python 3",
   "language": "python",
   "name": "python3"
  },
  "language_info": {
   "codemirror_mode": {
    "name": "ipython",
    "version": 3
   },
   "file_extension": ".py",
   "mimetype": "text/x-python",
   "name": "python",
   "nbconvert_exporter": "python",
   "pygments_lexer": "ipython3",
   "version": "3.11.8"
  }
 },
 "nbformat": 4,
 "nbformat_minor": 2
}
